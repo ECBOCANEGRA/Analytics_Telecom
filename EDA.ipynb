{
 "cells": [
  {
   "cell_type": "code",
   "execution_count": 1281,
   "metadata": {},
   "outputs": [
    {
     "data": {
      "text/html": [
       "        <script type=\"text/javascript\">\n",
       "        window.PlotlyConfig = {MathJaxConfig: 'local'};\n",
       "        if (window.MathJax && window.MathJax.Hub && window.MathJax.Hub.Config) {window.MathJax.Hub.Config({SVG: {font: \"STIX-Web\"}});}\n",
       "        if (typeof require !== 'undefined') {\n",
       "        require.undef(\"plotly\");\n",
       "        requirejs.config({\n",
       "            paths: {\n",
       "                'plotly': ['https://cdn.plot.ly/plotly-2.27.0.min']\n",
       "            }\n",
       "        });\n",
       "        require(['plotly'], function(Plotly) {\n",
       "            window._Plotly = Plotly;\n",
       "        });\n",
       "        }\n",
       "        </script>\n",
       "        "
      ]
     },
     "metadata": {},
     "output_type": "display_data"
    }
   ],
   "source": [
    "import numpy as np\n",
    "import pandas as pd\n",
    "import cufflinks as cf\n",
    "from IPython.display import display, HTML\n",
    "\n",
    "cf.set_config_file(sharing='public', theme='ggplot', offline=True)"
   ]
  },
  {
   "cell_type": "code",
   "execution_count": 1282,
   "metadata": {},
   "outputs": [],
   "source": [
    "# cargamos los datasets\n",
    "IxProv = pd.read_csv('Datasets/01-Internet_Penetracion_xprovincia.csv')\n",
    "IGlobal = pd.read_csv('Datasets/02-Internet_Penetracion_global.csv')\n",
    "\n",
    "TecXprov = pd.read_csv('Datasets/06-Internet_Accesos-por-tecnologia_xprovincia.csv')\n",
    "TecGlobal = pd.read_csv('Datasets/05-Internet_Accesos-por-tecnologia_global.csv')\n",
    "\n",
    "VelGlobal = pd.read_csv('Datasets/08-historico_velocidad_internet_global.csv')\n",
    "VelXprov = pd.read_csv('Datasets/09-historico_velocidad_internet_xprovincia.csv')\n",
    "\n",
    "Ingresos = pd.read_csv('Datasets/13-Internet_Ingresos.csv')"
   ]
  },
  {
   "cell_type": "code",
   "execution_count": 1283,
   "metadata": {},
   "outputs": [
    {
     "data": {
      "text/html": [
       "<div>\n",
       "<style scoped>\n",
       "    .dataframe tbody tr th:only-of-type {\n",
       "        vertical-align: middle;\n",
       "    }\n",
       "\n",
       "    .dataframe tbody tr th {\n",
       "        vertical-align: top;\n",
       "    }\n",
       "\n",
       "    .dataframe thead th {\n",
       "        text-align: right;\n",
       "    }\n",
       "</style>\n",
       "<table border=\"1\" class=\"dataframe\">\n",
       "  <thead>\n",
       "    <tr style=\"text-align: right;\">\n",
       "      <th></th>\n",
       "      <th>Año</th>\n",
       "      <th>Trimestre</th>\n",
       "      <th>Provincia</th>\n",
       "      <th>Accesos por cada 100 hogares</th>\n",
       "      <th>Unnamed: 4</th>\n",
       "      <th>Unnamed: 5</th>\n",
       "      <th>Unnamed: 6</th>\n",
       "    </tr>\n",
       "  </thead>\n",
       "  <tbody>\n",
       "    <tr>\n",
       "      <th>0</th>\n",
       "      <td>2022</td>\n",
       "      <td>4</td>\n",
       "      <td>Buenos Aires</td>\n",
       "      <td>78,94</td>\n",
       "      <td>NaN</td>\n",
       "      <td>NaN</td>\n",
       "      <td>NaN</td>\n",
       "    </tr>\n",
       "    <tr>\n",
       "      <th>1</th>\n",
       "      <td>2022</td>\n",
       "      <td>4</td>\n",
       "      <td>Capital Federal</td>\n",
       "      <td>122,73</td>\n",
       "      <td>NaN</td>\n",
       "      <td>NaN</td>\n",
       "      <td>NaN</td>\n",
       "    </tr>\n",
       "    <tr>\n",
       "      <th>2</th>\n",
       "      <td>2022</td>\n",
       "      <td>4</td>\n",
       "      <td>Catamarca</td>\n",
       "      <td>65,77</td>\n",
       "      <td>NaN</td>\n",
       "      <td>NaN</td>\n",
       "      <td>NaN</td>\n",
       "    </tr>\n",
       "    <tr>\n",
       "      <th>3</th>\n",
       "      <td>2022</td>\n",
       "      <td>4</td>\n",
       "      <td>Chaco</td>\n",
       "      <td>43,62</td>\n",
       "      <td>NaN</td>\n",
       "      <td>NaN</td>\n",
       "      <td>NaN</td>\n",
       "    </tr>\n",
       "    <tr>\n",
       "      <th>4</th>\n",
       "      <td>2022</td>\n",
       "      <td>4</td>\n",
       "      <td>Chubut</td>\n",
       "      <td>85,57</td>\n",
       "      <td>NaN</td>\n",
       "      <td>NaN</td>\n",
       "      <td>NaN</td>\n",
       "    </tr>\n",
       "    <tr>\n",
       "      <th>...</th>\n",
       "      <td>...</td>\n",
       "      <td>...</td>\n",
       "      <td>...</td>\n",
       "      <td>...</td>\n",
       "      <td>...</td>\n",
       "      <td>...</td>\n",
       "      <td>...</td>\n",
       "    </tr>\n",
       "    <tr>\n",
       "      <th>859</th>\n",
       "      <td>2014</td>\n",
       "      <td>1</td>\n",
       "      <td>Santa Cruz</td>\n",
       "      <td>28,94</td>\n",
       "      <td>NaN</td>\n",
       "      <td>NaN</td>\n",
       "      <td>NaN</td>\n",
       "    </tr>\n",
       "    <tr>\n",
       "      <th>860</th>\n",
       "      <td>2014</td>\n",
       "      <td>1</td>\n",
       "      <td>Santa Fe</td>\n",
       "      <td>47,85</td>\n",
       "      <td>NaN</td>\n",
       "      <td>NaN</td>\n",
       "      <td>NaN</td>\n",
       "    </tr>\n",
       "    <tr>\n",
       "      <th>861</th>\n",
       "      <td>2014</td>\n",
       "      <td>1</td>\n",
       "      <td>Santiago Del Estero</td>\n",
       "      <td>16,31</td>\n",
       "      <td>NaN</td>\n",
       "      <td>NaN</td>\n",
       "      <td>NaN</td>\n",
       "    </tr>\n",
       "    <tr>\n",
       "      <th>862</th>\n",
       "      <td>2014</td>\n",
       "      <td>1</td>\n",
       "      <td>Tierra Del Fuego</td>\n",
       "      <td>63,97</td>\n",
       "      <td>NaN</td>\n",
       "      <td>NaN</td>\n",
       "      <td>NaN</td>\n",
       "    </tr>\n",
       "    <tr>\n",
       "      <th>863</th>\n",
       "      <td>2014</td>\n",
       "      <td>1</td>\n",
       "      <td>Tucumán</td>\n",
       "      <td>33,42</td>\n",
       "      <td>NaN</td>\n",
       "      <td>NaN</td>\n",
       "      <td>NaN</td>\n",
       "    </tr>\n",
       "  </tbody>\n",
       "</table>\n",
       "<p>864 rows × 7 columns</p>\n",
       "</div>"
      ],
      "text/plain": [
       "      Año  Trimestre            Provincia Accesos por cada 100 hogares  \\\n",
       "0    2022          4         Buenos Aires                        78,94   \n",
       "1    2022          4      Capital Federal                       122,73   \n",
       "2    2022          4            Catamarca                        65,77   \n",
       "3    2022          4                Chaco                        43,62   \n",
       "4    2022          4               Chubut                        85,57   \n",
       "..    ...        ...                  ...                          ...   \n",
       "859  2014          1           Santa Cruz                        28,94   \n",
       "860  2014          1             Santa Fe                        47,85   \n",
       "861  2014          1  Santiago Del Estero                        16,31   \n",
       "862  2014          1     Tierra Del Fuego                        63,97   \n",
       "863  2014          1              Tucumán                        33,42   \n",
       "\n",
       "     Unnamed: 4  Unnamed: 5  Unnamed: 6  \n",
       "0           NaN         NaN         NaN  \n",
       "1           NaN         NaN         NaN  \n",
       "2           NaN         NaN         NaN  \n",
       "3           NaN         NaN         NaN  \n",
       "4           NaN         NaN         NaN  \n",
       "..          ...         ...         ...  \n",
       "859         NaN         NaN         NaN  \n",
       "860         NaN         NaN         NaN  \n",
       "861         NaN         NaN         NaN  \n",
       "862         NaN         NaN         NaN  \n",
       "863         NaN         NaN         NaN  \n",
       "\n",
       "[864 rows x 7 columns]"
      ]
     },
     "execution_count": 1283,
     "metadata": {},
     "output_type": "execute_result"
    }
   ],
   "source": [
    "# revisamos datasets\n",
    "IxProv"
   ]
  },
  {
   "cell_type": "code",
   "execution_count": 1284,
   "metadata": {},
   "outputs": [
    {
     "name": "stdout",
     "output_type": "stream",
     "text": [
      "<class 'pandas.core.frame.DataFrame'>\n",
      "RangeIndex: 864 entries, 0 to 863\n",
      "Data columns (total 7 columns):\n",
      " #   Column                        Non-Null Count  Dtype  \n",
      "---  ------                        --------------  -----  \n",
      " 0   Año                           864 non-null    int64  \n",
      " 1   Trimestre                     864 non-null    int64  \n",
      " 2   Provincia                     864 non-null    object \n",
      " 3   Accesos por cada 100 hogares  864 non-null    object \n",
      " 4   Unnamed: 4                    0 non-null      float64\n",
      " 5   Unnamed: 5                    0 non-null      float64\n",
      " 6   Unnamed: 6                    0 non-null      float64\n",
      "dtypes: float64(3), int64(2), object(2)\n",
      "memory usage: 47.4+ KB\n"
     ]
    }
   ],
   "source": [
    "# revisamos tipos de columnas y nulos\n",
    "IxProv.info()"
   ]
  },
  {
   "cell_type": "code",
   "execution_count": 1285,
   "metadata": {},
   "outputs": [
    {
     "data": {
      "text/html": [
       "<div>\n",
       "<style scoped>\n",
       "    .dataframe tbody tr th:only-of-type {\n",
       "        vertical-align: middle;\n",
       "    }\n",
       "\n",
       "    .dataframe tbody tr th {\n",
       "        vertical-align: top;\n",
       "    }\n",
       "\n",
       "    .dataframe thead th {\n",
       "        text-align: right;\n",
       "    }\n",
       "</style>\n",
       "<table border=\"1\" class=\"dataframe\">\n",
       "  <thead>\n",
       "    <tr style=\"text-align: right;\">\n",
       "      <th></th>\n",
       "      <th>Año</th>\n",
       "      <th>Trimestre</th>\n",
       "      <th>Provincia</th>\n",
       "      <th>ADSL</th>\n",
       "      <th>Cablemodem</th>\n",
       "      <th>Fibra óptica</th>\n",
       "      <th>Wireless</th>\n",
       "      <th>Otros</th>\n",
       "      <th>Total</th>\n",
       "    </tr>\n",
       "  </thead>\n",
       "  <tbody>\n",
       "    <tr>\n",
       "      <th>0</th>\n",
       "      <td>2022</td>\n",
       "      <td>4</td>\n",
       "      <td>Buenos Aires</td>\n",
       "      <td>326.0</td>\n",
       "      <td>3.0</td>\n",
       "      <td>1.0</td>\n",
       "      <td>130.0</td>\n",
       "      <td>72.0</td>\n",
       "      <td>5.0</td>\n",
       "    </tr>\n",
       "    <tr>\n",
       "      <th>1</th>\n",
       "      <td>2022</td>\n",
       "      <td>4</td>\n",
       "      <td>Capital Federal</td>\n",
       "      <td>139.0</td>\n",
       "      <td>1.0</td>\n",
       "      <td>139.0</td>\n",
       "      <td>5.0</td>\n",
       "      <td>32.0</td>\n",
       "      <td>2.0</td>\n",
       "    </tr>\n",
       "    <tr>\n",
       "      <th>2</th>\n",
       "      <td>2022</td>\n",
       "      <td>4</td>\n",
       "      <td>Catamarca</td>\n",
       "      <td>9.0</td>\n",
       "      <td>11.0</td>\n",
       "      <td>47.0</td>\n",
       "      <td>1.0</td>\n",
       "      <td>2.0</td>\n",
       "      <td>71.0</td>\n",
       "    </tr>\n",
       "    <tr>\n",
       "      <th>3</th>\n",
       "      <td>2022</td>\n",
       "      <td>4</td>\n",
       "      <td>Chaco</td>\n",
       "      <td>25.0</td>\n",
       "      <td>61.0</td>\n",
       "      <td>47.0</td>\n",
       "      <td>8.0</td>\n",
       "      <td>3.0</td>\n",
       "      <td>144.0</td>\n",
       "    </tr>\n",
       "    <tr>\n",
       "      <th>4</th>\n",
       "      <td>2022</td>\n",
       "      <td>4</td>\n",
       "      <td>Chubut</td>\n",
       "      <td>45.0</td>\n",
       "      <td>74.0</td>\n",
       "      <td>10.0</td>\n",
       "      <td>31.0</td>\n",
       "      <td>9.0</td>\n",
       "      <td>169.0</td>\n",
       "    </tr>\n",
       "    <tr>\n",
       "      <th>...</th>\n",
       "      <td>...</td>\n",
       "      <td>...</td>\n",
       "      <td>...</td>\n",
       "      <td>...</td>\n",
       "      <td>...</td>\n",
       "      <td>...</td>\n",
       "      <td>...</td>\n",
       "      <td>...</td>\n",
       "      <td>...</td>\n",
       "    </tr>\n",
       "    <tr>\n",
       "      <th>860</th>\n",
       "      <td>2014</td>\n",
       "      <td>1</td>\n",
       "      <td>Santa Fe</td>\n",
       "      <td>323.0</td>\n",
       "      <td>174.0</td>\n",
       "      <td>3.0</td>\n",
       "      <td>6.0</td>\n",
       "      <td>644.0</td>\n",
       "      <td>507.0</td>\n",
       "    </tr>\n",
       "    <tr>\n",
       "      <th>861</th>\n",
       "      <td>2014</td>\n",
       "      <td>1</td>\n",
       "      <td>Santiago Del Estero</td>\n",
       "      <td>33.0</td>\n",
       "      <td>4.0</td>\n",
       "      <td>19.0</td>\n",
       "      <td>915.0</td>\n",
       "      <td>34.0</td>\n",
       "      <td>37.0</td>\n",
       "    </tr>\n",
       "    <tr>\n",
       "      <th>862</th>\n",
       "      <td>2014</td>\n",
       "      <td>1</td>\n",
       "      <td>Tierra Del Fuego</td>\n",
       "      <td>22.0</td>\n",
       "      <td>3.0</td>\n",
       "      <td>648.0</td>\n",
       "      <td>1.0</td>\n",
       "      <td>3.0</td>\n",
       "      <td>28.0</td>\n",
       "    </tr>\n",
       "    <tr>\n",
       "      <th>863</th>\n",
       "      <td>2014</td>\n",
       "      <td>1</td>\n",
       "      <td>Tucumán</td>\n",
       "      <td>130.0</td>\n",
       "      <td>83.0</td>\n",
       "      <td>121.0</td>\n",
       "      <td>13.0</td>\n",
       "      <td>98.0</td>\n",
       "      <td>130.0</td>\n",
       "    </tr>\n",
       "    <tr>\n",
       "      <th>864</th>\n",
       "      <td>*</td>\n",
       "      <td>Los datos provinciales no coinciden a nivel na...</td>\n",
       "      <td>NaN</td>\n",
       "      <td>NaN</td>\n",
       "      <td>NaN</td>\n",
       "      <td>NaN</td>\n",
       "      <td>NaN</td>\n",
       "      <td>NaN</td>\n",
       "      <td>NaN</td>\n",
       "    </tr>\n",
       "  </tbody>\n",
       "</table>\n",
       "<p>865 rows × 9 columns</p>\n",
       "</div>"
      ],
      "text/plain": [
       "      Año                                          Trimestre  \\\n",
       "0    2022                                                  4   \n",
       "1    2022                                                  4   \n",
       "2    2022                                                  4   \n",
       "3    2022                                                  4   \n",
       "4    2022                                                  4   \n",
       "..    ...                                                ...   \n",
       "860  2014                                                  1   \n",
       "861  2014                                                  1   \n",
       "862  2014                                                  1   \n",
       "863  2014                                                  1   \n",
       "864     *  Los datos provinciales no coinciden a nivel na...   \n",
       "\n",
       "               Provincia   ADSL  Cablemodem  Fibra óptica  Wireless  Otros  \\\n",
       "0           Buenos Aires  326.0         3.0           1.0     130.0   72.0   \n",
       "1        Capital Federal  139.0         1.0         139.0       5.0   32.0   \n",
       "2              Catamarca    9.0        11.0          47.0       1.0    2.0   \n",
       "3                  Chaco   25.0        61.0          47.0       8.0    3.0   \n",
       "4                 Chubut   45.0        74.0          10.0      31.0    9.0   \n",
       "..                   ...    ...         ...           ...       ...    ...   \n",
       "860             Santa Fe  323.0       174.0           3.0       6.0  644.0   \n",
       "861  Santiago Del Estero   33.0         4.0          19.0     915.0   34.0   \n",
       "862     Tierra Del Fuego   22.0         3.0         648.0       1.0    3.0   \n",
       "863              Tucumán  130.0        83.0         121.0      13.0   98.0   \n",
       "864                  NaN    NaN         NaN           NaN       NaN    NaN   \n",
       "\n",
       "     Total  \n",
       "0      5.0  \n",
       "1      2.0  \n",
       "2     71.0  \n",
       "3    144.0  \n",
       "4    169.0  \n",
       "..     ...  \n",
       "860  507.0  \n",
       "861   37.0  \n",
       "862   28.0  \n",
       "863  130.0  \n",
       "864    NaN  \n",
       "\n",
       "[865 rows x 9 columns]"
      ]
     },
     "execution_count": 1285,
     "metadata": {},
     "output_type": "execute_result"
    }
   ],
   "source": [
    "# revisamos datasets\n",
    "TecXprov"
   ]
  },
  {
   "cell_type": "code",
   "execution_count": 1286,
   "metadata": {},
   "outputs": [
    {
     "name": "stdout",
     "output_type": "stream",
     "text": [
      "<class 'pandas.core.frame.DataFrame'>\n",
      "RangeIndex: 865 entries, 0 to 864\n",
      "Data columns (total 9 columns):\n",
      " #   Column        Non-Null Count  Dtype  \n",
      "---  ------        --------------  -----  \n",
      " 0   Año           865 non-null    object \n",
      " 1   Trimestre     865 non-null    object \n",
      " 2   Provincia     864 non-null    object \n",
      " 3   ADSL          864 non-null    float64\n",
      " 4   Cablemodem    864 non-null    float64\n",
      " 5   Fibra óptica  864 non-null    float64\n",
      " 6   Wireless      864 non-null    float64\n",
      " 7   Otros         864 non-null    float64\n",
      " 8   Total         864 non-null    float64\n",
      "dtypes: float64(6), object(3)\n",
      "memory usage: 60.9+ KB\n"
     ]
    }
   ],
   "source": [
    "# revisamos tipos de columnas y nulos\n",
    "TecXprov.info()"
   ]
  },
  {
   "cell_type": "code",
   "execution_count": 1287,
   "metadata": {},
   "outputs": [
    {
     "data": {
      "text/html": [
       "<div>\n",
       "<style scoped>\n",
       "    .dataframe tbody tr th:only-of-type {\n",
       "        vertical-align: middle;\n",
       "    }\n",
       "\n",
       "    .dataframe tbody tr th {\n",
       "        vertical-align: top;\n",
       "    }\n",
       "\n",
       "    .dataframe thead th {\n",
       "        text-align: right;\n",
       "    }\n",
       "</style>\n",
       "<table border=\"1\" class=\"dataframe\">\n",
       "  <thead>\n",
       "    <tr style=\"text-align: right;\">\n",
       "      <th></th>\n",
       "      <th>Año</th>\n",
       "      <th>Trimestre</th>\n",
       "      <th>Provincia</th>\n",
       "      <th>Mbps (Media de bajada)</th>\n",
       "    </tr>\n",
       "  </thead>\n",
       "  <tbody>\n",
       "    <tr>\n",
       "      <th>0</th>\n",
       "      <td>2022</td>\n",
       "      <td>4</td>\n",
       "      <td>Buenos Aires</td>\n",
       "      <td>111.000</td>\n",
       "    </tr>\n",
       "    <tr>\n",
       "      <th>1</th>\n",
       "      <td>2022</td>\n",
       "      <td>4</td>\n",
       "      <td>Capital Federal</td>\n",
       "      <td>18.286</td>\n",
       "    </tr>\n",
       "    <tr>\n",
       "      <th>2</th>\n",
       "      <td>2022</td>\n",
       "      <td>4</td>\n",
       "      <td>Catamarca</td>\n",
       "      <td>8.333</td>\n",
       "    </tr>\n",
       "    <tr>\n",
       "      <th>3</th>\n",
       "      <td>2022</td>\n",
       "      <td>4</td>\n",
       "      <td>Chaco</td>\n",
       "      <td>10.402</td>\n",
       "    </tr>\n",
       "    <tr>\n",
       "      <th>4</th>\n",
       "      <td>2022</td>\n",
       "      <td>4</td>\n",
       "      <td>Chubut</td>\n",
       "      <td>1.592</td>\n",
       "    </tr>\n",
       "    <tr>\n",
       "      <th>...</th>\n",
       "      <td>...</td>\n",
       "      <td>...</td>\n",
       "      <td>...</td>\n",
       "      <td>...</td>\n",
       "    </tr>\n",
       "    <tr>\n",
       "      <th>859</th>\n",
       "      <td>2014</td>\n",
       "      <td>1</td>\n",
       "      <td>Santa Cruz</td>\n",
       "      <td>332.000</td>\n",
       "    </tr>\n",
       "    <tr>\n",
       "      <th>860</th>\n",
       "      <td>2014</td>\n",
       "      <td>1</td>\n",
       "      <td>Santa Fe</td>\n",
       "      <td>315.000</td>\n",
       "    </tr>\n",
       "    <tr>\n",
       "      <th>861</th>\n",
       "      <td>2014</td>\n",
       "      <td>1</td>\n",
       "      <td>Santiago Del Estero</td>\n",
       "      <td>295.000</td>\n",
       "    </tr>\n",
       "    <tr>\n",
       "      <th>862</th>\n",
       "      <td>2014</td>\n",
       "      <td>1</td>\n",
       "      <td>Tierra Del Fuego</td>\n",
       "      <td>345.000</td>\n",
       "    </tr>\n",
       "    <tr>\n",
       "      <th>863</th>\n",
       "      <td>2014</td>\n",
       "      <td>1</td>\n",
       "      <td>Tucumán</td>\n",
       "      <td>321.000</td>\n",
       "    </tr>\n",
       "  </tbody>\n",
       "</table>\n",
       "<p>864 rows × 4 columns</p>\n",
       "</div>"
      ],
      "text/plain": [
       "      Año  Trimestre            Provincia  Mbps (Media de bajada)\n",
       "0    2022          4         Buenos Aires                 111.000\n",
       "1    2022          4      Capital Federal                  18.286\n",
       "2    2022          4            Catamarca                   8.333\n",
       "3    2022          4                Chaco                  10.402\n",
       "4    2022          4               Chubut                   1.592\n",
       "..    ...        ...                  ...                     ...\n",
       "859  2014          1           Santa Cruz                 332.000\n",
       "860  2014          1             Santa Fe                 315.000\n",
       "861  2014          1  Santiago Del Estero                 295.000\n",
       "862  2014          1     Tierra Del Fuego                 345.000\n",
       "863  2014          1              Tucumán                 321.000\n",
       "\n",
       "[864 rows x 4 columns]"
      ]
     },
     "execution_count": 1287,
     "metadata": {},
     "output_type": "execute_result"
    }
   ],
   "source": [
    "# revisamos datasets\n",
    "VelXprov"
   ]
  },
  {
   "cell_type": "code",
   "execution_count": 1288,
   "metadata": {},
   "outputs": [
    {
     "name": "stdout",
     "output_type": "stream",
     "text": [
      "<class 'pandas.core.frame.DataFrame'>\n",
      "RangeIndex: 864 entries, 0 to 863\n",
      "Data columns (total 4 columns):\n",
      " #   Column                  Non-Null Count  Dtype  \n",
      "---  ------                  --------------  -----  \n",
      " 0   Año                     864 non-null    int64  \n",
      " 1   Trimestre               864 non-null    int64  \n",
      " 2   Provincia               864 non-null    object \n",
      " 3   Mbps (Media de bajada)  864 non-null    float64\n",
      "dtypes: float64(1), int64(2), object(1)\n",
      "memory usage: 27.1+ KB\n"
     ]
    }
   ],
   "source": [
    "# revisamos tipos de columnas y nulos\n",
    "VelXprov.info()"
   ]
  },
  {
   "cell_type": "code",
   "execution_count": 1289,
   "metadata": {},
   "outputs": [
    {
     "data": {
      "text/html": [
       "<div>\n",
       "<style scoped>\n",
       "    .dataframe tbody tr th:only-of-type {\n",
       "        vertical-align: middle;\n",
       "    }\n",
       "\n",
       "    .dataframe tbody tr th {\n",
       "        vertical-align: top;\n",
       "    }\n",
       "\n",
       "    .dataframe thead th {\n",
       "        text-align: right;\n",
       "    }\n",
       "</style>\n",
       "<table border=\"1\" class=\"dataframe\">\n",
       "  <thead>\n",
       "    <tr style=\"text-align: right;\">\n",
       "      <th></th>\n",
       "      <th>Año</th>\n",
       "      <th>Trimestre</th>\n",
       "      <th>Provincia</th>\n",
       "      <th>Acceso_x_100_hogares</th>\n",
       "    </tr>\n",
       "  </thead>\n",
       "  <tbody>\n",
       "    <tr>\n",
       "      <th>0</th>\n",
       "      <td>2022</td>\n",
       "      <td>4</td>\n",
       "      <td>Buenos Aires</td>\n",
       "      <td>78,94</td>\n",
       "    </tr>\n",
       "    <tr>\n",
       "      <th>1</th>\n",
       "      <td>2022</td>\n",
       "      <td>4</td>\n",
       "      <td>Capital Federal</td>\n",
       "      <td>122,73</td>\n",
       "    </tr>\n",
       "    <tr>\n",
       "      <th>2</th>\n",
       "      <td>2022</td>\n",
       "      <td>4</td>\n",
       "      <td>Catamarca</td>\n",
       "      <td>65,77</td>\n",
       "    </tr>\n",
       "    <tr>\n",
       "      <th>3</th>\n",
       "      <td>2022</td>\n",
       "      <td>4</td>\n",
       "      <td>Chaco</td>\n",
       "      <td>43,62</td>\n",
       "    </tr>\n",
       "    <tr>\n",
       "      <th>4</th>\n",
       "      <td>2022</td>\n",
       "      <td>4</td>\n",
       "      <td>Chubut</td>\n",
       "      <td>85,57</td>\n",
       "    </tr>\n",
       "    <tr>\n",
       "      <th>...</th>\n",
       "      <td>...</td>\n",
       "      <td>...</td>\n",
       "      <td>...</td>\n",
       "      <td>...</td>\n",
       "    </tr>\n",
       "    <tr>\n",
       "      <th>859</th>\n",
       "      <td>2014</td>\n",
       "      <td>1</td>\n",
       "      <td>Santa Cruz</td>\n",
       "      <td>28,94</td>\n",
       "    </tr>\n",
       "    <tr>\n",
       "      <th>860</th>\n",
       "      <td>2014</td>\n",
       "      <td>1</td>\n",
       "      <td>Santa Fe</td>\n",
       "      <td>47,85</td>\n",
       "    </tr>\n",
       "    <tr>\n",
       "      <th>861</th>\n",
       "      <td>2014</td>\n",
       "      <td>1</td>\n",
       "      <td>Santiago Del Estero</td>\n",
       "      <td>16,31</td>\n",
       "    </tr>\n",
       "    <tr>\n",
       "      <th>862</th>\n",
       "      <td>2014</td>\n",
       "      <td>1</td>\n",
       "      <td>Tierra Del Fuego</td>\n",
       "      <td>63,97</td>\n",
       "    </tr>\n",
       "    <tr>\n",
       "      <th>863</th>\n",
       "      <td>2014</td>\n",
       "      <td>1</td>\n",
       "      <td>Tucumán</td>\n",
       "      <td>33,42</td>\n",
       "    </tr>\n",
       "  </tbody>\n",
       "</table>\n",
       "<p>864 rows × 4 columns</p>\n",
       "</div>"
      ],
      "text/plain": [
       "      Año  Trimestre            Provincia Acceso_x_100_hogares\n",
       "0    2022          4         Buenos Aires                78,94\n",
       "1    2022          4      Capital Federal               122,73\n",
       "2    2022          4            Catamarca                65,77\n",
       "3    2022          4                Chaco                43,62\n",
       "4    2022          4               Chubut                85,57\n",
       "..    ...        ...                  ...                  ...\n",
       "859  2014          1           Santa Cruz                28,94\n",
       "860  2014          1             Santa Fe                47,85\n",
       "861  2014          1  Santiago Del Estero                16,31\n",
       "862  2014          1     Tierra Del Fuego                63,97\n",
       "863  2014          1              Tucumán                33,42\n",
       "\n",
       "[864 rows x 4 columns]"
      ]
     },
     "execution_count": 1289,
     "metadata": {},
     "output_type": "execute_result"
    }
   ],
   "source": [
    "# eliminamos columnas sin datos que se crearon y cambiamos el nombre de una columna\n",
    "IxProv.drop(['Unnamed: 4','Unnamed: 5','Unnamed: 6'], axis=1, inplace=True)\n",
    "IxProv.rename(columns={ 'Accesos por cada 100 hogares': 'Acceso_x_100_hogares' }, inplace=True)\n",
    "IxProv\n"
   ]
  },
  {
   "cell_type": "code",
   "execution_count": 1290,
   "metadata": {},
   "outputs": [
    {
     "data": {
      "text/html": [
       "<div>\n",
       "<style scoped>\n",
       "    .dataframe tbody tr th:only-of-type {\n",
       "        vertical-align: middle;\n",
       "    }\n",
       "\n",
       "    .dataframe tbody tr th {\n",
       "        vertical-align: top;\n",
       "    }\n",
       "\n",
       "    .dataframe thead th {\n",
       "        text-align: right;\n",
       "    }\n",
       "</style>\n",
       "<table border=\"1\" class=\"dataframe\">\n",
       "  <thead>\n",
       "    <tr style=\"text-align: right;\">\n",
       "      <th></th>\n",
       "      <th>Año</th>\n",
       "      <th>Trimestre</th>\n",
       "      <th>Provincia</th>\n",
       "      <th>Acceso_x_100_hogares</th>\n",
       "    </tr>\n",
       "  </thead>\n",
       "  <tbody>\n",
       "    <tr>\n",
       "      <th>0</th>\n",
       "      <td>2022</td>\n",
       "      <td>4</td>\n",
       "      <td>Buenos Aires</td>\n",
       "      <td>78.94</td>\n",
       "    </tr>\n",
       "    <tr>\n",
       "      <th>1</th>\n",
       "      <td>2022</td>\n",
       "      <td>4</td>\n",
       "      <td>Capital Federal</td>\n",
       "      <td>122.73</td>\n",
       "    </tr>\n",
       "    <tr>\n",
       "      <th>2</th>\n",
       "      <td>2022</td>\n",
       "      <td>4</td>\n",
       "      <td>Catamarca</td>\n",
       "      <td>65.77</td>\n",
       "    </tr>\n",
       "    <tr>\n",
       "      <th>3</th>\n",
       "      <td>2022</td>\n",
       "      <td>4</td>\n",
       "      <td>Chaco</td>\n",
       "      <td>43.62</td>\n",
       "    </tr>\n",
       "    <tr>\n",
       "      <th>4</th>\n",
       "      <td>2022</td>\n",
       "      <td>4</td>\n",
       "      <td>Chubut</td>\n",
       "      <td>85.57</td>\n",
       "    </tr>\n",
       "    <tr>\n",
       "      <th>...</th>\n",
       "      <td>...</td>\n",
       "      <td>...</td>\n",
       "      <td>...</td>\n",
       "      <td>...</td>\n",
       "    </tr>\n",
       "    <tr>\n",
       "      <th>859</th>\n",
       "      <td>2014</td>\n",
       "      <td>1</td>\n",
       "      <td>Santa Cruz</td>\n",
       "      <td>28.94</td>\n",
       "    </tr>\n",
       "    <tr>\n",
       "      <th>860</th>\n",
       "      <td>2014</td>\n",
       "      <td>1</td>\n",
       "      <td>Santa Fe</td>\n",
       "      <td>47.85</td>\n",
       "    </tr>\n",
       "    <tr>\n",
       "      <th>861</th>\n",
       "      <td>2014</td>\n",
       "      <td>1</td>\n",
       "      <td>Santiago Del Estero</td>\n",
       "      <td>16.31</td>\n",
       "    </tr>\n",
       "    <tr>\n",
       "      <th>862</th>\n",
       "      <td>2014</td>\n",
       "      <td>1</td>\n",
       "      <td>Tierra Del Fuego</td>\n",
       "      <td>63.97</td>\n",
       "    </tr>\n",
       "    <tr>\n",
       "      <th>863</th>\n",
       "      <td>2014</td>\n",
       "      <td>1</td>\n",
       "      <td>Tucumán</td>\n",
       "      <td>33.42</td>\n",
       "    </tr>\n",
       "  </tbody>\n",
       "</table>\n",
       "<p>864 rows × 4 columns</p>\n",
       "</div>"
      ],
      "text/plain": [
       "      Año  Trimestre            Provincia  Acceso_x_100_hogares\n",
       "0    2022          4         Buenos Aires                 78.94\n",
       "1    2022          4      Capital Federal                122.73\n",
       "2    2022          4            Catamarca                 65.77\n",
       "3    2022          4                Chaco                 43.62\n",
       "4    2022          4               Chubut                 85.57\n",
       "..    ...        ...                  ...                   ...\n",
       "859  2014          1           Santa Cruz                 28.94\n",
       "860  2014          1             Santa Fe                 47.85\n",
       "861  2014          1  Santiago Del Estero                 16.31\n",
       "862  2014          1     Tierra Del Fuego                 63.97\n",
       "863  2014          1              Tucumán                 33.42\n",
       "\n",
       "[864 rows x 4 columns]"
      ]
     },
     "execution_count": 1290,
     "metadata": {},
     "output_type": "execute_result"
    }
   ],
   "source": [
    "# reemplazamos la ',' por '.' y cambiamos la columna de accesos por 100 a float\n",
    "IxProv['Acceso_x_100_hogares'] = IxProv['Acceso_x_100_hogares'].replace({',':'.'}, regex=True)\n",
    "IxProv[[\"Acceso_x_100_hogares\"]] = IxProv[[\"Acceso_x_100_hogares\"]].astype(float)\n",
    "IxProv"
   ]
  },
  {
   "cell_type": "code",
   "execution_count": 1291,
   "metadata": {},
   "outputs": [],
   "source": [
    "# vamos cambiar el tipo de dato de las columnas año y trimestre para poder hacer transformaciones \n",
    "IxProv['Año'] = IxProv['Año'].astype(str) \n",
    "IxProv['Trimestre'] = IxProv['Trimestre'].astype(str)"
   ]
  },
  {
   "cell_type": "code",
   "execution_count": 1292,
   "metadata": {},
   "outputs": [
    {
     "data": {
      "text/html": [
       "<div>\n",
       "<style scoped>\n",
       "    .dataframe tbody tr th:only-of-type {\n",
       "        vertical-align: middle;\n",
       "    }\n",
       "\n",
       "    .dataframe tbody tr th {\n",
       "        vertical-align: top;\n",
       "    }\n",
       "\n",
       "    .dataframe thead th {\n",
       "        text-align: right;\n",
       "    }\n",
       "</style>\n",
       "<table border=\"1\" class=\"dataframe\">\n",
       "  <thead>\n",
       "    <tr style=\"text-align: right;\">\n",
       "      <th></th>\n",
       "      <th>Año</th>\n",
       "      <th>Trimestre</th>\n",
       "      <th>Provincia</th>\n",
       "      <th>Acceso_x_100_hogares</th>\n",
       "    </tr>\n",
       "  </thead>\n",
       "  <tbody>\n",
       "    <tr>\n",
       "      <th>0</th>\n",
       "      <td>2022</td>\n",
       "      <td>T4</td>\n",
       "      <td>Buenos Aires</td>\n",
       "      <td>78.94</td>\n",
       "    </tr>\n",
       "    <tr>\n",
       "      <th>1</th>\n",
       "      <td>2022</td>\n",
       "      <td>T4</td>\n",
       "      <td>Capital Federal</td>\n",
       "      <td>122.73</td>\n",
       "    </tr>\n",
       "    <tr>\n",
       "      <th>2</th>\n",
       "      <td>2022</td>\n",
       "      <td>T4</td>\n",
       "      <td>Catamarca</td>\n",
       "      <td>65.77</td>\n",
       "    </tr>\n",
       "    <tr>\n",
       "      <th>3</th>\n",
       "      <td>2022</td>\n",
       "      <td>T4</td>\n",
       "      <td>Chaco</td>\n",
       "      <td>43.62</td>\n",
       "    </tr>\n",
       "    <tr>\n",
       "      <th>4</th>\n",
       "      <td>2022</td>\n",
       "      <td>T4</td>\n",
       "      <td>Chubut</td>\n",
       "      <td>85.57</td>\n",
       "    </tr>\n",
       "    <tr>\n",
       "      <th>...</th>\n",
       "      <td>...</td>\n",
       "      <td>...</td>\n",
       "      <td>...</td>\n",
       "      <td>...</td>\n",
       "    </tr>\n",
       "    <tr>\n",
       "      <th>859</th>\n",
       "      <td>2014</td>\n",
       "      <td>T1</td>\n",
       "      <td>Santa Cruz</td>\n",
       "      <td>28.94</td>\n",
       "    </tr>\n",
       "    <tr>\n",
       "      <th>860</th>\n",
       "      <td>2014</td>\n",
       "      <td>T1</td>\n",
       "      <td>Santa Fe</td>\n",
       "      <td>47.85</td>\n",
       "    </tr>\n",
       "    <tr>\n",
       "      <th>861</th>\n",
       "      <td>2014</td>\n",
       "      <td>T1</td>\n",
       "      <td>Santiago Del Estero</td>\n",
       "      <td>16.31</td>\n",
       "    </tr>\n",
       "    <tr>\n",
       "      <th>862</th>\n",
       "      <td>2014</td>\n",
       "      <td>T1</td>\n",
       "      <td>Tierra Del Fuego</td>\n",
       "      <td>63.97</td>\n",
       "    </tr>\n",
       "    <tr>\n",
       "      <th>863</th>\n",
       "      <td>2014</td>\n",
       "      <td>T1</td>\n",
       "      <td>Tucumán</td>\n",
       "      <td>33.42</td>\n",
       "    </tr>\n",
       "  </tbody>\n",
       "</table>\n",
       "<p>864 rows × 4 columns</p>\n",
       "</div>"
      ],
      "text/plain": [
       "      Año Trimestre            Provincia  Acceso_x_100_hogares\n",
       "0    2022        T4         Buenos Aires                 78.94\n",
       "1    2022        T4      Capital Federal                122.73\n",
       "2    2022        T4            Catamarca                 65.77\n",
       "3    2022        T4                Chaco                 43.62\n",
       "4    2022        T4               Chubut                 85.57\n",
       "..    ...       ...                  ...                   ...\n",
       "859  2014        T1           Santa Cruz                 28.94\n",
       "860  2014        T1             Santa Fe                 47.85\n",
       "861  2014        T1  Santiago Del Estero                 16.31\n",
       "862  2014        T1     Tierra Del Fuego                 63.97\n",
       "863  2014        T1              Tucumán                 33.42\n",
       "\n",
       "[864 rows x 4 columns]"
      ]
     },
     "execution_count": 1292,
     "metadata": {},
     "output_type": "execute_result"
    }
   ],
   "source": [
    "# agregamos la letra 'T' a la columna trimestre para poder identificar que se trata de un periodo de tiempo y no de mes-año\n",
    "IxProv['Trimestre'] = IxProv['Trimestre'].replace({'4':'T4'}, regex=True)\n",
    "IxProv['Trimestre'] = IxProv['Trimestre'].replace({'3':'T3'}, regex=True)\n",
    "IxProv['Trimestre'] = IxProv['Trimestre'].replace({'2':'T2'}, regex=True)\n",
    "IxProv['Trimestre'] = IxProv['Trimestre'].replace({'1':'T1'}, regex=True)\n",
    "IxProv"
   ]
  },
  {
   "cell_type": "code",
   "execution_count": 1293,
   "metadata": {},
   "outputs": [
    {
     "data": {
      "text/html": [
       "<div>\n",
       "<style scoped>\n",
       "    .dataframe tbody tr th:only-of-type {\n",
       "        vertical-align: middle;\n",
       "    }\n",
       "\n",
       "    .dataframe tbody tr th {\n",
       "        vertical-align: top;\n",
       "    }\n",
       "\n",
       "    .dataframe thead th {\n",
       "        text-align: right;\n",
       "    }\n",
       "</style>\n",
       "<table border=\"1\" class=\"dataframe\">\n",
       "  <thead>\n",
       "    <tr style=\"text-align: right;\">\n",
       "      <th></th>\n",
       "      <th>Año</th>\n",
       "      <th>Trimestre</th>\n",
       "      <th>Provincia</th>\n",
       "      <th>Acceso_x_100_hogares</th>\n",
       "      <th>Periodo</th>\n",
       "    </tr>\n",
       "  </thead>\n",
       "  <tbody>\n",
       "    <tr>\n",
       "      <th>0</th>\n",
       "      <td>2022</td>\n",
       "      <td>T4</td>\n",
       "      <td>Buenos Aires</td>\n",
       "      <td>78.94</td>\n",
       "      <td>2022-T4</td>\n",
       "    </tr>\n",
       "    <tr>\n",
       "      <th>1</th>\n",
       "      <td>2022</td>\n",
       "      <td>T4</td>\n",
       "      <td>Capital Federal</td>\n",
       "      <td>122.73</td>\n",
       "      <td>2022-T4</td>\n",
       "    </tr>\n",
       "    <tr>\n",
       "      <th>2</th>\n",
       "      <td>2022</td>\n",
       "      <td>T4</td>\n",
       "      <td>Catamarca</td>\n",
       "      <td>65.77</td>\n",
       "      <td>2022-T4</td>\n",
       "    </tr>\n",
       "    <tr>\n",
       "      <th>3</th>\n",
       "      <td>2022</td>\n",
       "      <td>T4</td>\n",
       "      <td>Chaco</td>\n",
       "      <td>43.62</td>\n",
       "      <td>2022-T4</td>\n",
       "    </tr>\n",
       "    <tr>\n",
       "      <th>4</th>\n",
       "      <td>2022</td>\n",
       "      <td>T4</td>\n",
       "      <td>Chubut</td>\n",
       "      <td>85.57</td>\n",
       "      <td>2022-T4</td>\n",
       "    </tr>\n",
       "    <tr>\n",
       "      <th>...</th>\n",
       "      <td>...</td>\n",
       "      <td>...</td>\n",
       "      <td>...</td>\n",
       "      <td>...</td>\n",
       "      <td>...</td>\n",
       "    </tr>\n",
       "    <tr>\n",
       "      <th>859</th>\n",
       "      <td>2014</td>\n",
       "      <td>T1</td>\n",
       "      <td>Santa Cruz</td>\n",
       "      <td>28.94</td>\n",
       "      <td>2014-T1</td>\n",
       "    </tr>\n",
       "    <tr>\n",
       "      <th>860</th>\n",
       "      <td>2014</td>\n",
       "      <td>T1</td>\n",
       "      <td>Santa Fe</td>\n",
       "      <td>47.85</td>\n",
       "      <td>2014-T1</td>\n",
       "    </tr>\n",
       "    <tr>\n",
       "      <th>861</th>\n",
       "      <td>2014</td>\n",
       "      <td>T1</td>\n",
       "      <td>Santiago Del Estero</td>\n",
       "      <td>16.31</td>\n",
       "      <td>2014-T1</td>\n",
       "    </tr>\n",
       "    <tr>\n",
       "      <th>862</th>\n",
       "      <td>2014</td>\n",
       "      <td>T1</td>\n",
       "      <td>Tierra Del Fuego</td>\n",
       "      <td>63.97</td>\n",
       "      <td>2014-T1</td>\n",
       "    </tr>\n",
       "    <tr>\n",
       "      <th>863</th>\n",
       "      <td>2014</td>\n",
       "      <td>T1</td>\n",
       "      <td>Tucumán</td>\n",
       "      <td>33.42</td>\n",
       "      <td>2014-T1</td>\n",
       "    </tr>\n",
       "  </tbody>\n",
       "</table>\n",
       "<p>864 rows × 5 columns</p>\n",
       "</div>"
      ],
      "text/plain": [
       "      Año Trimestre            Provincia  Acceso_x_100_hogares  Periodo\n",
       "0    2022        T4         Buenos Aires                 78.94  2022-T4\n",
       "1    2022        T4      Capital Federal                122.73  2022-T4\n",
       "2    2022        T4            Catamarca                 65.77  2022-T4\n",
       "3    2022        T4                Chaco                 43.62  2022-T4\n",
       "4    2022        T4               Chubut                 85.57  2022-T4\n",
       "..    ...       ...                  ...                   ...      ...\n",
       "859  2014        T1           Santa Cruz                 28.94  2014-T1\n",
       "860  2014        T1             Santa Fe                 47.85  2014-T1\n",
       "861  2014        T1  Santiago Del Estero                 16.31  2014-T1\n",
       "862  2014        T1     Tierra Del Fuego                 63.97  2014-T1\n",
       "863  2014        T1              Tucumán                 33.42  2014-T1\n",
       "\n",
       "[864 rows x 5 columns]"
      ]
     },
     "execution_count": 1293,
     "metadata": {},
     "output_type": "execute_result"
    }
   ],
   "source": [
    "# creamos una nueva columna que contenga el periodo año-trimestre\n",
    "IxProv['Periodo'] = IxProv['Año'] + '-' + IxProv['Trimestre']\n",
    "IxProv"
   ]
  },
  {
   "cell_type": "code",
   "execution_count": 1294,
   "metadata": {},
   "outputs": [
    {
     "data": {
      "text/html": [
       "<div>\n",
       "<style scoped>\n",
       "    .dataframe tbody tr th:only-of-type {\n",
       "        vertical-align: middle;\n",
       "    }\n",
       "\n",
       "    .dataframe tbody tr th {\n",
       "        vertical-align: top;\n",
       "    }\n",
       "\n",
       "    .dataframe thead th {\n",
       "        text-align: right;\n",
       "    }\n",
       "</style>\n",
       "<table border=\"1\" class=\"dataframe\">\n",
       "  <thead>\n",
       "    <tr style=\"text-align: right;\">\n",
       "      <th></th>\n",
       "      <th>Provincia</th>\n",
       "      <th>Acceso_x_100_hogares</th>\n",
       "      <th>Periodo</th>\n",
       "    </tr>\n",
       "  </thead>\n",
       "  <tbody>\n",
       "    <tr>\n",
       "      <th>0</th>\n",
       "      <td>Buenos Aires</td>\n",
       "      <td>78.94</td>\n",
       "      <td>2022-T4</td>\n",
       "    </tr>\n",
       "    <tr>\n",
       "      <th>1</th>\n",
       "      <td>Capital Federal</td>\n",
       "      <td>122.73</td>\n",
       "      <td>2022-T4</td>\n",
       "    </tr>\n",
       "    <tr>\n",
       "      <th>2</th>\n",
       "      <td>Catamarca</td>\n",
       "      <td>65.77</td>\n",
       "      <td>2022-T4</td>\n",
       "    </tr>\n",
       "    <tr>\n",
       "      <th>3</th>\n",
       "      <td>Chaco</td>\n",
       "      <td>43.62</td>\n",
       "      <td>2022-T4</td>\n",
       "    </tr>\n",
       "    <tr>\n",
       "      <th>4</th>\n",
       "      <td>Chubut</td>\n",
       "      <td>85.57</td>\n",
       "      <td>2022-T4</td>\n",
       "    </tr>\n",
       "    <tr>\n",
       "      <th>...</th>\n",
       "      <td>...</td>\n",
       "      <td>...</td>\n",
       "      <td>...</td>\n",
       "    </tr>\n",
       "    <tr>\n",
       "      <th>859</th>\n",
       "      <td>Santa Cruz</td>\n",
       "      <td>28.94</td>\n",
       "      <td>2014-T1</td>\n",
       "    </tr>\n",
       "    <tr>\n",
       "      <th>860</th>\n",
       "      <td>Santa Fe</td>\n",
       "      <td>47.85</td>\n",
       "      <td>2014-T1</td>\n",
       "    </tr>\n",
       "    <tr>\n",
       "      <th>861</th>\n",
       "      <td>Santiago Del Estero</td>\n",
       "      <td>16.31</td>\n",
       "      <td>2014-T1</td>\n",
       "    </tr>\n",
       "    <tr>\n",
       "      <th>862</th>\n",
       "      <td>Tierra Del Fuego</td>\n",
       "      <td>63.97</td>\n",
       "      <td>2014-T1</td>\n",
       "    </tr>\n",
       "    <tr>\n",
       "      <th>863</th>\n",
       "      <td>Tucumán</td>\n",
       "      <td>33.42</td>\n",
       "      <td>2014-T1</td>\n",
       "    </tr>\n",
       "  </tbody>\n",
       "</table>\n",
       "<p>864 rows × 3 columns</p>\n",
       "</div>"
      ],
      "text/plain": [
       "               Provincia  Acceso_x_100_hogares  Periodo\n",
       "0           Buenos Aires                 78.94  2022-T4\n",
       "1        Capital Federal                122.73  2022-T4\n",
       "2              Catamarca                 65.77  2022-T4\n",
       "3                  Chaco                 43.62  2022-T4\n",
       "4                 Chubut                 85.57  2022-T4\n",
       "..                   ...                   ...      ...\n",
       "859           Santa Cruz                 28.94  2014-T1\n",
       "860             Santa Fe                 47.85  2014-T1\n",
       "861  Santiago Del Estero                 16.31  2014-T1\n",
       "862     Tierra Del Fuego                 63.97  2014-T1\n",
       "863              Tucumán                 33.42  2014-T1\n",
       "\n",
       "[864 rows x 3 columns]"
      ]
     },
     "execution_count": 1294,
     "metadata": {},
     "output_type": "execute_result"
    }
   ],
   "source": [
    "# eliminamos las columnas que ya no nos sirven: año y trimestre\n",
    "IxProv = IxProv.drop(['Año', 'Trimestre'], axis=1)\n",
    "IxProv"
   ]
  },
  {
   "cell_type": "code",
   "execution_count": 1295,
   "metadata": {},
   "outputs": [
    {
     "data": {
      "text/html": [
       "<div>\n",
       "<style scoped>\n",
       "    .dataframe tbody tr th:only-of-type {\n",
       "        vertical-align: middle;\n",
       "    }\n",
       "\n",
       "    .dataframe tbody tr th {\n",
       "        vertical-align: top;\n",
       "    }\n",
       "\n",
       "    .dataframe thead th {\n",
       "        text-align: right;\n",
       "    }\n",
       "</style>\n",
       "<table border=\"1\" class=\"dataframe\">\n",
       "  <thead>\n",
       "    <tr style=\"text-align: right;\">\n",
       "      <th>Provincia</th>\n",
       "      <th>Buenos Aires</th>\n",
       "      <th>Capital Federal</th>\n",
       "      <th>Catamarca</th>\n",
       "      <th>Chaco</th>\n",
       "      <th>Chubut</th>\n",
       "      <th>Corrientes</th>\n",
       "      <th>Córdoba</th>\n",
       "      <th>Entre Ríos</th>\n",
       "      <th>Formosa</th>\n",
       "      <th>Jujuy</th>\n",
       "      <th>...</th>\n",
       "      <th>Neuquén</th>\n",
       "      <th>Río Negro</th>\n",
       "      <th>Salta</th>\n",
       "      <th>San Juan</th>\n",
       "      <th>San Luis</th>\n",
       "      <th>Santa Cruz</th>\n",
       "      <th>Santa Fe</th>\n",
       "      <th>Santiago Del Estero</th>\n",
       "      <th>Tierra Del Fuego</th>\n",
       "      <th>Tucumán</th>\n",
       "    </tr>\n",
       "    <tr>\n",
       "      <th>Periodo</th>\n",
       "      <th></th>\n",
       "      <th></th>\n",
       "      <th></th>\n",
       "      <th></th>\n",
       "      <th></th>\n",
       "      <th></th>\n",
       "      <th></th>\n",
       "      <th></th>\n",
       "      <th></th>\n",
       "      <th></th>\n",
       "      <th></th>\n",
       "      <th></th>\n",
       "      <th></th>\n",
       "      <th></th>\n",
       "      <th></th>\n",
       "      <th></th>\n",
       "      <th></th>\n",
       "      <th></th>\n",
       "      <th></th>\n",
       "      <th></th>\n",
       "      <th></th>\n",
       "    </tr>\n",
       "  </thead>\n",
       "  <tbody>\n",
       "    <tr>\n",
       "      <th>2014-T1</th>\n",
       "      <td>54.57</td>\n",
       "      <td>112.25</td>\n",
       "      <td>24.25</td>\n",
       "      <td>20.72</td>\n",
       "      <td>41.24</td>\n",
       "      <td>22.32</td>\n",
       "      <td>52.52</td>\n",
       "      <td>34.37</td>\n",
       "      <td>17.42</td>\n",
       "      <td>18.42</td>\n",
       "      <td>...</td>\n",
       "      <td>49.79</td>\n",
       "      <td>44.91</td>\n",
       "      <td>28.70</td>\n",
       "      <td>27.60</td>\n",
       "      <td>9.35</td>\n",
       "      <td>28.94</td>\n",
       "      <td>47.85</td>\n",
       "      <td>16.31</td>\n",
       "      <td>63.97</td>\n",
       "      <td>33.42</td>\n",
       "    </tr>\n",
       "    <tr>\n",
       "      <th>2014-T2</th>\n",
       "      <td>55.06</td>\n",
       "      <td>113.14</td>\n",
       "      <td>24.70</td>\n",
       "      <td>20.96</td>\n",
       "      <td>41.41</td>\n",
       "      <td>22.58</td>\n",
       "      <td>53.45</td>\n",
       "      <td>34.69</td>\n",
       "      <td>17.54</td>\n",
       "      <td>18.71</td>\n",
       "      <td>...</td>\n",
       "      <td>50.84</td>\n",
       "      <td>45.33</td>\n",
       "      <td>28.91</td>\n",
       "      <td>27.78</td>\n",
       "      <td>9.72</td>\n",
       "      <td>29.38</td>\n",
       "      <td>48.39</td>\n",
       "      <td>16.70</td>\n",
       "      <td>64.36</td>\n",
       "      <td>33.94</td>\n",
       "    </tr>\n",
       "    <tr>\n",
       "      <th>2014-T3</th>\n",
       "      <td>56.75</td>\n",
       "      <td>113.80</td>\n",
       "      <td>24.71</td>\n",
       "      <td>21.11</td>\n",
       "      <td>40.60</td>\n",
       "      <td>22.79</td>\n",
       "      <td>54.23</td>\n",
       "      <td>34.98</td>\n",
       "      <td>17.77</td>\n",
       "      <td>18.37</td>\n",
       "      <td>...</td>\n",
       "      <td>56.40</td>\n",
       "      <td>46.20</td>\n",
       "      <td>29.22</td>\n",
       "      <td>27.85</td>\n",
       "      <td>9.71</td>\n",
       "      <td>28.23</td>\n",
       "      <td>49.20</td>\n",
       "      <td>16.49</td>\n",
       "      <td>65.69</td>\n",
       "      <td>33.94</td>\n",
       "    </tr>\n",
       "    <tr>\n",
       "      <th>2014-T4</th>\n",
       "      <td>56.09</td>\n",
       "      <td>114.90</td>\n",
       "      <td>25.51</td>\n",
       "      <td>21.87</td>\n",
       "      <td>40.25</td>\n",
       "      <td>23.56</td>\n",
       "      <td>54.70</td>\n",
       "      <td>36.03</td>\n",
       "      <td>17.96</td>\n",
       "      <td>19.60</td>\n",
       "      <td>...</td>\n",
       "      <td>52.55</td>\n",
       "      <td>45.48</td>\n",
       "      <td>29.53</td>\n",
       "      <td>28.04</td>\n",
       "      <td>9.79</td>\n",
       "      <td>27.80</td>\n",
       "      <td>50.00</td>\n",
       "      <td>17.27</td>\n",
       "      <td>66.14</td>\n",
       "      <td>35.32</td>\n",
       "    </tr>\n",
       "    <tr>\n",
       "      <th>2015-T1</th>\n",
       "      <td>56.37</td>\n",
       "      <td>114.90</td>\n",
       "      <td>25.11</td>\n",
       "      <td>26.65</td>\n",
       "      <td>37.61</td>\n",
       "      <td>28.95</td>\n",
       "      <td>54.70</td>\n",
       "      <td>42.07</td>\n",
       "      <td>18.12</td>\n",
       "      <td>19.69</td>\n",
       "      <td>...</td>\n",
       "      <td>51.95</td>\n",
       "      <td>45.33</td>\n",
       "      <td>30.01</td>\n",
       "      <td>27.55</td>\n",
       "      <td>9.72</td>\n",
       "      <td>27.99</td>\n",
       "      <td>50.24</td>\n",
       "      <td>17.06</td>\n",
       "      <td>74.23</td>\n",
       "      <td>35.08</td>\n",
       "    </tr>\n",
       "    <tr>\n",
       "      <th>2015-T2</th>\n",
       "      <td>56.80</td>\n",
       "      <td>116.07</td>\n",
       "      <td>25.45</td>\n",
       "      <td>27.46</td>\n",
       "      <td>36.58</td>\n",
       "      <td>29.58</td>\n",
       "      <td>55.87</td>\n",
       "      <td>42.93</td>\n",
       "      <td>18.36</td>\n",
       "      <td>20.29</td>\n",
       "      <td>...</td>\n",
       "      <td>53.12</td>\n",
       "      <td>45.98</td>\n",
       "      <td>30.46</td>\n",
       "      <td>27.64</td>\n",
       "      <td>9.71</td>\n",
       "      <td>27.07</td>\n",
       "      <td>51.18</td>\n",
       "      <td>17.11</td>\n",
       "      <td>74.51</td>\n",
       "      <td>35.69</td>\n",
       "    </tr>\n",
       "    <tr>\n",
       "      <th>2015-T3</th>\n",
       "      <td>57.69</td>\n",
       "      <td>118.29</td>\n",
       "      <td>25.86</td>\n",
       "      <td>27.96</td>\n",
       "      <td>36.81</td>\n",
       "      <td>30.17</td>\n",
       "      <td>57.08</td>\n",
       "      <td>43.68</td>\n",
       "      <td>18.84</td>\n",
       "      <td>21.27</td>\n",
       "      <td>...</td>\n",
       "      <td>54.60</td>\n",
       "      <td>46.39</td>\n",
       "      <td>31.18</td>\n",
       "      <td>27.67</td>\n",
       "      <td>9.71</td>\n",
       "      <td>27.61</td>\n",
       "      <td>52.15</td>\n",
       "      <td>17.12</td>\n",
       "      <td>74.86</td>\n",
       "      <td>36.61</td>\n",
       "    </tr>\n",
       "    <tr>\n",
       "      <th>2015-T4</th>\n",
       "      <td>58.29</td>\n",
       "      <td>118.13</td>\n",
       "      <td>26.24</td>\n",
       "      <td>28.35</td>\n",
       "      <td>36.89</td>\n",
       "      <td>30.34</td>\n",
       "      <td>57.36</td>\n",
       "      <td>44.11</td>\n",
       "      <td>19.07</td>\n",
       "      <td>21.47</td>\n",
       "      <td>...</td>\n",
       "      <td>58.29</td>\n",
       "      <td>46.44</td>\n",
       "      <td>31.59</td>\n",
       "      <td>27.66</td>\n",
       "      <td>9.71</td>\n",
       "      <td>27.74</td>\n",
       "      <td>52.61</td>\n",
       "      <td>17.00</td>\n",
       "      <td>66.46</td>\n",
       "      <td>37.06</td>\n",
       "    </tr>\n",
       "    <tr>\n",
       "      <th>2016-T1</th>\n",
       "      <td>57.34</td>\n",
       "      <td>115.16</td>\n",
       "      <td>25.91</td>\n",
       "      <td>28.08</td>\n",
       "      <td>36.09</td>\n",
       "      <td>30.08</td>\n",
       "      <td>55.28</td>\n",
       "      <td>43.85</td>\n",
       "      <td>19.04</td>\n",
       "      <td>21.41</td>\n",
       "      <td>...</td>\n",
       "      <td>55.75</td>\n",
       "      <td>45.84</td>\n",
       "      <td>31.32</td>\n",
       "      <td>27.33</td>\n",
       "      <td>9.59</td>\n",
       "      <td>26.87</td>\n",
       "      <td>51.28</td>\n",
       "      <td>16.21</td>\n",
       "      <td>65.83</td>\n",
       "      <td>36.72</td>\n",
       "    </tr>\n",
       "    <tr>\n",
       "      <th>2016-T2</th>\n",
       "      <td>59.34</td>\n",
       "      <td>120.04</td>\n",
       "      <td>26.07</td>\n",
       "      <td>28.59</td>\n",
       "      <td>36.12</td>\n",
       "      <td>30.58</td>\n",
       "      <td>57.55</td>\n",
       "      <td>44.74</td>\n",
       "      <td>19.37</td>\n",
       "      <td>21.89</td>\n",
       "      <td>...</td>\n",
       "      <td>59.10</td>\n",
       "      <td>46.24</td>\n",
       "      <td>32.08</td>\n",
       "      <td>27.34</td>\n",
       "      <td>9.60</td>\n",
       "      <td>26.73</td>\n",
       "      <td>52.44</td>\n",
       "      <td>15.89</td>\n",
       "      <td>67.72</td>\n",
       "      <td>37.24</td>\n",
       "    </tr>\n",
       "    <tr>\n",
       "      <th>2016-T3</th>\n",
       "      <td>60.14</td>\n",
       "      <td>120.77</td>\n",
       "      <td>26.48</td>\n",
       "      <td>28.91</td>\n",
       "      <td>36.18</td>\n",
       "      <td>31.07</td>\n",
       "      <td>58.24</td>\n",
       "      <td>45.44</td>\n",
       "      <td>18.64</td>\n",
       "      <td>22.61</td>\n",
       "      <td>...</td>\n",
       "      <td>60.21</td>\n",
       "      <td>46.39</td>\n",
       "      <td>32.96</td>\n",
       "      <td>27.32</td>\n",
       "      <td>9.63</td>\n",
       "      <td>26.84</td>\n",
       "      <td>52.67</td>\n",
       "      <td>15.33</td>\n",
       "      <td>68.94</td>\n",
       "      <td>37.90</td>\n",
       "    </tr>\n",
       "    <tr>\n",
       "      <th>2016-T4</th>\n",
       "      <td>61.24</td>\n",
       "      <td>120.63</td>\n",
       "      <td>26.54</td>\n",
       "      <td>28.79</td>\n",
       "      <td>36.07</td>\n",
       "      <td>30.98</td>\n",
       "      <td>57.70</td>\n",
       "      <td>45.21</td>\n",
       "      <td>19.85</td>\n",
       "      <td>22.65</td>\n",
       "      <td>...</td>\n",
       "      <td>60.87</td>\n",
       "      <td>46.39</td>\n",
       "      <td>32.69</td>\n",
       "      <td>27.29</td>\n",
       "      <td>9.64</td>\n",
       "      <td>27.05</td>\n",
       "      <td>52.19</td>\n",
       "      <td>15.07</td>\n",
       "      <td>70.31</td>\n",
       "      <td>37.98</td>\n",
       "    </tr>\n",
       "    <tr>\n",
       "      <th>2017-T1</th>\n",
       "      <td>58.57</td>\n",
       "      <td>108.37</td>\n",
       "      <td>25.66</td>\n",
       "      <td>28.62</td>\n",
       "      <td>35.66</td>\n",
       "      <td>30.94</td>\n",
       "      <td>57.65</td>\n",
       "      <td>44.91</td>\n",
       "      <td>19.84</td>\n",
       "      <td>22.76</td>\n",
       "      <td>...</td>\n",
       "      <td>61.02</td>\n",
       "      <td>46.03</td>\n",
       "      <td>32.58</td>\n",
       "      <td>27.04</td>\n",
       "      <td>9.55</td>\n",
       "      <td>26.52</td>\n",
       "      <td>51.97</td>\n",
       "      <td>14.70</td>\n",
       "      <td>68.92</td>\n",
       "      <td>37.90</td>\n",
       "    </tr>\n",
       "    <tr>\n",
       "      <th>2017-T2</th>\n",
       "      <td>56.27</td>\n",
       "      <td>124.06</td>\n",
       "      <td>25.98</td>\n",
       "      <td>29.05</td>\n",
       "      <td>35.55</td>\n",
       "      <td>31.39</td>\n",
       "      <td>58.97</td>\n",
       "      <td>45.39</td>\n",
       "      <td>19.97</td>\n",
       "      <td>22.40</td>\n",
       "      <td>...</td>\n",
       "      <td>61.91</td>\n",
       "      <td>46.02</td>\n",
       "      <td>32.74</td>\n",
       "      <td>26.96</td>\n",
       "      <td>9.51</td>\n",
       "      <td>26.25</td>\n",
       "      <td>52.27</td>\n",
       "      <td>14.12</td>\n",
       "      <td>68.46</td>\n",
       "      <td>38.19</td>\n",
       "    </tr>\n",
       "    <tr>\n",
       "      <th>2017-T3</th>\n",
       "      <td>55.63</td>\n",
       "      <td>121.86</td>\n",
       "      <td>32.49</td>\n",
       "      <td>29.98</td>\n",
       "      <td>46.22</td>\n",
       "      <td>32.17</td>\n",
       "      <td>62.31</td>\n",
       "      <td>45.96</td>\n",
       "      <td>21.35</td>\n",
       "      <td>22.65</td>\n",
       "      <td>...</td>\n",
       "      <td>60.83</td>\n",
       "      <td>48.52</td>\n",
       "      <td>39.84</td>\n",
       "      <td>32.37</td>\n",
       "      <td>15.48</td>\n",
       "      <td>33.29</td>\n",
       "      <td>60.91</td>\n",
       "      <td>35.12</td>\n",
       "      <td>65.74</td>\n",
       "      <td>39.70</td>\n",
       "    </tr>\n",
       "    <tr>\n",
       "      <th>2017-T4</th>\n",
       "      <td>57.61</td>\n",
       "      <td>122.90</td>\n",
       "      <td>28.62</td>\n",
       "      <td>30.81</td>\n",
       "      <td>51.46</td>\n",
       "      <td>32.52</td>\n",
       "      <td>63.33</td>\n",
       "      <td>47.89</td>\n",
       "      <td>21.27</td>\n",
       "      <td>22.74</td>\n",
       "      <td>...</td>\n",
       "      <td>61.24</td>\n",
       "      <td>49.38</td>\n",
       "      <td>39.80</td>\n",
       "      <td>30.30</td>\n",
       "      <td>10.59</td>\n",
       "      <td>28.91</td>\n",
       "      <td>61.71</td>\n",
       "      <td>29.13</td>\n",
       "      <td>59.89</td>\n",
       "      <td>39.90</td>\n",
       "    </tr>\n",
       "    <tr>\n",
       "      <th>2018-T1</th>\n",
       "      <td>62.63</td>\n",
       "      <td>106.24</td>\n",
       "      <td>32.79</td>\n",
       "      <td>30.83</td>\n",
       "      <td>53.72</td>\n",
       "      <td>32.66</td>\n",
       "      <td>63.52</td>\n",
       "      <td>48.68</td>\n",
       "      <td>21.40</td>\n",
       "      <td>23.12</td>\n",
       "      <td>...</td>\n",
       "      <td>61.52</td>\n",
       "      <td>49.82</td>\n",
       "      <td>39.78</td>\n",
       "      <td>32.61</td>\n",
       "      <td>15.15</td>\n",
       "      <td>33.55</td>\n",
       "      <td>62.28</td>\n",
       "      <td>34.99</td>\n",
       "      <td>65.20</td>\n",
       "      <td>41.18</td>\n",
       "    </tr>\n",
       "    <tr>\n",
       "      <th>2018-T2</th>\n",
       "      <td>62.78</td>\n",
       "      <td>106.53</td>\n",
       "      <td>32.86</td>\n",
       "      <td>31.25</td>\n",
       "      <td>54.90</td>\n",
       "      <td>33.81</td>\n",
       "      <td>63.27</td>\n",
       "      <td>49.20</td>\n",
       "      <td>29.43</td>\n",
       "      <td>23.43</td>\n",
       "      <td>...</td>\n",
       "      <td>60.24</td>\n",
       "      <td>50.15</td>\n",
       "      <td>39.94</td>\n",
       "      <td>32.95</td>\n",
       "      <td>15.15</td>\n",
       "      <td>33.33</td>\n",
       "      <td>62.57</td>\n",
       "      <td>35.26</td>\n",
       "      <td>91.61</td>\n",
       "      <td>41.51</td>\n",
       "    </tr>\n",
       "    <tr>\n",
       "      <th>2018-T3</th>\n",
       "      <td>64.44</td>\n",
       "      <td>108.45</td>\n",
       "      <td>32.92</td>\n",
       "      <td>32.28</td>\n",
       "      <td>56.39</td>\n",
       "      <td>34.25</td>\n",
       "      <td>64.24</td>\n",
       "      <td>50.22</td>\n",
       "      <td>29.58</td>\n",
       "      <td>23.26</td>\n",
       "      <td>...</td>\n",
       "      <td>60.49</td>\n",
       "      <td>50.54</td>\n",
       "      <td>39.43</td>\n",
       "      <td>33.05</td>\n",
       "      <td>52.35</td>\n",
       "      <td>32.73</td>\n",
       "      <td>63.41</td>\n",
       "      <td>36.25</td>\n",
       "      <td>92.77</td>\n",
       "      <td>41.68</td>\n",
       "    </tr>\n",
       "    <tr>\n",
       "      <th>2018-T4</th>\n",
       "      <td>64.60</td>\n",
       "      <td>108.27</td>\n",
       "      <td>32.23</td>\n",
       "      <td>32.59</td>\n",
       "      <td>42.61</td>\n",
       "      <td>34.57</td>\n",
       "      <td>65.09</td>\n",
       "      <td>54.37</td>\n",
       "      <td>29.74</td>\n",
       "      <td>46.53</td>\n",
       "      <td>...</td>\n",
       "      <td>59.07</td>\n",
       "      <td>51.86</td>\n",
       "      <td>39.80</td>\n",
       "      <td>31.90</td>\n",
       "      <td>67.55</td>\n",
       "      <td>23.69</td>\n",
       "      <td>65.59</td>\n",
       "      <td>37.40</td>\n",
       "      <td>93.59</td>\n",
       "      <td>41.76</td>\n",
       "    </tr>\n",
       "    <tr>\n",
       "      <th>2019-T1</th>\n",
       "      <td>66.24</td>\n",
       "      <td>109.20</td>\n",
       "      <td>32.19</td>\n",
       "      <td>32.64</td>\n",
       "      <td>43.00</td>\n",
       "      <td>35.13</td>\n",
       "      <td>65.52</td>\n",
       "      <td>56.79</td>\n",
       "      <td>29.68</td>\n",
       "      <td>46.41</td>\n",
       "      <td>...</td>\n",
       "      <td>58.88</td>\n",
       "      <td>53.57</td>\n",
       "      <td>40.10</td>\n",
       "      <td>31.83</td>\n",
       "      <td>67.34</td>\n",
       "      <td>23.67</td>\n",
       "      <td>66.97</td>\n",
       "      <td>37.52</td>\n",
       "      <td>93.38</td>\n",
       "      <td>41.63</td>\n",
       "    </tr>\n",
       "    <tr>\n",
       "      <th>2019-T2</th>\n",
       "      <td>67.85</td>\n",
       "      <td>110.55</td>\n",
       "      <td>32.13</td>\n",
       "      <td>34.14</td>\n",
       "      <td>46.99</td>\n",
       "      <td>38.16</td>\n",
       "      <td>68.07</td>\n",
       "      <td>57.48</td>\n",
       "      <td>30.42</td>\n",
       "      <td>44.51</td>\n",
       "      <td>...</td>\n",
       "      <td>63.08</td>\n",
       "      <td>61.09</td>\n",
       "      <td>41.89</td>\n",
       "      <td>35.60</td>\n",
       "      <td>81.79</td>\n",
       "      <td>28.85</td>\n",
       "      <td>67.42</td>\n",
       "      <td>52.79</td>\n",
       "      <td>94.80</td>\n",
       "      <td>40.14</td>\n",
       "    </tr>\n",
       "    <tr>\n",
       "      <th>2019-T3</th>\n",
       "      <td>69.36</td>\n",
       "      <td>112.65</td>\n",
       "      <td>30.88</td>\n",
       "      <td>35.85</td>\n",
       "      <td>47.57</td>\n",
       "      <td>38.49</td>\n",
       "      <td>68.59</td>\n",
       "      <td>57.90</td>\n",
       "      <td>30.11</td>\n",
       "      <td>44.32</td>\n",
       "      <td>...</td>\n",
       "      <td>64.14</td>\n",
       "      <td>63.42</td>\n",
       "      <td>44.48</td>\n",
       "      <td>37.06</td>\n",
       "      <td>85.23</td>\n",
       "      <td>35.63</td>\n",
       "      <td>68.87</td>\n",
       "      <td>55.30</td>\n",
       "      <td>96.46</td>\n",
       "      <td>39.49</td>\n",
       "    </tr>\n",
       "    <tr>\n",
       "      <th>2019-T4</th>\n",
       "      <td>64.25</td>\n",
       "      <td>106.25</td>\n",
       "      <td>36.44</td>\n",
       "      <td>36.84</td>\n",
       "      <td>51.15</td>\n",
       "      <td>38.77</td>\n",
       "      <td>70.48</td>\n",
       "      <td>57.99</td>\n",
       "      <td>30.47</td>\n",
       "      <td>45.38</td>\n",
       "      <td>...</td>\n",
       "      <td>59.36</td>\n",
       "      <td>55.71</td>\n",
       "      <td>50.35</td>\n",
       "      <td>32.85</td>\n",
       "      <td>74.92</td>\n",
       "      <td>36.71</td>\n",
       "      <td>69.48</td>\n",
       "      <td>42.92</td>\n",
       "      <td>79.70</td>\n",
       "      <td>47.65</td>\n",
       "    </tr>\n",
       "    <tr>\n",
       "      <th>2020-T1</th>\n",
       "      <td>64.33</td>\n",
       "      <td>105.98</td>\n",
       "      <td>37.62</td>\n",
       "      <td>37.48</td>\n",
       "      <td>51.27</td>\n",
       "      <td>38.73</td>\n",
       "      <td>70.69</td>\n",
       "      <td>56.12</td>\n",
       "      <td>30.23</td>\n",
       "      <td>46.67</td>\n",
       "      <td>...</td>\n",
       "      <td>61.85</td>\n",
       "      <td>55.12</td>\n",
       "      <td>49.60</td>\n",
       "      <td>32.39</td>\n",
       "      <td>76.31</td>\n",
       "      <td>35.97</td>\n",
       "      <td>69.52</td>\n",
       "      <td>42.47</td>\n",
       "      <td>76.07</td>\n",
       "      <td>47.85</td>\n",
       "    </tr>\n",
       "    <tr>\n",
       "      <th>2020-T2</th>\n",
       "      <td>65.22</td>\n",
       "      <td>106.41</td>\n",
       "      <td>45.43</td>\n",
       "      <td>39.83</td>\n",
       "      <td>57.34</td>\n",
       "      <td>40.30</td>\n",
       "      <td>72.71</td>\n",
       "      <td>56.54</td>\n",
       "      <td>31.14</td>\n",
       "      <td>47.89</td>\n",
       "      <td>...</td>\n",
       "      <td>63.90</td>\n",
       "      <td>56.37</td>\n",
       "      <td>51.58</td>\n",
       "      <td>35.09</td>\n",
       "      <td>78.41</td>\n",
       "      <td>35.79</td>\n",
       "      <td>70.00</td>\n",
       "      <td>43.47</td>\n",
       "      <td>76.37</td>\n",
       "      <td>51.78</td>\n",
       "    </tr>\n",
       "    <tr>\n",
       "      <th>2020-T3</th>\n",
       "      <td>67.66</td>\n",
       "      <td>107.68</td>\n",
       "      <td>47.16</td>\n",
       "      <td>41.54</td>\n",
       "      <td>68.34</td>\n",
       "      <td>41.75</td>\n",
       "      <td>75.22</td>\n",
       "      <td>58.19</td>\n",
       "      <td>31.91</td>\n",
       "      <td>54.04</td>\n",
       "      <td>...</td>\n",
       "      <td>65.24</td>\n",
       "      <td>57.05</td>\n",
       "      <td>52.32</td>\n",
       "      <td>38.79</td>\n",
       "      <td>79.96</td>\n",
       "      <td>35.95</td>\n",
       "      <td>72.12</td>\n",
       "      <td>43.38</td>\n",
       "      <td>76.81</td>\n",
       "      <td>53.23</td>\n",
       "    </tr>\n",
       "    <tr>\n",
       "      <th>2020-T4</th>\n",
       "      <td>68.98</td>\n",
       "      <td>108.31</td>\n",
       "      <td>49.41</td>\n",
       "      <td>43.03</td>\n",
       "      <td>68.35</td>\n",
       "      <td>42.43</td>\n",
       "      <td>78.08</td>\n",
       "      <td>59.47</td>\n",
       "      <td>32.49</td>\n",
       "      <td>53.46</td>\n",
       "      <td>...</td>\n",
       "      <td>67.00</td>\n",
       "      <td>61.09</td>\n",
       "      <td>54.04</td>\n",
       "      <td>36.32</td>\n",
       "      <td>81.68</td>\n",
       "      <td>37.00</td>\n",
       "      <td>73.58</td>\n",
       "      <td>43.75</td>\n",
       "      <td>76.27</td>\n",
       "      <td>54.78</td>\n",
       "    </tr>\n",
       "    <tr>\n",
       "      <th>2021-T1</th>\n",
       "      <td>69.11</td>\n",
       "      <td>108.42</td>\n",
       "      <td>48.90</td>\n",
       "      <td>43.14</td>\n",
       "      <td>68.99</td>\n",
       "      <td>42.66</td>\n",
       "      <td>78.59</td>\n",
       "      <td>60.44</td>\n",
       "      <td>32.73</td>\n",
       "      <td>55.63</td>\n",
       "      <td>...</td>\n",
       "      <td>66.84</td>\n",
       "      <td>60.88</td>\n",
       "      <td>53.93</td>\n",
       "      <td>39.06</td>\n",
       "      <td>81.24</td>\n",
       "      <td>41.65</td>\n",
       "      <td>73.92</td>\n",
       "      <td>45.67</td>\n",
       "      <td>77.35</td>\n",
       "      <td>54.82</td>\n",
       "    </tr>\n",
       "    <tr>\n",
       "      <th>2021-T2</th>\n",
       "      <td>70.00</td>\n",
       "      <td>110.14</td>\n",
       "      <td>52.34</td>\n",
       "      <td>43.33</td>\n",
       "      <td>72.29</td>\n",
       "      <td>43.54</td>\n",
       "      <td>80.12</td>\n",
       "      <td>61.66</td>\n",
       "      <td>33.23</td>\n",
       "      <td>56.18</td>\n",
       "      <td>...</td>\n",
       "      <td>69.14</td>\n",
       "      <td>61.94</td>\n",
       "      <td>54.93</td>\n",
       "      <td>39.28</td>\n",
       "      <td>83.48</td>\n",
       "      <td>44.01</td>\n",
       "      <td>75.07</td>\n",
       "      <td>46.56</td>\n",
       "      <td>67.89</td>\n",
       "      <td>54.93</td>\n",
       "    </tr>\n",
       "    <tr>\n",
       "      <th>2021-T3</th>\n",
       "      <td>71.68</td>\n",
       "      <td>111.27</td>\n",
       "      <td>52.71</td>\n",
       "      <td>42.96</td>\n",
       "      <td>80.71</td>\n",
       "      <td>44.90</td>\n",
       "      <td>81.28</td>\n",
       "      <td>62.18</td>\n",
       "      <td>33.96</td>\n",
       "      <td>55.69</td>\n",
       "      <td>...</td>\n",
       "      <td>69.71</td>\n",
       "      <td>61.97</td>\n",
       "      <td>55.96</td>\n",
       "      <td>39.46</td>\n",
       "      <td>79.87</td>\n",
       "      <td>43.75</td>\n",
       "      <td>75.02</td>\n",
       "      <td>47.00</td>\n",
       "      <td>94.95</td>\n",
       "      <td>54.64</td>\n",
       "    </tr>\n",
       "    <tr>\n",
       "      <th>2021-T4</th>\n",
       "      <td>75.66</td>\n",
       "      <td>111.27</td>\n",
       "      <td>55.25</td>\n",
       "      <td>44.05</td>\n",
       "      <td>82.57</td>\n",
       "      <td>45.51</td>\n",
       "      <td>84.51</td>\n",
       "      <td>63.16</td>\n",
       "      <td>34.45</td>\n",
       "      <td>56.92</td>\n",
       "      <td>...</td>\n",
       "      <td>73.30</td>\n",
       "      <td>65.69</td>\n",
       "      <td>56.81</td>\n",
       "      <td>39.59</td>\n",
       "      <td>80.30</td>\n",
       "      <td>43.05</td>\n",
       "      <td>77.09</td>\n",
       "      <td>47.05</td>\n",
       "      <td>98.40</td>\n",
       "      <td>55.93</td>\n",
       "    </tr>\n",
       "    <tr>\n",
       "      <th>2022-T1</th>\n",
       "      <td>76.08</td>\n",
       "      <td>111.80</td>\n",
       "      <td>58.21</td>\n",
       "      <td>44.06</td>\n",
       "      <td>88.05</td>\n",
       "      <td>47.64</td>\n",
       "      <td>85.76</td>\n",
       "      <td>63.70</td>\n",
       "      <td>34.96</td>\n",
       "      <td>58.06</td>\n",
       "      <td>...</td>\n",
       "      <td>74.17</td>\n",
       "      <td>67.04</td>\n",
       "      <td>56.11</td>\n",
       "      <td>43.55</td>\n",
       "      <td>80.72</td>\n",
       "      <td>43.34</td>\n",
       "      <td>77.30</td>\n",
       "      <td>47.17</td>\n",
       "      <td>98.29</td>\n",
       "      <td>57.39</td>\n",
       "    </tr>\n",
       "    <tr>\n",
       "      <th>2022-T2</th>\n",
       "      <td>77.58</td>\n",
       "      <td>121.31</td>\n",
       "      <td>62.40</td>\n",
       "      <td>43.79</td>\n",
       "      <td>83.19</td>\n",
       "      <td>48.35</td>\n",
       "      <td>87.48</td>\n",
       "      <td>63.90</td>\n",
       "      <td>43.42</td>\n",
       "      <td>57.32</td>\n",
       "      <td>...</td>\n",
       "      <td>80.02</td>\n",
       "      <td>67.85</td>\n",
       "      <td>57.54</td>\n",
       "      <td>49.46</td>\n",
       "      <td>81.76</td>\n",
       "      <td>43.15</td>\n",
       "      <td>77.90</td>\n",
       "      <td>47.70</td>\n",
       "      <td>99.86</td>\n",
       "      <td>59.31</td>\n",
       "    </tr>\n",
       "    <tr>\n",
       "      <th>2022-T3</th>\n",
       "      <td>78.11</td>\n",
       "      <td>122.28</td>\n",
       "      <td>65.33</td>\n",
       "      <td>43.86</td>\n",
       "      <td>84.38</td>\n",
       "      <td>48.21</td>\n",
       "      <td>88.31</td>\n",
       "      <td>63.67</td>\n",
       "      <td>43.76</td>\n",
       "      <td>58.91</td>\n",
       "      <td>...</td>\n",
       "      <td>80.37</td>\n",
       "      <td>67.98</td>\n",
       "      <td>57.76</td>\n",
       "      <td>50.80</td>\n",
       "      <td>81.74</td>\n",
       "      <td>43.19</td>\n",
       "      <td>78.55</td>\n",
       "      <td>47.98</td>\n",
       "      <td>99.51</td>\n",
       "      <td>61.14</td>\n",
       "    </tr>\n",
       "    <tr>\n",
       "      <th>2022-T4</th>\n",
       "      <td>78.94</td>\n",
       "      <td>122.73</td>\n",
       "      <td>65.77</td>\n",
       "      <td>43.62</td>\n",
       "      <td>85.57</td>\n",
       "      <td>51.64</td>\n",
       "      <td>89.03</td>\n",
       "      <td>64.01</td>\n",
       "      <td>39.41</td>\n",
       "      <td>58.46</td>\n",
       "      <td>...</td>\n",
       "      <td>78.67</td>\n",
       "      <td>68.42</td>\n",
       "      <td>57.96</td>\n",
       "      <td>50.88</td>\n",
       "      <td>90.27</td>\n",
       "      <td>43.53</td>\n",
       "      <td>78.40</td>\n",
       "      <td>48.05</td>\n",
       "      <td>101.44</td>\n",
       "      <td>61.04</td>\n",
       "    </tr>\n",
       "  </tbody>\n",
       "</table>\n",
       "<p>36 rows × 24 columns</p>\n",
       "</div>"
      ],
      "text/plain": [
       "Provincia  Buenos Aires  Capital Federal  Catamarca  Chaco  Chubut  \\\n",
       "Periodo                                                              \n",
       "2014-T1           54.57           112.25      24.25  20.72   41.24   \n",
       "2014-T2           55.06           113.14      24.70  20.96   41.41   \n",
       "2014-T3           56.75           113.80      24.71  21.11   40.60   \n",
       "2014-T4           56.09           114.90      25.51  21.87   40.25   \n",
       "2015-T1           56.37           114.90      25.11  26.65   37.61   \n",
       "2015-T2           56.80           116.07      25.45  27.46   36.58   \n",
       "2015-T3           57.69           118.29      25.86  27.96   36.81   \n",
       "2015-T4           58.29           118.13      26.24  28.35   36.89   \n",
       "2016-T1           57.34           115.16      25.91  28.08   36.09   \n",
       "2016-T2           59.34           120.04      26.07  28.59   36.12   \n",
       "2016-T3           60.14           120.77      26.48  28.91   36.18   \n",
       "2016-T4           61.24           120.63      26.54  28.79   36.07   \n",
       "2017-T1           58.57           108.37      25.66  28.62   35.66   \n",
       "2017-T2           56.27           124.06      25.98  29.05   35.55   \n",
       "2017-T3           55.63           121.86      32.49  29.98   46.22   \n",
       "2017-T4           57.61           122.90      28.62  30.81   51.46   \n",
       "2018-T1           62.63           106.24      32.79  30.83   53.72   \n",
       "2018-T2           62.78           106.53      32.86  31.25   54.90   \n",
       "2018-T3           64.44           108.45      32.92  32.28   56.39   \n",
       "2018-T4           64.60           108.27      32.23  32.59   42.61   \n",
       "2019-T1           66.24           109.20      32.19  32.64   43.00   \n",
       "2019-T2           67.85           110.55      32.13  34.14   46.99   \n",
       "2019-T3           69.36           112.65      30.88  35.85   47.57   \n",
       "2019-T4           64.25           106.25      36.44  36.84   51.15   \n",
       "2020-T1           64.33           105.98      37.62  37.48   51.27   \n",
       "2020-T2           65.22           106.41      45.43  39.83   57.34   \n",
       "2020-T3           67.66           107.68      47.16  41.54   68.34   \n",
       "2020-T4           68.98           108.31      49.41  43.03   68.35   \n",
       "2021-T1           69.11           108.42      48.90  43.14   68.99   \n",
       "2021-T2           70.00           110.14      52.34  43.33   72.29   \n",
       "2021-T3           71.68           111.27      52.71  42.96   80.71   \n",
       "2021-T4           75.66           111.27      55.25  44.05   82.57   \n",
       "2022-T1           76.08           111.80      58.21  44.06   88.05   \n",
       "2022-T2           77.58           121.31      62.40  43.79   83.19   \n",
       "2022-T3           78.11           122.28      65.33  43.86   84.38   \n",
       "2022-T4           78.94           122.73      65.77  43.62   85.57   \n",
       "\n",
       "Provincia  Corrientes  Córdoba  Entre Ríos  Formosa  Jujuy  ...  Neuquén  \\\n",
       "Periodo                                                     ...            \n",
       "2014-T1         22.32    52.52       34.37    17.42  18.42  ...    49.79   \n",
       "2014-T2         22.58    53.45       34.69    17.54  18.71  ...    50.84   \n",
       "2014-T3         22.79    54.23       34.98    17.77  18.37  ...    56.40   \n",
       "2014-T4         23.56    54.70       36.03    17.96  19.60  ...    52.55   \n",
       "2015-T1         28.95    54.70       42.07    18.12  19.69  ...    51.95   \n",
       "2015-T2         29.58    55.87       42.93    18.36  20.29  ...    53.12   \n",
       "2015-T3         30.17    57.08       43.68    18.84  21.27  ...    54.60   \n",
       "2015-T4         30.34    57.36       44.11    19.07  21.47  ...    58.29   \n",
       "2016-T1         30.08    55.28       43.85    19.04  21.41  ...    55.75   \n",
       "2016-T2         30.58    57.55       44.74    19.37  21.89  ...    59.10   \n",
       "2016-T3         31.07    58.24       45.44    18.64  22.61  ...    60.21   \n",
       "2016-T4         30.98    57.70       45.21    19.85  22.65  ...    60.87   \n",
       "2017-T1         30.94    57.65       44.91    19.84  22.76  ...    61.02   \n",
       "2017-T2         31.39    58.97       45.39    19.97  22.40  ...    61.91   \n",
       "2017-T3         32.17    62.31       45.96    21.35  22.65  ...    60.83   \n",
       "2017-T4         32.52    63.33       47.89    21.27  22.74  ...    61.24   \n",
       "2018-T1         32.66    63.52       48.68    21.40  23.12  ...    61.52   \n",
       "2018-T2         33.81    63.27       49.20    29.43  23.43  ...    60.24   \n",
       "2018-T3         34.25    64.24       50.22    29.58  23.26  ...    60.49   \n",
       "2018-T4         34.57    65.09       54.37    29.74  46.53  ...    59.07   \n",
       "2019-T1         35.13    65.52       56.79    29.68  46.41  ...    58.88   \n",
       "2019-T2         38.16    68.07       57.48    30.42  44.51  ...    63.08   \n",
       "2019-T3         38.49    68.59       57.90    30.11  44.32  ...    64.14   \n",
       "2019-T4         38.77    70.48       57.99    30.47  45.38  ...    59.36   \n",
       "2020-T1         38.73    70.69       56.12    30.23  46.67  ...    61.85   \n",
       "2020-T2         40.30    72.71       56.54    31.14  47.89  ...    63.90   \n",
       "2020-T3         41.75    75.22       58.19    31.91  54.04  ...    65.24   \n",
       "2020-T4         42.43    78.08       59.47    32.49  53.46  ...    67.00   \n",
       "2021-T1         42.66    78.59       60.44    32.73  55.63  ...    66.84   \n",
       "2021-T2         43.54    80.12       61.66    33.23  56.18  ...    69.14   \n",
       "2021-T3         44.90    81.28       62.18    33.96  55.69  ...    69.71   \n",
       "2021-T4         45.51    84.51       63.16    34.45  56.92  ...    73.30   \n",
       "2022-T1         47.64    85.76       63.70    34.96  58.06  ...    74.17   \n",
       "2022-T2         48.35    87.48       63.90    43.42  57.32  ...    80.02   \n",
       "2022-T3         48.21    88.31       63.67    43.76  58.91  ...    80.37   \n",
       "2022-T4         51.64    89.03       64.01    39.41  58.46  ...    78.67   \n",
       "\n",
       "Provincia  Río Negro  Salta  San Juan  San Luis  Santa Cruz  Santa Fe  \\\n",
       "Periodo                                                                 \n",
       "2014-T1        44.91  28.70     27.60      9.35       28.94     47.85   \n",
       "2014-T2        45.33  28.91     27.78      9.72       29.38     48.39   \n",
       "2014-T3        46.20  29.22     27.85      9.71       28.23     49.20   \n",
       "2014-T4        45.48  29.53     28.04      9.79       27.80     50.00   \n",
       "2015-T1        45.33  30.01     27.55      9.72       27.99     50.24   \n",
       "2015-T2        45.98  30.46     27.64      9.71       27.07     51.18   \n",
       "2015-T3        46.39  31.18     27.67      9.71       27.61     52.15   \n",
       "2015-T4        46.44  31.59     27.66      9.71       27.74     52.61   \n",
       "2016-T1        45.84  31.32     27.33      9.59       26.87     51.28   \n",
       "2016-T2        46.24  32.08     27.34      9.60       26.73     52.44   \n",
       "2016-T3        46.39  32.96     27.32      9.63       26.84     52.67   \n",
       "2016-T4        46.39  32.69     27.29      9.64       27.05     52.19   \n",
       "2017-T1        46.03  32.58     27.04      9.55       26.52     51.97   \n",
       "2017-T2        46.02  32.74     26.96      9.51       26.25     52.27   \n",
       "2017-T3        48.52  39.84     32.37     15.48       33.29     60.91   \n",
       "2017-T4        49.38  39.80     30.30     10.59       28.91     61.71   \n",
       "2018-T1        49.82  39.78     32.61     15.15       33.55     62.28   \n",
       "2018-T2        50.15  39.94     32.95     15.15       33.33     62.57   \n",
       "2018-T3        50.54  39.43     33.05     52.35       32.73     63.41   \n",
       "2018-T4        51.86  39.80     31.90     67.55       23.69     65.59   \n",
       "2019-T1        53.57  40.10     31.83     67.34       23.67     66.97   \n",
       "2019-T2        61.09  41.89     35.60     81.79       28.85     67.42   \n",
       "2019-T3        63.42  44.48     37.06     85.23       35.63     68.87   \n",
       "2019-T4        55.71  50.35     32.85     74.92       36.71     69.48   \n",
       "2020-T1        55.12  49.60     32.39     76.31       35.97     69.52   \n",
       "2020-T2        56.37  51.58     35.09     78.41       35.79     70.00   \n",
       "2020-T3        57.05  52.32     38.79     79.96       35.95     72.12   \n",
       "2020-T4        61.09  54.04     36.32     81.68       37.00     73.58   \n",
       "2021-T1        60.88  53.93     39.06     81.24       41.65     73.92   \n",
       "2021-T2        61.94  54.93     39.28     83.48       44.01     75.07   \n",
       "2021-T3        61.97  55.96     39.46     79.87       43.75     75.02   \n",
       "2021-T4        65.69  56.81     39.59     80.30       43.05     77.09   \n",
       "2022-T1        67.04  56.11     43.55     80.72       43.34     77.30   \n",
       "2022-T2        67.85  57.54     49.46     81.76       43.15     77.90   \n",
       "2022-T3        67.98  57.76     50.80     81.74       43.19     78.55   \n",
       "2022-T4        68.42  57.96     50.88     90.27       43.53     78.40   \n",
       "\n",
       "Provincia  Santiago Del Estero  Tierra Del Fuego  Tucumán  \n",
       "Periodo                                                    \n",
       "2014-T1                  16.31             63.97    33.42  \n",
       "2014-T2                  16.70             64.36    33.94  \n",
       "2014-T3                  16.49             65.69    33.94  \n",
       "2014-T4                  17.27             66.14    35.32  \n",
       "2015-T1                  17.06             74.23    35.08  \n",
       "2015-T2                  17.11             74.51    35.69  \n",
       "2015-T3                  17.12             74.86    36.61  \n",
       "2015-T4                  17.00             66.46    37.06  \n",
       "2016-T1                  16.21             65.83    36.72  \n",
       "2016-T2                  15.89             67.72    37.24  \n",
       "2016-T3                  15.33             68.94    37.90  \n",
       "2016-T4                  15.07             70.31    37.98  \n",
       "2017-T1                  14.70             68.92    37.90  \n",
       "2017-T2                  14.12             68.46    38.19  \n",
       "2017-T3                  35.12             65.74    39.70  \n",
       "2017-T4                  29.13             59.89    39.90  \n",
       "2018-T1                  34.99             65.20    41.18  \n",
       "2018-T2                  35.26             91.61    41.51  \n",
       "2018-T3                  36.25             92.77    41.68  \n",
       "2018-T4                  37.40             93.59    41.76  \n",
       "2019-T1                  37.52             93.38    41.63  \n",
       "2019-T2                  52.79             94.80    40.14  \n",
       "2019-T3                  55.30             96.46    39.49  \n",
       "2019-T4                  42.92             79.70    47.65  \n",
       "2020-T1                  42.47             76.07    47.85  \n",
       "2020-T2                  43.47             76.37    51.78  \n",
       "2020-T3                  43.38             76.81    53.23  \n",
       "2020-T4                  43.75             76.27    54.78  \n",
       "2021-T1                  45.67             77.35    54.82  \n",
       "2021-T2                  46.56             67.89    54.93  \n",
       "2021-T3                  47.00             94.95    54.64  \n",
       "2021-T4                  47.05             98.40    55.93  \n",
       "2022-T1                  47.17             98.29    57.39  \n",
       "2022-T2                  47.70             99.86    59.31  \n",
       "2022-T3                  47.98             99.51    61.14  \n",
       "2022-T4                  48.05            101.44    61.04  \n",
       "\n",
       "[36 rows x 24 columns]"
      ]
     },
     "execution_count": 1295,
     "metadata": {},
     "output_type": "execute_result"
    }
   ],
   "source": [
    "# trasnformamos el dataset para poder graficar y lo guardamos\n",
    "IxProv = pd.pivot(IxProv, index='Periodo', columns='Provincia', values='Acceso_x_100_hogares')\n",
    "IxProv.to_csv('Datasets/Internet_por_cada_100.csv')\n",
    "IxProv"
   ]
  },
  {
   "cell_type": "code",
   "execution_count": 1296,
   "metadata": {},
   "outputs": [
    {
     "data": {
      "application/vnd.plotly.v1+json": {
       "config": {
        "linkText": "Export to plot.ly",
        "plotlyServerURL": "https://plot.ly",
        "showLink": true
       },
       "data": [
        {
         "line": {
          "color": "rgba(226, 74, 51, 1.0)",
          "dash": "solid",
          "shape": "linear",
          "width": 1.3
         },
         "mode": "lines",
         "name": "Buenos Aires",
         "text": "",
         "type": "scatter",
         "x": [
          "2014-T1",
          "2014-T2",
          "2014-T3",
          "2014-T4",
          "2015-T1",
          "2015-T2",
          "2015-T3",
          "2015-T4",
          "2016-T1",
          "2016-T2",
          "2016-T3",
          "2016-T4",
          "2017-T1",
          "2017-T2",
          "2017-T3",
          "2017-T4",
          "2018-T1",
          "2018-T2",
          "2018-T3",
          "2018-T4",
          "2019-T1",
          "2019-T2",
          "2019-T3",
          "2019-T4",
          "2020-T1",
          "2020-T2",
          "2020-T3",
          "2020-T4",
          "2021-T1",
          "2021-T2",
          "2021-T3",
          "2021-T4",
          "2022-T1",
          "2022-T2",
          "2022-T3",
          "2022-T4"
         ],
         "y": [
          54.57,
          55.06,
          56.75,
          56.09,
          56.37,
          56.8,
          57.69,
          58.29,
          57.34,
          59.34,
          60.14,
          61.24,
          58.57,
          56.27,
          55.63,
          57.61,
          62.63,
          62.78,
          64.44,
          64.6,
          66.24,
          67.85,
          69.36,
          64.25,
          64.33,
          65.22,
          67.66,
          68.98,
          69.11,
          70,
          71.68,
          75.66,
          76.08,
          77.58,
          78.11,
          78.94
         ]
        },
        {
         "line": {
          "color": "rgba(62, 111, 176, 1.0)",
          "dash": "solid",
          "shape": "linear",
          "width": 1.3
         },
         "mode": "lines",
         "name": "Capital Federal",
         "text": "",
         "type": "scatter",
         "x": [
          "2014-T1",
          "2014-T2",
          "2014-T3",
          "2014-T4",
          "2015-T1",
          "2015-T2",
          "2015-T3",
          "2015-T4",
          "2016-T1",
          "2016-T2",
          "2016-T3",
          "2016-T4",
          "2017-T1",
          "2017-T2",
          "2017-T3",
          "2017-T4",
          "2018-T1",
          "2018-T2",
          "2018-T3",
          "2018-T4",
          "2019-T1",
          "2019-T2",
          "2019-T3",
          "2019-T4",
          "2020-T1",
          "2020-T2",
          "2020-T3",
          "2020-T4",
          "2021-T1",
          "2021-T2",
          "2021-T3",
          "2021-T4",
          "2022-T1",
          "2022-T2",
          "2022-T3",
          "2022-T4"
         ],
         "y": [
          112.25,
          113.14,
          113.8,
          114.9,
          114.9,
          116.07,
          118.29,
          118.13,
          115.16,
          120.04,
          120.77,
          120.63,
          108.37,
          124.06,
          121.86,
          122.9,
          106.24,
          106.53,
          108.45,
          108.27,
          109.2,
          110.55,
          112.65,
          106.25,
          105.98,
          106.41,
          107.68,
          108.31,
          108.42,
          110.14,
          111.27,
          111.27,
          111.8,
          121.31,
          122.28,
          122.73
         ]
        },
        {
         "line": {
          "color": "rgba(132, 118, 202, 1.0)",
          "dash": "solid",
          "shape": "linear",
          "width": 1.3
         },
         "mode": "lines",
         "name": "Catamarca",
         "text": "",
         "type": "scatter",
         "x": [
          "2014-T1",
          "2014-T2",
          "2014-T3",
          "2014-T4",
          "2015-T1",
          "2015-T2",
          "2015-T3",
          "2015-T4",
          "2016-T1",
          "2016-T2",
          "2016-T3",
          "2016-T4",
          "2017-T1",
          "2017-T2",
          "2017-T3",
          "2017-T4",
          "2018-T1",
          "2018-T2",
          "2018-T3",
          "2018-T4",
          "2019-T1",
          "2019-T2",
          "2019-T3",
          "2019-T4",
          "2020-T1",
          "2020-T2",
          "2020-T3",
          "2020-T4",
          "2021-T1",
          "2021-T2",
          "2021-T3",
          "2021-T4",
          "2022-T1",
          "2022-T2",
          "2022-T3",
          "2022-T4"
         ],
         "y": [
          24.25,
          24.7,
          24.71,
          25.51,
          25.11,
          25.45,
          25.86,
          26.24,
          25.91,
          26.07,
          26.48,
          26.54,
          25.66,
          25.98,
          32.49,
          28.62,
          32.79,
          32.86,
          32.92,
          32.23,
          32.19,
          32.13,
          30.88,
          36.44,
          37.62,
          45.43,
          47.16,
          49.41,
          48.9,
          52.34,
          52.71,
          55.25,
          58.21,
          62.4,
          65.33,
          65.77
         ]
        },
        {
         "line": {
          "color": "rgba(101, 101, 101, 1.0)",
          "dash": "solid",
          "shape": "linear",
          "width": 1.3
         },
         "mode": "lines",
         "name": "Chaco",
         "text": "",
         "type": "scatter",
         "x": [
          "2014-T1",
          "2014-T2",
          "2014-T3",
          "2014-T4",
          "2015-T1",
          "2015-T2",
          "2015-T3",
          "2015-T4",
          "2016-T1",
          "2016-T2",
          "2016-T3",
          "2016-T4",
          "2017-T1",
          "2017-T2",
          "2017-T3",
          "2017-T4",
          "2018-T1",
          "2018-T2",
          "2018-T3",
          "2018-T4",
          "2019-T1",
          "2019-T2",
          "2019-T3",
          "2019-T4",
          "2020-T1",
          "2020-T2",
          "2020-T3",
          "2020-T4",
          "2021-T1",
          "2021-T2",
          "2021-T3",
          "2021-T4",
          "2022-T1",
          "2022-T2",
          "2022-T3",
          "2022-T4"
         ],
         "y": [
          20.72,
          20.96,
          21.11,
          21.87,
          26.65,
          27.46,
          27.96,
          28.35,
          28.08,
          28.59,
          28.91,
          28.79,
          28.62,
          29.05,
          29.98,
          30.81,
          30.83,
          31.25,
          32.28,
          32.59,
          32.64,
          34.14,
          35.85,
          36.84,
          37.48,
          39.83,
          41.54,
          43.03,
          43.14,
          43.33,
          42.96,
          44.05,
          44.06,
          43.79,
          43.86,
          43.62
         ]
        },
        {
         "line": {
          "color": "rgba(251, 193, 94, 1.0)",
          "dash": "solid",
          "shape": "linear",
          "width": 1.3
         },
         "mode": "lines",
         "name": "Chubut",
         "text": "",
         "type": "scatter",
         "x": [
          "2014-T1",
          "2014-T2",
          "2014-T3",
          "2014-T4",
          "2015-T1",
          "2015-T2",
          "2015-T3",
          "2015-T4",
          "2016-T1",
          "2016-T2",
          "2016-T3",
          "2016-T4",
          "2017-T1",
          "2017-T2",
          "2017-T3",
          "2017-T4",
          "2018-T1",
          "2018-T2",
          "2018-T3",
          "2018-T4",
          "2019-T1",
          "2019-T2",
          "2019-T3",
          "2019-T4",
          "2020-T1",
          "2020-T2",
          "2020-T3",
          "2020-T4",
          "2021-T1",
          "2021-T2",
          "2021-T3",
          "2021-T4",
          "2022-T1",
          "2022-T2",
          "2022-T3",
          "2022-T4"
         ],
         "y": [
          41.24,
          41.41,
          40.6,
          40.25,
          37.61,
          36.58,
          36.81,
          36.89,
          36.09,
          36.12,
          36.18,
          36.07,
          35.66,
          35.55,
          46.22,
          51.46,
          53.72,
          54.9,
          56.39,
          42.61,
          43,
          46.99,
          47.57,
          51.15,
          51.27,
          57.34,
          68.34,
          68.35,
          68.99,
          72.29,
          80.71,
          82.57,
          88.05,
          83.19,
          84.38,
          85.57
         ]
        },
        {
         "line": {
          "color": "rgba(142, 186, 66, 1.0)",
          "dash": "solid",
          "shape": "linear",
          "width": 1.3
         },
         "mode": "lines",
         "name": "Corrientes",
         "text": "",
         "type": "scatter",
         "x": [
          "2014-T1",
          "2014-T2",
          "2014-T3",
          "2014-T4",
          "2015-T1",
          "2015-T2",
          "2015-T3",
          "2015-T4",
          "2016-T1",
          "2016-T2",
          "2016-T3",
          "2016-T4",
          "2017-T1",
          "2017-T2",
          "2017-T3",
          "2017-T4",
          "2018-T1",
          "2018-T2",
          "2018-T3",
          "2018-T4",
          "2019-T1",
          "2019-T2",
          "2019-T3",
          "2019-T4",
          "2020-T1",
          "2020-T2",
          "2020-T3",
          "2020-T4",
          "2021-T1",
          "2021-T2",
          "2021-T3",
          "2021-T4",
          "2022-T1",
          "2022-T2",
          "2022-T3",
          "2022-T4"
         ],
         "y": [
          22.32,
          22.58,
          22.79,
          23.56,
          28.95,
          29.58,
          30.17,
          30.34,
          30.08,
          30.58,
          31.07,
          30.98,
          30.94,
          31.39,
          32.17,
          32.52,
          32.66,
          33.81,
          34.25,
          34.57,
          35.13,
          38.16,
          38.49,
          38.77,
          38.73,
          40.3,
          41.75,
          42.43,
          42.66,
          43.54,
          44.9,
          45.51,
          47.64,
          48.35,
          48.21,
          51.64
         ]
        },
        {
         "line": {
          "color": "rgba(255, 181, 184, 1.0)",
          "dash": "solid",
          "shape": "linear",
          "width": 1.3
         },
         "mode": "lines",
         "name": "Córdoba",
         "text": "",
         "type": "scatter",
         "x": [
          "2014-T1",
          "2014-T2",
          "2014-T3",
          "2014-T4",
          "2015-T1",
          "2015-T2",
          "2015-T3",
          "2015-T4",
          "2016-T1",
          "2016-T2",
          "2016-T3",
          "2016-T4",
          "2017-T1",
          "2017-T2",
          "2017-T3",
          "2017-T4",
          "2018-T1",
          "2018-T2",
          "2018-T3",
          "2018-T4",
          "2019-T1",
          "2019-T2",
          "2019-T3",
          "2019-T4",
          "2020-T1",
          "2020-T2",
          "2020-T3",
          "2020-T4",
          "2021-T1",
          "2021-T2",
          "2021-T3",
          "2021-T4",
          "2022-T1",
          "2022-T2",
          "2022-T3",
          "2022-T4"
         ],
         "y": [
          52.52,
          53.45,
          54.23,
          54.7,
          54.7,
          55.87,
          57.08,
          57.36,
          55.28,
          57.55,
          58.24,
          57.7,
          57.65,
          58.97,
          62.31,
          63.33,
          63.52,
          63.27,
          64.24,
          65.09,
          65.52,
          68.07,
          68.59,
          70.48,
          70.69,
          72.71,
          75.22,
          78.08,
          78.59,
          80.12,
          81.28,
          84.51,
          85.76,
          87.48,
          88.31,
          89.03
         ]
        },
        {
         "line": {
          "color": "rgba(255, 181, 184, 0.8999999999999999)",
          "dash": "solid",
          "shape": "linear",
          "width": 1.3
         },
         "mode": "lines",
         "name": "Entre Ríos",
         "text": "",
         "type": "scatter",
         "x": [
          "2014-T1",
          "2014-T2",
          "2014-T3",
          "2014-T4",
          "2015-T1",
          "2015-T2",
          "2015-T3",
          "2015-T4",
          "2016-T1",
          "2016-T2",
          "2016-T3",
          "2016-T4",
          "2017-T1",
          "2017-T2",
          "2017-T3",
          "2017-T4",
          "2018-T1",
          "2018-T2",
          "2018-T3",
          "2018-T4",
          "2019-T1",
          "2019-T2",
          "2019-T3",
          "2019-T4",
          "2020-T1",
          "2020-T2",
          "2020-T3",
          "2020-T4",
          "2021-T1",
          "2021-T2",
          "2021-T3",
          "2021-T4",
          "2022-T1",
          "2022-T2",
          "2022-T3",
          "2022-T4"
         ],
         "y": [
          34.37,
          34.69,
          34.98,
          36.03,
          42.07,
          42.93,
          43.68,
          44.11,
          43.85,
          44.74,
          45.44,
          45.21,
          44.91,
          45.39,
          45.96,
          47.89,
          48.68,
          49.2,
          50.22,
          54.37,
          56.79,
          57.48,
          57.9,
          57.99,
          56.12,
          56.54,
          58.19,
          59.47,
          60.44,
          61.66,
          62.18,
          63.16,
          63.7,
          63.9,
          63.67,
          64.01
         ]
        },
        {
         "line": {
          "color": "rgba(226, 74, 51, 0.8999999999999999)",
          "dash": "solid",
          "shape": "linear",
          "width": 1.3
         },
         "mode": "lines",
         "name": "Formosa",
         "text": "",
         "type": "scatter",
         "x": [
          "2014-T1",
          "2014-T2",
          "2014-T3",
          "2014-T4",
          "2015-T1",
          "2015-T2",
          "2015-T3",
          "2015-T4",
          "2016-T1",
          "2016-T2",
          "2016-T3",
          "2016-T4",
          "2017-T1",
          "2017-T2",
          "2017-T3",
          "2017-T4",
          "2018-T1",
          "2018-T2",
          "2018-T3",
          "2018-T4",
          "2019-T1",
          "2019-T2",
          "2019-T3",
          "2019-T4",
          "2020-T1",
          "2020-T2",
          "2020-T3",
          "2020-T4",
          "2021-T1",
          "2021-T2",
          "2021-T3",
          "2021-T4",
          "2022-T1",
          "2022-T2",
          "2022-T3",
          "2022-T4"
         ],
         "y": [
          17.42,
          17.54,
          17.77,
          17.96,
          18.12,
          18.36,
          18.84,
          19.07,
          19.04,
          19.37,
          18.64,
          19.85,
          19.84,
          19.97,
          21.35,
          21.27,
          21.4,
          29.43,
          29.58,
          29.74,
          29.68,
          30.42,
          30.11,
          30.47,
          30.23,
          31.14,
          31.91,
          32.49,
          32.73,
          33.23,
          33.96,
          34.45,
          34.96,
          43.42,
          43.76,
          39.41
         ]
        },
        {
         "line": {
          "color": "rgba(62, 111, 176, 0.8999999999999999)",
          "dash": "solid",
          "shape": "linear",
          "width": 1.3
         },
         "mode": "lines",
         "name": "Jujuy",
         "text": "",
         "type": "scatter",
         "x": [
          "2014-T1",
          "2014-T2",
          "2014-T3",
          "2014-T4",
          "2015-T1",
          "2015-T2",
          "2015-T3",
          "2015-T4",
          "2016-T1",
          "2016-T2",
          "2016-T3",
          "2016-T4",
          "2017-T1",
          "2017-T2",
          "2017-T3",
          "2017-T4",
          "2018-T1",
          "2018-T2",
          "2018-T3",
          "2018-T4",
          "2019-T1",
          "2019-T2",
          "2019-T3",
          "2019-T4",
          "2020-T1",
          "2020-T2",
          "2020-T3",
          "2020-T4",
          "2021-T1",
          "2021-T2",
          "2021-T3",
          "2021-T4",
          "2022-T1",
          "2022-T2",
          "2022-T3",
          "2022-T4"
         ],
         "y": [
          18.42,
          18.71,
          18.37,
          19.6,
          19.69,
          20.29,
          21.27,
          21.47,
          21.41,
          21.89,
          22.61,
          22.65,
          22.76,
          22.4,
          22.65,
          22.74,
          23.12,
          23.43,
          23.26,
          46.53,
          46.41,
          44.51,
          44.32,
          45.38,
          46.67,
          47.89,
          54.04,
          53.46,
          55.63,
          56.18,
          55.69,
          56.92,
          58.06,
          57.32,
          58.91,
          58.46
         ]
        },
        {
         "line": {
          "color": "rgba(132, 118, 202, 0.8999999999999999)",
          "dash": "solid",
          "shape": "linear",
          "width": 1.3
         },
         "mode": "lines",
         "name": "La Pampa",
         "text": "",
         "type": "scatter",
         "x": [
          "2014-T1",
          "2014-T2",
          "2014-T3",
          "2014-T4",
          "2015-T1",
          "2015-T2",
          "2015-T3",
          "2015-T4",
          "2016-T1",
          "2016-T2",
          "2016-T3",
          "2016-T4",
          "2017-T1",
          "2017-T2",
          "2017-T3",
          "2017-T4",
          "2018-T1",
          "2018-T2",
          "2018-T3",
          "2018-T4",
          "2019-T1",
          "2019-T2",
          "2019-T3",
          "2019-T4",
          "2020-T1",
          "2020-T2",
          "2020-T3",
          "2020-T4",
          "2021-T1",
          "2021-T2",
          "2021-T3",
          "2021-T4",
          "2022-T1",
          "2022-T2",
          "2022-T3",
          "2022-T4"
         ],
         "y": [
          48.43,
          49.71,
          55.78,
          51.27,
          55.51,
          56.71,
          57.96,
          58.76,
          57.84,
          60.44,
          61.73,
          63.02,
          62.67,
          63.49,
          69.14,
          71.05,
          71.75,
          71.04,
          71.75,
          73.49,
          76.35,
          77.08,
          77.45,
          76.92,
          75.77,
          76.1,
          79.26,
          81.77,
          81.78,
          82.08,
          84.28,
          89.57,
          91.66,
          92.98,
          96.59,
          94.8
         ]
        },
        {
         "line": {
          "color": "rgba(101, 101, 101, 0.8999999999999999)",
          "dash": "solid",
          "shape": "linear",
          "width": 1.3
         },
         "mode": "lines",
         "name": "La Rioja",
         "text": "",
         "type": "scatter",
         "x": [
          "2014-T1",
          "2014-T2",
          "2014-T3",
          "2014-T4",
          "2015-T1",
          "2015-T2",
          "2015-T3",
          "2015-T4",
          "2016-T1",
          "2016-T2",
          "2016-T3",
          "2016-T4",
          "2017-T1",
          "2017-T2",
          "2017-T3",
          "2017-T4",
          "2018-T1",
          "2018-T2",
          "2018-T3",
          "2018-T4",
          "2019-T1",
          "2019-T2",
          "2019-T3",
          "2019-T4",
          "2020-T1",
          "2020-T2",
          "2020-T3",
          "2020-T4",
          "2021-T1",
          "2021-T2",
          "2021-T3",
          "2021-T4",
          "2022-T1",
          "2022-T2",
          "2022-T3",
          "2022-T4"
         ],
         "y": [
          16.29,
          16.5,
          16.51,
          17.01,
          16.7,
          16.88,
          17.15,
          17.32,
          16.83,
          16.88,
          17.07,
          16.46,
          16.2,
          16.2,
          51.47,
          51.57,
          51.44,
          50.98,
          50.73,
          50.35,
          50.18,
          48.7,
          47.94,
          47.14,
          46.35,
          49.84,
          50.12,
          50.11,
          49.81,
          76.98,
          77.26,
          77.92,
          78.77,
          80.14,
          80.66,
          79.86
         ]
        },
        {
         "line": {
          "color": "rgba(251, 193, 94, 0.8999999999999999)",
          "dash": "solid",
          "shape": "linear",
          "width": 1.3
         },
         "mode": "lines",
         "name": "Mendoza",
         "text": "",
         "type": "scatter",
         "x": [
          "2014-T1",
          "2014-T2",
          "2014-T3",
          "2014-T4",
          "2015-T1",
          "2015-T2",
          "2015-T3",
          "2015-T4",
          "2016-T1",
          "2016-T2",
          "2016-T3",
          "2016-T4",
          "2017-T1",
          "2017-T2",
          "2017-T3",
          "2017-T4",
          "2018-T1",
          "2018-T2",
          "2018-T3",
          "2018-T4",
          "2019-T1",
          "2019-T2",
          "2019-T3",
          "2019-T4",
          "2020-T1",
          "2020-T2",
          "2020-T3",
          "2020-T4",
          "2021-T1",
          "2021-T2",
          "2021-T3",
          "2021-T4",
          "2022-T1",
          "2022-T2",
          "2022-T3",
          "2022-T4"
         ],
         "y": [
          31.91,
          32.1,
          32.31,
          32.64,
          32.37,
          32.49,
          32.49,
          32.49,
          32.12,
          32.13,
          32.09,
          32.11,
          31.84,
          31.76,
          35.7,
          33.33,
          37.07,
          36.97,
          37.99,
          37.76,
          37.66,
          40.75,
          40.74,
          33.65,
          33.14,
          36.25,
          37.35,
          38.63,
          39.15,
          40.97,
          45.55,
          47.51,
          48.74,
          49.39,
          51.03,
          51.36
         ]
        },
        {
         "line": {
          "color": "rgba(142, 186, 66, 0.8999999999999999)",
          "dash": "solid",
          "shape": "linear",
          "width": 1.3
         },
         "mode": "lines",
         "name": "Misiones",
         "text": "",
         "type": "scatter",
         "x": [
          "2014-T1",
          "2014-T2",
          "2014-T3",
          "2014-T4",
          "2015-T1",
          "2015-T2",
          "2015-T3",
          "2015-T4",
          "2016-T1",
          "2016-T2",
          "2016-T3",
          "2016-T4",
          "2017-T1",
          "2017-T2",
          "2017-T3",
          "2017-T4",
          "2018-T1",
          "2018-T2",
          "2018-T3",
          "2018-T4",
          "2019-T1",
          "2019-T2",
          "2019-T3",
          "2019-T4",
          "2020-T1",
          "2020-T2",
          "2020-T3",
          "2020-T4",
          "2021-T1",
          "2021-T2",
          "2021-T3",
          "2021-T4",
          "2022-T1",
          "2022-T2",
          "2022-T3",
          "2022-T4"
         ],
         "y": [
          23.14,
          23.37,
          23.57,
          24.16,
          26.31,
          27.35,
          28.31,
          28.69,
          28.37,
          29.24,
          29.91,
          29.72,
          29.52,
          30.09,
          30.21,
          31.14,
          30.96,
          31.63,
          32.1,
          34.45,
          36.26,
          39.15,
          39.33,
          39.79,
          39.02,
          40.89,
          41.6,
          42.64,
          43.17,
          45.01,
          45.57,
          49.06,
          49.04,
          51,
          51.82,
          52.85
         ]
        },
        {
         "line": {
          "color": "rgba(142, 186, 66, 0.7999999999999998)",
          "dash": "solid",
          "shape": "linear",
          "width": 1.3
         },
         "mode": "lines",
         "name": "Neuquén",
         "text": "",
         "type": "scatter",
         "x": [
          "2014-T1",
          "2014-T2",
          "2014-T3",
          "2014-T4",
          "2015-T1",
          "2015-T2",
          "2015-T3",
          "2015-T4",
          "2016-T1",
          "2016-T2",
          "2016-T3",
          "2016-T4",
          "2017-T1",
          "2017-T2",
          "2017-T3",
          "2017-T4",
          "2018-T1",
          "2018-T2",
          "2018-T3",
          "2018-T4",
          "2019-T1",
          "2019-T2",
          "2019-T3",
          "2019-T4",
          "2020-T1",
          "2020-T2",
          "2020-T3",
          "2020-T4",
          "2021-T1",
          "2021-T2",
          "2021-T3",
          "2021-T4",
          "2022-T1",
          "2022-T2",
          "2022-T3",
          "2022-T4"
         ],
         "y": [
          49.79,
          50.84,
          56.4,
          52.55,
          51.95,
          53.12,
          54.6,
          58.29,
          55.75,
          59.1,
          60.21,
          60.87,
          61.02,
          61.91,
          60.83,
          61.24,
          61.52,
          60.24,
          60.49,
          59.07,
          58.88,
          63.08,
          64.14,
          59.36,
          61.85,
          63.9,
          65.24,
          67,
          66.84,
          69.14,
          69.71,
          73.3,
          74.17,
          80.02,
          80.37,
          78.67
         ]
        },
        {
         "line": {
          "color": "rgba(255, 181, 184, 0.7999999999999998)",
          "dash": "solid",
          "shape": "linear",
          "width": 1.3
         },
         "mode": "lines",
         "name": "Río Negro",
         "text": "",
         "type": "scatter",
         "x": [
          "2014-T1",
          "2014-T2",
          "2014-T3",
          "2014-T4",
          "2015-T1",
          "2015-T2",
          "2015-T3",
          "2015-T4",
          "2016-T1",
          "2016-T2",
          "2016-T3",
          "2016-T4",
          "2017-T1",
          "2017-T2",
          "2017-T3",
          "2017-T4",
          "2018-T1",
          "2018-T2",
          "2018-T3",
          "2018-T4",
          "2019-T1",
          "2019-T2",
          "2019-T3",
          "2019-T4",
          "2020-T1",
          "2020-T2",
          "2020-T3",
          "2020-T4",
          "2021-T1",
          "2021-T2",
          "2021-T3",
          "2021-T4",
          "2022-T1",
          "2022-T2",
          "2022-T3",
          "2022-T4"
         ],
         "y": [
          44.91,
          45.33,
          46.2,
          45.48,
          45.33,
          45.98,
          46.39,
          46.44,
          45.84,
          46.24,
          46.39,
          46.39,
          46.03,
          46.02,
          48.52,
          49.38,
          49.82,
          50.15,
          50.54,
          51.86,
          53.57,
          61.09,
          63.42,
          55.71,
          55.12,
          56.37,
          57.05,
          61.09,
          60.88,
          61.94,
          61.97,
          65.69,
          67.04,
          67.85,
          67.98,
          68.42
         ]
        },
        {
         "line": {
          "color": "rgba(226, 74, 51, 0.7999999999999998)",
          "dash": "solid",
          "shape": "linear",
          "width": 1.3
         },
         "mode": "lines",
         "name": "Salta",
         "text": "",
         "type": "scatter",
         "x": [
          "2014-T1",
          "2014-T2",
          "2014-T3",
          "2014-T4",
          "2015-T1",
          "2015-T2",
          "2015-T3",
          "2015-T4",
          "2016-T1",
          "2016-T2",
          "2016-T3",
          "2016-T4",
          "2017-T1",
          "2017-T2",
          "2017-T3",
          "2017-T4",
          "2018-T1",
          "2018-T2",
          "2018-T3",
          "2018-T4",
          "2019-T1",
          "2019-T2",
          "2019-T3",
          "2019-T4",
          "2020-T1",
          "2020-T2",
          "2020-T3",
          "2020-T4",
          "2021-T1",
          "2021-T2",
          "2021-T3",
          "2021-T4",
          "2022-T1",
          "2022-T2",
          "2022-T3",
          "2022-T4"
         ],
         "y": [
          28.7,
          28.91,
          29.22,
          29.53,
          30.01,
          30.46,
          31.18,
          31.59,
          31.32,
          32.08,
          32.96,
          32.69,
          32.58,
          32.74,
          39.84,
          39.8,
          39.78,
          39.94,
          39.43,
          39.8,
          40.1,
          41.89,
          44.48,
          50.35,
          49.6,
          51.58,
          52.32,
          54.04,
          53.93,
          54.93,
          55.96,
          56.81,
          56.11,
          57.54,
          57.76,
          57.96
         ]
        },
        {
         "line": {
          "color": "rgba(62, 111, 176, 0.7999999999999998)",
          "dash": "solid",
          "shape": "linear",
          "width": 1.3
         },
         "mode": "lines",
         "name": "San Juan",
         "text": "",
         "type": "scatter",
         "x": [
          "2014-T1",
          "2014-T2",
          "2014-T3",
          "2014-T4",
          "2015-T1",
          "2015-T2",
          "2015-T3",
          "2015-T4",
          "2016-T1",
          "2016-T2",
          "2016-T3",
          "2016-T4",
          "2017-T1",
          "2017-T2",
          "2017-T3",
          "2017-T4",
          "2018-T1",
          "2018-T2",
          "2018-T3",
          "2018-T4",
          "2019-T1",
          "2019-T2",
          "2019-T3",
          "2019-T4",
          "2020-T1",
          "2020-T2",
          "2020-T3",
          "2020-T4",
          "2021-T1",
          "2021-T2",
          "2021-T3",
          "2021-T4",
          "2022-T1",
          "2022-T2",
          "2022-T3",
          "2022-T4"
         ],
         "y": [
          27.6,
          27.78,
          27.85,
          28.04,
          27.55,
          27.64,
          27.67,
          27.66,
          27.33,
          27.34,
          27.32,
          27.29,
          27.04,
          26.96,
          32.37,
          30.3,
          32.61,
          32.95,
          33.05,
          31.9,
          31.83,
          35.6,
          37.06,
          32.85,
          32.39,
          35.09,
          38.79,
          36.32,
          39.06,
          39.28,
          39.46,
          39.59,
          43.55,
          49.46,
          50.8,
          50.88
         ]
        },
        {
         "line": {
          "color": "rgba(132, 118, 202, 0.7999999999999998)",
          "dash": "solid",
          "shape": "linear",
          "width": 1.3
         },
         "mode": "lines",
         "name": "San Luis",
         "text": "",
         "type": "scatter",
         "x": [
          "2014-T1",
          "2014-T2",
          "2014-T3",
          "2014-T4",
          "2015-T1",
          "2015-T2",
          "2015-T3",
          "2015-T4",
          "2016-T1",
          "2016-T2",
          "2016-T3",
          "2016-T4",
          "2017-T1",
          "2017-T2",
          "2017-T3",
          "2017-T4",
          "2018-T1",
          "2018-T2",
          "2018-T3",
          "2018-T4",
          "2019-T1",
          "2019-T2",
          "2019-T3",
          "2019-T4",
          "2020-T1",
          "2020-T2",
          "2020-T3",
          "2020-T4",
          "2021-T1",
          "2021-T2",
          "2021-T3",
          "2021-T4",
          "2022-T1",
          "2022-T2",
          "2022-T3",
          "2022-T4"
         ],
         "y": [
          9.35,
          9.72,
          9.71,
          9.79,
          9.72,
          9.71,
          9.71,
          9.71,
          9.59,
          9.6,
          9.63,
          9.64,
          9.55,
          9.51,
          15.48,
          10.59,
          15.15,
          15.15,
          52.35,
          67.55,
          67.34,
          81.79,
          85.23,
          74.92,
          76.31,
          78.41,
          79.96,
          81.68,
          81.24,
          83.48,
          79.87,
          80.3,
          80.72,
          81.76,
          81.74,
          90.27
         ]
        },
        {
         "line": {
          "color": "rgba(101, 101, 101, 0.7999999999999998)",
          "dash": "solid",
          "shape": "linear",
          "width": 1.3
         },
         "mode": "lines",
         "name": "Santa Cruz",
         "text": "",
         "type": "scatter",
         "x": [
          "2014-T1",
          "2014-T2",
          "2014-T3",
          "2014-T4",
          "2015-T1",
          "2015-T2",
          "2015-T3",
          "2015-T4",
          "2016-T1",
          "2016-T2",
          "2016-T3",
          "2016-T4",
          "2017-T1",
          "2017-T2",
          "2017-T3",
          "2017-T4",
          "2018-T1",
          "2018-T2",
          "2018-T3",
          "2018-T4",
          "2019-T1",
          "2019-T2",
          "2019-T3",
          "2019-T4",
          "2020-T1",
          "2020-T2",
          "2020-T3",
          "2020-T4",
          "2021-T1",
          "2021-T2",
          "2021-T3",
          "2021-T4",
          "2022-T1",
          "2022-T2",
          "2022-T3",
          "2022-T4"
         ],
         "y": [
          28.94,
          29.38,
          28.23,
          27.8,
          27.99,
          27.07,
          27.61,
          27.74,
          26.87,
          26.73,
          26.84,
          27.05,
          26.52,
          26.25,
          33.29,
          28.91,
          33.55,
          33.33,
          32.73,
          23.69,
          23.67,
          28.85,
          35.63,
          36.71,
          35.97,
          35.79,
          35.95,
          37,
          41.65,
          44.01,
          43.75,
          43.05,
          43.34,
          43.15,
          43.19,
          43.53
         ]
        },
        {
         "line": {
          "color": "rgba(251, 193, 94, 0.7999999999999998)",
          "dash": "solid",
          "shape": "linear",
          "width": 1.3
         },
         "mode": "lines",
         "name": "Santa Fe",
         "text": "",
         "type": "scatter",
         "x": [
          "2014-T1",
          "2014-T2",
          "2014-T3",
          "2014-T4",
          "2015-T1",
          "2015-T2",
          "2015-T3",
          "2015-T4",
          "2016-T1",
          "2016-T2",
          "2016-T3",
          "2016-T4",
          "2017-T1",
          "2017-T2",
          "2017-T3",
          "2017-T4",
          "2018-T1",
          "2018-T2",
          "2018-T3",
          "2018-T4",
          "2019-T1",
          "2019-T2",
          "2019-T3",
          "2019-T4",
          "2020-T1",
          "2020-T2",
          "2020-T3",
          "2020-T4",
          "2021-T1",
          "2021-T2",
          "2021-T3",
          "2021-T4",
          "2022-T1",
          "2022-T2",
          "2022-T3",
          "2022-T4"
         ],
         "y": [
          47.85,
          48.39,
          49.2,
          50,
          50.24,
          51.18,
          52.15,
          52.61,
          51.28,
          52.44,
          52.67,
          52.19,
          51.97,
          52.27,
          60.91,
          61.71,
          62.28,
          62.57,
          63.41,
          65.59,
          66.97,
          67.42,
          68.87,
          69.48,
          69.52,
          70,
          72.12,
          73.58,
          73.92,
          75.07,
          75.02,
          77.09,
          77.3,
          77.9,
          78.55,
          78.4
         ]
        },
        {
         "line": {
          "color": "rgba(251, 193, 94, 0.7)",
          "dash": "solid",
          "shape": "linear",
          "width": 1.3
         },
         "mode": "lines",
         "name": "Santiago Del Estero",
         "text": "",
         "type": "scatter",
         "x": [
          "2014-T1",
          "2014-T2",
          "2014-T3",
          "2014-T4",
          "2015-T1",
          "2015-T2",
          "2015-T3",
          "2015-T4",
          "2016-T1",
          "2016-T2",
          "2016-T3",
          "2016-T4",
          "2017-T1",
          "2017-T2",
          "2017-T3",
          "2017-T4",
          "2018-T1",
          "2018-T2",
          "2018-T3",
          "2018-T4",
          "2019-T1",
          "2019-T2",
          "2019-T3",
          "2019-T4",
          "2020-T1",
          "2020-T2",
          "2020-T3",
          "2020-T4",
          "2021-T1",
          "2021-T2",
          "2021-T3",
          "2021-T4",
          "2022-T1",
          "2022-T2",
          "2022-T3",
          "2022-T4"
         ],
         "y": [
          16.31,
          16.7,
          16.49,
          17.27,
          17.06,
          17.11,
          17.12,
          17,
          16.21,
          15.89,
          15.33,
          15.07,
          14.7,
          14.12,
          35.12,
          29.13,
          34.99,
          35.26,
          36.25,
          37.4,
          37.52,
          52.79,
          55.3,
          42.92,
          42.47,
          43.47,
          43.38,
          43.75,
          45.67,
          46.56,
          47,
          47.05,
          47.17,
          47.7,
          47.98,
          48.05
         ]
        },
        {
         "line": {
          "color": "rgba(142, 186, 66, 0.7)",
          "dash": "solid",
          "shape": "linear",
          "width": 1.3
         },
         "mode": "lines",
         "name": "Tierra Del Fuego",
         "text": "",
         "type": "scatter",
         "x": [
          "2014-T1",
          "2014-T2",
          "2014-T3",
          "2014-T4",
          "2015-T1",
          "2015-T2",
          "2015-T3",
          "2015-T4",
          "2016-T1",
          "2016-T2",
          "2016-T3",
          "2016-T4",
          "2017-T1",
          "2017-T2",
          "2017-T3",
          "2017-T4",
          "2018-T1",
          "2018-T2",
          "2018-T3",
          "2018-T4",
          "2019-T1",
          "2019-T2",
          "2019-T3",
          "2019-T4",
          "2020-T1",
          "2020-T2",
          "2020-T3",
          "2020-T4",
          "2021-T1",
          "2021-T2",
          "2021-T3",
          "2021-T4",
          "2022-T1",
          "2022-T2",
          "2022-T3",
          "2022-T4"
         ],
         "y": [
          63.97,
          64.36,
          65.69,
          66.14,
          74.23,
          74.51,
          74.86,
          66.46,
          65.83,
          67.72,
          68.94,
          70.31,
          68.92,
          68.46,
          65.74,
          59.89,
          65.2,
          91.61,
          92.77,
          93.59,
          93.38,
          94.8,
          96.46,
          79.7,
          76.07,
          76.37,
          76.81,
          76.27,
          77.35,
          67.89,
          94.95,
          98.4,
          98.29,
          99.86,
          99.51,
          101.44
         ]
        },
        {
         "line": {
          "color": "rgba(255, 181, 184, 0.7)",
          "dash": "solid",
          "shape": "linear",
          "width": 1.3
         },
         "mode": "lines",
         "name": "Tucumán",
         "text": "",
         "type": "scatter",
         "x": [
          "2014-T1",
          "2014-T2",
          "2014-T3",
          "2014-T4",
          "2015-T1",
          "2015-T2",
          "2015-T3",
          "2015-T4",
          "2016-T1",
          "2016-T2",
          "2016-T3",
          "2016-T4",
          "2017-T1",
          "2017-T2",
          "2017-T3",
          "2017-T4",
          "2018-T1",
          "2018-T2",
          "2018-T3",
          "2018-T4",
          "2019-T1",
          "2019-T2",
          "2019-T3",
          "2019-T4",
          "2020-T1",
          "2020-T2",
          "2020-T3",
          "2020-T4",
          "2021-T1",
          "2021-T2",
          "2021-T3",
          "2021-T4",
          "2022-T1",
          "2022-T2",
          "2022-T3",
          "2022-T4"
         ],
         "y": [
          33.42,
          33.94,
          33.94,
          35.32,
          35.08,
          35.69,
          36.61,
          37.06,
          36.72,
          37.24,
          37.9,
          37.98,
          37.9,
          38.19,
          39.7,
          39.9,
          41.18,
          41.51,
          41.68,
          41.76,
          41.63,
          40.14,
          39.49,
          47.65,
          47.85,
          51.78,
          53.23,
          54.78,
          54.82,
          54.93,
          54.64,
          55.93,
          57.39,
          59.31,
          61.14,
          61.04
         ]
        }
       ],
       "layout": {
        "legend": {
         "bgcolor": "#FFFFFF",
         "font": {
          "color": "#666666"
         }
        },
        "paper_bgcolor": "#FFFFFF",
        "plot_bgcolor": "#E5E5E5",
        "template": {
         "data": {
          "bar": [
           {
            "error_x": {
             "color": "#2a3f5f"
            },
            "error_y": {
             "color": "#2a3f5f"
            },
            "marker": {
             "line": {
              "color": "#E5ECF6",
              "width": 0.5
             },
             "pattern": {
              "fillmode": "overlay",
              "size": 10,
              "solidity": 0.2
             }
            },
            "type": "bar"
           }
          ],
          "barpolar": [
           {
            "marker": {
             "line": {
              "color": "#E5ECF6",
              "width": 0.5
             },
             "pattern": {
              "fillmode": "overlay",
              "size": 10,
              "solidity": 0.2
             }
            },
            "type": "barpolar"
           }
          ],
          "carpet": [
           {
            "aaxis": {
             "endlinecolor": "#2a3f5f",
             "gridcolor": "white",
             "linecolor": "white",
             "minorgridcolor": "white",
             "startlinecolor": "#2a3f5f"
            },
            "baxis": {
             "endlinecolor": "#2a3f5f",
             "gridcolor": "white",
             "linecolor": "white",
             "minorgridcolor": "white",
             "startlinecolor": "#2a3f5f"
            },
            "type": "carpet"
           }
          ],
          "choropleth": [
           {
            "colorbar": {
             "outlinewidth": 0,
             "ticks": ""
            },
            "type": "choropleth"
           }
          ],
          "contour": [
           {
            "colorbar": {
             "outlinewidth": 0,
             "ticks": ""
            },
            "colorscale": [
             [
              0,
              "#0d0887"
             ],
             [
              0.1111111111111111,
              "#46039f"
             ],
             [
              0.2222222222222222,
              "#7201a8"
             ],
             [
              0.3333333333333333,
              "#9c179e"
             ],
             [
              0.4444444444444444,
              "#bd3786"
             ],
             [
              0.5555555555555556,
              "#d8576b"
             ],
             [
              0.6666666666666666,
              "#ed7953"
             ],
             [
              0.7777777777777778,
              "#fb9f3a"
             ],
             [
              0.8888888888888888,
              "#fdca26"
             ],
             [
              1,
              "#f0f921"
             ]
            ],
            "type": "contour"
           }
          ],
          "contourcarpet": [
           {
            "colorbar": {
             "outlinewidth": 0,
             "ticks": ""
            },
            "type": "contourcarpet"
           }
          ],
          "heatmap": [
           {
            "colorbar": {
             "outlinewidth": 0,
             "ticks": ""
            },
            "colorscale": [
             [
              0,
              "#0d0887"
             ],
             [
              0.1111111111111111,
              "#46039f"
             ],
             [
              0.2222222222222222,
              "#7201a8"
             ],
             [
              0.3333333333333333,
              "#9c179e"
             ],
             [
              0.4444444444444444,
              "#bd3786"
             ],
             [
              0.5555555555555556,
              "#d8576b"
             ],
             [
              0.6666666666666666,
              "#ed7953"
             ],
             [
              0.7777777777777778,
              "#fb9f3a"
             ],
             [
              0.8888888888888888,
              "#fdca26"
             ],
             [
              1,
              "#f0f921"
             ]
            ],
            "type": "heatmap"
           }
          ],
          "heatmapgl": [
           {
            "colorbar": {
             "outlinewidth": 0,
             "ticks": ""
            },
            "colorscale": [
             [
              0,
              "#0d0887"
             ],
             [
              0.1111111111111111,
              "#46039f"
             ],
             [
              0.2222222222222222,
              "#7201a8"
             ],
             [
              0.3333333333333333,
              "#9c179e"
             ],
             [
              0.4444444444444444,
              "#bd3786"
             ],
             [
              0.5555555555555556,
              "#d8576b"
             ],
             [
              0.6666666666666666,
              "#ed7953"
             ],
             [
              0.7777777777777778,
              "#fb9f3a"
             ],
             [
              0.8888888888888888,
              "#fdca26"
             ],
             [
              1,
              "#f0f921"
             ]
            ],
            "type": "heatmapgl"
           }
          ],
          "histogram": [
           {
            "marker": {
             "pattern": {
              "fillmode": "overlay",
              "size": 10,
              "solidity": 0.2
             }
            },
            "type": "histogram"
           }
          ],
          "histogram2d": [
           {
            "colorbar": {
             "outlinewidth": 0,
             "ticks": ""
            },
            "colorscale": [
             [
              0,
              "#0d0887"
             ],
             [
              0.1111111111111111,
              "#46039f"
             ],
             [
              0.2222222222222222,
              "#7201a8"
             ],
             [
              0.3333333333333333,
              "#9c179e"
             ],
             [
              0.4444444444444444,
              "#bd3786"
             ],
             [
              0.5555555555555556,
              "#d8576b"
             ],
             [
              0.6666666666666666,
              "#ed7953"
             ],
             [
              0.7777777777777778,
              "#fb9f3a"
             ],
             [
              0.8888888888888888,
              "#fdca26"
             ],
             [
              1,
              "#f0f921"
             ]
            ],
            "type": "histogram2d"
           }
          ],
          "histogram2dcontour": [
           {
            "colorbar": {
             "outlinewidth": 0,
             "ticks": ""
            },
            "colorscale": [
             [
              0,
              "#0d0887"
             ],
             [
              0.1111111111111111,
              "#46039f"
             ],
             [
              0.2222222222222222,
              "#7201a8"
             ],
             [
              0.3333333333333333,
              "#9c179e"
             ],
             [
              0.4444444444444444,
              "#bd3786"
             ],
             [
              0.5555555555555556,
              "#d8576b"
             ],
             [
              0.6666666666666666,
              "#ed7953"
             ],
             [
              0.7777777777777778,
              "#fb9f3a"
             ],
             [
              0.8888888888888888,
              "#fdca26"
             ],
             [
              1,
              "#f0f921"
             ]
            ],
            "type": "histogram2dcontour"
           }
          ],
          "mesh3d": [
           {
            "colorbar": {
             "outlinewidth": 0,
             "ticks": ""
            },
            "type": "mesh3d"
           }
          ],
          "parcoords": [
           {
            "line": {
             "colorbar": {
              "outlinewidth": 0,
              "ticks": ""
             }
            },
            "type": "parcoords"
           }
          ],
          "pie": [
           {
            "automargin": true,
            "type": "pie"
           }
          ],
          "scatter": [
           {
            "fillpattern": {
             "fillmode": "overlay",
             "size": 10,
             "solidity": 0.2
            },
            "type": "scatter"
           }
          ],
          "scatter3d": [
           {
            "line": {
             "colorbar": {
              "outlinewidth": 0,
              "ticks": ""
             }
            },
            "marker": {
             "colorbar": {
              "outlinewidth": 0,
              "ticks": ""
             }
            },
            "type": "scatter3d"
           }
          ],
          "scattercarpet": [
           {
            "marker": {
             "colorbar": {
              "outlinewidth": 0,
              "ticks": ""
             }
            },
            "type": "scattercarpet"
           }
          ],
          "scattergeo": [
           {
            "marker": {
             "colorbar": {
              "outlinewidth": 0,
              "ticks": ""
             }
            },
            "type": "scattergeo"
           }
          ],
          "scattergl": [
           {
            "marker": {
             "colorbar": {
              "outlinewidth": 0,
              "ticks": ""
             }
            },
            "type": "scattergl"
           }
          ],
          "scattermapbox": [
           {
            "marker": {
             "colorbar": {
              "outlinewidth": 0,
              "ticks": ""
             }
            },
            "type": "scattermapbox"
           }
          ],
          "scatterpolar": [
           {
            "marker": {
             "colorbar": {
              "outlinewidth": 0,
              "ticks": ""
             }
            },
            "type": "scatterpolar"
           }
          ],
          "scatterpolargl": [
           {
            "marker": {
             "colorbar": {
              "outlinewidth": 0,
              "ticks": ""
             }
            },
            "type": "scatterpolargl"
           }
          ],
          "scatterternary": [
           {
            "marker": {
             "colorbar": {
              "outlinewidth": 0,
              "ticks": ""
             }
            },
            "type": "scatterternary"
           }
          ],
          "surface": [
           {
            "colorbar": {
             "outlinewidth": 0,
             "ticks": ""
            },
            "colorscale": [
             [
              0,
              "#0d0887"
             ],
             [
              0.1111111111111111,
              "#46039f"
             ],
             [
              0.2222222222222222,
              "#7201a8"
             ],
             [
              0.3333333333333333,
              "#9c179e"
             ],
             [
              0.4444444444444444,
              "#bd3786"
             ],
             [
              0.5555555555555556,
              "#d8576b"
             ],
             [
              0.6666666666666666,
              "#ed7953"
             ],
             [
              0.7777777777777778,
              "#fb9f3a"
             ],
             [
              0.8888888888888888,
              "#fdca26"
             ],
             [
              1,
              "#f0f921"
             ]
            ],
            "type": "surface"
           }
          ],
          "table": [
           {
            "cells": {
             "fill": {
              "color": "#EBF0F8"
             },
             "line": {
              "color": "white"
             }
            },
            "header": {
             "fill": {
              "color": "#C8D4E3"
             },
             "line": {
              "color": "white"
             }
            },
            "type": "table"
           }
          ]
         },
         "layout": {
          "annotationdefaults": {
           "arrowcolor": "#2a3f5f",
           "arrowhead": 0,
           "arrowwidth": 1
          },
          "autotypenumbers": "strict",
          "coloraxis": {
           "colorbar": {
            "outlinewidth": 0,
            "ticks": ""
           }
          },
          "colorscale": {
           "diverging": [
            [
             0,
             "#8e0152"
            ],
            [
             0.1,
             "#c51b7d"
            ],
            [
             0.2,
             "#de77ae"
            ],
            [
             0.3,
             "#f1b6da"
            ],
            [
             0.4,
             "#fde0ef"
            ],
            [
             0.5,
             "#f7f7f7"
            ],
            [
             0.6,
             "#e6f5d0"
            ],
            [
             0.7,
             "#b8e186"
            ],
            [
             0.8,
             "#7fbc41"
            ],
            [
             0.9,
             "#4d9221"
            ],
            [
             1,
             "#276419"
            ]
           ],
           "sequential": [
            [
             0,
             "#0d0887"
            ],
            [
             0.1111111111111111,
             "#46039f"
            ],
            [
             0.2222222222222222,
             "#7201a8"
            ],
            [
             0.3333333333333333,
             "#9c179e"
            ],
            [
             0.4444444444444444,
             "#bd3786"
            ],
            [
             0.5555555555555556,
             "#d8576b"
            ],
            [
             0.6666666666666666,
             "#ed7953"
            ],
            [
             0.7777777777777778,
             "#fb9f3a"
            ],
            [
             0.8888888888888888,
             "#fdca26"
            ],
            [
             1,
             "#f0f921"
            ]
           ],
           "sequentialminus": [
            [
             0,
             "#0d0887"
            ],
            [
             0.1111111111111111,
             "#46039f"
            ],
            [
             0.2222222222222222,
             "#7201a8"
            ],
            [
             0.3333333333333333,
             "#9c179e"
            ],
            [
             0.4444444444444444,
             "#bd3786"
            ],
            [
             0.5555555555555556,
             "#d8576b"
            ],
            [
             0.6666666666666666,
             "#ed7953"
            ],
            [
             0.7777777777777778,
             "#fb9f3a"
            ],
            [
             0.8888888888888888,
             "#fdca26"
            ],
            [
             1,
             "#f0f921"
            ]
           ]
          },
          "colorway": [
           "#636efa",
           "#EF553B",
           "#00cc96",
           "#ab63fa",
           "#FFA15A",
           "#19d3f3",
           "#FF6692",
           "#B6E880",
           "#FF97FF",
           "#FECB52"
          ],
          "font": {
           "color": "#2a3f5f"
          },
          "geo": {
           "bgcolor": "white",
           "lakecolor": "white",
           "landcolor": "#E5ECF6",
           "showlakes": true,
           "showland": true,
           "subunitcolor": "white"
          },
          "hoverlabel": {
           "align": "left"
          },
          "hovermode": "closest",
          "mapbox": {
           "style": "light"
          },
          "paper_bgcolor": "white",
          "plot_bgcolor": "#E5ECF6",
          "polar": {
           "angularaxis": {
            "gridcolor": "white",
            "linecolor": "white",
            "ticks": ""
           },
           "bgcolor": "#E5ECF6",
           "radialaxis": {
            "gridcolor": "white",
            "linecolor": "white",
            "ticks": ""
           }
          },
          "scene": {
           "xaxis": {
            "backgroundcolor": "#E5ECF6",
            "gridcolor": "white",
            "gridwidth": 2,
            "linecolor": "white",
            "showbackground": true,
            "ticks": "",
            "zerolinecolor": "white"
           },
           "yaxis": {
            "backgroundcolor": "#E5ECF6",
            "gridcolor": "white",
            "gridwidth": 2,
            "linecolor": "white",
            "showbackground": true,
            "ticks": "",
            "zerolinecolor": "white"
           },
           "zaxis": {
            "backgroundcolor": "#E5ECF6",
            "gridcolor": "white",
            "gridwidth": 2,
            "linecolor": "white",
            "showbackground": true,
            "ticks": "",
            "zerolinecolor": "white"
           }
          },
          "shapedefaults": {
           "line": {
            "color": "#2a3f5f"
           }
          },
          "ternary": {
           "aaxis": {
            "gridcolor": "white",
            "linecolor": "white",
            "ticks": ""
           },
           "baxis": {
            "gridcolor": "white",
            "linecolor": "white",
            "ticks": ""
           },
           "bgcolor": "#E5ECF6",
           "caxis": {
            "gridcolor": "white",
            "linecolor": "white",
            "ticks": ""
           }
          },
          "title": {
           "x": 0.05
          },
          "xaxis": {
           "automargin": true,
           "gridcolor": "white",
           "linecolor": "white",
           "ticks": "",
           "title": {
            "standoff": 15
           },
           "zerolinecolor": "white",
           "zerolinewidth": 2
          },
          "yaxis": {
           "automargin": true,
           "gridcolor": "white",
           "linecolor": "white",
           "ticks": "",
           "title": {
            "standoff": 15
           },
           "zerolinecolor": "white",
           "zerolinewidth": 2
          }
         }
        },
        "title": {
         "font": {
          "color": "#151516"
         }
        },
        "xaxis": {
         "gridcolor": "#F6F6F6",
         "showgrid": true,
         "tickfont": {
          "color": "#666666"
         },
         "title": {
          "font": {
           "color": "#666666"
          },
          "text": ""
         },
         "zerolinecolor": "#F6F6F6"
        },
        "yaxis": {
         "gridcolor": "#F6F6F6",
         "showgrid": true,
         "tickfont": {
          "color": "#666666"
         },
         "title": {
          "font": {
           "color": "#666666"
          },
          "text": ""
         },
         "zerolinecolor": "#F6F6F6"
        }
       }
      },
      "text/html": [
       "<div>                            <div id=\"0c0257df-b6bf-4453-9542-bafe5654a531\" class=\"plotly-graph-div\" style=\"height:525px; width:100%;\"></div>            <script type=\"text/javascript\">                require([\"plotly\"], function(Plotly) {                    window.PLOTLYENV=window.PLOTLYENV || {};\n",
       "                    window.PLOTLYENV.BASE_URL='https://plot.ly';                                    if (document.getElementById(\"0c0257df-b6bf-4453-9542-bafe5654a531\")) {                    Plotly.newPlot(                        \"0c0257df-b6bf-4453-9542-bafe5654a531\",                        [{\"line\":{\"color\":\"rgba(226, 74, 51, 1.0)\",\"dash\":\"solid\",\"shape\":\"linear\",\"width\":1.3},\"mode\":\"lines\",\"name\":\"Buenos Aires\",\"text\":\"\",\"x\":[\"2014-T1\",\"2014-T2\",\"2014-T3\",\"2014-T4\",\"2015-T1\",\"2015-T2\",\"2015-T3\",\"2015-T4\",\"2016-T1\",\"2016-T2\",\"2016-T3\",\"2016-T4\",\"2017-T1\",\"2017-T2\",\"2017-T3\",\"2017-T4\",\"2018-T1\",\"2018-T2\",\"2018-T3\",\"2018-T4\",\"2019-T1\",\"2019-T2\",\"2019-T3\",\"2019-T4\",\"2020-T1\",\"2020-T2\",\"2020-T3\",\"2020-T4\",\"2021-T1\",\"2021-T2\",\"2021-T3\",\"2021-T4\",\"2022-T1\",\"2022-T2\",\"2022-T3\",\"2022-T4\"],\"y\":[54.57,55.06,56.75,56.09,56.37,56.8,57.69,58.29,57.34,59.34,60.14,61.24,58.57,56.27,55.63,57.61,62.63,62.78,64.44,64.6,66.24,67.85,69.36,64.25,64.33,65.22,67.66,68.98,69.11,70.0,71.68,75.66,76.08,77.58,78.11,78.94],\"type\":\"scatter\"},{\"line\":{\"color\":\"rgba(62, 111, 176, 1.0)\",\"dash\":\"solid\",\"shape\":\"linear\",\"width\":1.3},\"mode\":\"lines\",\"name\":\"Capital Federal\",\"text\":\"\",\"x\":[\"2014-T1\",\"2014-T2\",\"2014-T3\",\"2014-T4\",\"2015-T1\",\"2015-T2\",\"2015-T3\",\"2015-T4\",\"2016-T1\",\"2016-T2\",\"2016-T3\",\"2016-T4\",\"2017-T1\",\"2017-T2\",\"2017-T3\",\"2017-T4\",\"2018-T1\",\"2018-T2\",\"2018-T3\",\"2018-T4\",\"2019-T1\",\"2019-T2\",\"2019-T3\",\"2019-T4\",\"2020-T1\",\"2020-T2\",\"2020-T3\",\"2020-T4\",\"2021-T1\",\"2021-T2\",\"2021-T3\",\"2021-T4\",\"2022-T1\",\"2022-T2\",\"2022-T3\",\"2022-T4\"],\"y\":[112.25,113.14,113.8,114.9,114.9,116.07,118.29,118.13,115.16,120.04,120.77,120.63,108.37,124.06,121.86,122.9,106.24,106.53,108.45,108.27,109.2,110.55,112.65,106.25,105.98,106.41,107.68,108.31,108.42,110.14,111.27,111.27,111.8,121.31,122.28,122.73],\"type\":\"scatter\"},{\"line\":{\"color\":\"rgba(132, 118, 202, 1.0)\",\"dash\":\"solid\",\"shape\":\"linear\",\"width\":1.3},\"mode\":\"lines\",\"name\":\"Catamarca\",\"text\":\"\",\"x\":[\"2014-T1\",\"2014-T2\",\"2014-T3\",\"2014-T4\",\"2015-T1\",\"2015-T2\",\"2015-T3\",\"2015-T4\",\"2016-T1\",\"2016-T2\",\"2016-T3\",\"2016-T4\",\"2017-T1\",\"2017-T2\",\"2017-T3\",\"2017-T4\",\"2018-T1\",\"2018-T2\",\"2018-T3\",\"2018-T4\",\"2019-T1\",\"2019-T2\",\"2019-T3\",\"2019-T4\",\"2020-T1\",\"2020-T2\",\"2020-T3\",\"2020-T4\",\"2021-T1\",\"2021-T2\",\"2021-T3\",\"2021-T4\",\"2022-T1\",\"2022-T2\",\"2022-T3\",\"2022-T4\"],\"y\":[24.25,24.7,24.71,25.51,25.11,25.45,25.86,26.24,25.91,26.07,26.48,26.54,25.66,25.98,32.49,28.62,32.79,32.86,32.92,32.23,32.19,32.13,30.88,36.44,37.62,45.43,47.16,49.41,48.9,52.34,52.71,55.25,58.21,62.4,65.33,65.77],\"type\":\"scatter\"},{\"line\":{\"color\":\"rgba(101, 101, 101, 1.0)\",\"dash\":\"solid\",\"shape\":\"linear\",\"width\":1.3},\"mode\":\"lines\",\"name\":\"Chaco\",\"text\":\"\",\"x\":[\"2014-T1\",\"2014-T2\",\"2014-T3\",\"2014-T4\",\"2015-T1\",\"2015-T2\",\"2015-T3\",\"2015-T4\",\"2016-T1\",\"2016-T2\",\"2016-T3\",\"2016-T4\",\"2017-T1\",\"2017-T2\",\"2017-T3\",\"2017-T4\",\"2018-T1\",\"2018-T2\",\"2018-T3\",\"2018-T4\",\"2019-T1\",\"2019-T2\",\"2019-T3\",\"2019-T4\",\"2020-T1\",\"2020-T2\",\"2020-T3\",\"2020-T4\",\"2021-T1\",\"2021-T2\",\"2021-T3\",\"2021-T4\",\"2022-T1\",\"2022-T2\",\"2022-T3\",\"2022-T4\"],\"y\":[20.72,20.96,21.11,21.87,26.65,27.46,27.96,28.35,28.08,28.59,28.91,28.79,28.62,29.05,29.98,30.81,30.83,31.25,32.28,32.59,32.64,34.14,35.85,36.84,37.48,39.83,41.54,43.03,43.14,43.33,42.96,44.05,44.06,43.79,43.86,43.62],\"type\":\"scatter\"},{\"line\":{\"color\":\"rgba(251, 193, 94, 1.0)\",\"dash\":\"solid\",\"shape\":\"linear\",\"width\":1.3},\"mode\":\"lines\",\"name\":\"Chubut\",\"text\":\"\",\"x\":[\"2014-T1\",\"2014-T2\",\"2014-T3\",\"2014-T4\",\"2015-T1\",\"2015-T2\",\"2015-T3\",\"2015-T4\",\"2016-T1\",\"2016-T2\",\"2016-T3\",\"2016-T4\",\"2017-T1\",\"2017-T2\",\"2017-T3\",\"2017-T4\",\"2018-T1\",\"2018-T2\",\"2018-T3\",\"2018-T4\",\"2019-T1\",\"2019-T2\",\"2019-T3\",\"2019-T4\",\"2020-T1\",\"2020-T2\",\"2020-T3\",\"2020-T4\",\"2021-T1\",\"2021-T2\",\"2021-T3\",\"2021-T4\",\"2022-T1\",\"2022-T2\",\"2022-T3\",\"2022-T4\"],\"y\":[41.24,41.41,40.6,40.25,37.61,36.58,36.81,36.89,36.09,36.12,36.18,36.07,35.66,35.55,46.22,51.46,53.72,54.9,56.39,42.61,43.0,46.99,47.57,51.15,51.27,57.34,68.34,68.35,68.99,72.29,80.71,82.57,88.05,83.19,84.38,85.57],\"type\":\"scatter\"},{\"line\":{\"color\":\"rgba(142, 186, 66, 1.0)\",\"dash\":\"solid\",\"shape\":\"linear\",\"width\":1.3},\"mode\":\"lines\",\"name\":\"Corrientes\",\"text\":\"\",\"x\":[\"2014-T1\",\"2014-T2\",\"2014-T3\",\"2014-T4\",\"2015-T1\",\"2015-T2\",\"2015-T3\",\"2015-T4\",\"2016-T1\",\"2016-T2\",\"2016-T3\",\"2016-T4\",\"2017-T1\",\"2017-T2\",\"2017-T3\",\"2017-T4\",\"2018-T1\",\"2018-T2\",\"2018-T3\",\"2018-T4\",\"2019-T1\",\"2019-T2\",\"2019-T3\",\"2019-T4\",\"2020-T1\",\"2020-T2\",\"2020-T3\",\"2020-T4\",\"2021-T1\",\"2021-T2\",\"2021-T3\",\"2021-T4\",\"2022-T1\",\"2022-T2\",\"2022-T3\",\"2022-T4\"],\"y\":[22.32,22.58,22.79,23.56,28.95,29.58,30.17,30.34,30.08,30.58,31.07,30.98,30.94,31.39,32.17,32.52,32.66,33.81,34.25,34.57,35.13,38.16,38.49,38.77,38.73,40.3,41.75,42.43,42.66,43.54,44.9,45.51,47.64,48.35,48.21,51.64],\"type\":\"scatter\"},{\"line\":{\"color\":\"rgba(255, 181, 184, 1.0)\",\"dash\":\"solid\",\"shape\":\"linear\",\"width\":1.3},\"mode\":\"lines\",\"name\":\"C\\u00f3rdoba\",\"text\":\"\",\"x\":[\"2014-T1\",\"2014-T2\",\"2014-T3\",\"2014-T4\",\"2015-T1\",\"2015-T2\",\"2015-T3\",\"2015-T4\",\"2016-T1\",\"2016-T2\",\"2016-T3\",\"2016-T4\",\"2017-T1\",\"2017-T2\",\"2017-T3\",\"2017-T4\",\"2018-T1\",\"2018-T2\",\"2018-T3\",\"2018-T4\",\"2019-T1\",\"2019-T2\",\"2019-T3\",\"2019-T4\",\"2020-T1\",\"2020-T2\",\"2020-T3\",\"2020-T4\",\"2021-T1\",\"2021-T2\",\"2021-T3\",\"2021-T4\",\"2022-T1\",\"2022-T2\",\"2022-T3\",\"2022-T4\"],\"y\":[52.52,53.45,54.23,54.7,54.7,55.87,57.08,57.36,55.28,57.55,58.24,57.7,57.65,58.97,62.31,63.33,63.52,63.27,64.24,65.09,65.52,68.07,68.59,70.48,70.69,72.71,75.22,78.08,78.59,80.12,81.28,84.51,85.76,87.48,88.31,89.03],\"type\":\"scatter\"},{\"line\":{\"color\":\"rgba(255, 181, 184, 0.8999999999999999)\",\"dash\":\"solid\",\"shape\":\"linear\",\"width\":1.3},\"mode\":\"lines\",\"name\":\"Entre R\\u00edos\",\"text\":\"\",\"x\":[\"2014-T1\",\"2014-T2\",\"2014-T3\",\"2014-T4\",\"2015-T1\",\"2015-T2\",\"2015-T3\",\"2015-T4\",\"2016-T1\",\"2016-T2\",\"2016-T3\",\"2016-T4\",\"2017-T1\",\"2017-T2\",\"2017-T3\",\"2017-T4\",\"2018-T1\",\"2018-T2\",\"2018-T3\",\"2018-T4\",\"2019-T1\",\"2019-T2\",\"2019-T3\",\"2019-T4\",\"2020-T1\",\"2020-T2\",\"2020-T3\",\"2020-T4\",\"2021-T1\",\"2021-T2\",\"2021-T3\",\"2021-T4\",\"2022-T1\",\"2022-T2\",\"2022-T3\",\"2022-T4\"],\"y\":[34.37,34.69,34.98,36.03,42.07,42.93,43.68,44.11,43.85,44.74,45.44,45.21,44.91,45.39,45.96,47.89,48.68,49.2,50.22,54.37,56.79,57.48,57.9,57.99,56.12,56.54,58.19,59.47,60.44,61.66,62.18,63.16,63.7,63.9,63.67,64.01],\"type\":\"scatter\"},{\"line\":{\"color\":\"rgba(226, 74, 51, 0.8999999999999999)\",\"dash\":\"solid\",\"shape\":\"linear\",\"width\":1.3},\"mode\":\"lines\",\"name\":\"Formosa\",\"text\":\"\",\"x\":[\"2014-T1\",\"2014-T2\",\"2014-T3\",\"2014-T4\",\"2015-T1\",\"2015-T2\",\"2015-T3\",\"2015-T4\",\"2016-T1\",\"2016-T2\",\"2016-T3\",\"2016-T4\",\"2017-T1\",\"2017-T2\",\"2017-T3\",\"2017-T4\",\"2018-T1\",\"2018-T2\",\"2018-T3\",\"2018-T4\",\"2019-T1\",\"2019-T2\",\"2019-T3\",\"2019-T4\",\"2020-T1\",\"2020-T2\",\"2020-T3\",\"2020-T4\",\"2021-T1\",\"2021-T2\",\"2021-T3\",\"2021-T4\",\"2022-T1\",\"2022-T2\",\"2022-T3\",\"2022-T4\"],\"y\":[17.42,17.54,17.77,17.96,18.12,18.36,18.84,19.07,19.04,19.37,18.64,19.85,19.84,19.97,21.35,21.27,21.4,29.43,29.58,29.74,29.68,30.42,30.11,30.47,30.23,31.14,31.91,32.49,32.73,33.23,33.96,34.45,34.96,43.42,43.76,39.41],\"type\":\"scatter\"},{\"line\":{\"color\":\"rgba(62, 111, 176, 0.8999999999999999)\",\"dash\":\"solid\",\"shape\":\"linear\",\"width\":1.3},\"mode\":\"lines\",\"name\":\"Jujuy\",\"text\":\"\",\"x\":[\"2014-T1\",\"2014-T2\",\"2014-T3\",\"2014-T4\",\"2015-T1\",\"2015-T2\",\"2015-T3\",\"2015-T4\",\"2016-T1\",\"2016-T2\",\"2016-T3\",\"2016-T4\",\"2017-T1\",\"2017-T2\",\"2017-T3\",\"2017-T4\",\"2018-T1\",\"2018-T2\",\"2018-T3\",\"2018-T4\",\"2019-T1\",\"2019-T2\",\"2019-T3\",\"2019-T4\",\"2020-T1\",\"2020-T2\",\"2020-T3\",\"2020-T4\",\"2021-T1\",\"2021-T2\",\"2021-T3\",\"2021-T4\",\"2022-T1\",\"2022-T2\",\"2022-T3\",\"2022-T4\"],\"y\":[18.42,18.71,18.37,19.6,19.69,20.29,21.27,21.47,21.41,21.89,22.61,22.65,22.76,22.4,22.65,22.74,23.12,23.43,23.26,46.53,46.41,44.51,44.32,45.38,46.67,47.89,54.04,53.46,55.63,56.18,55.69,56.92,58.06,57.32,58.91,58.46],\"type\":\"scatter\"},{\"line\":{\"color\":\"rgba(132, 118, 202, 0.8999999999999999)\",\"dash\":\"solid\",\"shape\":\"linear\",\"width\":1.3},\"mode\":\"lines\",\"name\":\"La Pampa\",\"text\":\"\",\"x\":[\"2014-T1\",\"2014-T2\",\"2014-T3\",\"2014-T4\",\"2015-T1\",\"2015-T2\",\"2015-T3\",\"2015-T4\",\"2016-T1\",\"2016-T2\",\"2016-T3\",\"2016-T4\",\"2017-T1\",\"2017-T2\",\"2017-T3\",\"2017-T4\",\"2018-T1\",\"2018-T2\",\"2018-T3\",\"2018-T4\",\"2019-T1\",\"2019-T2\",\"2019-T3\",\"2019-T4\",\"2020-T1\",\"2020-T2\",\"2020-T3\",\"2020-T4\",\"2021-T1\",\"2021-T2\",\"2021-T3\",\"2021-T4\",\"2022-T1\",\"2022-T2\",\"2022-T3\",\"2022-T4\"],\"y\":[48.43,49.71,55.78,51.27,55.51,56.71,57.96,58.76,57.84,60.44,61.73,63.02,62.67,63.49,69.14,71.05,71.75,71.04,71.75,73.49,76.35,77.08,77.45,76.92,75.77,76.1,79.26,81.77,81.78,82.08,84.28,89.57,91.66,92.98,96.59,94.8],\"type\":\"scatter\"},{\"line\":{\"color\":\"rgba(101, 101, 101, 0.8999999999999999)\",\"dash\":\"solid\",\"shape\":\"linear\",\"width\":1.3},\"mode\":\"lines\",\"name\":\"La Rioja\",\"text\":\"\",\"x\":[\"2014-T1\",\"2014-T2\",\"2014-T3\",\"2014-T4\",\"2015-T1\",\"2015-T2\",\"2015-T3\",\"2015-T4\",\"2016-T1\",\"2016-T2\",\"2016-T3\",\"2016-T4\",\"2017-T1\",\"2017-T2\",\"2017-T3\",\"2017-T4\",\"2018-T1\",\"2018-T2\",\"2018-T3\",\"2018-T4\",\"2019-T1\",\"2019-T2\",\"2019-T3\",\"2019-T4\",\"2020-T1\",\"2020-T2\",\"2020-T3\",\"2020-T4\",\"2021-T1\",\"2021-T2\",\"2021-T3\",\"2021-T4\",\"2022-T1\",\"2022-T2\",\"2022-T3\",\"2022-T4\"],\"y\":[16.29,16.5,16.51,17.01,16.7,16.88,17.15,17.32,16.83,16.88,17.07,16.46,16.2,16.2,51.47,51.57,51.44,50.98,50.73,50.35,50.18,48.7,47.94,47.14,46.35,49.84,50.12,50.11,49.81,76.98,77.26,77.92,78.77,80.14,80.66,79.86],\"type\":\"scatter\"},{\"line\":{\"color\":\"rgba(251, 193, 94, 0.8999999999999999)\",\"dash\":\"solid\",\"shape\":\"linear\",\"width\":1.3},\"mode\":\"lines\",\"name\":\"Mendoza\",\"text\":\"\",\"x\":[\"2014-T1\",\"2014-T2\",\"2014-T3\",\"2014-T4\",\"2015-T1\",\"2015-T2\",\"2015-T3\",\"2015-T4\",\"2016-T1\",\"2016-T2\",\"2016-T3\",\"2016-T4\",\"2017-T1\",\"2017-T2\",\"2017-T3\",\"2017-T4\",\"2018-T1\",\"2018-T2\",\"2018-T3\",\"2018-T4\",\"2019-T1\",\"2019-T2\",\"2019-T3\",\"2019-T4\",\"2020-T1\",\"2020-T2\",\"2020-T3\",\"2020-T4\",\"2021-T1\",\"2021-T2\",\"2021-T3\",\"2021-T4\",\"2022-T1\",\"2022-T2\",\"2022-T3\",\"2022-T4\"],\"y\":[31.91,32.1,32.31,32.64,32.37,32.49,32.49,32.49,32.12,32.13,32.09,32.11,31.84,31.76,35.7,33.33,37.07,36.97,37.99,37.76,37.66,40.75,40.74,33.65,33.14,36.25,37.35,38.63,39.15,40.97,45.55,47.51,48.74,49.39,51.03,51.36],\"type\":\"scatter\"},{\"line\":{\"color\":\"rgba(142, 186, 66, 0.8999999999999999)\",\"dash\":\"solid\",\"shape\":\"linear\",\"width\":1.3},\"mode\":\"lines\",\"name\":\"Misiones\",\"text\":\"\",\"x\":[\"2014-T1\",\"2014-T2\",\"2014-T3\",\"2014-T4\",\"2015-T1\",\"2015-T2\",\"2015-T3\",\"2015-T4\",\"2016-T1\",\"2016-T2\",\"2016-T3\",\"2016-T4\",\"2017-T1\",\"2017-T2\",\"2017-T3\",\"2017-T4\",\"2018-T1\",\"2018-T2\",\"2018-T3\",\"2018-T4\",\"2019-T1\",\"2019-T2\",\"2019-T3\",\"2019-T4\",\"2020-T1\",\"2020-T2\",\"2020-T3\",\"2020-T4\",\"2021-T1\",\"2021-T2\",\"2021-T3\",\"2021-T4\",\"2022-T1\",\"2022-T2\",\"2022-T3\",\"2022-T4\"],\"y\":[23.14,23.37,23.57,24.16,26.31,27.35,28.31,28.69,28.37,29.24,29.91,29.72,29.52,30.09,30.21,31.14,30.96,31.63,32.1,34.45,36.26,39.15,39.33,39.79,39.02,40.89,41.6,42.64,43.17,45.01,45.57,49.06,49.04,51.0,51.82,52.85],\"type\":\"scatter\"},{\"line\":{\"color\":\"rgba(142, 186, 66, 0.7999999999999998)\",\"dash\":\"solid\",\"shape\":\"linear\",\"width\":1.3},\"mode\":\"lines\",\"name\":\"Neuqu\\u00e9n\",\"text\":\"\",\"x\":[\"2014-T1\",\"2014-T2\",\"2014-T3\",\"2014-T4\",\"2015-T1\",\"2015-T2\",\"2015-T3\",\"2015-T4\",\"2016-T1\",\"2016-T2\",\"2016-T3\",\"2016-T4\",\"2017-T1\",\"2017-T2\",\"2017-T3\",\"2017-T4\",\"2018-T1\",\"2018-T2\",\"2018-T3\",\"2018-T4\",\"2019-T1\",\"2019-T2\",\"2019-T3\",\"2019-T4\",\"2020-T1\",\"2020-T2\",\"2020-T3\",\"2020-T4\",\"2021-T1\",\"2021-T2\",\"2021-T3\",\"2021-T4\",\"2022-T1\",\"2022-T2\",\"2022-T3\",\"2022-T4\"],\"y\":[49.79,50.84,56.4,52.55,51.95,53.12,54.6,58.29,55.75,59.1,60.21,60.87,61.02,61.91,60.83,61.24,61.52,60.24,60.49,59.07,58.88,63.08,64.14,59.36,61.85,63.9,65.24,67.0,66.84,69.14,69.71,73.3,74.17,80.02,80.37,78.67],\"type\":\"scatter\"},{\"line\":{\"color\":\"rgba(255, 181, 184, 0.7999999999999998)\",\"dash\":\"solid\",\"shape\":\"linear\",\"width\":1.3},\"mode\":\"lines\",\"name\":\"R\\u00edo Negro\",\"text\":\"\",\"x\":[\"2014-T1\",\"2014-T2\",\"2014-T3\",\"2014-T4\",\"2015-T1\",\"2015-T2\",\"2015-T3\",\"2015-T4\",\"2016-T1\",\"2016-T2\",\"2016-T3\",\"2016-T4\",\"2017-T1\",\"2017-T2\",\"2017-T3\",\"2017-T4\",\"2018-T1\",\"2018-T2\",\"2018-T3\",\"2018-T4\",\"2019-T1\",\"2019-T2\",\"2019-T3\",\"2019-T4\",\"2020-T1\",\"2020-T2\",\"2020-T3\",\"2020-T4\",\"2021-T1\",\"2021-T2\",\"2021-T3\",\"2021-T4\",\"2022-T1\",\"2022-T2\",\"2022-T3\",\"2022-T4\"],\"y\":[44.91,45.33,46.2,45.48,45.33,45.98,46.39,46.44,45.84,46.24,46.39,46.39,46.03,46.02,48.52,49.38,49.82,50.15,50.54,51.86,53.57,61.09,63.42,55.71,55.12,56.37,57.05,61.09,60.88,61.94,61.97,65.69,67.04,67.85,67.98,68.42],\"type\":\"scatter\"},{\"line\":{\"color\":\"rgba(226, 74, 51, 0.7999999999999998)\",\"dash\":\"solid\",\"shape\":\"linear\",\"width\":1.3},\"mode\":\"lines\",\"name\":\"Salta\",\"text\":\"\",\"x\":[\"2014-T1\",\"2014-T2\",\"2014-T3\",\"2014-T4\",\"2015-T1\",\"2015-T2\",\"2015-T3\",\"2015-T4\",\"2016-T1\",\"2016-T2\",\"2016-T3\",\"2016-T4\",\"2017-T1\",\"2017-T2\",\"2017-T3\",\"2017-T4\",\"2018-T1\",\"2018-T2\",\"2018-T3\",\"2018-T4\",\"2019-T1\",\"2019-T2\",\"2019-T3\",\"2019-T4\",\"2020-T1\",\"2020-T2\",\"2020-T3\",\"2020-T4\",\"2021-T1\",\"2021-T2\",\"2021-T3\",\"2021-T4\",\"2022-T1\",\"2022-T2\",\"2022-T3\",\"2022-T4\"],\"y\":[28.7,28.91,29.22,29.53,30.01,30.46,31.18,31.59,31.32,32.08,32.96,32.69,32.58,32.74,39.84,39.8,39.78,39.94,39.43,39.8,40.1,41.89,44.48,50.35,49.6,51.58,52.32,54.04,53.93,54.93,55.96,56.81,56.11,57.54,57.76,57.96],\"type\":\"scatter\"},{\"line\":{\"color\":\"rgba(62, 111, 176, 0.7999999999999998)\",\"dash\":\"solid\",\"shape\":\"linear\",\"width\":1.3},\"mode\":\"lines\",\"name\":\"San Juan\",\"text\":\"\",\"x\":[\"2014-T1\",\"2014-T2\",\"2014-T3\",\"2014-T4\",\"2015-T1\",\"2015-T2\",\"2015-T3\",\"2015-T4\",\"2016-T1\",\"2016-T2\",\"2016-T3\",\"2016-T4\",\"2017-T1\",\"2017-T2\",\"2017-T3\",\"2017-T4\",\"2018-T1\",\"2018-T2\",\"2018-T3\",\"2018-T4\",\"2019-T1\",\"2019-T2\",\"2019-T3\",\"2019-T4\",\"2020-T1\",\"2020-T2\",\"2020-T3\",\"2020-T4\",\"2021-T1\",\"2021-T2\",\"2021-T3\",\"2021-T4\",\"2022-T1\",\"2022-T2\",\"2022-T3\",\"2022-T4\"],\"y\":[27.6,27.78,27.85,28.04,27.55,27.64,27.67,27.66,27.33,27.34,27.32,27.29,27.04,26.96,32.37,30.3,32.61,32.95,33.05,31.9,31.83,35.6,37.06,32.85,32.39,35.09,38.79,36.32,39.06,39.28,39.46,39.59,43.55,49.46,50.8,50.88],\"type\":\"scatter\"},{\"line\":{\"color\":\"rgba(132, 118, 202, 0.7999999999999998)\",\"dash\":\"solid\",\"shape\":\"linear\",\"width\":1.3},\"mode\":\"lines\",\"name\":\"San Luis\",\"text\":\"\",\"x\":[\"2014-T1\",\"2014-T2\",\"2014-T3\",\"2014-T4\",\"2015-T1\",\"2015-T2\",\"2015-T3\",\"2015-T4\",\"2016-T1\",\"2016-T2\",\"2016-T3\",\"2016-T4\",\"2017-T1\",\"2017-T2\",\"2017-T3\",\"2017-T4\",\"2018-T1\",\"2018-T2\",\"2018-T3\",\"2018-T4\",\"2019-T1\",\"2019-T2\",\"2019-T3\",\"2019-T4\",\"2020-T1\",\"2020-T2\",\"2020-T3\",\"2020-T4\",\"2021-T1\",\"2021-T2\",\"2021-T3\",\"2021-T4\",\"2022-T1\",\"2022-T2\",\"2022-T3\",\"2022-T4\"],\"y\":[9.35,9.72,9.71,9.79,9.72,9.71,9.71,9.71,9.59,9.6,9.63,9.64,9.55,9.51,15.48,10.59,15.15,15.15,52.35,67.55,67.34,81.79,85.23,74.92,76.31,78.41,79.96,81.68,81.24,83.48,79.87,80.3,80.72,81.76,81.74,90.27],\"type\":\"scatter\"},{\"line\":{\"color\":\"rgba(101, 101, 101, 0.7999999999999998)\",\"dash\":\"solid\",\"shape\":\"linear\",\"width\":1.3},\"mode\":\"lines\",\"name\":\"Santa Cruz\",\"text\":\"\",\"x\":[\"2014-T1\",\"2014-T2\",\"2014-T3\",\"2014-T4\",\"2015-T1\",\"2015-T2\",\"2015-T3\",\"2015-T4\",\"2016-T1\",\"2016-T2\",\"2016-T3\",\"2016-T4\",\"2017-T1\",\"2017-T2\",\"2017-T3\",\"2017-T4\",\"2018-T1\",\"2018-T2\",\"2018-T3\",\"2018-T4\",\"2019-T1\",\"2019-T2\",\"2019-T3\",\"2019-T4\",\"2020-T1\",\"2020-T2\",\"2020-T3\",\"2020-T4\",\"2021-T1\",\"2021-T2\",\"2021-T3\",\"2021-T4\",\"2022-T1\",\"2022-T2\",\"2022-T3\",\"2022-T4\"],\"y\":[28.94,29.38,28.23,27.8,27.99,27.07,27.61,27.74,26.87,26.73,26.84,27.05,26.52,26.25,33.29,28.91,33.55,33.33,32.73,23.69,23.67,28.85,35.63,36.71,35.97,35.79,35.95,37.0,41.65,44.01,43.75,43.05,43.34,43.15,43.19,43.53],\"type\":\"scatter\"},{\"line\":{\"color\":\"rgba(251, 193, 94, 0.7999999999999998)\",\"dash\":\"solid\",\"shape\":\"linear\",\"width\":1.3},\"mode\":\"lines\",\"name\":\"Santa Fe\",\"text\":\"\",\"x\":[\"2014-T1\",\"2014-T2\",\"2014-T3\",\"2014-T4\",\"2015-T1\",\"2015-T2\",\"2015-T3\",\"2015-T4\",\"2016-T1\",\"2016-T2\",\"2016-T3\",\"2016-T4\",\"2017-T1\",\"2017-T2\",\"2017-T3\",\"2017-T4\",\"2018-T1\",\"2018-T2\",\"2018-T3\",\"2018-T4\",\"2019-T1\",\"2019-T2\",\"2019-T3\",\"2019-T4\",\"2020-T1\",\"2020-T2\",\"2020-T3\",\"2020-T4\",\"2021-T1\",\"2021-T2\",\"2021-T3\",\"2021-T4\",\"2022-T1\",\"2022-T2\",\"2022-T3\",\"2022-T4\"],\"y\":[47.85,48.39,49.2,50.0,50.24,51.18,52.15,52.61,51.28,52.44,52.67,52.19,51.97,52.27,60.91,61.71,62.28,62.57,63.41,65.59,66.97,67.42,68.87,69.48,69.52,70.0,72.12,73.58,73.92,75.07,75.02,77.09,77.3,77.9,78.55,78.4],\"type\":\"scatter\"},{\"line\":{\"color\":\"rgba(251, 193, 94, 0.7)\",\"dash\":\"solid\",\"shape\":\"linear\",\"width\":1.3},\"mode\":\"lines\",\"name\":\"Santiago Del Estero\",\"text\":\"\",\"x\":[\"2014-T1\",\"2014-T2\",\"2014-T3\",\"2014-T4\",\"2015-T1\",\"2015-T2\",\"2015-T3\",\"2015-T4\",\"2016-T1\",\"2016-T2\",\"2016-T3\",\"2016-T4\",\"2017-T1\",\"2017-T2\",\"2017-T3\",\"2017-T4\",\"2018-T1\",\"2018-T2\",\"2018-T3\",\"2018-T4\",\"2019-T1\",\"2019-T2\",\"2019-T3\",\"2019-T4\",\"2020-T1\",\"2020-T2\",\"2020-T3\",\"2020-T4\",\"2021-T1\",\"2021-T2\",\"2021-T3\",\"2021-T4\",\"2022-T1\",\"2022-T2\",\"2022-T3\",\"2022-T4\"],\"y\":[16.31,16.7,16.49,17.27,17.06,17.11,17.12,17.0,16.21,15.89,15.33,15.07,14.7,14.12,35.12,29.13,34.99,35.26,36.25,37.4,37.52,52.79,55.3,42.92,42.47,43.47,43.38,43.75,45.67,46.56,47.0,47.05,47.17,47.7,47.98,48.05],\"type\":\"scatter\"},{\"line\":{\"color\":\"rgba(142, 186, 66, 0.7)\",\"dash\":\"solid\",\"shape\":\"linear\",\"width\":1.3},\"mode\":\"lines\",\"name\":\"Tierra Del Fuego\",\"text\":\"\",\"x\":[\"2014-T1\",\"2014-T2\",\"2014-T3\",\"2014-T4\",\"2015-T1\",\"2015-T2\",\"2015-T3\",\"2015-T4\",\"2016-T1\",\"2016-T2\",\"2016-T3\",\"2016-T4\",\"2017-T1\",\"2017-T2\",\"2017-T3\",\"2017-T4\",\"2018-T1\",\"2018-T2\",\"2018-T3\",\"2018-T4\",\"2019-T1\",\"2019-T2\",\"2019-T3\",\"2019-T4\",\"2020-T1\",\"2020-T2\",\"2020-T3\",\"2020-T4\",\"2021-T1\",\"2021-T2\",\"2021-T3\",\"2021-T4\",\"2022-T1\",\"2022-T2\",\"2022-T3\",\"2022-T4\"],\"y\":[63.97,64.36,65.69,66.14,74.23,74.51,74.86,66.46,65.83,67.72,68.94,70.31,68.92,68.46,65.74,59.89,65.2,91.61,92.77,93.59,93.38,94.8,96.46,79.7,76.07,76.37,76.81,76.27,77.35,67.89,94.95,98.4,98.29,99.86,99.51,101.44],\"type\":\"scatter\"},{\"line\":{\"color\":\"rgba(255, 181, 184, 0.7)\",\"dash\":\"solid\",\"shape\":\"linear\",\"width\":1.3},\"mode\":\"lines\",\"name\":\"Tucum\\u00e1n\",\"text\":\"\",\"x\":[\"2014-T1\",\"2014-T2\",\"2014-T3\",\"2014-T4\",\"2015-T1\",\"2015-T2\",\"2015-T3\",\"2015-T4\",\"2016-T1\",\"2016-T2\",\"2016-T3\",\"2016-T4\",\"2017-T1\",\"2017-T2\",\"2017-T3\",\"2017-T4\",\"2018-T1\",\"2018-T2\",\"2018-T3\",\"2018-T4\",\"2019-T1\",\"2019-T2\",\"2019-T3\",\"2019-T4\",\"2020-T1\",\"2020-T2\",\"2020-T3\",\"2020-T4\",\"2021-T1\",\"2021-T2\",\"2021-T3\",\"2021-T4\",\"2022-T1\",\"2022-T2\",\"2022-T3\",\"2022-T4\"],\"y\":[33.42,33.94,33.94,35.32,35.08,35.69,36.61,37.06,36.72,37.24,37.9,37.98,37.9,38.19,39.7,39.9,41.18,41.51,41.68,41.76,41.63,40.14,39.49,47.65,47.85,51.78,53.23,54.78,54.82,54.93,54.64,55.93,57.39,59.31,61.14,61.04],\"type\":\"scatter\"}],                        {\"legend\":{\"bgcolor\":\"#FFFFFF\",\"font\":{\"color\":\"#666666\"}},\"paper_bgcolor\":\"#FFFFFF\",\"plot_bgcolor\":\"#E5E5E5\",\"template\":{\"data\":{\"barpolar\":[{\"marker\":{\"line\":{\"color\":\"#E5ECF6\",\"width\":0.5},\"pattern\":{\"fillmode\":\"overlay\",\"size\":10,\"solidity\":0.2}},\"type\":\"barpolar\"}],\"bar\":[{\"error_x\":{\"color\":\"#2a3f5f\"},\"error_y\":{\"color\":\"#2a3f5f\"},\"marker\":{\"line\":{\"color\":\"#E5ECF6\",\"width\":0.5},\"pattern\":{\"fillmode\":\"overlay\",\"size\":10,\"solidity\":0.2}},\"type\":\"bar\"}],\"carpet\":[{\"aaxis\":{\"endlinecolor\":\"#2a3f5f\",\"gridcolor\":\"white\",\"linecolor\":\"white\",\"minorgridcolor\":\"white\",\"startlinecolor\":\"#2a3f5f\"},\"baxis\":{\"endlinecolor\":\"#2a3f5f\",\"gridcolor\":\"white\",\"linecolor\":\"white\",\"minorgridcolor\":\"white\",\"startlinecolor\":\"#2a3f5f\"},\"type\":\"carpet\"}],\"choropleth\":[{\"colorbar\":{\"outlinewidth\":0,\"ticks\":\"\"},\"type\":\"choropleth\"}],\"contourcarpet\":[{\"colorbar\":{\"outlinewidth\":0,\"ticks\":\"\"},\"type\":\"contourcarpet\"}],\"contour\":[{\"colorbar\":{\"outlinewidth\":0,\"ticks\":\"\"},\"colorscale\":[[0.0,\"#0d0887\"],[0.1111111111111111,\"#46039f\"],[0.2222222222222222,\"#7201a8\"],[0.3333333333333333,\"#9c179e\"],[0.4444444444444444,\"#bd3786\"],[0.5555555555555556,\"#d8576b\"],[0.6666666666666666,\"#ed7953\"],[0.7777777777777778,\"#fb9f3a\"],[0.8888888888888888,\"#fdca26\"],[1.0,\"#f0f921\"]],\"type\":\"contour\"}],\"heatmapgl\":[{\"colorbar\":{\"outlinewidth\":0,\"ticks\":\"\"},\"colorscale\":[[0.0,\"#0d0887\"],[0.1111111111111111,\"#46039f\"],[0.2222222222222222,\"#7201a8\"],[0.3333333333333333,\"#9c179e\"],[0.4444444444444444,\"#bd3786\"],[0.5555555555555556,\"#d8576b\"],[0.6666666666666666,\"#ed7953\"],[0.7777777777777778,\"#fb9f3a\"],[0.8888888888888888,\"#fdca26\"],[1.0,\"#f0f921\"]],\"type\":\"heatmapgl\"}],\"heatmap\":[{\"colorbar\":{\"outlinewidth\":0,\"ticks\":\"\"},\"colorscale\":[[0.0,\"#0d0887\"],[0.1111111111111111,\"#46039f\"],[0.2222222222222222,\"#7201a8\"],[0.3333333333333333,\"#9c179e\"],[0.4444444444444444,\"#bd3786\"],[0.5555555555555556,\"#d8576b\"],[0.6666666666666666,\"#ed7953\"],[0.7777777777777778,\"#fb9f3a\"],[0.8888888888888888,\"#fdca26\"],[1.0,\"#f0f921\"]],\"type\":\"heatmap\"}],\"histogram2dcontour\":[{\"colorbar\":{\"outlinewidth\":0,\"ticks\":\"\"},\"colorscale\":[[0.0,\"#0d0887\"],[0.1111111111111111,\"#46039f\"],[0.2222222222222222,\"#7201a8\"],[0.3333333333333333,\"#9c179e\"],[0.4444444444444444,\"#bd3786\"],[0.5555555555555556,\"#d8576b\"],[0.6666666666666666,\"#ed7953\"],[0.7777777777777778,\"#fb9f3a\"],[0.8888888888888888,\"#fdca26\"],[1.0,\"#f0f921\"]],\"type\":\"histogram2dcontour\"}],\"histogram2d\":[{\"colorbar\":{\"outlinewidth\":0,\"ticks\":\"\"},\"colorscale\":[[0.0,\"#0d0887\"],[0.1111111111111111,\"#46039f\"],[0.2222222222222222,\"#7201a8\"],[0.3333333333333333,\"#9c179e\"],[0.4444444444444444,\"#bd3786\"],[0.5555555555555556,\"#d8576b\"],[0.6666666666666666,\"#ed7953\"],[0.7777777777777778,\"#fb9f3a\"],[0.8888888888888888,\"#fdca26\"],[1.0,\"#f0f921\"]],\"type\":\"histogram2d\"}],\"histogram\":[{\"marker\":{\"pattern\":{\"fillmode\":\"overlay\",\"size\":10,\"solidity\":0.2}},\"type\":\"histogram\"}],\"mesh3d\":[{\"colorbar\":{\"outlinewidth\":0,\"ticks\":\"\"},\"type\":\"mesh3d\"}],\"parcoords\":[{\"line\":{\"colorbar\":{\"outlinewidth\":0,\"ticks\":\"\"}},\"type\":\"parcoords\"}],\"pie\":[{\"automargin\":true,\"type\":\"pie\"}],\"scatter3d\":[{\"line\":{\"colorbar\":{\"outlinewidth\":0,\"ticks\":\"\"}},\"marker\":{\"colorbar\":{\"outlinewidth\":0,\"ticks\":\"\"}},\"type\":\"scatter3d\"}],\"scattercarpet\":[{\"marker\":{\"colorbar\":{\"outlinewidth\":0,\"ticks\":\"\"}},\"type\":\"scattercarpet\"}],\"scattergeo\":[{\"marker\":{\"colorbar\":{\"outlinewidth\":0,\"ticks\":\"\"}},\"type\":\"scattergeo\"}],\"scattergl\":[{\"marker\":{\"colorbar\":{\"outlinewidth\":0,\"ticks\":\"\"}},\"type\":\"scattergl\"}],\"scattermapbox\":[{\"marker\":{\"colorbar\":{\"outlinewidth\":0,\"ticks\":\"\"}},\"type\":\"scattermapbox\"}],\"scatterpolargl\":[{\"marker\":{\"colorbar\":{\"outlinewidth\":0,\"ticks\":\"\"}},\"type\":\"scatterpolargl\"}],\"scatterpolar\":[{\"marker\":{\"colorbar\":{\"outlinewidth\":0,\"ticks\":\"\"}},\"type\":\"scatterpolar\"}],\"scatter\":[{\"fillpattern\":{\"fillmode\":\"overlay\",\"size\":10,\"solidity\":0.2},\"type\":\"scatter\"}],\"scatterternary\":[{\"marker\":{\"colorbar\":{\"outlinewidth\":0,\"ticks\":\"\"}},\"type\":\"scatterternary\"}],\"surface\":[{\"colorbar\":{\"outlinewidth\":0,\"ticks\":\"\"},\"colorscale\":[[0.0,\"#0d0887\"],[0.1111111111111111,\"#46039f\"],[0.2222222222222222,\"#7201a8\"],[0.3333333333333333,\"#9c179e\"],[0.4444444444444444,\"#bd3786\"],[0.5555555555555556,\"#d8576b\"],[0.6666666666666666,\"#ed7953\"],[0.7777777777777778,\"#fb9f3a\"],[0.8888888888888888,\"#fdca26\"],[1.0,\"#f0f921\"]],\"type\":\"surface\"}],\"table\":[{\"cells\":{\"fill\":{\"color\":\"#EBF0F8\"},\"line\":{\"color\":\"white\"}},\"header\":{\"fill\":{\"color\":\"#C8D4E3\"},\"line\":{\"color\":\"white\"}},\"type\":\"table\"}]},\"layout\":{\"annotationdefaults\":{\"arrowcolor\":\"#2a3f5f\",\"arrowhead\":0,\"arrowwidth\":1},\"autotypenumbers\":\"strict\",\"coloraxis\":{\"colorbar\":{\"outlinewidth\":0,\"ticks\":\"\"}},\"colorscale\":{\"diverging\":[[0,\"#8e0152\"],[0.1,\"#c51b7d\"],[0.2,\"#de77ae\"],[0.3,\"#f1b6da\"],[0.4,\"#fde0ef\"],[0.5,\"#f7f7f7\"],[0.6,\"#e6f5d0\"],[0.7,\"#b8e186\"],[0.8,\"#7fbc41\"],[0.9,\"#4d9221\"],[1,\"#276419\"]],\"sequential\":[[0.0,\"#0d0887\"],[0.1111111111111111,\"#46039f\"],[0.2222222222222222,\"#7201a8\"],[0.3333333333333333,\"#9c179e\"],[0.4444444444444444,\"#bd3786\"],[0.5555555555555556,\"#d8576b\"],[0.6666666666666666,\"#ed7953\"],[0.7777777777777778,\"#fb9f3a\"],[0.8888888888888888,\"#fdca26\"],[1.0,\"#f0f921\"]],\"sequentialminus\":[[0.0,\"#0d0887\"],[0.1111111111111111,\"#46039f\"],[0.2222222222222222,\"#7201a8\"],[0.3333333333333333,\"#9c179e\"],[0.4444444444444444,\"#bd3786\"],[0.5555555555555556,\"#d8576b\"],[0.6666666666666666,\"#ed7953\"],[0.7777777777777778,\"#fb9f3a\"],[0.8888888888888888,\"#fdca26\"],[1.0,\"#f0f921\"]]},\"colorway\":[\"#636efa\",\"#EF553B\",\"#00cc96\",\"#ab63fa\",\"#FFA15A\",\"#19d3f3\",\"#FF6692\",\"#B6E880\",\"#FF97FF\",\"#FECB52\"],\"font\":{\"color\":\"#2a3f5f\"},\"geo\":{\"bgcolor\":\"white\",\"lakecolor\":\"white\",\"landcolor\":\"#E5ECF6\",\"showlakes\":true,\"showland\":true,\"subunitcolor\":\"white\"},\"hoverlabel\":{\"align\":\"left\"},\"hovermode\":\"closest\",\"mapbox\":{\"style\":\"light\"},\"paper_bgcolor\":\"white\",\"plot_bgcolor\":\"#E5ECF6\",\"polar\":{\"angularaxis\":{\"gridcolor\":\"white\",\"linecolor\":\"white\",\"ticks\":\"\"},\"bgcolor\":\"#E5ECF6\",\"radialaxis\":{\"gridcolor\":\"white\",\"linecolor\":\"white\",\"ticks\":\"\"}},\"scene\":{\"xaxis\":{\"backgroundcolor\":\"#E5ECF6\",\"gridcolor\":\"white\",\"gridwidth\":2,\"linecolor\":\"white\",\"showbackground\":true,\"ticks\":\"\",\"zerolinecolor\":\"white\"},\"yaxis\":{\"backgroundcolor\":\"#E5ECF6\",\"gridcolor\":\"white\",\"gridwidth\":2,\"linecolor\":\"white\",\"showbackground\":true,\"ticks\":\"\",\"zerolinecolor\":\"white\"},\"zaxis\":{\"backgroundcolor\":\"#E5ECF6\",\"gridcolor\":\"white\",\"gridwidth\":2,\"linecolor\":\"white\",\"showbackground\":true,\"ticks\":\"\",\"zerolinecolor\":\"white\"}},\"shapedefaults\":{\"line\":{\"color\":\"#2a3f5f\"}},\"ternary\":{\"aaxis\":{\"gridcolor\":\"white\",\"linecolor\":\"white\",\"ticks\":\"\"},\"baxis\":{\"gridcolor\":\"white\",\"linecolor\":\"white\",\"ticks\":\"\"},\"bgcolor\":\"#E5ECF6\",\"caxis\":{\"gridcolor\":\"white\",\"linecolor\":\"white\",\"ticks\":\"\"}},\"title\":{\"x\":0.05},\"xaxis\":{\"automargin\":true,\"gridcolor\":\"white\",\"linecolor\":\"white\",\"ticks\":\"\",\"title\":{\"standoff\":15},\"zerolinecolor\":\"white\",\"zerolinewidth\":2},\"yaxis\":{\"automargin\":true,\"gridcolor\":\"white\",\"linecolor\":\"white\",\"ticks\":\"\",\"title\":{\"standoff\":15},\"zerolinecolor\":\"white\",\"zerolinewidth\":2}}},\"title\":{\"font\":{\"color\":\"#151516\"}},\"xaxis\":{\"gridcolor\":\"#F6F6F6\",\"showgrid\":true,\"tickfont\":{\"color\":\"#666666\"},\"title\":{\"font\":{\"color\":\"#666666\"},\"text\":\"\"},\"zerolinecolor\":\"#F6F6F6\"},\"yaxis\":{\"gridcolor\":\"#F6F6F6\",\"showgrid\":true,\"tickfont\":{\"color\":\"#666666\"},\"title\":{\"font\":{\"color\":\"#666666\"},\"text\":\"\"},\"zerolinecolor\":\"#F6F6F6\"}},                        {\"showLink\": true, \"linkText\": \"Export to plot.ly\", \"plotlyServerURL\": \"https://plot.ly\", \"responsive\": true}                    ).then(function(){\n",
       "                            \n",
       "var gd = document.getElementById('0c0257df-b6bf-4453-9542-bafe5654a531');\n",
       "var x = new MutationObserver(function (mutations, observer) {{\n",
       "        var display = window.getComputedStyle(gd).display;\n",
       "        if (!display || display === 'none') {{\n",
       "            console.log([gd, 'removed!']);\n",
       "            Plotly.purge(gd);\n",
       "            observer.disconnect();\n",
       "        }}\n",
       "}});\n",
       "\n",
       "// Listen for the removal of the full notebook cells\n",
       "var notebookContainer = gd.closest('#notebook-container');\n",
       "if (notebookContainer) {{\n",
       "    x.observe(notebookContainer, {childList: true});\n",
       "}}\n",
       "\n",
       "// Listen for the clearing of the current output cell\n",
       "var outputEl = gd.closest('.output');\n",
       "if (outputEl) {{\n",
       "    x.observe(outputEl, {childList: true});\n",
       "}}\n",
       "\n",
       "                        })                };                });            </script>        </div>"
      ]
     },
     "metadata": {},
     "output_type": "display_data"
    }
   ],
   "source": [
    "# graicamos el acceso a internet por cada 100 hogares por provincia\n",
    "IxProv.iplot(kind='line')"
   ]
  },
  {
   "attachments": {},
   "cell_type": "markdown",
   "metadata": {},
   "source": [
    "### ACCESO POR CADA 100 HOGARES\n",
    "\n",
    "En este gráfico podemos observar las provincias que tienen el mayor acceso a internet. Podemos ver cambios importantes en el incremento del acceso a internet en La Rioja a partir del 2017-2T y en San Luis en 2018-2T. Ambas provincias se encontraban bastante rezagadas en el acceso y dieron un salto importante, posicionandose ahora en las provincias con mayor acceso.\n",
    "\n",
    "San Luis es una región que en los últimos años ha tenido un importante crecimiento en el sector tecnológico, aumentando la digitalización de la región. Lo cual explica este crecimiento exponencial en su conectividad a internet\n",
    "fuente: https://www.americaeconomia.com/articulos/conozca-el-fenomeno-tecnologico-de-la-provincia-argentina-de-san-luis\n",
    "\n",
    "La Rioja es una región comprometida con el desarrollo sustentable y un fuerte compromiso con la generación de energías limpias, lo cual atrae interés e inversión en la zona y explica también su fuerte crecimiento.\n",
    "\n",
    "Adicional a esto en 2017 se lanzó el decreto 1340/2016, que posibilitó al usuario comprar una oferta empaquetada de telefonía fija, móvil, internet y tv de paga, con el fin de aumentar la inversión y competencia en el sector. Vemos en el gráfico que apartir de esas fechas es mas pronunciado el incremento del acceso a internet en todas las zonas, excepto en la Capital Federal que es la zona con la mayor conectividad.\n"
   ]
  },
  {
   "cell_type": "code",
   "execution_count": 1297,
   "metadata": {},
   "outputs": [
    {
     "data": {
      "application/vnd.plotly.v1+json": {
       "config": {
        "linkText": "Export to plot.ly",
        "plotlyServerURL": "https://plot.ly",
        "showLink": true
       },
       "data": [
        {
         "boxpoints": false,
         "line": {
          "width": 1.3
         },
         "marker": {
          "color": "rgba(226, 74, 51, 1.0)"
         },
         "name": "Buenos Aires",
         "orientation": "v",
         "type": "box",
         "y": [
          54.57,
          55.06,
          56.75,
          56.09,
          56.37,
          56.8,
          57.69,
          58.29,
          57.34,
          59.34,
          60.14,
          61.24,
          58.57,
          56.27,
          55.63,
          57.61,
          62.63,
          62.78,
          64.44,
          64.6,
          66.24,
          67.85,
          69.36,
          64.25,
          64.33,
          65.22,
          67.66,
          68.98,
          69.11,
          70,
          71.68,
          75.66,
          76.08,
          77.58,
          78.11,
          78.94
         ]
        },
        {
         "boxpoints": false,
         "line": {
          "width": 1.3
         },
         "marker": {
          "color": "rgba(62, 111, 176, 1.0)"
         },
         "name": "Capital Federal",
         "orientation": "v",
         "type": "box",
         "y": [
          112.25,
          113.14,
          113.8,
          114.9,
          114.9,
          116.07,
          118.29,
          118.13,
          115.16,
          120.04,
          120.77,
          120.63,
          108.37,
          124.06,
          121.86,
          122.9,
          106.24,
          106.53,
          108.45,
          108.27,
          109.2,
          110.55,
          112.65,
          106.25,
          105.98,
          106.41,
          107.68,
          108.31,
          108.42,
          110.14,
          111.27,
          111.27,
          111.8,
          121.31,
          122.28,
          122.73
         ]
        },
        {
         "boxpoints": false,
         "line": {
          "width": 1.3
         },
         "marker": {
          "color": "rgba(132, 118, 202, 1.0)"
         },
         "name": "Catamarca",
         "orientation": "v",
         "type": "box",
         "y": [
          24.25,
          24.7,
          24.71,
          25.51,
          25.11,
          25.45,
          25.86,
          26.24,
          25.91,
          26.07,
          26.48,
          26.54,
          25.66,
          25.98,
          32.49,
          28.62,
          32.79,
          32.86,
          32.92,
          32.23,
          32.19,
          32.13,
          30.88,
          36.44,
          37.62,
          45.43,
          47.16,
          49.41,
          48.9,
          52.34,
          52.71,
          55.25,
          58.21,
          62.4,
          65.33,
          65.77
         ]
        },
        {
         "boxpoints": false,
         "line": {
          "width": 1.3
         },
         "marker": {
          "color": "rgba(101, 101, 101, 1.0)"
         },
         "name": "Chaco",
         "orientation": "v",
         "type": "box",
         "y": [
          20.72,
          20.96,
          21.11,
          21.87,
          26.65,
          27.46,
          27.96,
          28.35,
          28.08,
          28.59,
          28.91,
          28.79,
          28.62,
          29.05,
          29.98,
          30.81,
          30.83,
          31.25,
          32.28,
          32.59,
          32.64,
          34.14,
          35.85,
          36.84,
          37.48,
          39.83,
          41.54,
          43.03,
          43.14,
          43.33,
          42.96,
          44.05,
          44.06,
          43.79,
          43.86,
          43.62
         ]
        },
        {
         "boxpoints": false,
         "line": {
          "width": 1.3
         },
         "marker": {
          "color": "rgba(251, 193, 94, 1.0)"
         },
         "name": "Chubut",
         "orientation": "v",
         "type": "box",
         "y": [
          41.24,
          41.41,
          40.6,
          40.25,
          37.61,
          36.58,
          36.81,
          36.89,
          36.09,
          36.12,
          36.18,
          36.07,
          35.66,
          35.55,
          46.22,
          51.46,
          53.72,
          54.9,
          56.39,
          42.61,
          43,
          46.99,
          47.57,
          51.15,
          51.27,
          57.34,
          68.34,
          68.35,
          68.99,
          72.29,
          80.71,
          82.57,
          88.05,
          83.19,
          84.38,
          85.57
         ]
        },
        {
         "boxpoints": false,
         "line": {
          "width": 1.3
         },
         "marker": {
          "color": "rgba(142, 186, 66, 1.0)"
         },
         "name": "Corrientes",
         "orientation": "v",
         "type": "box",
         "y": [
          22.32,
          22.58,
          22.79,
          23.56,
          28.95,
          29.58,
          30.17,
          30.34,
          30.08,
          30.58,
          31.07,
          30.98,
          30.94,
          31.39,
          32.17,
          32.52,
          32.66,
          33.81,
          34.25,
          34.57,
          35.13,
          38.16,
          38.49,
          38.77,
          38.73,
          40.3,
          41.75,
          42.43,
          42.66,
          43.54,
          44.9,
          45.51,
          47.64,
          48.35,
          48.21,
          51.64
         ]
        },
        {
         "boxpoints": false,
         "line": {
          "width": 1.3
         },
         "marker": {
          "color": "rgba(255, 181, 184, 1.0)"
         },
         "name": "Córdoba",
         "orientation": "v",
         "type": "box",
         "y": [
          52.52,
          53.45,
          54.23,
          54.7,
          54.7,
          55.87,
          57.08,
          57.36,
          55.28,
          57.55,
          58.24,
          57.7,
          57.65,
          58.97,
          62.31,
          63.33,
          63.52,
          63.27,
          64.24,
          65.09,
          65.52,
          68.07,
          68.59,
          70.48,
          70.69,
          72.71,
          75.22,
          78.08,
          78.59,
          80.12,
          81.28,
          84.51,
          85.76,
          87.48,
          88.31,
          89.03
         ]
        },
        {
         "boxpoints": false,
         "line": {
          "width": 1.3
         },
         "marker": {
          "color": "rgba(255, 181, 184, 0.8999999999999999)"
         },
         "name": "Entre Ríos",
         "orientation": "v",
         "type": "box",
         "y": [
          34.37,
          34.69,
          34.98,
          36.03,
          42.07,
          42.93,
          43.68,
          44.11,
          43.85,
          44.74,
          45.44,
          45.21,
          44.91,
          45.39,
          45.96,
          47.89,
          48.68,
          49.2,
          50.22,
          54.37,
          56.79,
          57.48,
          57.9,
          57.99,
          56.12,
          56.54,
          58.19,
          59.47,
          60.44,
          61.66,
          62.18,
          63.16,
          63.7,
          63.9,
          63.67,
          64.01
         ]
        },
        {
         "boxpoints": false,
         "line": {
          "width": 1.3
         },
         "marker": {
          "color": "rgba(226, 74, 51, 0.8999999999999999)"
         },
         "name": "Formosa",
         "orientation": "v",
         "type": "box",
         "y": [
          17.42,
          17.54,
          17.77,
          17.96,
          18.12,
          18.36,
          18.84,
          19.07,
          19.04,
          19.37,
          18.64,
          19.85,
          19.84,
          19.97,
          21.35,
          21.27,
          21.4,
          29.43,
          29.58,
          29.74,
          29.68,
          30.42,
          30.11,
          30.47,
          30.23,
          31.14,
          31.91,
          32.49,
          32.73,
          33.23,
          33.96,
          34.45,
          34.96,
          43.42,
          43.76,
          39.41
         ]
        },
        {
         "boxpoints": false,
         "line": {
          "width": 1.3
         },
         "marker": {
          "color": "rgba(62, 111, 176, 0.8999999999999999)"
         },
         "name": "Jujuy",
         "orientation": "v",
         "type": "box",
         "y": [
          18.42,
          18.71,
          18.37,
          19.6,
          19.69,
          20.29,
          21.27,
          21.47,
          21.41,
          21.89,
          22.61,
          22.65,
          22.76,
          22.4,
          22.65,
          22.74,
          23.12,
          23.43,
          23.26,
          46.53,
          46.41,
          44.51,
          44.32,
          45.38,
          46.67,
          47.89,
          54.04,
          53.46,
          55.63,
          56.18,
          55.69,
          56.92,
          58.06,
          57.32,
          58.91,
          58.46
         ]
        },
        {
         "boxpoints": false,
         "line": {
          "width": 1.3
         },
         "marker": {
          "color": "rgba(132, 118, 202, 0.8999999999999999)"
         },
         "name": "La Pampa",
         "orientation": "v",
         "type": "box",
         "y": [
          48.43,
          49.71,
          55.78,
          51.27,
          55.51,
          56.71,
          57.96,
          58.76,
          57.84,
          60.44,
          61.73,
          63.02,
          62.67,
          63.49,
          69.14,
          71.05,
          71.75,
          71.04,
          71.75,
          73.49,
          76.35,
          77.08,
          77.45,
          76.92,
          75.77,
          76.1,
          79.26,
          81.77,
          81.78,
          82.08,
          84.28,
          89.57,
          91.66,
          92.98,
          96.59,
          94.8
         ]
        },
        {
         "boxpoints": false,
         "line": {
          "width": 1.3
         },
         "marker": {
          "color": "rgba(101, 101, 101, 0.8999999999999999)"
         },
         "name": "La Rioja",
         "orientation": "v",
         "type": "box",
         "y": [
          16.29,
          16.5,
          16.51,
          17.01,
          16.7,
          16.88,
          17.15,
          17.32,
          16.83,
          16.88,
          17.07,
          16.46,
          16.2,
          16.2,
          51.47,
          51.57,
          51.44,
          50.98,
          50.73,
          50.35,
          50.18,
          48.7,
          47.94,
          47.14,
          46.35,
          49.84,
          50.12,
          50.11,
          49.81,
          76.98,
          77.26,
          77.92,
          78.77,
          80.14,
          80.66,
          79.86
         ]
        },
        {
         "boxpoints": false,
         "line": {
          "width": 1.3
         },
         "marker": {
          "color": "rgba(251, 193, 94, 0.8999999999999999)"
         },
         "name": "Mendoza",
         "orientation": "v",
         "type": "box",
         "y": [
          31.91,
          32.1,
          32.31,
          32.64,
          32.37,
          32.49,
          32.49,
          32.49,
          32.12,
          32.13,
          32.09,
          32.11,
          31.84,
          31.76,
          35.7,
          33.33,
          37.07,
          36.97,
          37.99,
          37.76,
          37.66,
          40.75,
          40.74,
          33.65,
          33.14,
          36.25,
          37.35,
          38.63,
          39.15,
          40.97,
          45.55,
          47.51,
          48.74,
          49.39,
          51.03,
          51.36
         ]
        },
        {
         "boxpoints": false,
         "line": {
          "width": 1.3
         },
         "marker": {
          "color": "rgba(142, 186, 66, 0.8999999999999999)"
         },
         "name": "Misiones",
         "orientation": "v",
         "type": "box",
         "y": [
          23.14,
          23.37,
          23.57,
          24.16,
          26.31,
          27.35,
          28.31,
          28.69,
          28.37,
          29.24,
          29.91,
          29.72,
          29.52,
          30.09,
          30.21,
          31.14,
          30.96,
          31.63,
          32.1,
          34.45,
          36.26,
          39.15,
          39.33,
          39.79,
          39.02,
          40.89,
          41.6,
          42.64,
          43.17,
          45.01,
          45.57,
          49.06,
          49.04,
          51,
          51.82,
          52.85
         ]
        },
        {
         "boxpoints": false,
         "line": {
          "width": 1.3
         },
         "marker": {
          "color": "rgba(142, 186, 66, 0.7999999999999998)"
         },
         "name": "Neuquén",
         "orientation": "v",
         "type": "box",
         "y": [
          49.79,
          50.84,
          56.4,
          52.55,
          51.95,
          53.12,
          54.6,
          58.29,
          55.75,
          59.1,
          60.21,
          60.87,
          61.02,
          61.91,
          60.83,
          61.24,
          61.52,
          60.24,
          60.49,
          59.07,
          58.88,
          63.08,
          64.14,
          59.36,
          61.85,
          63.9,
          65.24,
          67,
          66.84,
          69.14,
          69.71,
          73.3,
          74.17,
          80.02,
          80.37,
          78.67
         ]
        },
        {
         "boxpoints": false,
         "line": {
          "width": 1.3
         },
         "marker": {
          "color": "rgba(255, 181, 184, 0.7999999999999998)"
         },
         "name": "Río Negro",
         "orientation": "v",
         "type": "box",
         "y": [
          44.91,
          45.33,
          46.2,
          45.48,
          45.33,
          45.98,
          46.39,
          46.44,
          45.84,
          46.24,
          46.39,
          46.39,
          46.03,
          46.02,
          48.52,
          49.38,
          49.82,
          50.15,
          50.54,
          51.86,
          53.57,
          61.09,
          63.42,
          55.71,
          55.12,
          56.37,
          57.05,
          61.09,
          60.88,
          61.94,
          61.97,
          65.69,
          67.04,
          67.85,
          67.98,
          68.42
         ]
        },
        {
         "boxpoints": false,
         "line": {
          "width": 1.3
         },
         "marker": {
          "color": "rgba(226, 74, 51, 0.7999999999999998)"
         },
         "name": "Salta",
         "orientation": "v",
         "type": "box",
         "y": [
          28.7,
          28.91,
          29.22,
          29.53,
          30.01,
          30.46,
          31.18,
          31.59,
          31.32,
          32.08,
          32.96,
          32.69,
          32.58,
          32.74,
          39.84,
          39.8,
          39.78,
          39.94,
          39.43,
          39.8,
          40.1,
          41.89,
          44.48,
          50.35,
          49.6,
          51.58,
          52.32,
          54.04,
          53.93,
          54.93,
          55.96,
          56.81,
          56.11,
          57.54,
          57.76,
          57.96
         ]
        },
        {
         "boxpoints": false,
         "line": {
          "width": 1.3
         },
         "marker": {
          "color": "rgba(62, 111, 176, 0.7999999999999998)"
         },
         "name": "San Juan",
         "orientation": "v",
         "type": "box",
         "y": [
          27.6,
          27.78,
          27.85,
          28.04,
          27.55,
          27.64,
          27.67,
          27.66,
          27.33,
          27.34,
          27.32,
          27.29,
          27.04,
          26.96,
          32.37,
          30.3,
          32.61,
          32.95,
          33.05,
          31.9,
          31.83,
          35.6,
          37.06,
          32.85,
          32.39,
          35.09,
          38.79,
          36.32,
          39.06,
          39.28,
          39.46,
          39.59,
          43.55,
          49.46,
          50.8,
          50.88
         ]
        },
        {
         "boxpoints": false,
         "line": {
          "width": 1.3
         },
         "marker": {
          "color": "rgba(132, 118, 202, 0.7999999999999998)"
         },
         "name": "San Luis",
         "orientation": "v",
         "type": "box",
         "y": [
          9.35,
          9.72,
          9.71,
          9.79,
          9.72,
          9.71,
          9.71,
          9.71,
          9.59,
          9.6,
          9.63,
          9.64,
          9.55,
          9.51,
          15.48,
          10.59,
          15.15,
          15.15,
          52.35,
          67.55,
          67.34,
          81.79,
          85.23,
          74.92,
          76.31,
          78.41,
          79.96,
          81.68,
          81.24,
          83.48,
          79.87,
          80.3,
          80.72,
          81.76,
          81.74,
          90.27
         ]
        },
        {
         "boxpoints": false,
         "line": {
          "width": 1.3
         },
         "marker": {
          "color": "rgba(101, 101, 101, 0.7999999999999998)"
         },
         "name": "Santa Cruz",
         "orientation": "v",
         "type": "box",
         "y": [
          28.94,
          29.38,
          28.23,
          27.8,
          27.99,
          27.07,
          27.61,
          27.74,
          26.87,
          26.73,
          26.84,
          27.05,
          26.52,
          26.25,
          33.29,
          28.91,
          33.55,
          33.33,
          32.73,
          23.69,
          23.67,
          28.85,
          35.63,
          36.71,
          35.97,
          35.79,
          35.95,
          37,
          41.65,
          44.01,
          43.75,
          43.05,
          43.34,
          43.15,
          43.19,
          43.53
         ]
        },
        {
         "boxpoints": false,
         "line": {
          "width": 1.3
         },
         "marker": {
          "color": "rgba(251, 193, 94, 0.7999999999999998)"
         },
         "name": "Santa Fe",
         "orientation": "v",
         "type": "box",
         "y": [
          47.85,
          48.39,
          49.2,
          50,
          50.24,
          51.18,
          52.15,
          52.61,
          51.28,
          52.44,
          52.67,
          52.19,
          51.97,
          52.27,
          60.91,
          61.71,
          62.28,
          62.57,
          63.41,
          65.59,
          66.97,
          67.42,
          68.87,
          69.48,
          69.52,
          70,
          72.12,
          73.58,
          73.92,
          75.07,
          75.02,
          77.09,
          77.3,
          77.9,
          78.55,
          78.4
         ]
        },
        {
         "boxpoints": false,
         "line": {
          "width": 1.3
         },
         "marker": {
          "color": "rgba(251, 193, 94, 0.7)"
         },
         "name": "Santiago Del Estero",
         "orientation": "v",
         "type": "box",
         "y": [
          16.31,
          16.7,
          16.49,
          17.27,
          17.06,
          17.11,
          17.12,
          17,
          16.21,
          15.89,
          15.33,
          15.07,
          14.7,
          14.12,
          35.12,
          29.13,
          34.99,
          35.26,
          36.25,
          37.4,
          37.52,
          52.79,
          55.3,
          42.92,
          42.47,
          43.47,
          43.38,
          43.75,
          45.67,
          46.56,
          47,
          47.05,
          47.17,
          47.7,
          47.98,
          48.05
         ]
        },
        {
         "boxpoints": false,
         "line": {
          "width": 1.3
         },
         "marker": {
          "color": "rgba(142, 186, 66, 0.7)"
         },
         "name": "Tierra Del Fuego",
         "orientation": "v",
         "type": "box",
         "y": [
          63.97,
          64.36,
          65.69,
          66.14,
          74.23,
          74.51,
          74.86,
          66.46,
          65.83,
          67.72,
          68.94,
          70.31,
          68.92,
          68.46,
          65.74,
          59.89,
          65.2,
          91.61,
          92.77,
          93.59,
          93.38,
          94.8,
          96.46,
          79.7,
          76.07,
          76.37,
          76.81,
          76.27,
          77.35,
          67.89,
          94.95,
          98.4,
          98.29,
          99.86,
          99.51,
          101.44
         ]
        },
        {
         "boxpoints": false,
         "line": {
          "width": 1.3
         },
         "marker": {
          "color": "rgba(255, 181, 184, 0.7)"
         },
         "name": "Tucumán",
         "orientation": "v",
         "type": "box",
         "y": [
          33.42,
          33.94,
          33.94,
          35.32,
          35.08,
          35.69,
          36.61,
          37.06,
          36.72,
          37.24,
          37.9,
          37.98,
          37.9,
          38.19,
          39.7,
          39.9,
          41.18,
          41.51,
          41.68,
          41.76,
          41.63,
          40.14,
          39.49,
          47.65,
          47.85,
          51.78,
          53.23,
          54.78,
          54.82,
          54.93,
          54.64,
          55.93,
          57.39,
          59.31,
          61.14,
          61.04
         ]
        }
       ],
       "layout": {
        "legend": {
         "bgcolor": "#FFFFFF",
         "font": {
          "color": "#666666"
         }
        },
        "paper_bgcolor": "#FFFFFF",
        "plot_bgcolor": "#E5E5E5",
        "template": {
         "data": {
          "bar": [
           {
            "error_x": {
             "color": "#2a3f5f"
            },
            "error_y": {
             "color": "#2a3f5f"
            },
            "marker": {
             "line": {
              "color": "#E5ECF6",
              "width": 0.5
             },
             "pattern": {
              "fillmode": "overlay",
              "size": 10,
              "solidity": 0.2
             }
            },
            "type": "bar"
           }
          ],
          "barpolar": [
           {
            "marker": {
             "line": {
              "color": "#E5ECF6",
              "width": 0.5
             },
             "pattern": {
              "fillmode": "overlay",
              "size": 10,
              "solidity": 0.2
             }
            },
            "type": "barpolar"
           }
          ],
          "carpet": [
           {
            "aaxis": {
             "endlinecolor": "#2a3f5f",
             "gridcolor": "white",
             "linecolor": "white",
             "minorgridcolor": "white",
             "startlinecolor": "#2a3f5f"
            },
            "baxis": {
             "endlinecolor": "#2a3f5f",
             "gridcolor": "white",
             "linecolor": "white",
             "minorgridcolor": "white",
             "startlinecolor": "#2a3f5f"
            },
            "type": "carpet"
           }
          ],
          "choropleth": [
           {
            "colorbar": {
             "outlinewidth": 0,
             "ticks": ""
            },
            "type": "choropleth"
           }
          ],
          "contour": [
           {
            "colorbar": {
             "outlinewidth": 0,
             "ticks": ""
            },
            "colorscale": [
             [
              0,
              "#0d0887"
             ],
             [
              0.1111111111111111,
              "#46039f"
             ],
             [
              0.2222222222222222,
              "#7201a8"
             ],
             [
              0.3333333333333333,
              "#9c179e"
             ],
             [
              0.4444444444444444,
              "#bd3786"
             ],
             [
              0.5555555555555556,
              "#d8576b"
             ],
             [
              0.6666666666666666,
              "#ed7953"
             ],
             [
              0.7777777777777778,
              "#fb9f3a"
             ],
             [
              0.8888888888888888,
              "#fdca26"
             ],
             [
              1,
              "#f0f921"
             ]
            ],
            "type": "contour"
           }
          ],
          "contourcarpet": [
           {
            "colorbar": {
             "outlinewidth": 0,
             "ticks": ""
            },
            "type": "contourcarpet"
           }
          ],
          "heatmap": [
           {
            "colorbar": {
             "outlinewidth": 0,
             "ticks": ""
            },
            "colorscale": [
             [
              0,
              "#0d0887"
             ],
             [
              0.1111111111111111,
              "#46039f"
             ],
             [
              0.2222222222222222,
              "#7201a8"
             ],
             [
              0.3333333333333333,
              "#9c179e"
             ],
             [
              0.4444444444444444,
              "#bd3786"
             ],
             [
              0.5555555555555556,
              "#d8576b"
             ],
             [
              0.6666666666666666,
              "#ed7953"
             ],
             [
              0.7777777777777778,
              "#fb9f3a"
             ],
             [
              0.8888888888888888,
              "#fdca26"
             ],
             [
              1,
              "#f0f921"
             ]
            ],
            "type": "heatmap"
           }
          ],
          "heatmapgl": [
           {
            "colorbar": {
             "outlinewidth": 0,
             "ticks": ""
            },
            "colorscale": [
             [
              0,
              "#0d0887"
             ],
             [
              0.1111111111111111,
              "#46039f"
             ],
             [
              0.2222222222222222,
              "#7201a8"
             ],
             [
              0.3333333333333333,
              "#9c179e"
             ],
             [
              0.4444444444444444,
              "#bd3786"
             ],
             [
              0.5555555555555556,
              "#d8576b"
             ],
             [
              0.6666666666666666,
              "#ed7953"
             ],
             [
              0.7777777777777778,
              "#fb9f3a"
             ],
             [
              0.8888888888888888,
              "#fdca26"
             ],
             [
              1,
              "#f0f921"
             ]
            ],
            "type": "heatmapgl"
           }
          ],
          "histogram": [
           {
            "marker": {
             "pattern": {
              "fillmode": "overlay",
              "size": 10,
              "solidity": 0.2
             }
            },
            "type": "histogram"
           }
          ],
          "histogram2d": [
           {
            "colorbar": {
             "outlinewidth": 0,
             "ticks": ""
            },
            "colorscale": [
             [
              0,
              "#0d0887"
             ],
             [
              0.1111111111111111,
              "#46039f"
             ],
             [
              0.2222222222222222,
              "#7201a8"
             ],
             [
              0.3333333333333333,
              "#9c179e"
             ],
             [
              0.4444444444444444,
              "#bd3786"
             ],
             [
              0.5555555555555556,
              "#d8576b"
             ],
             [
              0.6666666666666666,
              "#ed7953"
             ],
             [
              0.7777777777777778,
              "#fb9f3a"
             ],
             [
              0.8888888888888888,
              "#fdca26"
             ],
             [
              1,
              "#f0f921"
             ]
            ],
            "type": "histogram2d"
           }
          ],
          "histogram2dcontour": [
           {
            "colorbar": {
             "outlinewidth": 0,
             "ticks": ""
            },
            "colorscale": [
             [
              0,
              "#0d0887"
             ],
             [
              0.1111111111111111,
              "#46039f"
             ],
             [
              0.2222222222222222,
              "#7201a8"
             ],
             [
              0.3333333333333333,
              "#9c179e"
             ],
             [
              0.4444444444444444,
              "#bd3786"
             ],
             [
              0.5555555555555556,
              "#d8576b"
             ],
             [
              0.6666666666666666,
              "#ed7953"
             ],
             [
              0.7777777777777778,
              "#fb9f3a"
             ],
             [
              0.8888888888888888,
              "#fdca26"
             ],
             [
              1,
              "#f0f921"
             ]
            ],
            "type": "histogram2dcontour"
           }
          ],
          "mesh3d": [
           {
            "colorbar": {
             "outlinewidth": 0,
             "ticks": ""
            },
            "type": "mesh3d"
           }
          ],
          "parcoords": [
           {
            "line": {
             "colorbar": {
              "outlinewidth": 0,
              "ticks": ""
             }
            },
            "type": "parcoords"
           }
          ],
          "pie": [
           {
            "automargin": true,
            "type": "pie"
           }
          ],
          "scatter": [
           {
            "fillpattern": {
             "fillmode": "overlay",
             "size": 10,
             "solidity": 0.2
            },
            "type": "scatter"
           }
          ],
          "scatter3d": [
           {
            "line": {
             "colorbar": {
              "outlinewidth": 0,
              "ticks": ""
             }
            },
            "marker": {
             "colorbar": {
              "outlinewidth": 0,
              "ticks": ""
             }
            },
            "type": "scatter3d"
           }
          ],
          "scattercarpet": [
           {
            "marker": {
             "colorbar": {
              "outlinewidth": 0,
              "ticks": ""
             }
            },
            "type": "scattercarpet"
           }
          ],
          "scattergeo": [
           {
            "marker": {
             "colorbar": {
              "outlinewidth": 0,
              "ticks": ""
             }
            },
            "type": "scattergeo"
           }
          ],
          "scattergl": [
           {
            "marker": {
             "colorbar": {
              "outlinewidth": 0,
              "ticks": ""
             }
            },
            "type": "scattergl"
           }
          ],
          "scattermapbox": [
           {
            "marker": {
             "colorbar": {
              "outlinewidth": 0,
              "ticks": ""
             }
            },
            "type": "scattermapbox"
           }
          ],
          "scatterpolar": [
           {
            "marker": {
             "colorbar": {
              "outlinewidth": 0,
              "ticks": ""
             }
            },
            "type": "scatterpolar"
           }
          ],
          "scatterpolargl": [
           {
            "marker": {
             "colorbar": {
              "outlinewidth": 0,
              "ticks": ""
             }
            },
            "type": "scatterpolargl"
           }
          ],
          "scatterternary": [
           {
            "marker": {
             "colorbar": {
              "outlinewidth": 0,
              "ticks": ""
             }
            },
            "type": "scatterternary"
           }
          ],
          "surface": [
           {
            "colorbar": {
             "outlinewidth": 0,
             "ticks": ""
            },
            "colorscale": [
             [
              0,
              "#0d0887"
             ],
             [
              0.1111111111111111,
              "#46039f"
             ],
             [
              0.2222222222222222,
              "#7201a8"
             ],
             [
              0.3333333333333333,
              "#9c179e"
             ],
             [
              0.4444444444444444,
              "#bd3786"
             ],
             [
              0.5555555555555556,
              "#d8576b"
             ],
             [
              0.6666666666666666,
              "#ed7953"
             ],
             [
              0.7777777777777778,
              "#fb9f3a"
             ],
             [
              0.8888888888888888,
              "#fdca26"
             ],
             [
              1,
              "#f0f921"
             ]
            ],
            "type": "surface"
           }
          ],
          "table": [
           {
            "cells": {
             "fill": {
              "color": "#EBF0F8"
             },
             "line": {
              "color": "white"
             }
            },
            "header": {
             "fill": {
              "color": "#C8D4E3"
             },
             "line": {
              "color": "white"
             }
            },
            "type": "table"
           }
          ]
         },
         "layout": {
          "annotationdefaults": {
           "arrowcolor": "#2a3f5f",
           "arrowhead": 0,
           "arrowwidth": 1
          },
          "autotypenumbers": "strict",
          "coloraxis": {
           "colorbar": {
            "outlinewidth": 0,
            "ticks": ""
           }
          },
          "colorscale": {
           "diverging": [
            [
             0,
             "#8e0152"
            ],
            [
             0.1,
             "#c51b7d"
            ],
            [
             0.2,
             "#de77ae"
            ],
            [
             0.3,
             "#f1b6da"
            ],
            [
             0.4,
             "#fde0ef"
            ],
            [
             0.5,
             "#f7f7f7"
            ],
            [
             0.6,
             "#e6f5d0"
            ],
            [
             0.7,
             "#b8e186"
            ],
            [
             0.8,
             "#7fbc41"
            ],
            [
             0.9,
             "#4d9221"
            ],
            [
             1,
             "#276419"
            ]
           ],
           "sequential": [
            [
             0,
             "#0d0887"
            ],
            [
             0.1111111111111111,
             "#46039f"
            ],
            [
             0.2222222222222222,
             "#7201a8"
            ],
            [
             0.3333333333333333,
             "#9c179e"
            ],
            [
             0.4444444444444444,
             "#bd3786"
            ],
            [
             0.5555555555555556,
             "#d8576b"
            ],
            [
             0.6666666666666666,
             "#ed7953"
            ],
            [
             0.7777777777777778,
             "#fb9f3a"
            ],
            [
             0.8888888888888888,
             "#fdca26"
            ],
            [
             1,
             "#f0f921"
            ]
           ],
           "sequentialminus": [
            [
             0,
             "#0d0887"
            ],
            [
             0.1111111111111111,
             "#46039f"
            ],
            [
             0.2222222222222222,
             "#7201a8"
            ],
            [
             0.3333333333333333,
             "#9c179e"
            ],
            [
             0.4444444444444444,
             "#bd3786"
            ],
            [
             0.5555555555555556,
             "#d8576b"
            ],
            [
             0.6666666666666666,
             "#ed7953"
            ],
            [
             0.7777777777777778,
             "#fb9f3a"
            ],
            [
             0.8888888888888888,
             "#fdca26"
            ],
            [
             1,
             "#f0f921"
            ]
           ]
          },
          "colorway": [
           "#636efa",
           "#EF553B",
           "#00cc96",
           "#ab63fa",
           "#FFA15A",
           "#19d3f3",
           "#FF6692",
           "#B6E880",
           "#FF97FF",
           "#FECB52"
          ],
          "font": {
           "color": "#2a3f5f"
          },
          "geo": {
           "bgcolor": "white",
           "lakecolor": "white",
           "landcolor": "#E5ECF6",
           "showlakes": true,
           "showland": true,
           "subunitcolor": "white"
          },
          "hoverlabel": {
           "align": "left"
          },
          "hovermode": "closest",
          "mapbox": {
           "style": "light"
          },
          "paper_bgcolor": "white",
          "plot_bgcolor": "#E5ECF6",
          "polar": {
           "angularaxis": {
            "gridcolor": "white",
            "linecolor": "white",
            "ticks": ""
           },
           "bgcolor": "#E5ECF6",
           "radialaxis": {
            "gridcolor": "white",
            "linecolor": "white",
            "ticks": ""
           }
          },
          "scene": {
           "xaxis": {
            "backgroundcolor": "#E5ECF6",
            "gridcolor": "white",
            "gridwidth": 2,
            "linecolor": "white",
            "showbackground": true,
            "ticks": "",
            "zerolinecolor": "white"
           },
           "yaxis": {
            "backgroundcolor": "#E5ECF6",
            "gridcolor": "white",
            "gridwidth": 2,
            "linecolor": "white",
            "showbackground": true,
            "ticks": "",
            "zerolinecolor": "white"
           },
           "zaxis": {
            "backgroundcolor": "#E5ECF6",
            "gridcolor": "white",
            "gridwidth": 2,
            "linecolor": "white",
            "showbackground": true,
            "ticks": "",
            "zerolinecolor": "white"
           }
          },
          "shapedefaults": {
           "line": {
            "color": "#2a3f5f"
           }
          },
          "ternary": {
           "aaxis": {
            "gridcolor": "white",
            "linecolor": "white",
            "ticks": ""
           },
           "baxis": {
            "gridcolor": "white",
            "linecolor": "white",
            "ticks": ""
           },
           "bgcolor": "#E5ECF6",
           "caxis": {
            "gridcolor": "white",
            "linecolor": "white",
            "ticks": ""
           }
          },
          "title": {
           "x": 0.05
          },
          "xaxis": {
           "automargin": true,
           "gridcolor": "white",
           "linecolor": "white",
           "ticks": "",
           "title": {
            "standoff": 15
           },
           "zerolinecolor": "white",
           "zerolinewidth": 2
          },
          "yaxis": {
           "automargin": true,
           "gridcolor": "white",
           "linecolor": "white",
           "ticks": "",
           "title": {
            "standoff": 15
           },
           "zerolinecolor": "white",
           "zerolinewidth": 2
          }
         }
        },
        "title": {
         "font": {
          "color": "#151516"
         }
        },
        "xaxis": {
         "gridcolor": "#F6F6F6",
         "showgrid": true,
         "tickfont": {
          "color": "#666666"
         },
         "title": {
          "font": {
           "color": "#666666"
          },
          "text": ""
         },
         "zerolinecolor": "#F6F6F6"
        },
        "yaxis": {
         "gridcolor": "#F6F6F6",
         "showgrid": true,
         "tickfont": {
          "color": "#666666"
         },
         "title": {
          "font": {
           "color": "#666666"
          },
          "text": ""
         },
         "zerolinecolor": "#F6F6F6"
        }
       }
      },
      "text/html": [
       "<div>                            <div id=\"730abb4a-0783-4793-9e07-3a8b77628e2b\" class=\"plotly-graph-div\" style=\"height:525px; width:100%;\"></div>            <script type=\"text/javascript\">                require([\"plotly\"], function(Plotly) {                    window.PLOTLYENV=window.PLOTLYENV || {};\n",
       "                    window.PLOTLYENV.BASE_URL='https://plot.ly';                                    if (document.getElementById(\"730abb4a-0783-4793-9e07-3a8b77628e2b\")) {                    Plotly.newPlot(                        \"730abb4a-0783-4793-9e07-3a8b77628e2b\",                        [{\"boxpoints\":false,\"line\":{\"width\":1.3},\"marker\":{\"color\":\"rgba(226, 74, 51, 1.0)\"},\"name\":\"Buenos Aires\",\"orientation\":\"v\",\"y\":[54.57,55.06,56.75,56.09,56.37,56.8,57.69,58.29,57.34,59.34,60.14,61.24,58.57,56.27,55.63,57.61,62.63,62.78,64.44,64.6,66.24,67.85,69.36,64.25,64.33,65.22,67.66,68.98,69.11,70.0,71.68,75.66,76.08,77.58,78.11,78.94],\"type\":\"box\"},{\"boxpoints\":false,\"line\":{\"width\":1.3},\"marker\":{\"color\":\"rgba(62, 111, 176, 1.0)\"},\"name\":\"Capital Federal\",\"orientation\":\"v\",\"y\":[112.25,113.14,113.8,114.9,114.9,116.07,118.29,118.13,115.16,120.04,120.77,120.63,108.37,124.06,121.86,122.9,106.24,106.53,108.45,108.27,109.2,110.55,112.65,106.25,105.98,106.41,107.68,108.31,108.42,110.14,111.27,111.27,111.8,121.31,122.28,122.73],\"type\":\"box\"},{\"boxpoints\":false,\"line\":{\"width\":1.3},\"marker\":{\"color\":\"rgba(132, 118, 202, 1.0)\"},\"name\":\"Catamarca\",\"orientation\":\"v\",\"y\":[24.25,24.7,24.71,25.51,25.11,25.45,25.86,26.24,25.91,26.07,26.48,26.54,25.66,25.98,32.49,28.62,32.79,32.86,32.92,32.23,32.19,32.13,30.88,36.44,37.62,45.43,47.16,49.41,48.9,52.34,52.71,55.25,58.21,62.4,65.33,65.77],\"type\":\"box\"},{\"boxpoints\":false,\"line\":{\"width\":1.3},\"marker\":{\"color\":\"rgba(101, 101, 101, 1.0)\"},\"name\":\"Chaco\",\"orientation\":\"v\",\"y\":[20.72,20.96,21.11,21.87,26.65,27.46,27.96,28.35,28.08,28.59,28.91,28.79,28.62,29.05,29.98,30.81,30.83,31.25,32.28,32.59,32.64,34.14,35.85,36.84,37.48,39.83,41.54,43.03,43.14,43.33,42.96,44.05,44.06,43.79,43.86,43.62],\"type\":\"box\"},{\"boxpoints\":false,\"line\":{\"width\":1.3},\"marker\":{\"color\":\"rgba(251, 193, 94, 1.0)\"},\"name\":\"Chubut\",\"orientation\":\"v\",\"y\":[41.24,41.41,40.6,40.25,37.61,36.58,36.81,36.89,36.09,36.12,36.18,36.07,35.66,35.55,46.22,51.46,53.72,54.9,56.39,42.61,43.0,46.99,47.57,51.15,51.27,57.34,68.34,68.35,68.99,72.29,80.71,82.57,88.05,83.19,84.38,85.57],\"type\":\"box\"},{\"boxpoints\":false,\"line\":{\"width\":1.3},\"marker\":{\"color\":\"rgba(142, 186, 66, 1.0)\"},\"name\":\"Corrientes\",\"orientation\":\"v\",\"y\":[22.32,22.58,22.79,23.56,28.95,29.58,30.17,30.34,30.08,30.58,31.07,30.98,30.94,31.39,32.17,32.52,32.66,33.81,34.25,34.57,35.13,38.16,38.49,38.77,38.73,40.3,41.75,42.43,42.66,43.54,44.9,45.51,47.64,48.35,48.21,51.64],\"type\":\"box\"},{\"boxpoints\":false,\"line\":{\"width\":1.3},\"marker\":{\"color\":\"rgba(255, 181, 184, 1.0)\"},\"name\":\"C\\u00f3rdoba\",\"orientation\":\"v\",\"y\":[52.52,53.45,54.23,54.7,54.7,55.87,57.08,57.36,55.28,57.55,58.24,57.7,57.65,58.97,62.31,63.33,63.52,63.27,64.24,65.09,65.52,68.07,68.59,70.48,70.69,72.71,75.22,78.08,78.59,80.12,81.28,84.51,85.76,87.48,88.31,89.03],\"type\":\"box\"},{\"boxpoints\":false,\"line\":{\"width\":1.3},\"marker\":{\"color\":\"rgba(255, 181, 184, 0.8999999999999999)\"},\"name\":\"Entre R\\u00edos\",\"orientation\":\"v\",\"y\":[34.37,34.69,34.98,36.03,42.07,42.93,43.68,44.11,43.85,44.74,45.44,45.21,44.91,45.39,45.96,47.89,48.68,49.2,50.22,54.37,56.79,57.48,57.9,57.99,56.12,56.54,58.19,59.47,60.44,61.66,62.18,63.16,63.7,63.9,63.67,64.01],\"type\":\"box\"},{\"boxpoints\":false,\"line\":{\"width\":1.3},\"marker\":{\"color\":\"rgba(226, 74, 51, 0.8999999999999999)\"},\"name\":\"Formosa\",\"orientation\":\"v\",\"y\":[17.42,17.54,17.77,17.96,18.12,18.36,18.84,19.07,19.04,19.37,18.64,19.85,19.84,19.97,21.35,21.27,21.4,29.43,29.58,29.74,29.68,30.42,30.11,30.47,30.23,31.14,31.91,32.49,32.73,33.23,33.96,34.45,34.96,43.42,43.76,39.41],\"type\":\"box\"},{\"boxpoints\":false,\"line\":{\"width\":1.3},\"marker\":{\"color\":\"rgba(62, 111, 176, 0.8999999999999999)\"},\"name\":\"Jujuy\",\"orientation\":\"v\",\"y\":[18.42,18.71,18.37,19.6,19.69,20.29,21.27,21.47,21.41,21.89,22.61,22.65,22.76,22.4,22.65,22.74,23.12,23.43,23.26,46.53,46.41,44.51,44.32,45.38,46.67,47.89,54.04,53.46,55.63,56.18,55.69,56.92,58.06,57.32,58.91,58.46],\"type\":\"box\"},{\"boxpoints\":false,\"line\":{\"width\":1.3},\"marker\":{\"color\":\"rgba(132, 118, 202, 0.8999999999999999)\"},\"name\":\"La Pampa\",\"orientation\":\"v\",\"y\":[48.43,49.71,55.78,51.27,55.51,56.71,57.96,58.76,57.84,60.44,61.73,63.02,62.67,63.49,69.14,71.05,71.75,71.04,71.75,73.49,76.35,77.08,77.45,76.92,75.77,76.1,79.26,81.77,81.78,82.08,84.28,89.57,91.66,92.98,96.59,94.8],\"type\":\"box\"},{\"boxpoints\":false,\"line\":{\"width\":1.3},\"marker\":{\"color\":\"rgba(101, 101, 101, 0.8999999999999999)\"},\"name\":\"La Rioja\",\"orientation\":\"v\",\"y\":[16.29,16.5,16.51,17.01,16.7,16.88,17.15,17.32,16.83,16.88,17.07,16.46,16.2,16.2,51.47,51.57,51.44,50.98,50.73,50.35,50.18,48.7,47.94,47.14,46.35,49.84,50.12,50.11,49.81,76.98,77.26,77.92,78.77,80.14,80.66,79.86],\"type\":\"box\"},{\"boxpoints\":false,\"line\":{\"width\":1.3},\"marker\":{\"color\":\"rgba(251, 193, 94, 0.8999999999999999)\"},\"name\":\"Mendoza\",\"orientation\":\"v\",\"y\":[31.91,32.1,32.31,32.64,32.37,32.49,32.49,32.49,32.12,32.13,32.09,32.11,31.84,31.76,35.7,33.33,37.07,36.97,37.99,37.76,37.66,40.75,40.74,33.65,33.14,36.25,37.35,38.63,39.15,40.97,45.55,47.51,48.74,49.39,51.03,51.36],\"type\":\"box\"},{\"boxpoints\":false,\"line\":{\"width\":1.3},\"marker\":{\"color\":\"rgba(142, 186, 66, 0.8999999999999999)\"},\"name\":\"Misiones\",\"orientation\":\"v\",\"y\":[23.14,23.37,23.57,24.16,26.31,27.35,28.31,28.69,28.37,29.24,29.91,29.72,29.52,30.09,30.21,31.14,30.96,31.63,32.1,34.45,36.26,39.15,39.33,39.79,39.02,40.89,41.6,42.64,43.17,45.01,45.57,49.06,49.04,51.0,51.82,52.85],\"type\":\"box\"},{\"boxpoints\":false,\"line\":{\"width\":1.3},\"marker\":{\"color\":\"rgba(142, 186, 66, 0.7999999999999998)\"},\"name\":\"Neuqu\\u00e9n\",\"orientation\":\"v\",\"y\":[49.79,50.84,56.4,52.55,51.95,53.12,54.6,58.29,55.75,59.1,60.21,60.87,61.02,61.91,60.83,61.24,61.52,60.24,60.49,59.07,58.88,63.08,64.14,59.36,61.85,63.9,65.24,67.0,66.84,69.14,69.71,73.3,74.17,80.02,80.37,78.67],\"type\":\"box\"},{\"boxpoints\":false,\"line\":{\"width\":1.3},\"marker\":{\"color\":\"rgba(255, 181, 184, 0.7999999999999998)\"},\"name\":\"R\\u00edo Negro\",\"orientation\":\"v\",\"y\":[44.91,45.33,46.2,45.48,45.33,45.98,46.39,46.44,45.84,46.24,46.39,46.39,46.03,46.02,48.52,49.38,49.82,50.15,50.54,51.86,53.57,61.09,63.42,55.71,55.12,56.37,57.05,61.09,60.88,61.94,61.97,65.69,67.04,67.85,67.98,68.42],\"type\":\"box\"},{\"boxpoints\":false,\"line\":{\"width\":1.3},\"marker\":{\"color\":\"rgba(226, 74, 51, 0.7999999999999998)\"},\"name\":\"Salta\",\"orientation\":\"v\",\"y\":[28.7,28.91,29.22,29.53,30.01,30.46,31.18,31.59,31.32,32.08,32.96,32.69,32.58,32.74,39.84,39.8,39.78,39.94,39.43,39.8,40.1,41.89,44.48,50.35,49.6,51.58,52.32,54.04,53.93,54.93,55.96,56.81,56.11,57.54,57.76,57.96],\"type\":\"box\"},{\"boxpoints\":false,\"line\":{\"width\":1.3},\"marker\":{\"color\":\"rgba(62, 111, 176, 0.7999999999999998)\"},\"name\":\"San Juan\",\"orientation\":\"v\",\"y\":[27.6,27.78,27.85,28.04,27.55,27.64,27.67,27.66,27.33,27.34,27.32,27.29,27.04,26.96,32.37,30.3,32.61,32.95,33.05,31.9,31.83,35.6,37.06,32.85,32.39,35.09,38.79,36.32,39.06,39.28,39.46,39.59,43.55,49.46,50.8,50.88],\"type\":\"box\"},{\"boxpoints\":false,\"line\":{\"width\":1.3},\"marker\":{\"color\":\"rgba(132, 118, 202, 0.7999999999999998)\"},\"name\":\"San Luis\",\"orientation\":\"v\",\"y\":[9.35,9.72,9.71,9.79,9.72,9.71,9.71,9.71,9.59,9.6,9.63,9.64,9.55,9.51,15.48,10.59,15.15,15.15,52.35,67.55,67.34,81.79,85.23,74.92,76.31,78.41,79.96,81.68,81.24,83.48,79.87,80.3,80.72,81.76,81.74,90.27],\"type\":\"box\"},{\"boxpoints\":false,\"line\":{\"width\":1.3},\"marker\":{\"color\":\"rgba(101, 101, 101, 0.7999999999999998)\"},\"name\":\"Santa Cruz\",\"orientation\":\"v\",\"y\":[28.94,29.38,28.23,27.8,27.99,27.07,27.61,27.74,26.87,26.73,26.84,27.05,26.52,26.25,33.29,28.91,33.55,33.33,32.73,23.69,23.67,28.85,35.63,36.71,35.97,35.79,35.95,37.0,41.65,44.01,43.75,43.05,43.34,43.15,43.19,43.53],\"type\":\"box\"},{\"boxpoints\":false,\"line\":{\"width\":1.3},\"marker\":{\"color\":\"rgba(251, 193, 94, 0.7999999999999998)\"},\"name\":\"Santa Fe\",\"orientation\":\"v\",\"y\":[47.85,48.39,49.2,50.0,50.24,51.18,52.15,52.61,51.28,52.44,52.67,52.19,51.97,52.27,60.91,61.71,62.28,62.57,63.41,65.59,66.97,67.42,68.87,69.48,69.52,70.0,72.12,73.58,73.92,75.07,75.02,77.09,77.3,77.9,78.55,78.4],\"type\":\"box\"},{\"boxpoints\":false,\"line\":{\"width\":1.3},\"marker\":{\"color\":\"rgba(251, 193, 94, 0.7)\"},\"name\":\"Santiago Del Estero\",\"orientation\":\"v\",\"y\":[16.31,16.7,16.49,17.27,17.06,17.11,17.12,17.0,16.21,15.89,15.33,15.07,14.7,14.12,35.12,29.13,34.99,35.26,36.25,37.4,37.52,52.79,55.3,42.92,42.47,43.47,43.38,43.75,45.67,46.56,47.0,47.05,47.17,47.7,47.98,48.05],\"type\":\"box\"},{\"boxpoints\":false,\"line\":{\"width\":1.3},\"marker\":{\"color\":\"rgba(142, 186, 66, 0.7)\"},\"name\":\"Tierra Del Fuego\",\"orientation\":\"v\",\"y\":[63.97,64.36,65.69,66.14,74.23,74.51,74.86,66.46,65.83,67.72,68.94,70.31,68.92,68.46,65.74,59.89,65.2,91.61,92.77,93.59,93.38,94.8,96.46,79.7,76.07,76.37,76.81,76.27,77.35,67.89,94.95,98.4,98.29,99.86,99.51,101.44],\"type\":\"box\"},{\"boxpoints\":false,\"line\":{\"width\":1.3},\"marker\":{\"color\":\"rgba(255, 181, 184, 0.7)\"},\"name\":\"Tucum\\u00e1n\",\"orientation\":\"v\",\"y\":[33.42,33.94,33.94,35.32,35.08,35.69,36.61,37.06,36.72,37.24,37.9,37.98,37.9,38.19,39.7,39.9,41.18,41.51,41.68,41.76,41.63,40.14,39.49,47.65,47.85,51.78,53.23,54.78,54.82,54.93,54.64,55.93,57.39,59.31,61.14,61.04],\"type\":\"box\"}],                        {\"legend\":{\"bgcolor\":\"#FFFFFF\",\"font\":{\"color\":\"#666666\"}},\"paper_bgcolor\":\"#FFFFFF\",\"plot_bgcolor\":\"#E5E5E5\",\"template\":{\"data\":{\"barpolar\":[{\"marker\":{\"line\":{\"color\":\"#E5ECF6\",\"width\":0.5},\"pattern\":{\"fillmode\":\"overlay\",\"size\":10,\"solidity\":0.2}},\"type\":\"barpolar\"}],\"bar\":[{\"error_x\":{\"color\":\"#2a3f5f\"},\"error_y\":{\"color\":\"#2a3f5f\"},\"marker\":{\"line\":{\"color\":\"#E5ECF6\",\"width\":0.5},\"pattern\":{\"fillmode\":\"overlay\",\"size\":10,\"solidity\":0.2}},\"type\":\"bar\"}],\"carpet\":[{\"aaxis\":{\"endlinecolor\":\"#2a3f5f\",\"gridcolor\":\"white\",\"linecolor\":\"white\",\"minorgridcolor\":\"white\",\"startlinecolor\":\"#2a3f5f\"},\"baxis\":{\"endlinecolor\":\"#2a3f5f\",\"gridcolor\":\"white\",\"linecolor\":\"white\",\"minorgridcolor\":\"white\",\"startlinecolor\":\"#2a3f5f\"},\"type\":\"carpet\"}],\"choropleth\":[{\"colorbar\":{\"outlinewidth\":0,\"ticks\":\"\"},\"type\":\"choropleth\"}],\"contourcarpet\":[{\"colorbar\":{\"outlinewidth\":0,\"ticks\":\"\"},\"type\":\"contourcarpet\"}],\"contour\":[{\"colorbar\":{\"outlinewidth\":0,\"ticks\":\"\"},\"colorscale\":[[0.0,\"#0d0887\"],[0.1111111111111111,\"#46039f\"],[0.2222222222222222,\"#7201a8\"],[0.3333333333333333,\"#9c179e\"],[0.4444444444444444,\"#bd3786\"],[0.5555555555555556,\"#d8576b\"],[0.6666666666666666,\"#ed7953\"],[0.7777777777777778,\"#fb9f3a\"],[0.8888888888888888,\"#fdca26\"],[1.0,\"#f0f921\"]],\"type\":\"contour\"}],\"heatmapgl\":[{\"colorbar\":{\"outlinewidth\":0,\"ticks\":\"\"},\"colorscale\":[[0.0,\"#0d0887\"],[0.1111111111111111,\"#46039f\"],[0.2222222222222222,\"#7201a8\"],[0.3333333333333333,\"#9c179e\"],[0.4444444444444444,\"#bd3786\"],[0.5555555555555556,\"#d8576b\"],[0.6666666666666666,\"#ed7953\"],[0.7777777777777778,\"#fb9f3a\"],[0.8888888888888888,\"#fdca26\"],[1.0,\"#f0f921\"]],\"type\":\"heatmapgl\"}],\"heatmap\":[{\"colorbar\":{\"outlinewidth\":0,\"ticks\":\"\"},\"colorscale\":[[0.0,\"#0d0887\"],[0.1111111111111111,\"#46039f\"],[0.2222222222222222,\"#7201a8\"],[0.3333333333333333,\"#9c179e\"],[0.4444444444444444,\"#bd3786\"],[0.5555555555555556,\"#d8576b\"],[0.6666666666666666,\"#ed7953\"],[0.7777777777777778,\"#fb9f3a\"],[0.8888888888888888,\"#fdca26\"],[1.0,\"#f0f921\"]],\"type\":\"heatmap\"}],\"histogram2dcontour\":[{\"colorbar\":{\"outlinewidth\":0,\"ticks\":\"\"},\"colorscale\":[[0.0,\"#0d0887\"],[0.1111111111111111,\"#46039f\"],[0.2222222222222222,\"#7201a8\"],[0.3333333333333333,\"#9c179e\"],[0.4444444444444444,\"#bd3786\"],[0.5555555555555556,\"#d8576b\"],[0.6666666666666666,\"#ed7953\"],[0.7777777777777778,\"#fb9f3a\"],[0.8888888888888888,\"#fdca26\"],[1.0,\"#f0f921\"]],\"type\":\"histogram2dcontour\"}],\"histogram2d\":[{\"colorbar\":{\"outlinewidth\":0,\"ticks\":\"\"},\"colorscale\":[[0.0,\"#0d0887\"],[0.1111111111111111,\"#46039f\"],[0.2222222222222222,\"#7201a8\"],[0.3333333333333333,\"#9c179e\"],[0.4444444444444444,\"#bd3786\"],[0.5555555555555556,\"#d8576b\"],[0.6666666666666666,\"#ed7953\"],[0.7777777777777778,\"#fb9f3a\"],[0.8888888888888888,\"#fdca26\"],[1.0,\"#f0f921\"]],\"type\":\"histogram2d\"}],\"histogram\":[{\"marker\":{\"pattern\":{\"fillmode\":\"overlay\",\"size\":10,\"solidity\":0.2}},\"type\":\"histogram\"}],\"mesh3d\":[{\"colorbar\":{\"outlinewidth\":0,\"ticks\":\"\"},\"type\":\"mesh3d\"}],\"parcoords\":[{\"line\":{\"colorbar\":{\"outlinewidth\":0,\"ticks\":\"\"}},\"type\":\"parcoords\"}],\"pie\":[{\"automargin\":true,\"type\":\"pie\"}],\"scatter3d\":[{\"line\":{\"colorbar\":{\"outlinewidth\":0,\"ticks\":\"\"}},\"marker\":{\"colorbar\":{\"outlinewidth\":0,\"ticks\":\"\"}},\"type\":\"scatter3d\"}],\"scattercarpet\":[{\"marker\":{\"colorbar\":{\"outlinewidth\":0,\"ticks\":\"\"}},\"type\":\"scattercarpet\"}],\"scattergeo\":[{\"marker\":{\"colorbar\":{\"outlinewidth\":0,\"ticks\":\"\"}},\"type\":\"scattergeo\"}],\"scattergl\":[{\"marker\":{\"colorbar\":{\"outlinewidth\":0,\"ticks\":\"\"}},\"type\":\"scattergl\"}],\"scattermapbox\":[{\"marker\":{\"colorbar\":{\"outlinewidth\":0,\"ticks\":\"\"}},\"type\":\"scattermapbox\"}],\"scatterpolargl\":[{\"marker\":{\"colorbar\":{\"outlinewidth\":0,\"ticks\":\"\"}},\"type\":\"scatterpolargl\"}],\"scatterpolar\":[{\"marker\":{\"colorbar\":{\"outlinewidth\":0,\"ticks\":\"\"}},\"type\":\"scatterpolar\"}],\"scatter\":[{\"fillpattern\":{\"fillmode\":\"overlay\",\"size\":10,\"solidity\":0.2},\"type\":\"scatter\"}],\"scatterternary\":[{\"marker\":{\"colorbar\":{\"outlinewidth\":0,\"ticks\":\"\"}},\"type\":\"scatterternary\"}],\"surface\":[{\"colorbar\":{\"outlinewidth\":0,\"ticks\":\"\"},\"colorscale\":[[0.0,\"#0d0887\"],[0.1111111111111111,\"#46039f\"],[0.2222222222222222,\"#7201a8\"],[0.3333333333333333,\"#9c179e\"],[0.4444444444444444,\"#bd3786\"],[0.5555555555555556,\"#d8576b\"],[0.6666666666666666,\"#ed7953\"],[0.7777777777777778,\"#fb9f3a\"],[0.8888888888888888,\"#fdca26\"],[1.0,\"#f0f921\"]],\"type\":\"surface\"}],\"table\":[{\"cells\":{\"fill\":{\"color\":\"#EBF0F8\"},\"line\":{\"color\":\"white\"}},\"header\":{\"fill\":{\"color\":\"#C8D4E3\"},\"line\":{\"color\":\"white\"}},\"type\":\"table\"}]},\"layout\":{\"annotationdefaults\":{\"arrowcolor\":\"#2a3f5f\",\"arrowhead\":0,\"arrowwidth\":1},\"autotypenumbers\":\"strict\",\"coloraxis\":{\"colorbar\":{\"outlinewidth\":0,\"ticks\":\"\"}},\"colorscale\":{\"diverging\":[[0,\"#8e0152\"],[0.1,\"#c51b7d\"],[0.2,\"#de77ae\"],[0.3,\"#f1b6da\"],[0.4,\"#fde0ef\"],[0.5,\"#f7f7f7\"],[0.6,\"#e6f5d0\"],[0.7,\"#b8e186\"],[0.8,\"#7fbc41\"],[0.9,\"#4d9221\"],[1,\"#276419\"]],\"sequential\":[[0.0,\"#0d0887\"],[0.1111111111111111,\"#46039f\"],[0.2222222222222222,\"#7201a8\"],[0.3333333333333333,\"#9c179e\"],[0.4444444444444444,\"#bd3786\"],[0.5555555555555556,\"#d8576b\"],[0.6666666666666666,\"#ed7953\"],[0.7777777777777778,\"#fb9f3a\"],[0.8888888888888888,\"#fdca26\"],[1.0,\"#f0f921\"]],\"sequentialminus\":[[0.0,\"#0d0887\"],[0.1111111111111111,\"#46039f\"],[0.2222222222222222,\"#7201a8\"],[0.3333333333333333,\"#9c179e\"],[0.4444444444444444,\"#bd3786\"],[0.5555555555555556,\"#d8576b\"],[0.6666666666666666,\"#ed7953\"],[0.7777777777777778,\"#fb9f3a\"],[0.8888888888888888,\"#fdca26\"],[1.0,\"#f0f921\"]]},\"colorway\":[\"#636efa\",\"#EF553B\",\"#00cc96\",\"#ab63fa\",\"#FFA15A\",\"#19d3f3\",\"#FF6692\",\"#B6E880\",\"#FF97FF\",\"#FECB52\"],\"font\":{\"color\":\"#2a3f5f\"},\"geo\":{\"bgcolor\":\"white\",\"lakecolor\":\"white\",\"landcolor\":\"#E5ECF6\",\"showlakes\":true,\"showland\":true,\"subunitcolor\":\"white\"},\"hoverlabel\":{\"align\":\"left\"},\"hovermode\":\"closest\",\"mapbox\":{\"style\":\"light\"},\"paper_bgcolor\":\"white\",\"plot_bgcolor\":\"#E5ECF6\",\"polar\":{\"angularaxis\":{\"gridcolor\":\"white\",\"linecolor\":\"white\",\"ticks\":\"\"},\"bgcolor\":\"#E5ECF6\",\"radialaxis\":{\"gridcolor\":\"white\",\"linecolor\":\"white\",\"ticks\":\"\"}},\"scene\":{\"xaxis\":{\"backgroundcolor\":\"#E5ECF6\",\"gridcolor\":\"white\",\"gridwidth\":2,\"linecolor\":\"white\",\"showbackground\":true,\"ticks\":\"\",\"zerolinecolor\":\"white\"},\"yaxis\":{\"backgroundcolor\":\"#E5ECF6\",\"gridcolor\":\"white\",\"gridwidth\":2,\"linecolor\":\"white\",\"showbackground\":true,\"ticks\":\"\",\"zerolinecolor\":\"white\"},\"zaxis\":{\"backgroundcolor\":\"#E5ECF6\",\"gridcolor\":\"white\",\"gridwidth\":2,\"linecolor\":\"white\",\"showbackground\":true,\"ticks\":\"\",\"zerolinecolor\":\"white\"}},\"shapedefaults\":{\"line\":{\"color\":\"#2a3f5f\"}},\"ternary\":{\"aaxis\":{\"gridcolor\":\"white\",\"linecolor\":\"white\",\"ticks\":\"\"},\"baxis\":{\"gridcolor\":\"white\",\"linecolor\":\"white\",\"ticks\":\"\"},\"bgcolor\":\"#E5ECF6\",\"caxis\":{\"gridcolor\":\"white\",\"linecolor\":\"white\",\"ticks\":\"\"}},\"title\":{\"x\":0.05},\"xaxis\":{\"automargin\":true,\"gridcolor\":\"white\",\"linecolor\":\"white\",\"ticks\":\"\",\"title\":{\"standoff\":15},\"zerolinecolor\":\"white\",\"zerolinewidth\":2},\"yaxis\":{\"automargin\":true,\"gridcolor\":\"white\",\"linecolor\":\"white\",\"ticks\":\"\",\"title\":{\"standoff\":15},\"zerolinecolor\":\"white\",\"zerolinewidth\":2}}},\"title\":{\"font\":{\"color\":\"#151516\"}},\"xaxis\":{\"gridcolor\":\"#F6F6F6\",\"showgrid\":true,\"tickfont\":{\"color\":\"#666666\"},\"title\":{\"font\":{\"color\":\"#666666\"},\"text\":\"\"},\"zerolinecolor\":\"#F6F6F6\"},\"yaxis\":{\"gridcolor\":\"#F6F6F6\",\"showgrid\":true,\"tickfont\":{\"color\":\"#666666\"},\"title\":{\"font\":{\"color\":\"#666666\"},\"text\":\"\"},\"zerolinecolor\":\"#F6F6F6\"}},                        {\"showLink\": true, \"linkText\": \"Export to plot.ly\", \"plotlyServerURL\": \"https://plot.ly\", \"responsive\": true}                    ).then(function(){\n",
       "                            \n",
       "var gd = document.getElementById('730abb4a-0783-4793-9e07-3a8b77628e2b');\n",
       "var x = new MutationObserver(function (mutations, observer) {{\n",
       "        var display = window.getComputedStyle(gd).display;\n",
       "        if (!display || display === 'none') {{\n",
       "            console.log([gd, 'removed!']);\n",
       "            Plotly.purge(gd);\n",
       "            observer.disconnect();\n",
       "        }}\n",
       "}});\n",
       "\n",
       "// Listen for the removal of the full notebook cells\n",
       "var notebookContainer = gd.closest('#notebook-container');\n",
       "if (notebookContainer) {{\n",
       "    x.observe(notebookContainer, {childList: true});\n",
       "}}\n",
       "\n",
       "// Listen for the clearing of the current output cell\n",
       "var outputEl = gd.closest('.output');\n",
       "if (outputEl) {{\n",
       "    x.observe(outputEl, {childList: true});\n",
       "}}\n",
       "\n",
       "                        })                };                });            </script>        </div>"
      ]
     },
     "metadata": {},
     "output_type": "display_data"
    }
   ],
   "source": [
    "IxProv.iplot(kind='box')"
   ]
  },
  {
   "attachments": {},
   "cell_type": "markdown",
   "metadata": {},
   "source": [
    "##### Acceso por cada 100 hogares\n",
    "\n",
    "En este gráfico también podemos observar los elevados cambios en la Rioja y San Luis, siendo esta última región la que cuenta con mayor crecimiento en el país.\n",
    "En contraste con las provincias de Formosa y Santa Cruz que son las que tienen mayor rezago en acceso a intenet"
   ]
  },
  {
   "cell_type": "code",
   "execution_count": 1298,
   "metadata": {},
   "outputs": [
    {
     "data": {
      "application/vnd.plotly.v1+json": {
       "config": {
        "linkText": "Export to plot.ly",
        "plotlyServerURL": "https://plot.ly",
        "showLink": true
       },
       "data": [
        {
         "line": {
          "color": "rgba(226, 74, 51, 1.0)",
          "dash": "solid",
          "shape": "linear",
          "width": 1.3
         },
         "mode": "lines",
         "name": "Buenos Aires",
         "text": "",
         "type": "scatter",
         "x": [
          "2014-T1",
          "2014-T2",
          "2014-T3",
          "2014-T4",
          "2015-T1",
          "2015-T2",
          "2015-T3",
          "2015-T4",
          "2016-T1",
          "2016-T2",
          "2016-T3",
          "2016-T4",
          "2017-T1",
          "2017-T2",
          "2017-T3",
          "2017-T4",
          "2018-T1",
          "2018-T2",
          "2018-T3",
          "2018-T4",
          "2019-T1",
          "2019-T2",
          "2019-T3",
          "2019-T4",
          "2020-T1",
          "2020-T2",
          "2020-T3",
          "2020-T4",
          "2021-T1",
          "2021-T2",
          "2021-T3",
          "2021-T4",
          "2022-T1",
          "2022-T2",
          "2022-T3",
          "2022-T4"
         ],
         "y": [
          "",
          0.490000000000002,
          1.6899999999999977,
          -0.6599999999999966,
          0.27999999999999403,
          0.4299999999999997,
          0.8900000000000006,
          0.6000000000000014,
          -0.9499999999999957,
          2,
          0.7999999999999972,
          1.1000000000000014,
          -2.6700000000000017,
          -2.299999999999997,
          -0.6400000000000006,
          1.9799999999999969,
          5.020000000000003,
          0.14999999999999858,
          1.6599999999999966,
          0.1599999999999966,
          1.6400000000000006,
          1.6099999999999994,
          1.5100000000000051,
          -5.109999999999999,
          0.0799999999999983,
          0.8900000000000006,
          2.4399999999999977,
          1.3200000000000074,
          0.12999999999999545,
          0.8900000000000006,
          1.6800000000000068,
          3.9799999999999898,
          0.4200000000000017,
          1.5,
          0.5300000000000011,
          0.8299999999999983
         ]
        },
        {
         "line": {
          "color": "rgba(62, 111, 176, 1.0)",
          "dash": "solid",
          "shape": "linear",
          "width": 1.3
         },
         "mode": "lines",
         "name": "Capital Federal",
         "text": "",
         "type": "scatter",
         "x": [
          "2014-T1",
          "2014-T2",
          "2014-T3",
          "2014-T4",
          "2015-T1",
          "2015-T2",
          "2015-T3",
          "2015-T4",
          "2016-T1",
          "2016-T2",
          "2016-T3",
          "2016-T4",
          "2017-T1",
          "2017-T2",
          "2017-T3",
          "2017-T4",
          "2018-T1",
          "2018-T2",
          "2018-T3",
          "2018-T4",
          "2019-T1",
          "2019-T2",
          "2019-T3",
          "2019-T4",
          "2020-T1",
          "2020-T2",
          "2020-T3",
          "2020-T4",
          "2021-T1",
          "2021-T2",
          "2021-T3",
          "2021-T4",
          "2022-T1",
          "2022-T2",
          "2022-T3",
          "2022-T4"
         ],
         "y": [
          "",
          0.8900000000000006,
          0.6599999999999966,
          1.1000000000000085,
          0,
          1.1699999999999875,
          2.220000000000013,
          -0.1600000000000108,
          -2.969999999999999,
          4.88000000000001,
          0.7299999999999898,
          -0.14000000000000057,
          -12.259999999999991,
          15.689999999999998,
          -2.200000000000003,
          1.0400000000000063,
          -16.66000000000001,
          0.29000000000000625,
          1.9200000000000017,
          -0.18000000000000682,
          0.9300000000000068,
          1.3499999999999943,
          2.1000000000000085,
          -6.400000000000006,
          -0.269999999999996,
          0.4299999999999926,
          1.2700000000000102,
          0.6299999999999955,
          0.10999999999999943,
          1.7199999999999989,
          1.1299999999999955,
          0,
          0.5300000000000011,
          9.510000000000005,
          0.9699999999999989,
          0.45000000000000284
         ]
        },
        {
         "line": {
          "color": "rgba(132, 118, 202, 1.0)",
          "dash": "solid",
          "shape": "linear",
          "width": 1.3
         },
         "mode": "lines",
         "name": "Catamarca",
         "text": "",
         "type": "scatter",
         "x": [
          "2014-T1",
          "2014-T2",
          "2014-T3",
          "2014-T4",
          "2015-T1",
          "2015-T2",
          "2015-T3",
          "2015-T4",
          "2016-T1",
          "2016-T2",
          "2016-T3",
          "2016-T4",
          "2017-T1",
          "2017-T2",
          "2017-T3",
          "2017-T4",
          "2018-T1",
          "2018-T2",
          "2018-T3",
          "2018-T4",
          "2019-T1",
          "2019-T2",
          "2019-T3",
          "2019-T4",
          "2020-T1",
          "2020-T2",
          "2020-T3",
          "2020-T4",
          "2021-T1",
          "2021-T2",
          "2021-T3",
          "2021-T4",
          "2022-T1",
          "2022-T2",
          "2022-T3",
          "2022-T4"
         ],
         "y": [
          "",
          0.4499999999999993,
          0.010000000000001563,
          0.8000000000000007,
          -0.40000000000000213,
          0.33999999999999986,
          0.41000000000000014,
          0.379999999999999,
          -0.3299999999999983,
          0.16000000000000014,
          0.41000000000000014,
          0.05999999999999872,
          -0.879999999999999,
          0.3200000000000003,
          6.510000000000002,
          -3.870000000000001,
          4.169999999999998,
          0.07000000000000028,
          0.060000000000002274,
          -0.6900000000000048,
          -0.03999999999999915,
          -0.05999999999999517,
          -1.2500000000000036,
          5.559999999999999,
          1.1799999999999997,
          7.810000000000002,
          1.7299999999999969,
          2.25,
          -0.509999999999998,
          3.440000000000005,
          0.36999999999999744,
          2.539999999999999,
          2.960000000000001,
          4.189999999999998,
          2.9299999999999997,
          0.4399999999999977
         ]
        },
        {
         "line": {
          "color": "rgba(101, 101, 101, 1.0)",
          "dash": "solid",
          "shape": "linear",
          "width": 1.3
         },
         "mode": "lines",
         "name": "Chaco",
         "text": "",
         "type": "scatter",
         "x": [
          "2014-T1",
          "2014-T2",
          "2014-T3",
          "2014-T4",
          "2015-T1",
          "2015-T2",
          "2015-T3",
          "2015-T4",
          "2016-T1",
          "2016-T2",
          "2016-T3",
          "2016-T4",
          "2017-T1",
          "2017-T2",
          "2017-T3",
          "2017-T4",
          "2018-T1",
          "2018-T2",
          "2018-T3",
          "2018-T4",
          "2019-T1",
          "2019-T2",
          "2019-T3",
          "2019-T4",
          "2020-T1",
          "2020-T2",
          "2020-T3",
          "2020-T4",
          "2021-T1",
          "2021-T2",
          "2021-T3",
          "2021-T4",
          "2022-T1",
          "2022-T2",
          "2022-T3",
          "2022-T4"
         ],
         "y": [
          "",
          0.240000000000002,
          0.14999999999999858,
          0.7600000000000016,
          4.779999999999998,
          0.8100000000000023,
          0.5,
          0.39000000000000057,
          -0.2700000000000031,
          0.5100000000000016,
          0.3200000000000003,
          -0.120000000000001,
          -0.16999999999999815,
          0.4299999999999997,
          0.9299999999999997,
          0.8299999999999983,
          0.019999999999999574,
          0.4200000000000017,
          1.0300000000000011,
          0.3100000000000023,
          0.04999999999999716,
          1.5,
          1.7100000000000009,
          0.990000000000002,
          0.6399999999999935,
          2.3500000000000014,
          1.7100000000000009,
          1.490000000000002,
          0.10999999999999943,
          0.18999999999999773,
          -0.36999999999999744,
          1.0899999999999963,
          0.010000000000005116,
          -0.2700000000000031,
          0.07000000000000028,
          -0.240000000000002
         ]
        },
        {
         "line": {
          "color": "rgba(251, 193, 94, 1.0)",
          "dash": "solid",
          "shape": "linear",
          "width": 1.3
         },
         "mode": "lines",
         "name": "Chubut",
         "text": "",
         "type": "scatter",
         "x": [
          "2014-T1",
          "2014-T2",
          "2014-T3",
          "2014-T4",
          "2015-T1",
          "2015-T2",
          "2015-T3",
          "2015-T4",
          "2016-T1",
          "2016-T2",
          "2016-T3",
          "2016-T4",
          "2017-T1",
          "2017-T2",
          "2017-T3",
          "2017-T4",
          "2018-T1",
          "2018-T2",
          "2018-T3",
          "2018-T4",
          "2019-T1",
          "2019-T2",
          "2019-T3",
          "2019-T4",
          "2020-T1",
          "2020-T2",
          "2020-T3",
          "2020-T4",
          "2021-T1",
          "2021-T2",
          "2021-T3",
          "2021-T4",
          "2022-T1",
          "2022-T2",
          "2022-T3",
          "2022-T4"
         ],
         "y": [
          "",
          0.1699999999999946,
          -0.8099999999999952,
          -0.3500000000000014,
          -2.6400000000000006,
          -1.0300000000000011,
          0.23000000000000398,
          0.0799999999999983,
          -0.7999999999999972,
          0.02999999999999403,
          0.060000000000002274,
          -0.10999999999999943,
          -0.4100000000000037,
          -0.10999999999999943,
          10.670000000000002,
          5.240000000000002,
          2.259999999999998,
          1.1799999999999997,
          1.490000000000002,
          -13.780000000000001,
          0.39000000000000057,
          3.990000000000002,
          0.5799999999999983,
          3.5799999999999983,
          0.12000000000000455,
          6.07,
          11,
          0.009999999999990905,
          0.6400000000000006,
          3.3000000000000114,
          8.419999999999987,
          1.8599999999999994,
          5.480000000000004,
          -4.859999999999999,
          1.1899999999999977,
          1.1899999999999977
         ]
        },
        {
         "line": {
          "color": "rgba(142, 186, 66, 1.0)",
          "dash": "solid",
          "shape": "linear",
          "width": 1.3
         },
         "mode": "lines",
         "name": "Corrientes",
         "text": "",
         "type": "scatter",
         "x": [
          "2014-T1",
          "2014-T2",
          "2014-T3",
          "2014-T4",
          "2015-T1",
          "2015-T2",
          "2015-T3",
          "2015-T4",
          "2016-T1",
          "2016-T2",
          "2016-T3",
          "2016-T4",
          "2017-T1",
          "2017-T2",
          "2017-T3",
          "2017-T4",
          "2018-T1",
          "2018-T2",
          "2018-T3",
          "2018-T4",
          "2019-T1",
          "2019-T2",
          "2019-T3",
          "2019-T4",
          "2020-T1",
          "2020-T2",
          "2020-T3",
          "2020-T4",
          "2021-T1",
          "2021-T2",
          "2021-T3",
          "2021-T4",
          "2022-T1",
          "2022-T2",
          "2022-T3",
          "2022-T4"
         ],
         "y": [
          "",
          0.259999999999998,
          0.21000000000000085,
          0.7699999999999996,
          5.390000000000001,
          0.629999999999999,
          0.5900000000000034,
          0.16999999999999815,
          -0.26000000000000156,
          0.5,
          0.490000000000002,
          -0.08999999999999986,
          -0.03999999999999915,
          0.4499999999999993,
          0.7800000000000011,
          0.3500000000000014,
          0.13999999999999346,
          1.1500000000000057,
          0.4399999999999977,
          0.3200000000000003,
          0.5600000000000023,
          3.029999999999994,
          0.3300000000000054,
          0.28000000000000114,
          -0.04000000000000625,
          1.5700000000000003,
          1.4500000000000028,
          0.6799999999999997,
          0.22999999999999687,
          0.8800000000000026,
          1.3599999999999994,
          0.6099999999999994,
          2.1300000000000026,
          0.7100000000000009,
          -0.14000000000000057,
          3.4299999999999997
         ]
        },
        {
         "line": {
          "color": "rgba(255, 181, 184, 1.0)",
          "dash": "solid",
          "shape": "linear",
          "width": 1.3
         },
         "mode": "lines",
         "name": "Córdoba",
         "text": "",
         "type": "scatter",
         "x": [
          "2014-T1",
          "2014-T2",
          "2014-T3",
          "2014-T4",
          "2015-T1",
          "2015-T2",
          "2015-T3",
          "2015-T4",
          "2016-T1",
          "2016-T2",
          "2016-T3",
          "2016-T4",
          "2017-T1",
          "2017-T2",
          "2017-T3",
          "2017-T4",
          "2018-T1",
          "2018-T2",
          "2018-T3",
          "2018-T4",
          "2019-T1",
          "2019-T2",
          "2019-T3",
          "2019-T4",
          "2020-T1",
          "2020-T2",
          "2020-T3",
          "2020-T4",
          "2021-T1",
          "2021-T2",
          "2021-T3",
          "2021-T4",
          "2022-T1",
          "2022-T2",
          "2022-T3",
          "2022-T4"
         ],
         "y": [
          "",
          0.9299999999999997,
          0.779999999999994,
          0.47000000000000597,
          0,
          1.1699999999999946,
          1.2100000000000009,
          0.28000000000000114,
          -2.0799999999999983,
          2.269999999999996,
          0.6900000000000048,
          -0.5399999999999991,
          -0.05000000000000426,
          1.3200000000000003,
          3.3400000000000034,
          1.019999999999996,
          0.19000000000000483,
          -0.25,
          0.9699999999999918,
          0.8500000000000085,
          0.4299999999999926,
          2.549999999999997,
          0.5200000000000102,
          1.8900000000000006,
          0.20999999999999375,
          2.019999999999996,
          2.510000000000005,
          2.8599999999999994,
          0.5100000000000051,
          1.5300000000000011,
          1.1599999999999966,
          3.230000000000004,
          1.25,
          1.7199999999999989,
          0.8299999999999983,
          0.7199999999999989
         ]
        },
        {
         "line": {
          "color": "rgba(255, 181, 184, 0.8999999999999999)",
          "dash": "solid",
          "shape": "linear",
          "width": 1.3
         },
         "mode": "lines",
         "name": "Entre Ríos",
         "text": "",
         "type": "scatter",
         "x": [
          "2014-T1",
          "2014-T2",
          "2014-T3",
          "2014-T4",
          "2015-T1",
          "2015-T2",
          "2015-T3",
          "2015-T4",
          "2016-T1",
          "2016-T2",
          "2016-T3",
          "2016-T4",
          "2017-T1",
          "2017-T2",
          "2017-T3",
          "2017-T4",
          "2018-T1",
          "2018-T2",
          "2018-T3",
          "2018-T4",
          "2019-T1",
          "2019-T2",
          "2019-T3",
          "2019-T4",
          "2020-T1",
          "2020-T2",
          "2020-T3",
          "2020-T4",
          "2021-T1",
          "2021-T2",
          "2021-T3",
          "2021-T4",
          "2022-T1",
          "2022-T2",
          "2022-T3",
          "2022-T4"
         ],
         "y": [
          "",
          0.3200000000000003,
          0.28999999999999915,
          1.0500000000000043,
          6.039999999999999,
          0.8599999999999994,
          0.75,
          0.4299999999999997,
          -0.259999999999998,
          0.8900000000000006,
          0.6999999999999957,
          -0.22999999999999687,
          -0.30000000000000426,
          0.480000000000004,
          0.5700000000000003,
          1.9299999999999997,
          0.7899999999999991,
          0.5200000000000031,
          1.019999999999996,
          4.149999999999999,
          2.4200000000000017,
          0.6899999999999977,
          0.4200000000000017,
          0.09000000000000341,
          -1.8700000000000045,
          0.4200000000000017,
          1.6499999999999986,
          1.2800000000000011,
          0.9699999999999989,
          1.2199999999999989,
          0.5200000000000031,
          0.9799999999999969,
          0.5400000000000063,
          0.19999999999999574,
          -0.22999999999999687,
          0.3400000000000034
         ]
        },
        {
         "line": {
          "color": "rgba(226, 74, 51, 0.8999999999999999)",
          "dash": "solid",
          "shape": "linear",
          "width": 1.3
         },
         "mode": "lines",
         "name": "Formosa",
         "text": "",
         "type": "scatter",
         "x": [
          "2014-T1",
          "2014-T2",
          "2014-T3",
          "2014-T4",
          "2015-T1",
          "2015-T2",
          "2015-T3",
          "2015-T4",
          "2016-T1",
          "2016-T2",
          "2016-T3",
          "2016-T4",
          "2017-T1",
          "2017-T2",
          "2017-T3",
          "2017-T4",
          "2018-T1",
          "2018-T2",
          "2018-T3",
          "2018-T4",
          "2019-T1",
          "2019-T2",
          "2019-T3",
          "2019-T4",
          "2020-T1",
          "2020-T2",
          "2020-T3",
          "2020-T4",
          "2021-T1",
          "2021-T2",
          "2021-T3",
          "2021-T4",
          "2022-T1",
          "2022-T2",
          "2022-T3",
          "2022-T4"
         ],
         "y": [
          "",
          0.11999999999999744,
          0.23000000000000043,
          0.19000000000000128,
          0.16000000000000014,
          0.23999999999999844,
          0.4800000000000004,
          0.23000000000000043,
          -0.030000000000001137,
          0.33000000000000185,
          -0.7300000000000004,
          1.2100000000000009,
          -0.010000000000001563,
          0.129999999999999,
          1.3800000000000026,
          -0.08000000000000185,
          0.129999999999999,
          8.030000000000001,
          0.14999999999999858,
          0.16000000000000014,
          -0.05999999999999872,
          0.740000000000002,
          -0.3100000000000023,
          0.35999999999999943,
          -0.23999999999999844,
          0.9100000000000001,
          0.7699999999999996,
          0.5800000000000018,
          0.23999999999999488,
          0.5,
          0.730000000000004,
          0.490000000000002,
          0.509999999999998,
          8.46,
          0.3399999999999963,
          -4.350000000000001
         ]
        },
        {
         "line": {
          "color": "rgba(62, 111, 176, 0.8999999999999999)",
          "dash": "solid",
          "shape": "linear",
          "width": 1.3
         },
         "mode": "lines",
         "name": "Jujuy",
         "text": "",
         "type": "scatter",
         "x": [
          "2014-T1",
          "2014-T2",
          "2014-T3",
          "2014-T4",
          "2015-T1",
          "2015-T2",
          "2015-T3",
          "2015-T4",
          "2016-T1",
          "2016-T2",
          "2016-T3",
          "2016-T4",
          "2017-T1",
          "2017-T2",
          "2017-T3",
          "2017-T4",
          "2018-T1",
          "2018-T2",
          "2018-T3",
          "2018-T4",
          "2019-T1",
          "2019-T2",
          "2019-T3",
          "2019-T4",
          "2020-T1",
          "2020-T2",
          "2020-T3",
          "2020-T4",
          "2021-T1",
          "2021-T2",
          "2021-T3",
          "2021-T4",
          "2022-T1",
          "2022-T2",
          "2022-T3",
          "2022-T4"
         ],
         "y": [
          "",
          0.28999999999999915,
          -0.33999999999999986,
          1.2300000000000004,
          0.08999999999999986,
          0.5999999999999979,
          0.9800000000000004,
          0.1999999999999993,
          -0.05999999999999872,
          0.4800000000000004,
          0.7199999999999989,
          0.03999999999999915,
          0.11000000000000298,
          -0.360000000000003,
          0.25,
          0.08999999999999986,
          0.38000000000000256,
          0.3099999999999987,
          -0.16999999999999815,
          23.27,
          -0.12000000000000455,
          -1.8999999999999986,
          -0.18999999999999773,
          1.0600000000000023,
          1.2899999999999991,
          1.2199999999999989,
          6.149999999999999,
          -0.5799999999999983,
          2.1700000000000017,
          0.5499999999999972,
          -0.490000000000002,
          1.230000000000004,
          1.1400000000000006,
          -0.740000000000002,
          1.5899999999999963,
          -0.44999999999999574
         ]
        },
        {
         "line": {
          "color": "rgba(132, 118, 202, 0.8999999999999999)",
          "dash": "solid",
          "shape": "linear",
          "width": 1.3
         },
         "mode": "lines",
         "name": "La Pampa",
         "text": "",
         "type": "scatter",
         "x": [
          "2014-T1",
          "2014-T2",
          "2014-T3",
          "2014-T4",
          "2015-T1",
          "2015-T2",
          "2015-T3",
          "2015-T4",
          "2016-T1",
          "2016-T2",
          "2016-T3",
          "2016-T4",
          "2017-T1",
          "2017-T2",
          "2017-T3",
          "2017-T4",
          "2018-T1",
          "2018-T2",
          "2018-T3",
          "2018-T4",
          "2019-T1",
          "2019-T2",
          "2019-T3",
          "2019-T4",
          "2020-T1",
          "2020-T2",
          "2020-T3",
          "2020-T4",
          "2021-T1",
          "2021-T2",
          "2021-T3",
          "2021-T4",
          "2022-T1",
          "2022-T2",
          "2022-T3",
          "2022-T4"
         ],
         "y": [
          "",
          1.2800000000000011,
          6.07,
          -4.509999999999998,
          4.239999999999995,
          1.2000000000000028,
          1.25,
          0.7999999999999972,
          -0.9199999999999946,
          2.5999999999999943,
          1.2899999999999991,
          1.2900000000000063,
          -0.3500000000000014,
          0.8200000000000003,
          5.649999999999999,
          1.9099999999999966,
          0.7000000000000028,
          -0.7099999999999937,
          0.7099999999999937,
          1.7399999999999949,
          2.8599999999999994,
          0.730000000000004,
          0.37000000000000455,
          -0.5300000000000011,
          -1.1500000000000057,
          0.3299999999999983,
          3.160000000000011,
          2.509999999999991,
          0.010000000000005116,
          0.29999999999999716,
          2.200000000000003,
          5.289999999999992,
          2.0900000000000034,
          1.3200000000000074,
          3.6099999999999994,
          -1.7900000000000063
         ]
        },
        {
         "line": {
          "color": "rgba(101, 101, 101, 0.8999999999999999)",
          "dash": "solid",
          "shape": "linear",
          "width": 1.3
         },
         "mode": "lines",
         "name": "La Rioja",
         "text": "",
         "type": "scatter",
         "x": [
          "2014-T1",
          "2014-T2",
          "2014-T3",
          "2014-T4",
          "2015-T1",
          "2015-T2",
          "2015-T3",
          "2015-T4",
          "2016-T1",
          "2016-T2",
          "2016-T3",
          "2016-T4",
          "2017-T1",
          "2017-T2",
          "2017-T3",
          "2017-T4",
          "2018-T1",
          "2018-T2",
          "2018-T3",
          "2018-T4",
          "2019-T1",
          "2019-T2",
          "2019-T3",
          "2019-T4",
          "2020-T1",
          "2020-T2",
          "2020-T3",
          "2020-T4",
          "2021-T1",
          "2021-T2",
          "2021-T3",
          "2021-T4",
          "2022-T1",
          "2022-T2",
          "2022-T3",
          "2022-T4"
         ],
         "y": [
          "",
          0.21000000000000085,
          0.010000000000001563,
          0.5,
          -0.3100000000000023,
          0.17999999999999972,
          0.2699999999999996,
          0.1700000000000017,
          -0.490000000000002,
          0.05000000000000071,
          0.19000000000000128,
          -0.6099999999999994,
          -0.26000000000000156,
          0,
          35.269999999999996,
          0.10000000000000142,
          -0.13000000000000256,
          -0.46000000000000085,
          -0.25,
          -0.37999999999999545,
          -0.1700000000000017,
          -1.4799999999999969,
          -0.7600000000000051,
          -0.7999999999999972,
          -0.7899999999999991,
          3.490000000000002,
          0.27999999999999403,
          -0.00999999999999801,
          -0.29999999999999716,
          27.17,
          0.28000000000000114,
          0.6599999999999966,
          0.8499999999999943,
          1.3700000000000045,
          0.519999999999996,
          -0.7999999999999972
         ]
        },
        {
         "line": {
          "color": "rgba(251, 193, 94, 0.8999999999999999)",
          "dash": "solid",
          "shape": "linear",
          "width": 1.3
         },
         "mode": "lines",
         "name": "Mendoza",
         "text": "",
         "type": "scatter",
         "x": [
          "2014-T1",
          "2014-T2",
          "2014-T3",
          "2014-T4",
          "2015-T1",
          "2015-T2",
          "2015-T3",
          "2015-T4",
          "2016-T1",
          "2016-T2",
          "2016-T3",
          "2016-T4",
          "2017-T1",
          "2017-T2",
          "2017-T3",
          "2017-T4",
          "2018-T1",
          "2018-T2",
          "2018-T3",
          "2018-T4",
          "2019-T1",
          "2019-T2",
          "2019-T3",
          "2019-T4",
          "2020-T1",
          "2020-T2",
          "2020-T3",
          "2020-T4",
          "2021-T1",
          "2021-T2",
          "2021-T3",
          "2021-T4",
          "2022-T1",
          "2022-T2",
          "2022-T3",
          "2022-T4"
         ],
         "y": [
          "",
          0.19000000000000128,
          0.21000000000000085,
          0.3299999999999983,
          -0.2700000000000031,
          0.12000000000000455,
          0,
          0,
          -0.37000000000000455,
          0.010000000000005116,
          -0.03999999999999915,
          0.01999999999999602,
          -0.2699999999999996,
          -0.0799999999999983,
          3.9400000000000013,
          -2.3700000000000045,
          3.740000000000002,
          -0.10000000000000142,
          1.0200000000000031,
          -0.23000000000000398,
          -0.10000000000000142,
          3.0900000000000034,
          -0.00999999999999801,
          -7.090000000000003,
          -0.509999999999998,
          3.1099999999999994,
          1.1000000000000014,
          1.2800000000000011,
          0.519999999999996,
          1.8200000000000003,
          4.579999999999998,
          1.9600000000000009,
          1.230000000000004,
          0.6499999999999986,
          1.6400000000000006,
          0.3299999999999983
         ]
        },
        {
         "line": {
          "color": "rgba(142, 186, 66, 0.8999999999999999)",
          "dash": "solid",
          "shape": "linear",
          "width": 1.3
         },
         "mode": "lines",
         "name": "Misiones",
         "text": "",
         "type": "scatter",
         "x": [
          "2014-T1",
          "2014-T2",
          "2014-T3",
          "2014-T4",
          "2015-T1",
          "2015-T2",
          "2015-T3",
          "2015-T4",
          "2016-T1",
          "2016-T2",
          "2016-T3",
          "2016-T4",
          "2017-T1",
          "2017-T2",
          "2017-T3",
          "2017-T4",
          "2018-T1",
          "2018-T2",
          "2018-T3",
          "2018-T4",
          "2019-T1",
          "2019-T2",
          "2019-T3",
          "2019-T4",
          "2020-T1",
          "2020-T2",
          "2020-T3",
          "2020-T4",
          "2021-T1",
          "2021-T2",
          "2021-T3",
          "2021-T4",
          "2022-T1",
          "2022-T2",
          "2022-T3",
          "2022-T4"
         ],
         "y": [
          "",
          0.23000000000000043,
          0.1999999999999993,
          0.5899999999999999,
          2.1499999999999986,
          1.0400000000000027,
          0.9599999999999973,
          0.38000000000000256,
          -0.3200000000000003,
          0.8699999999999974,
          0.6700000000000017,
          -0.19000000000000128,
          -0.1999999999999993,
          0.5700000000000003,
          0.120000000000001,
          0.9299999999999997,
          -0.17999999999999972,
          0.6699999999999982,
          0.4700000000000024,
          2.3500000000000014,
          1.8099999999999952,
          2.8900000000000006,
          0.17999999999999972,
          0.46000000000000085,
          -0.769999999999996,
          1.8699999999999974,
          0.7100000000000009,
          1.0399999999999991,
          0.5300000000000011,
          1.8399999999999963,
          0.5600000000000023,
          3.490000000000002,
          -0.020000000000003126,
          1.9600000000000009,
          0.8200000000000003,
          1.0300000000000011
         ]
        },
        {
         "line": {
          "color": "rgba(142, 186, 66, 0.7999999999999998)",
          "dash": "solid",
          "shape": "linear",
          "width": 1.3
         },
         "mode": "lines",
         "name": "Neuquén",
         "text": "",
         "type": "scatter",
         "x": [
          "2014-T1",
          "2014-T2",
          "2014-T3",
          "2014-T4",
          "2015-T1",
          "2015-T2",
          "2015-T3",
          "2015-T4",
          "2016-T1",
          "2016-T2",
          "2016-T3",
          "2016-T4",
          "2017-T1",
          "2017-T2",
          "2017-T3",
          "2017-T4",
          "2018-T1",
          "2018-T2",
          "2018-T3",
          "2018-T4",
          "2019-T1",
          "2019-T2",
          "2019-T3",
          "2019-T4",
          "2020-T1",
          "2020-T2",
          "2020-T3",
          "2020-T4",
          "2021-T1",
          "2021-T2",
          "2021-T3",
          "2021-T4",
          "2022-T1",
          "2022-T2",
          "2022-T3",
          "2022-T4"
         ],
         "y": [
          "",
          1.0500000000000043,
          5.559999999999995,
          -3.8500000000000014,
          -0.5999999999999943,
          1.1699999999999946,
          1.480000000000004,
          3.6899999999999977,
          -2.539999999999999,
          3.3500000000000014,
          1.1099999999999994,
          0.6599999999999966,
          0.15000000000000568,
          0.8899999999999935,
          -1.0799999999999983,
          0.4100000000000037,
          0.28000000000000114,
          -1.2800000000000011,
          0.25,
          -1.4200000000000017,
          -0.18999999999999773,
          4.199999999999996,
          1.0600000000000023,
          -4.780000000000001,
          2.490000000000002,
          2.049999999999997,
          1.3399999999999963,
          1.7600000000000051,
          -0.1599999999999966,
          2.299999999999997,
          0.5699999999999932,
          3.5900000000000034,
          0.8700000000000045,
          5.849999999999994,
          0.3500000000000085,
          -1.7000000000000028
         ]
        },
        {
         "line": {
          "color": "rgba(255, 181, 184, 0.7999999999999998)",
          "dash": "solid",
          "shape": "linear",
          "width": 1.3
         },
         "mode": "lines",
         "name": "Río Negro",
         "text": "",
         "type": "scatter",
         "x": [
          "2014-T1",
          "2014-T2",
          "2014-T3",
          "2014-T4",
          "2015-T1",
          "2015-T2",
          "2015-T3",
          "2015-T4",
          "2016-T1",
          "2016-T2",
          "2016-T3",
          "2016-T4",
          "2017-T1",
          "2017-T2",
          "2017-T3",
          "2017-T4",
          "2018-T1",
          "2018-T2",
          "2018-T3",
          "2018-T4",
          "2019-T1",
          "2019-T2",
          "2019-T3",
          "2019-T4",
          "2020-T1",
          "2020-T2",
          "2020-T3",
          "2020-T4",
          "2021-T1",
          "2021-T2",
          "2021-T3",
          "2021-T4",
          "2022-T1",
          "2022-T2",
          "2022-T3",
          "2022-T4"
         ],
         "y": [
          "",
          0.4200000000000017,
          0.8700000000000045,
          -0.720000000000006,
          -0.14999999999999858,
          0.6499999999999986,
          0.4100000000000037,
          0.04999999999999716,
          -0.5999999999999943,
          0.3999999999999986,
          0.14999999999999858,
          0,
          -0.35999999999999943,
          -0.00999999999999801,
          2.5,
          0.8599999999999994,
          0.4399999999999977,
          0.3299999999999983,
          0.39000000000000057,
          1.3200000000000003,
          1.7100000000000009,
          7.520000000000003,
          2.3299999999999983,
          -7.710000000000001,
          -0.5900000000000034,
          1.25,
          0.6799999999999997,
          4.040000000000006,
          -0.21000000000000085,
          1.0599999999999952,
          0.030000000000001137,
          3.719999999999999,
          1.3500000000000085,
          0.8099999999999881,
          0.13000000000000966,
          0.4399999999999977
         ]
        },
        {
         "line": {
          "color": "rgba(226, 74, 51, 0.7999999999999998)",
          "dash": "solid",
          "shape": "linear",
          "width": 1.3
         },
         "mode": "lines",
         "name": "Salta",
         "text": "",
         "type": "scatter",
         "x": [
          "2014-T1",
          "2014-T2",
          "2014-T3",
          "2014-T4",
          "2015-T1",
          "2015-T2",
          "2015-T3",
          "2015-T4",
          "2016-T1",
          "2016-T2",
          "2016-T3",
          "2016-T4",
          "2017-T1",
          "2017-T2",
          "2017-T3",
          "2017-T4",
          "2018-T1",
          "2018-T2",
          "2018-T3",
          "2018-T4",
          "2019-T1",
          "2019-T2",
          "2019-T3",
          "2019-T4",
          "2020-T1",
          "2020-T2",
          "2020-T3",
          "2020-T4",
          "2021-T1",
          "2021-T2",
          "2021-T3",
          "2021-T4",
          "2022-T1",
          "2022-T2",
          "2022-T3",
          "2022-T4"
         ],
         "y": [
          "",
          0.21000000000000085,
          0.3099999999999987,
          0.3100000000000023,
          0.4800000000000004,
          0.4499999999999993,
          0.7199999999999989,
          0.41000000000000014,
          -0.2699999999999996,
          0.759999999999998,
          0.8800000000000026,
          -0.2700000000000031,
          -0.10999999999999943,
          0.1600000000000037,
          7.100000000000001,
          -0.04000000000000625,
          -0.01999999999999602,
          0.1599999999999966,
          -0.509999999999998,
          0.36999999999999744,
          0.30000000000000426,
          1.7899999999999991,
          2.5899999999999963,
          5.8700000000000045,
          -0.75,
          1.9799999999999969,
          0.740000000000002,
          1.7199999999999989,
          -0.10999999999999943,
          1,
          1.0300000000000011,
          0.8500000000000014,
          -0.7000000000000028,
          1.4299999999999997,
          0.21999999999999886,
          0.20000000000000284
         ]
        },
        {
         "line": {
          "color": "rgba(62, 111, 176, 0.7999999999999998)",
          "dash": "solid",
          "shape": "linear",
          "width": 1.3
         },
         "mode": "lines",
         "name": "San Juan",
         "text": "",
         "type": "scatter",
         "x": [
          "2014-T1",
          "2014-T2",
          "2014-T3",
          "2014-T4",
          "2015-T1",
          "2015-T2",
          "2015-T3",
          "2015-T4",
          "2016-T1",
          "2016-T2",
          "2016-T3",
          "2016-T4",
          "2017-T1",
          "2017-T2",
          "2017-T3",
          "2017-T4",
          "2018-T1",
          "2018-T2",
          "2018-T3",
          "2018-T4",
          "2019-T1",
          "2019-T2",
          "2019-T3",
          "2019-T4",
          "2020-T1",
          "2020-T2",
          "2020-T3",
          "2020-T4",
          "2021-T1",
          "2021-T2",
          "2021-T3",
          "2021-T4",
          "2022-T1",
          "2022-T2",
          "2022-T3",
          "2022-T4"
         ],
         "y": [
          "",
          0.17999999999999972,
          0.07000000000000028,
          0.18999999999999773,
          -0.48999999999999844,
          0.08999999999999986,
          0.030000000000001137,
          -0.010000000000001563,
          -0.33000000000000185,
          0.010000000000001563,
          -0.019999999999999574,
          -0.030000000000001137,
          -0.25,
          -0.0799999999999983,
          5.409999999999997,
          -2.0699999999999967,
          2.3099999999999987,
          0.3400000000000034,
          0.09999999999999432,
          -1.1499999999999986,
          -0.07000000000000028,
          3.770000000000003,
          1.4600000000000009,
          -4.210000000000001,
          -0.46000000000000085,
          2.700000000000003,
          3.6999999999999957,
          -2.469999999999999,
          2.740000000000002,
          0.21999999999999886,
          0.17999999999999972,
          0.13000000000000256,
          3.9599999999999937,
          5.910000000000004,
          1.3399999999999963,
          0.0800000000000054
         ]
        },
        {
         "line": {
          "color": "rgba(132, 118, 202, 0.7999999999999998)",
          "dash": "solid",
          "shape": "linear",
          "width": 1.3
         },
         "mode": "lines",
         "name": "San Luis",
         "text": "",
         "type": "scatter",
         "x": [
          "2014-T1",
          "2014-T2",
          "2014-T3",
          "2014-T4",
          "2015-T1",
          "2015-T2",
          "2015-T3",
          "2015-T4",
          "2016-T1",
          "2016-T2",
          "2016-T3",
          "2016-T4",
          "2017-T1",
          "2017-T2",
          "2017-T3",
          "2017-T4",
          "2018-T1",
          "2018-T2",
          "2018-T3",
          "2018-T4",
          "2019-T1",
          "2019-T2",
          "2019-T3",
          "2019-T4",
          "2020-T1",
          "2020-T2",
          "2020-T3",
          "2020-T4",
          "2021-T1",
          "2021-T2",
          "2021-T3",
          "2021-T4",
          "2022-T1",
          "2022-T2",
          "2022-T3",
          "2022-T4"
         ],
         "y": [
          "",
          0.370000000000001,
          -0.009999999999999787,
          0.0799999999999983,
          -0.06999999999999851,
          -0.009999999999999787,
          0,
          0,
          -0.120000000000001,
          0.009999999999999787,
          0.030000000000001137,
          0.009999999999999787,
          -0.08999999999999986,
          -0.040000000000000924,
          5.970000000000001,
          -4.890000000000001,
          4.5600000000000005,
          0,
          37.2,
          15.199999999999996,
          -0.20999999999999375,
          14.450000000000003,
          3.4399999999999977,
          -10.310000000000002,
          1.3900000000000006,
          2.0999999999999943,
          1.5499999999999972,
          1.720000000000013,
          -0.44000000000001194,
          2.240000000000009,
          -3.6099999999999994,
          0.4299999999999926,
          0.4200000000000017,
          1.0400000000000063,
          -0.020000000000010232,
          8.530000000000001
         ]
        },
        {
         "line": {
          "color": "rgba(101, 101, 101, 0.7999999999999998)",
          "dash": "solid",
          "shape": "linear",
          "width": 1.3
         },
         "mode": "lines",
         "name": "Santa Cruz",
         "text": "",
         "type": "scatter",
         "x": [
          "2014-T1",
          "2014-T2",
          "2014-T3",
          "2014-T4",
          "2015-T1",
          "2015-T2",
          "2015-T3",
          "2015-T4",
          "2016-T1",
          "2016-T2",
          "2016-T3",
          "2016-T4",
          "2017-T1",
          "2017-T2",
          "2017-T3",
          "2017-T4",
          "2018-T1",
          "2018-T2",
          "2018-T3",
          "2018-T4",
          "2019-T1",
          "2019-T2",
          "2019-T3",
          "2019-T4",
          "2020-T1",
          "2020-T2",
          "2020-T3",
          "2020-T4",
          "2021-T1",
          "2021-T2",
          "2021-T3",
          "2021-T4",
          "2022-T1",
          "2022-T2",
          "2022-T3",
          "2022-T4"
         ],
         "y": [
          "",
          0.4399999999999977,
          -1.1499999999999986,
          -0.4299999999999997,
          0.18999999999999773,
          -0.9199999999999982,
          0.5399999999999991,
          0.129999999999999,
          -0.8699999999999974,
          -0.14000000000000057,
          0.10999999999999943,
          0.21000000000000085,
          -0.5300000000000011,
          -0.2699999999999996,
          7.039999999999999,
          -4.379999999999999,
          4.639999999999997,
          -0.21999999999999886,
          -0.6000000000000014,
          -9.039999999999996,
          -0.019999999999999574,
          5.18,
          6.780000000000001,
          1.0799999999999983,
          -0.740000000000002,
          -0.17999999999999972,
          0.1600000000000037,
          1.0499999999999972,
          4.649999999999999,
          2.3599999999999994,
          -0.259999999999998,
          -0.7000000000000028,
          0.29000000000000625,
          -0.19000000000000483,
          0.03999999999999915,
          0.3400000000000034
         ]
        },
        {
         "line": {
          "color": "rgba(251, 193, 94, 0.7999999999999998)",
          "dash": "solid",
          "shape": "linear",
          "width": 1.3
         },
         "mode": "lines",
         "name": "Santa Fe",
         "text": "",
         "type": "scatter",
         "x": [
          "2014-T1",
          "2014-T2",
          "2014-T3",
          "2014-T4",
          "2015-T1",
          "2015-T2",
          "2015-T3",
          "2015-T4",
          "2016-T1",
          "2016-T2",
          "2016-T3",
          "2016-T4",
          "2017-T1",
          "2017-T2",
          "2017-T3",
          "2017-T4",
          "2018-T1",
          "2018-T2",
          "2018-T3",
          "2018-T4",
          "2019-T1",
          "2019-T2",
          "2019-T3",
          "2019-T4",
          "2020-T1",
          "2020-T2",
          "2020-T3",
          "2020-T4",
          "2021-T1",
          "2021-T2",
          "2021-T3",
          "2021-T4",
          "2022-T1",
          "2022-T2",
          "2022-T3",
          "2022-T4"
         ],
         "y": [
          "",
          0.5399999999999991,
          0.8100000000000023,
          0.7999999999999972,
          0.240000000000002,
          0.9399999999999977,
          0.9699999999999989,
          0.46000000000000085,
          -1.3299999999999983,
          1.1599999999999966,
          0.23000000000000398,
          -0.480000000000004,
          -0.21999999999999886,
          0.30000000000000426,
          8.639999999999993,
          0.8000000000000043,
          0.5700000000000003,
          0.28999999999999915,
          0.8399999999999963,
          2.180000000000007,
          1.3799999999999955,
          0.45000000000000284,
          1.4500000000000028,
          0.6099999999999994,
          0.03999999999999204,
          0.480000000000004,
          2.1200000000000045,
          1.4599999999999937,
          0.3400000000000034,
          1.1499999999999915,
          -0.04999999999999716,
          2.0700000000000074,
          0.20999999999999375,
          0.6000000000000085,
          0.6499999999999915,
          -0.14999999999999147
         ]
        },
        {
         "line": {
          "color": "rgba(251, 193, 94, 0.7)",
          "dash": "solid",
          "shape": "linear",
          "width": 1.3
         },
         "mode": "lines",
         "name": "Santiago Del Estero",
         "text": "",
         "type": "scatter",
         "x": [
          "2014-T1",
          "2014-T2",
          "2014-T3",
          "2014-T4",
          "2015-T1",
          "2015-T2",
          "2015-T3",
          "2015-T4",
          "2016-T1",
          "2016-T2",
          "2016-T3",
          "2016-T4",
          "2017-T1",
          "2017-T2",
          "2017-T3",
          "2017-T4",
          "2018-T1",
          "2018-T2",
          "2018-T3",
          "2018-T4",
          "2019-T1",
          "2019-T2",
          "2019-T3",
          "2019-T4",
          "2020-T1",
          "2020-T2",
          "2020-T3",
          "2020-T4",
          "2021-T1",
          "2021-T2",
          "2021-T3",
          "2021-T4",
          "2022-T1",
          "2022-T2",
          "2022-T3",
          "2022-T4"
         ],
         "y": [
          "",
          0.39000000000000057,
          -0.21000000000000085,
          0.7800000000000011,
          -0.21000000000000085,
          0.05000000000000071,
          0.010000000000001563,
          -0.120000000000001,
          -0.7899999999999991,
          -0.3200000000000003,
          -0.5600000000000005,
          -0.2599999999999998,
          -0.370000000000001,
          -0.5800000000000001,
          21,
          -5.989999999999998,
          5.860000000000003,
          0.269999999999996,
          0.990000000000002,
          1.1499999999999986,
          0.12000000000000455,
          15.269999999999996,
          2.509999999999998,
          -12.379999999999995,
          -0.45000000000000284,
          1,
          -0.0899999999999963,
          0.36999999999999744,
          1.9200000000000017,
          0.8900000000000006,
          0.4399999999999977,
          0.04999999999999716,
          0.12000000000000455,
          0.5300000000000011,
          0.27999999999999403,
          0.07000000000000028
         ]
        },
        {
         "line": {
          "color": "rgba(142, 186, 66, 0.7)",
          "dash": "solid",
          "shape": "linear",
          "width": 1.3
         },
         "mode": "lines",
         "name": "Tierra Del Fuego",
         "text": "",
         "type": "scatter",
         "x": [
          "2014-T1",
          "2014-T2",
          "2014-T3",
          "2014-T4",
          "2015-T1",
          "2015-T2",
          "2015-T3",
          "2015-T4",
          "2016-T1",
          "2016-T2",
          "2016-T3",
          "2016-T4",
          "2017-T1",
          "2017-T2",
          "2017-T3",
          "2017-T4",
          "2018-T1",
          "2018-T2",
          "2018-T3",
          "2018-T4",
          "2019-T1",
          "2019-T2",
          "2019-T3",
          "2019-T4",
          "2020-T1",
          "2020-T2",
          "2020-T3",
          "2020-T4",
          "2021-T1",
          "2021-T2",
          "2021-T3",
          "2021-T4",
          "2022-T1",
          "2022-T2",
          "2022-T3",
          "2022-T4"
         ],
         "y": [
          "",
          0.39000000000000057,
          1.3299999999999983,
          0.45000000000000284,
          8.090000000000003,
          0.28000000000000114,
          0.3499999999999943,
          -8.400000000000006,
          -0.6299999999999955,
          1.8900000000000006,
          1.2199999999999989,
          1.3700000000000045,
          -1.3900000000000006,
          -0.46000000000000796,
          -2.719999999999999,
          -5.849999999999994,
          5.310000000000002,
          26.409999999999997,
          1.1599999999999966,
          0.8200000000000074,
          -0.21000000000000796,
          1.4200000000000017,
          1.6599999999999966,
          -16.75999999999999,
          -3.6300000000000097,
          0.30000000000001137,
          0.4399999999999977,
          -0.5400000000000063,
          1.0799999999999983,
          -9.459999999999994,
          27.060000000000002,
          3.450000000000003,
          -0.10999999999999943,
          1.5699999999999932,
          -0.3499999999999943,
          1.9299999999999926
         ]
        },
        {
         "line": {
          "color": "rgba(255, 181, 184, 0.7)",
          "dash": "solid",
          "shape": "linear",
          "width": 1.3
         },
         "mode": "lines",
         "name": "Tucumán",
         "text": "",
         "type": "scatter",
         "x": [
          "2014-T1",
          "2014-T2",
          "2014-T3",
          "2014-T4",
          "2015-T1",
          "2015-T2",
          "2015-T3",
          "2015-T4",
          "2016-T1",
          "2016-T2",
          "2016-T3",
          "2016-T4",
          "2017-T1",
          "2017-T2",
          "2017-T3",
          "2017-T4",
          "2018-T1",
          "2018-T2",
          "2018-T3",
          "2018-T4",
          "2019-T1",
          "2019-T2",
          "2019-T3",
          "2019-T4",
          "2020-T1",
          "2020-T2",
          "2020-T3",
          "2020-T4",
          "2021-T1",
          "2021-T2",
          "2021-T3",
          "2021-T4",
          "2022-T1",
          "2022-T2",
          "2022-T3",
          "2022-T4"
         ],
         "y": [
          "",
          0.519999999999996,
          0,
          1.3800000000000026,
          -0.240000000000002,
          0.6099999999999994,
          0.9200000000000017,
          0.45000000000000284,
          -0.3400000000000034,
          0.5200000000000031,
          0.6599999999999966,
          0.0799999999999983,
          -0.0799999999999983,
          0.28999999999999915,
          1.5100000000000051,
          0.19999999999999574,
          1.2800000000000011,
          0.3299999999999983,
          0.1700000000000017,
          0.0799999999999983,
          -0.12999999999999545,
          -1.490000000000002,
          -0.6499999999999986,
          8.159999999999997,
          0.20000000000000284,
          3.9299999999999997,
          1.4499999999999957,
          1.5500000000000043,
          0.03999999999999915,
          0.10999999999999943,
          -0.28999999999999915,
          1.2899999999999991,
          1.4600000000000009,
          1.9200000000000017,
          1.8299999999999983,
          -0.10000000000000142
         ]
        }
       ],
       "layout": {
        "legend": {
         "bgcolor": "#FFFFFF",
         "font": {
          "color": "#666666"
         }
        },
        "paper_bgcolor": "#FFFFFF",
        "plot_bgcolor": "#E5E5E5",
        "template": {
         "data": {
          "bar": [
           {
            "error_x": {
             "color": "#2a3f5f"
            },
            "error_y": {
             "color": "#2a3f5f"
            },
            "marker": {
             "line": {
              "color": "#E5ECF6",
              "width": 0.5
             },
             "pattern": {
              "fillmode": "overlay",
              "size": 10,
              "solidity": 0.2
             }
            },
            "type": "bar"
           }
          ],
          "barpolar": [
           {
            "marker": {
             "line": {
              "color": "#E5ECF6",
              "width": 0.5
             },
             "pattern": {
              "fillmode": "overlay",
              "size": 10,
              "solidity": 0.2
             }
            },
            "type": "barpolar"
           }
          ],
          "carpet": [
           {
            "aaxis": {
             "endlinecolor": "#2a3f5f",
             "gridcolor": "white",
             "linecolor": "white",
             "minorgridcolor": "white",
             "startlinecolor": "#2a3f5f"
            },
            "baxis": {
             "endlinecolor": "#2a3f5f",
             "gridcolor": "white",
             "linecolor": "white",
             "minorgridcolor": "white",
             "startlinecolor": "#2a3f5f"
            },
            "type": "carpet"
           }
          ],
          "choropleth": [
           {
            "colorbar": {
             "outlinewidth": 0,
             "ticks": ""
            },
            "type": "choropleth"
           }
          ],
          "contour": [
           {
            "colorbar": {
             "outlinewidth": 0,
             "ticks": ""
            },
            "colorscale": [
             [
              0,
              "#0d0887"
             ],
             [
              0.1111111111111111,
              "#46039f"
             ],
             [
              0.2222222222222222,
              "#7201a8"
             ],
             [
              0.3333333333333333,
              "#9c179e"
             ],
             [
              0.4444444444444444,
              "#bd3786"
             ],
             [
              0.5555555555555556,
              "#d8576b"
             ],
             [
              0.6666666666666666,
              "#ed7953"
             ],
             [
              0.7777777777777778,
              "#fb9f3a"
             ],
             [
              0.8888888888888888,
              "#fdca26"
             ],
             [
              1,
              "#f0f921"
             ]
            ],
            "type": "contour"
           }
          ],
          "contourcarpet": [
           {
            "colorbar": {
             "outlinewidth": 0,
             "ticks": ""
            },
            "type": "contourcarpet"
           }
          ],
          "heatmap": [
           {
            "colorbar": {
             "outlinewidth": 0,
             "ticks": ""
            },
            "colorscale": [
             [
              0,
              "#0d0887"
             ],
             [
              0.1111111111111111,
              "#46039f"
             ],
             [
              0.2222222222222222,
              "#7201a8"
             ],
             [
              0.3333333333333333,
              "#9c179e"
             ],
             [
              0.4444444444444444,
              "#bd3786"
             ],
             [
              0.5555555555555556,
              "#d8576b"
             ],
             [
              0.6666666666666666,
              "#ed7953"
             ],
             [
              0.7777777777777778,
              "#fb9f3a"
             ],
             [
              0.8888888888888888,
              "#fdca26"
             ],
             [
              1,
              "#f0f921"
             ]
            ],
            "type": "heatmap"
           }
          ],
          "heatmapgl": [
           {
            "colorbar": {
             "outlinewidth": 0,
             "ticks": ""
            },
            "colorscale": [
             [
              0,
              "#0d0887"
             ],
             [
              0.1111111111111111,
              "#46039f"
             ],
             [
              0.2222222222222222,
              "#7201a8"
             ],
             [
              0.3333333333333333,
              "#9c179e"
             ],
             [
              0.4444444444444444,
              "#bd3786"
             ],
             [
              0.5555555555555556,
              "#d8576b"
             ],
             [
              0.6666666666666666,
              "#ed7953"
             ],
             [
              0.7777777777777778,
              "#fb9f3a"
             ],
             [
              0.8888888888888888,
              "#fdca26"
             ],
             [
              1,
              "#f0f921"
             ]
            ],
            "type": "heatmapgl"
           }
          ],
          "histogram": [
           {
            "marker": {
             "pattern": {
              "fillmode": "overlay",
              "size": 10,
              "solidity": 0.2
             }
            },
            "type": "histogram"
           }
          ],
          "histogram2d": [
           {
            "colorbar": {
             "outlinewidth": 0,
             "ticks": ""
            },
            "colorscale": [
             [
              0,
              "#0d0887"
             ],
             [
              0.1111111111111111,
              "#46039f"
             ],
             [
              0.2222222222222222,
              "#7201a8"
             ],
             [
              0.3333333333333333,
              "#9c179e"
             ],
             [
              0.4444444444444444,
              "#bd3786"
             ],
             [
              0.5555555555555556,
              "#d8576b"
             ],
             [
              0.6666666666666666,
              "#ed7953"
             ],
             [
              0.7777777777777778,
              "#fb9f3a"
             ],
             [
              0.8888888888888888,
              "#fdca26"
             ],
             [
              1,
              "#f0f921"
             ]
            ],
            "type": "histogram2d"
           }
          ],
          "histogram2dcontour": [
           {
            "colorbar": {
             "outlinewidth": 0,
             "ticks": ""
            },
            "colorscale": [
             [
              0,
              "#0d0887"
             ],
             [
              0.1111111111111111,
              "#46039f"
             ],
             [
              0.2222222222222222,
              "#7201a8"
             ],
             [
              0.3333333333333333,
              "#9c179e"
             ],
             [
              0.4444444444444444,
              "#bd3786"
             ],
             [
              0.5555555555555556,
              "#d8576b"
             ],
             [
              0.6666666666666666,
              "#ed7953"
             ],
             [
              0.7777777777777778,
              "#fb9f3a"
             ],
             [
              0.8888888888888888,
              "#fdca26"
             ],
             [
              1,
              "#f0f921"
             ]
            ],
            "type": "histogram2dcontour"
           }
          ],
          "mesh3d": [
           {
            "colorbar": {
             "outlinewidth": 0,
             "ticks": ""
            },
            "type": "mesh3d"
           }
          ],
          "parcoords": [
           {
            "line": {
             "colorbar": {
              "outlinewidth": 0,
              "ticks": ""
             }
            },
            "type": "parcoords"
           }
          ],
          "pie": [
           {
            "automargin": true,
            "type": "pie"
           }
          ],
          "scatter": [
           {
            "fillpattern": {
             "fillmode": "overlay",
             "size": 10,
             "solidity": 0.2
            },
            "type": "scatter"
           }
          ],
          "scatter3d": [
           {
            "line": {
             "colorbar": {
              "outlinewidth": 0,
              "ticks": ""
             }
            },
            "marker": {
             "colorbar": {
              "outlinewidth": 0,
              "ticks": ""
             }
            },
            "type": "scatter3d"
           }
          ],
          "scattercarpet": [
           {
            "marker": {
             "colorbar": {
              "outlinewidth": 0,
              "ticks": ""
             }
            },
            "type": "scattercarpet"
           }
          ],
          "scattergeo": [
           {
            "marker": {
             "colorbar": {
              "outlinewidth": 0,
              "ticks": ""
             }
            },
            "type": "scattergeo"
           }
          ],
          "scattergl": [
           {
            "marker": {
             "colorbar": {
              "outlinewidth": 0,
              "ticks": ""
             }
            },
            "type": "scattergl"
           }
          ],
          "scattermapbox": [
           {
            "marker": {
             "colorbar": {
              "outlinewidth": 0,
              "ticks": ""
             }
            },
            "type": "scattermapbox"
           }
          ],
          "scatterpolar": [
           {
            "marker": {
             "colorbar": {
              "outlinewidth": 0,
              "ticks": ""
             }
            },
            "type": "scatterpolar"
           }
          ],
          "scatterpolargl": [
           {
            "marker": {
             "colorbar": {
              "outlinewidth": 0,
              "ticks": ""
             }
            },
            "type": "scatterpolargl"
           }
          ],
          "scatterternary": [
           {
            "marker": {
             "colorbar": {
              "outlinewidth": 0,
              "ticks": ""
             }
            },
            "type": "scatterternary"
           }
          ],
          "surface": [
           {
            "colorbar": {
             "outlinewidth": 0,
             "ticks": ""
            },
            "colorscale": [
             [
              0,
              "#0d0887"
             ],
             [
              0.1111111111111111,
              "#46039f"
             ],
             [
              0.2222222222222222,
              "#7201a8"
             ],
             [
              0.3333333333333333,
              "#9c179e"
             ],
             [
              0.4444444444444444,
              "#bd3786"
             ],
             [
              0.5555555555555556,
              "#d8576b"
             ],
             [
              0.6666666666666666,
              "#ed7953"
             ],
             [
              0.7777777777777778,
              "#fb9f3a"
             ],
             [
              0.8888888888888888,
              "#fdca26"
             ],
             [
              1,
              "#f0f921"
             ]
            ],
            "type": "surface"
           }
          ],
          "table": [
           {
            "cells": {
             "fill": {
              "color": "#EBF0F8"
             },
             "line": {
              "color": "white"
             }
            },
            "header": {
             "fill": {
              "color": "#C8D4E3"
             },
             "line": {
              "color": "white"
             }
            },
            "type": "table"
           }
          ]
         },
         "layout": {
          "annotationdefaults": {
           "arrowcolor": "#2a3f5f",
           "arrowhead": 0,
           "arrowwidth": 1
          },
          "autotypenumbers": "strict",
          "coloraxis": {
           "colorbar": {
            "outlinewidth": 0,
            "ticks": ""
           }
          },
          "colorscale": {
           "diverging": [
            [
             0,
             "#8e0152"
            ],
            [
             0.1,
             "#c51b7d"
            ],
            [
             0.2,
             "#de77ae"
            ],
            [
             0.3,
             "#f1b6da"
            ],
            [
             0.4,
             "#fde0ef"
            ],
            [
             0.5,
             "#f7f7f7"
            ],
            [
             0.6,
             "#e6f5d0"
            ],
            [
             0.7,
             "#b8e186"
            ],
            [
             0.8,
             "#7fbc41"
            ],
            [
             0.9,
             "#4d9221"
            ],
            [
             1,
             "#276419"
            ]
           ],
           "sequential": [
            [
             0,
             "#0d0887"
            ],
            [
             0.1111111111111111,
             "#46039f"
            ],
            [
             0.2222222222222222,
             "#7201a8"
            ],
            [
             0.3333333333333333,
             "#9c179e"
            ],
            [
             0.4444444444444444,
             "#bd3786"
            ],
            [
             0.5555555555555556,
             "#d8576b"
            ],
            [
             0.6666666666666666,
             "#ed7953"
            ],
            [
             0.7777777777777778,
             "#fb9f3a"
            ],
            [
             0.8888888888888888,
             "#fdca26"
            ],
            [
             1,
             "#f0f921"
            ]
           ],
           "sequentialminus": [
            [
             0,
             "#0d0887"
            ],
            [
             0.1111111111111111,
             "#46039f"
            ],
            [
             0.2222222222222222,
             "#7201a8"
            ],
            [
             0.3333333333333333,
             "#9c179e"
            ],
            [
             0.4444444444444444,
             "#bd3786"
            ],
            [
             0.5555555555555556,
             "#d8576b"
            ],
            [
             0.6666666666666666,
             "#ed7953"
            ],
            [
             0.7777777777777778,
             "#fb9f3a"
            ],
            [
             0.8888888888888888,
             "#fdca26"
            ],
            [
             1,
             "#f0f921"
            ]
           ]
          },
          "colorway": [
           "#636efa",
           "#EF553B",
           "#00cc96",
           "#ab63fa",
           "#FFA15A",
           "#19d3f3",
           "#FF6692",
           "#B6E880",
           "#FF97FF",
           "#FECB52"
          ],
          "font": {
           "color": "#2a3f5f"
          },
          "geo": {
           "bgcolor": "white",
           "lakecolor": "white",
           "landcolor": "#E5ECF6",
           "showlakes": true,
           "showland": true,
           "subunitcolor": "white"
          },
          "hoverlabel": {
           "align": "left"
          },
          "hovermode": "closest",
          "mapbox": {
           "style": "light"
          },
          "paper_bgcolor": "white",
          "plot_bgcolor": "#E5ECF6",
          "polar": {
           "angularaxis": {
            "gridcolor": "white",
            "linecolor": "white",
            "ticks": ""
           },
           "bgcolor": "#E5ECF6",
           "radialaxis": {
            "gridcolor": "white",
            "linecolor": "white",
            "ticks": ""
           }
          },
          "scene": {
           "xaxis": {
            "backgroundcolor": "#E5ECF6",
            "gridcolor": "white",
            "gridwidth": 2,
            "linecolor": "white",
            "showbackground": true,
            "ticks": "",
            "zerolinecolor": "white"
           },
           "yaxis": {
            "backgroundcolor": "#E5ECF6",
            "gridcolor": "white",
            "gridwidth": 2,
            "linecolor": "white",
            "showbackground": true,
            "ticks": "",
            "zerolinecolor": "white"
           },
           "zaxis": {
            "backgroundcolor": "#E5ECF6",
            "gridcolor": "white",
            "gridwidth": 2,
            "linecolor": "white",
            "showbackground": true,
            "ticks": "",
            "zerolinecolor": "white"
           }
          },
          "shapedefaults": {
           "line": {
            "color": "#2a3f5f"
           }
          },
          "ternary": {
           "aaxis": {
            "gridcolor": "white",
            "linecolor": "white",
            "ticks": ""
           },
           "baxis": {
            "gridcolor": "white",
            "linecolor": "white",
            "ticks": ""
           },
           "bgcolor": "#E5ECF6",
           "caxis": {
            "gridcolor": "white",
            "linecolor": "white",
            "ticks": ""
           }
          },
          "title": {
           "x": 0.05
          },
          "xaxis": {
           "automargin": true,
           "gridcolor": "white",
           "linecolor": "white",
           "ticks": "",
           "title": {
            "standoff": 15
           },
           "zerolinecolor": "white",
           "zerolinewidth": 2
          },
          "yaxis": {
           "automargin": true,
           "gridcolor": "white",
           "linecolor": "white",
           "ticks": "",
           "title": {
            "standoff": 15
           },
           "zerolinecolor": "white",
           "zerolinewidth": 2
          }
         }
        },
        "title": {
         "font": {
          "color": "#151516"
         }
        },
        "xaxis": {
         "gridcolor": "#F6F6F6",
         "showgrid": true,
         "tickfont": {
          "color": "#666666"
         },
         "title": {
          "font": {
           "color": "#666666"
          },
          "text": ""
         },
         "zerolinecolor": "#F6F6F6"
        },
        "yaxis": {
         "gridcolor": "#F6F6F6",
         "showgrid": true,
         "tickfont": {
          "color": "#666666"
         },
         "title": {
          "font": {
           "color": "#666666"
          },
          "text": ""
         },
         "zerolinecolor": "#F6F6F6"
        }
       }
      },
      "text/html": [
       "<div>                            <div id=\"85943123-6bbb-4d4d-86e0-1e324c516d93\" class=\"plotly-graph-div\" style=\"height:525px; width:100%;\"></div>            <script type=\"text/javascript\">                require([\"plotly\"], function(Plotly) {                    window.PLOTLYENV=window.PLOTLYENV || {};\n",
       "                    window.PLOTLYENV.BASE_URL='https://plot.ly';                                    if (document.getElementById(\"85943123-6bbb-4d4d-86e0-1e324c516d93\")) {                    Plotly.newPlot(                        \"85943123-6bbb-4d4d-86e0-1e324c516d93\",                        [{\"line\":{\"color\":\"rgba(226, 74, 51, 1.0)\",\"dash\":\"solid\",\"shape\":\"linear\",\"width\":1.3},\"mode\":\"lines\",\"name\":\"Buenos Aires\",\"text\":\"\",\"x\":[\"2014-T1\",\"2014-T2\",\"2014-T3\",\"2014-T4\",\"2015-T1\",\"2015-T2\",\"2015-T3\",\"2015-T4\",\"2016-T1\",\"2016-T2\",\"2016-T3\",\"2016-T4\",\"2017-T1\",\"2017-T2\",\"2017-T3\",\"2017-T4\",\"2018-T1\",\"2018-T2\",\"2018-T3\",\"2018-T4\",\"2019-T1\",\"2019-T2\",\"2019-T3\",\"2019-T4\",\"2020-T1\",\"2020-T2\",\"2020-T3\",\"2020-T4\",\"2021-T1\",\"2021-T2\",\"2021-T3\",\"2021-T4\",\"2022-T1\",\"2022-T2\",\"2022-T3\",\"2022-T4\"],\"y\":[\"\",0.490000000000002,1.6899999999999977,-0.6599999999999966,0.27999999999999403,0.4299999999999997,0.8900000000000006,0.6000000000000014,-0.9499999999999957,2.0,0.7999999999999972,1.1000000000000014,-2.6700000000000017,-2.299999999999997,-0.6400000000000006,1.9799999999999969,5.020000000000003,0.14999999999999858,1.6599999999999966,0.1599999999999966,1.6400000000000006,1.6099999999999994,1.5100000000000051,-5.109999999999999,0.0799999999999983,0.8900000000000006,2.4399999999999977,1.3200000000000074,0.12999999999999545,0.8900000000000006,1.6800000000000068,3.9799999999999898,0.4200000000000017,1.5,0.5300000000000011,0.8299999999999983],\"type\":\"scatter\"},{\"line\":{\"color\":\"rgba(62, 111, 176, 1.0)\",\"dash\":\"solid\",\"shape\":\"linear\",\"width\":1.3},\"mode\":\"lines\",\"name\":\"Capital Federal\",\"text\":\"\",\"x\":[\"2014-T1\",\"2014-T2\",\"2014-T3\",\"2014-T4\",\"2015-T1\",\"2015-T2\",\"2015-T3\",\"2015-T4\",\"2016-T1\",\"2016-T2\",\"2016-T3\",\"2016-T4\",\"2017-T1\",\"2017-T2\",\"2017-T3\",\"2017-T4\",\"2018-T1\",\"2018-T2\",\"2018-T3\",\"2018-T4\",\"2019-T1\",\"2019-T2\",\"2019-T3\",\"2019-T4\",\"2020-T1\",\"2020-T2\",\"2020-T3\",\"2020-T4\",\"2021-T1\",\"2021-T2\",\"2021-T3\",\"2021-T4\",\"2022-T1\",\"2022-T2\",\"2022-T3\",\"2022-T4\"],\"y\":[\"\",0.8900000000000006,0.6599999999999966,1.1000000000000085,0.0,1.1699999999999875,2.220000000000013,-0.1600000000000108,-2.969999999999999,4.88000000000001,0.7299999999999898,-0.14000000000000057,-12.259999999999991,15.689999999999998,-2.200000000000003,1.0400000000000063,-16.66000000000001,0.29000000000000625,1.9200000000000017,-0.18000000000000682,0.9300000000000068,1.3499999999999943,2.1000000000000085,-6.400000000000006,-0.269999999999996,0.4299999999999926,1.2700000000000102,0.6299999999999955,0.10999999999999943,1.7199999999999989,1.1299999999999955,0.0,0.5300000000000011,9.510000000000005,0.9699999999999989,0.45000000000000284],\"type\":\"scatter\"},{\"line\":{\"color\":\"rgba(132, 118, 202, 1.0)\",\"dash\":\"solid\",\"shape\":\"linear\",\"width\":1.3},\"mode\":\"lines\",\"name\":\"Catamarca\",\"text\":\"\",\"x\":[\"2014-T1\",\"2014-T2\",\"2014-T3\",\"2014-T4\",\"2015-T1\",\"2015-T2\",\"2015-T3\",\"2015-T4\",\"2016-T1\",\"2016-T2\",\"2016-T3\",\"2016-T4\",\"2017-T1\",\"2017-T2\",\"2017-T3\",\"2017-T4\",\"2018-T1\",\"2018-T2\",\"2018-T3\",\"2018-T4\",\"2019-T1\",\"2019-T2\",\"2019-T3\",\"2019-T4\",\"2020-T1\",\"2020-T2\",\"2020-T3\",\"2020-T4\",\"2021-T1\",\"2021-T2\",\"2021-T3\",\"2021-T4\",\"2022-T1\",\"2022-T2\",\"2022-T3\",\"2022-T4\"],\"y\":[\"\",0.4499999999999993,0.010000000000001563,0.8000000000000007,-0.40000000000000213,0.33999999999999986,0.41000000000000014,0.379999999999999,-0.3299999999999983,0.16000000000000014,0.41000000000000014,0.05999999999999872,-0.879999999999999,0.3200000000000003,6.510000000000002,-3.870000000000001,4.169999999999998,0.07000000000000028,0.060000000000002274,-0.6900000000000048,-0.03999999999999915,-0.05999999999999517,-1.2500000000000036,5.559999999999999,1.1799999999999997,7.810000000000002,1.7299999999999969,2.25,-0.509999999999998,3.440000000000005,0.36999999999999744,2.539999999999999,2.960000000000001,4.189999999999998,2.9299999999999997,0.4399999999999977],\"type\":\"scatter\"},{\"line\":{\"color\":\"rgba(101, 101, 101, 1.0)\",\"dash\":\"solid\",\"shape\":\"linear\",\"width\":1.3},\"mode\":\"lines\",\"name\":\"Chaco\",\"text\":\"\",\"x\":[\"2014-T1\",\"2014-T2\",\"2014-T3\",\"2014-T4\",\"2015-T1\",\"2015-T2\",\"2015-T3\",\"2015-T4\",\"2016-T1\",\"2016-T2\",\"2016-T3\",\"2016-T4\",\"2017-T1\",\"2017-T2\",\"2017-T3\",\"2017-T4\",\"2018-T1\",\"2018-T2\",\"2018-T3\",\"2018-T4\",\"2019-T1\",\"2019-T2\",\"2019-T3\",\"2019-T4\",\"2020-T1\",\"2020-T2\",\"2020-T3\",\"2020-T4\",\"2021-T1\",\"2021-T2\",\"2021-T3\",\"2021-T4\",\"2022-T1\",\"2022-T2\",\"2022-T3\",\"2022-T4\"],\"y\":[\"\",0.240000000000002,0.14999999999999858,0.7600000000000016,4.779999999999998,0.8100000000000023,0.5,0.39000000000000057,-0.2700000000000031,0.5100000000000016,0.3200000000000003,-0.120000000000001,-0.16999999999999815,0.4299999999999997,0.9299999999999997,0.8299999999999983,0.019999999999999574,0.4200000000000017,1.0300000000000011,0.3100000000000023,0.04999999999999716,1.5,1.7100000000000009,0.990000000000002,0.6399999999999935,2.3500000000000014,1.7100000000000009,1.490000000000002,0.10999999999999943,0.18999999999999773,-0.36999999999999744,1.0899999999999963,0.010000000000005116,-0.2700000000000031,0.07000000000000028,-0.240000000000002],\"type\":\"scatter\"},{\"line\":{\"color\":\"rgba(251, 193, 94, 1.0)\",\"dash\":\"solid\",\"shape\":\"linear\",\"width\":1.3},\"mode\":\"lines\",\"name\":\"Chubut\",\"text\":\"\",\"x\":[\"2014-T1\",\"2014-T2\",\"2014-T3\",\"2014-T4\",\"2015-T1\",\"2015-T2\",\"2015-T3\",\"2015-T4\",\"2016-T1\",\"2016-T2\",\"2016-T3\",\"2016-T4\",\"2017-T1\",\"2017-T2\",\"2017-T3\",\"2017-T4\",\"2018-T1\",\"2018-T2\",\"2018-T3\",\"2018-T4\",\"2019-T1\",\"2019-T2\",\"2019-T3\",\"2019-T4\",\"2020-T1\",\"2020-T2\",\"2020-T3\",\"2020-T4\",\"2021-T1\",\"2021-T2\",\"2021-T3\",\"2021-T4\",\"2022-T1\",\"2022-T2\",\"2022-T3\",\"2022-T4\"],\"y\":[\"\",0.1699999999999946,-0.8099999999999952,-0.3500000000000014,-2.6400000000000006,-1.0300000000000011,0.23000000000000398,0.0799999999999983,-0.7999999999999972,0.02999999999999403,0.060000000000002274,-0.10999999999999943,-0.4100000000000037,-0.10999999999999943,10.670000000000002,5.240000000000002,2.259999999999998,1.1799999999999997,1.490000000000002,-13.780000000000001,0.39000000000000057,3.990000000000002,0.5799999999999983,3.5799999999999983,0.12000000000000455,6.07,11.0,0.009999999999990905,0.6400000000000006,3.3000000000000114,8.419999999999987,1.8599999999999994,5.480000000000004,-4.859999999999999,1.1899999999999977,1.1899999999999977],\"type\":\"scatter\"},{\"line\":{\"color\":\"rgba(142, 186, 66, 1.0)\",\"dash\":\"solid\",\"shape\":\"linear\",\"width\":1.3},\"mode\":\"lines\",\"name\":\"Corrientes\",\"text\":\"\",\"x\":[\"2014-T1\",\"2014-T2\",\"2014-T3\",\"2014-T4\",\"2015-T1\",\"2015-T2\",\"2015-T3\",\"2015-T4\",\"2016-T1\",\"2016-T2\",\"2016-T3\",\"2016-T4\",\"2017-T1\",\"2017-T2\",\"2017-T3\",\"2017-T4\",\"2018-T1\",\"2018-T2\",\"2018-T3\",\"2018-T4\",\"2019-T1\",\"2019-T2\",\"2019-T3\",\"2019-T4\",\"2020-T1\",\"2020-T2\",\"2020-T3\",\"2020-T4\",\"2021-T1\",\"2021-T2\",\"2021-T3\",\"2021-T4\",\"2022-T1\",\"2022-T2\",\"2022-T3\",\"2022-T4\"],\"y\":[\"\",0.259999999999998,0.21000000000000085,0.7699999999999996,5.390000000000001,0.629999999999999,0.5900000000000034,0.16999999999999815,-0.26000000000000156,0.5,0.490000000000002,-0.08999999999999986,-0.03999999999999915,0.4499999999999993,0.7800000000000011,0.3500000000000014,0.13999999999999346,1.1500000000000057,0.4399999999999977,0.3200000000000003,0.5600000000000023,3.029999999999994,0.3300000000000054,0.28000000000000114,-0.04000000000000625,1.5700000000000003,1.4500000000000028,0.6799999999999997,0.22999999999999687,0.8800000000000026,1.3599999999999994,0.6099999999999994,2.1300000000000026,0.7100000000000009,-0.14000000000000057,3.4299999999999997],\"type\":\"scatter\"},{\"line\":{\"color\":\"rgba(255, 181, 184, 1.0)\",\"dash\":\"solid\",\"shape\":\"linear\",\"width\":1.3},\"mode\":\"lines\",\"name\":\"C\\u00f3rdoba\",\"text\":\"\",\"x\":[\"2014-T1\",\"2014-T2\",\"2014-T3\",\"2014-T4\",\"2015-T1\",\"2015-T2\",\"2015-T3\",\"2015-T4\",\"2016-T1\",\"2016-T2\",\"2016-T3\",\"2016-T4\",\"2017-T1\",\"2017-T2\",\"2017-T3\",\"2017-T4\",\"2018-T1\",\"2018-T2\",\"2018-T3\",\"2018-T4\",\"2019-T1\",\"2019-T2\",\"2019-T3\",\"2019-T4\",\"2020-T1\",\"2020-T2\",\"2020-T3\",\"2020-T4\",\"2021-T1\",\"2021-T2\",\"2021-T3\",\"2021-T4\",\"2022-T1\",\"2022-T2\",\"2022-T3\",\"2022-T4\"],\"y\":[\"\",0.9299999999999997,0.779999999999994,0.47000000000000597,0.0,1.1699999999999946,1.2100000000000009,0.28000000000000114,-2.0799999999999983,2.269999999999996,0.6900000000000048,-0.5399999999999991,-0.05000000000000426,1.3200000000000003,3.3400000000000034,1.019999999999996,0.19000000000000483,-0.25,0.9699999999999918,0.8500000000000085,0.4299999999999926,2.549999999999997,0.5200000000000102,1.8900000000000006,0.20999999999999375,2.019999999999996,2.510000000000005,2.8599999999999994,0.5100000000000051,1.5300000000000011,1.1599999999999966,3.230000000000004,1.25,1.7199999999999989,0.8299999999999983,0.7199999999999989],\"type\":\"scatter\"},{\"line\":{\"color\":\"rgba(255, 181, 184, 0.8999999999999999)\",\"dash\":\"solid\",\"shape\":\"linear\",\"width\":1.3},\"mode\":\"lines\",\"name\":\"Entre R\\u00edos\",\"text\":\"\",\"x\":[\"2014-T1\",\"2014-T2\",\"2014-T3\",\"2014-T4\",\"2015-T1\",\"2015-T2\",\"2015-T3\",\"2015-T4\",\"2016-T1\",\"2016-T2\",\"2016-T3\",\"2016-T4\",\"2017-T1\",\"2017-T2\",\"2017-T3\",\"2017-T4\",\"2018-T1\",\"2018-T2\",\"2018-T3\",\"2018-T4\",\"2019-T1\",\"2019-T2\",\"2019-T3\",\"2019-T4\",\"2020-T1\",\"2020-T2\",\"2020-T3\",\"2020-T4\",\"2021-T1\",\"2021-T2\",\"2021-T3\",\"2021-T4\",\"2022-T1\",\"2022-T2\",\"2022-T3\",\"2022-T4\"],\"y\":[\"\",0.3200000000000003,0.28999999999999915,1.0500000000000043,6.039999999999999,0.8599999999999994,0.75,0.4299999999999997,-0.259999999999998,0.8900000000000006,0.6999999999999957,-0.22999999999999687,-0.30000000000000426,0.480000000000004,0.5700000000000003,1.9299999999999997,0.7899999999999991,0.5200000000000031,1.019999999999996,4.149999999999999,2.4200000000000017,0.6899999999999977,0.4200000000000017,0.09000000000000341,-1.8700000000000045,0.4200000000000017,1.6499999999999986,1.2800000000000011,0.9699999999999989,1.2199999999999989,0.5200000000000031,0.9799999999999969,0.5400000000000063,0.19999999999999574,-0.22999999999999687,0.3400000000000034],\"type\":\"scatter\"},{\"line\":{\"color\":\"rgba(226, 74, 51, 0.8999999999999999)\",\"dash\":\"solid\",\"shape\":\"linear\",\"width\":1.3},\"mode\":\"lines\",\"name\":\"Formosa\",\"text\":\"\",\"x\":[\"2014-T1\",\"2014-T2\",\"2014-T3\",\"2014-T4\",\"2015-T1\",\"2015-T2\",\"2015-T3\",\"2015-T4\",\"2016-T1\",\"2016-T2\",\"2016-T3\",\"2016-T4\",\"2017-T1\",\"2017-T2\",\"2017-T3\",\"2017-T4\",\"2018-T1\",\"2018-T2\",\"2018-T3\",\"2018-T4\",\"2019-T1\",\"2019-T2\",\"2019-T3\",\"2019-T4\",\"2020-T1\",\"2020-T2\",\"2020-T3\",\"2020-T4\",\"2021-T1\",\"2021-T2\",\"2021-T3\",\"2021-T4\",\"2022-T1\",\"2022-T2\",\"2022-T3\",\"2022-T4\"],\"y\":[\"\",0.11999999999999744,0.23000000000000043,0.19000000000000128,0.16000000000000014,0.23999999999999844,0.4800000000000004,0.23000000000000043,-0.030000000000001137,0.33000000000000185,-0.7300000000000004,1.2100000000000009,-0.010000000000001563,0.129999999999999,1.3800000000000026,-0.08000000000000185,0.129999999999999,8.030000000000001,0.14999999999999858,0.16000000000000014,-0.05999999999999872,0.740000000000002,-0.3100000000000023,0.35999999999999943,-0.23999999999999844,0.9100000000000001,0.7699999999999996,0.5800000000000018,0.23999999999999488,0.5,0.730000000000004,0.490000000000002,0.509999999999998,8.46,0.3399999999999963,-4.350000000000001],\"type\":\"scatter\"},{\"line\":{\"color\":\"rgba(62, 111, 176, 0.8999999999999999)\",\"dash\":\"solid\",\"shape\":\"linear\",\"width\":1.3},\"mode\":\"lines\",\"name\":\"Jujuy\",\"text\":\"\",\"x\":[\"2014-T1\",\"2014-T2\",\"2014-T3\",\"2014-T4\",\"2015-T1\",\"2015-T2\",\"2015-T3\",\"2015-T4\",\"2016-T1\",\"2016-T2\",\"2016-T3\",\"2016-T4\",\"2017-T1\",\"2017-T2\",\"2017-T3\",\"2017-T4\",\"2018-T1\",\"2018-T2\",\"2018-T3\",\"2018-T4\",\"2019-T1\",\"2019-T2\",\"2019-T3\",\"2019-T4\",\"2020-T1\",\"2020-T2\",\"2020-T3\",\"2020-T4\",\"2021-T1\",\"2021-T2\",\"2021-T3\",\"2021-T4\",\"2022-T1\",\"2022-T2\",\"2022-T3\",\"2022-T4\"],\"y\":[\"\",0.28999999999999915,-0.33999999999999986,1.2300000000000004,0.08999999999999986,0.5999999999999979,0.9800000000000004,0.1999999999999993,-0.05999999999999872,0.4800000000000004,0.7199999999999989,0.03999999999999915,0.11000000000000298,-0.360000000000003,0.25,0.08999999999999986,0.38000000000000256,0.3099999999999987,-0.16999999999999815,23.27,-0.12000000000000455,-1.8999999999999986,-0.18999999999999773,1.0600000000000023,1.2899999999999991,1.2199999999999989,6.149999999999999,-0.5799999999999983,2.1700000000000017,0.5499999999999972,-0.490000000000002,1.230000000000004,1.1400000000000006,-0.740000000000002,1.5899999999999963,-0.44999999999999574],\"type\":\"scatter\"},{\"line\":{\"color\":\"rgba(132, 118, 202, 0.8999999999999999)\",\"dash\":\"solid\",\"shape\":\"linear\",\"width\":1.3},\"mode\":\"lines\",\"name\":\"La Pampa\",\"text\":\"\",\"x\":[\"2014-T1\",\"2014-T2\",\"2014-T3\",\"2014-T4\",\"2015-T1\",\"2015-T2\",\"2015-T3\",\"2015-T4\",\"2016-T1\",\"2016-T2\",\"2016-T3\",\"2016-T4\",\"2017-T1\",\"2017-T2\",\"2017-T3\",\"2017-T4\",\"2018-T1\",\"2018-T2\",\"2018-T3\",\"2018-T4\",\"2019-T1\",\"2019-T2\",\"2019-T3\",\"2019-T4\",\"2020-T1\",\"2020-T2\",\"2020-T3\",\"2020-T4\",\"2021-T1\",\"2021-T2\",\"2021-T3\",\"2021-T4\",\"2022-T1\",\"2022-T2\",\"2022-T3\",\"2022-T4\"],\"y\":[\"\",1.2800000000000011,6.07,-4.509999999999998,4.239999999999995,1.2000000000000028,1.25,0.7999999999999972,-0.9199999999999946,2.5999999999999943,1.2899999999999991,1.2900000000000063,-0.3500000000000014,0.8200000000000003,5.649999999999999,1.9099999999999966,0.7000000000000028,-0.7099999999999937,0.7099999999999937,1.7399999999999949,2.8599999999999994,0.730000000000004,0.37000000000000455,-0.5300000000000011,-1.1500000000000057,0.3299999999999983,3.160000000000011,2.509999999999991,0.010000000000005116,0.29999999999999716,2.200000000000003,5.289999999999992,2.0900000000000034,1.3200000000000074,3.6099999999999994,-1.7900000000000063],\"type\":\"scatter\"},{\"line\":{\"color\":\"rgba(101, 101, 101, 0.8999999999999999)\",\"dash\":\"solid\",\"shape\":\"linear\",\"width\":1.3},\"mode\":\"lines\",\"name\":\"La Rioja\",\"text\":\"\",\"x\":[\"2014-T1\",\"2014-T2\",\"2014-T3\",\"2014-T4\",\"2015-T1\",\"2015-T2\",\"2015-T3\",\"2015-T4\",\"2016-T1\",\"2016-T2\",\"2016-T3\",\"2016-T4\",\"2017-T1\",\"2017-T2\",\"2017-T3\",\"2017-T4\",\"2018-T1\",\"2018-T2\",\"2018-T3\",\"2018-T4\",\"2019-T1\",\"2019-T2\",\"2019-T3\",\"2019-T4\",\"2020-T1\",\"2020-T2\",\"2020-T3\",\"2020-T4\",\"2021-T1\",\"2021-T2\",\"2021-T3\",\"2021-T4\",\"2022-T1\",\"2022-T2\",\"2022-T3\",\"2022-T4\"],\"y\":[\"\",0.21000000000000085,0.010000000000001563,0.5,-0.3100000000000023,0.17999999999999972,0.2699999999999996,0.1700000000000017,-0.490000000000002,0.05000000000000071,0.19000000000000128,-0.6099999999999994,-0.26000000000000156,0.0,35.269999999999996,0.10000000000000142,-0.13000000000000256,-0.46000000000000085,-0.25,-0.37999999999999545,-0.1700000000000017,-1.4799999999999969,-0.7600000000000051,-0.7999999999999972,-0.7899999999999991,3.490000000000002,0.27999999999999403,-0.00999999999999801,-0.29999999999999716,27.17,0.28000000000000114,0.6599999999999966,0.8499999999999943,1.3700000000000045,0.519999999999996,-0.7999999999999972],\"type\":\"scatter\"},{\"line\":{\"color\":\"rgba(251, 193, 94, 0.8999999999999999)\",\"dash\":\"solid\",\"shape\":\"linear\",\"width\":1.3},\"mode\":\"lines\",\"name\":\"Mendoza\",\"text\":\"\",\"x\":[\"2014-T1\",\"2014-T2\",\"2014-T3\",\"2014-T4\",\"2015-T1\",\"2015-T2\",\"2015-T3\",\"2015-T4\",\"2016-T1\",\"2016-T2\",\"2016-T3\",\"2016-T4\",\"2017-T1\",\"2017-T2\",\"2017-T3\",\"2017-T4\",\"2018-T1\",\"2018-T2\",\"2018-T3\",\"2018-T4\",\"2019-T1\",\"2019-T2\",\"2019-T3\",\"2019-T4\",\"2020-T1\",\"2020-T2\",\"2020-T3\",\"2020-T4\",\"2021-T1\",\"2021-T2\",\"2021-T3\",\"2021-T4\",\"2022-T1\",\"2022-T2\",\"2022-T3\",\"2022-T4\"],\"y\":[\"\",0.19000000000000128,0.21000000000000085,0.3299999999999983,-0.2700000000000031,0.12000000000000455,0.0,0.0,-0.37000000000000455,0.010000000000005116,-0.03999999999999915,0.01999999999999602,-0.2699999999999996,-0.0799999999999983,3.9400000000000013,-2.3700000000000045,3.740000000000002,-0.10000000000000142,1.0200000000000031,-0.23000000000000398,-0.10000000000000142,3.0900000000000034,-0.00999999999999801,-7.090000000000003,-0.509999999999998,3.1099999999999994,1.1000000000000014,1.2800000000000011,0.519999999999996,1.8200000000000003,4.579999999999998,1.9600000000000009,1.230000000000004,0.6499999999999986,1.6400000000000006,0.3299999999999983],\"type\":\"scatter\"},{\"line\":{\"color\":\"rgba(142, 186, 66, 0.8999999999999999)\",\"dash\":\"solid\",\"shape\":\"linear\",\"width\":1.3},\"mode\":\"lines\",\"name\":\"Misiones\",\"text\":\"\",\"x\":[\"2014-T1\",\"2014-T2\",\"2014-T3\",\"2014-T4\",\"2015-T1\",\"2015-T2\",\"2015-T3\",\"2015-T4\",\"2016-T1\",\"2016-T2\",\"2016-T3\",\"2016-T4\",\"2017-T1\",\"2017-T2\",\"2017-T3\",\"2017-T4\",\"2018-T1\",\"2018-T2\",\"2018-T3\",\"2018-T4\",\"2019-T1\",\"2019-T2\",\"2019-T3\",\"2019-T4\",\"2020-T1\",\"2020-T2\",\"2020-T3\",\"2020-T4\",\"2021-T1\",\"2021-T2\",\"2021-T3\",\"2021-T4\",\"2022-T1\",\"2022-T2\",\"2022-T3\",\"2022-T4\"],\"y\":[\"\",0.23000000000000043,0.1999999999999993,0.5899999999999999,2.1499999999999986,1.0400000000000027,0.9599999999999973,0.38000000000000256,-0.3200000000000003,0.8699999999999974,0.6700000000000017,-0.19000000000000128,-0.1999999999999993,0.5700000000000003,0.120000000000001,0.9299999999999997,-0.17999999999999972,0.6699999999999982,0.4700000000000024,2.3500000000000014,1.8099999999999952,2.8900000000000006,0.17999999999999972,0.46000000000000085,-0.769999999999996,1.8699999999999974,0.7100000000000009,1.0399999999999991,0.5300000000000011,1.8399999999999963,0.5600000000000023,3.490000000000002,-0.020000000000003126,1.9600000000000009,0.8200000000000003,1.0300000000000011],\"type\":\"scatter\"},{\"line\":{\"color\":\"rgba(142, 186, 66, 0.7999999999999998)\",\"dash\":\"solid\",\"shape\":\"linear\",\"width\":1.3},\"mode\":\"lines\",\"name\":\"Neuqu\\u00e9n\",\"text\":\"\",\"x\":[\"2014-T1\",\"2014-T2\",\"2014-T3\",\"2014-T4\",\"2015-T1\",\"2015-T2\",\"2015-T3\",\"2015-T4\",\"2016-T1\",\"2016-T2\",\"2016-T3\",\"2016-T4\",\"2017-T1\",\"2017-T2\",\"2017-T3\",\"2017-T4\",\"2018-T1\",\"2018-T2\",\"2018-T3\",\"2018-T4\",\"2019-T1\",\"2019-T2\",\"2019-T3\",\"2019-T4\",\"2020-T1\",\"2020-T2\",\"2020-T3\",\"2020-T4\",\"2021-T1\",\"2021-T2\",\"2021-T3\",\"2021-T4\",\"2022-T1\",\"2022-T2\",\"2022-T3\",\"2022-T4\"],\"y\":[\"\",1.0500000000000043,5.559999999999995,-3.8500000000000014,-0.5999999999999943,1.1699999999999946,1.480000000000004,3.6899999999999977,-2.539999999999999,3.3500000000000014,1.1099999999999994,0.6599999999999966,0.15000000000000568,0.8899999999999935,-1.0799999999999983,0.4100000000000037,0.28000000000000114,-1.2800000000000011,0.25,-1.4200000000000017,-0.18999999999999773,4.199999999999996,1.0600000000000023,-4.780000000000001,2.490000000000002,2.049999999999997,1.3399999999999963,1.7600000000000051,-0.1599999999999966,2.299999999999997,0.5699999999999932,3.5900000000000034,0.8700000000000045,5.849999999999994,0.3500000000000085,-1.7000000000000028],\"type\":\"scatter\"},{\"line\":{\"color\":\"rgba(255, 181, 184, 0.7999999999999998)\",\"dash\":\"solid\",\"shape\":\"linear\",\"width\":1.3},\"mode\":\"lines\",\"name\":\"R\\u00edo Negro\",\"text\":\"\",\"x\":[\"2014-T1\",\"2014-T2\",\"2014-T3\",\"2014-T4\",\"2015-T1\",\"2015-T2\",\"2015-T3\",\"2015-T4\",\"2016-T1\",\"2016-T2\",\"2016-T3\",\"2016-T4\",\"2017-T1\",\"2017-T2\",\"2017-T3\",\"2017-T4\",\"2018-T1\",\"2018-T2\",\"2018-T3\",\"2018-T4\",\"2019-T1\",\"2019-T2\",\"2019-T3\",\"2019-T4\",\"2020-T1\",\"2020-T2\",\"2020-T3\",\"2020-T4\",\"2021-T1\",\"2021-T2\",\"2021-T3\",\"2021-T4\",\"2022-T1\",\"2022-T2\",\"2022-T3\",\"2022-T4\"],\"y\":[\"\",0.4200000000000017,0.8700000000000045,-0.720000000000006,-0.14999999999999858,0.6499999999999986,0.4100000000000037,0.04999999999999716,-0.5999999999999943,0.3999999999999986,0.14999999999999858,0.0,-0.35999999999999943,-0.00999999999999801,2.5,0.8599999999999994,0.4399999999999977,0.3299999999999983,0.39000000000000057,1.3200000000000003,1.7100000000000009,7.520000000000003,2.3299999999999983,-7.710000000000001,-0.5900000000000034,1.25,0.6799999999999997,4.040000000000006,-0.21000000000000085,1.0599999999999952,0.030000000000001137,3.719999999999999,1.3500000000000085,0.8099999999999881,0.13000000000000966,0.4399999999999977],\"type\":\"scatter\"},{\"line\":{\"color\":\"rgba(226, 74, 51, 0.7999999999999998)\",\"dash\":\"solid\",\"shape\":\"linear\",\"width\":1.3},\"mode\":\"lines\",\"name\":\"Salta\",\"text\":\"\",\"x\":[\"2014-T1\",\"2014-T2\",\"2014-T3\",\"2014-T4\",\"2015-T1\",\"2015-T2\",\"2015-T3\",\"2015-T4\",\"2016-T1\",\"2016-T2\",\"2016-T3\",\"2016-T4\",\"2017-T1\",\"2017-T2\",\"2017-T3\",\"2017-T4\",\"2018-T1\",\"2018-T2\",\"2018-T3\",\"2018-T4\",\"2019-T1\",\"2019-T2\",\"2019-T3\",\"2019-T4\",\"2020-T1\",\"2020-T2\",\"2020-T3\",\"2020-T4\",\"2021-T1\",\"2021-T2\",\"2021-T3\",\"2021-T4\",\"2022-T1\",\"2022-T2\",\"2022-T3\",\"2022-T4\"],\"y\":[\"\",0.21000000000000085,0.3099999999999987,0.3100000000000023,0.4800000000000004,0.4499999999999993,0.7199999999999989,0.41000000000000014,-0.2699999999999996,0.759999999999998,0.8800000000000026,-0.2700000000000031,-0.10999999999999943,0.1600000000000037,7.100000000000001,-0.04000000000000625,-0.01999999999999602,0.1599999999999966,-0.509999999999998,0.36999999999999744,0.30000000000000426,1.7899999999999991,2.5899999999999963,5.8700000000000045,-0.75,1.9799999999999969,0.740000000000002,1.7199999999999989,-0.10999999999999943,1.0,1.0300000000000011,0.8500000000000014,-0.7000000000000028,1.4299999999999997,0.21999999999999886,0.20000000000000284],\"type\":\"scatter\"},{\"line\":{\"color\":\"rgba(62, 111, 176, 0.7999999999999998)\",\"dash\":\"solid\",\"shape\":\"linear\",\"width\":1.3},\"mode\":\"lines\",\"name\":\"San Juan\",\"text\":\"\",\"x\":[\"2014-T1\",\"2014-T2\",\"2014-T3\",\"2014-T4\",\"2015-T1\",\"2015-T2\",\"2015-T3\",\"2015-T4\",\"2016-T1\",\"2016-T2\",\"2016-T3\",\"2016-T4\",\"2017-T1\",\"2017-T2\",\"2017-T3\",\"2017-T4\",\"2018-T1\",\"2018-T2\",\"2018-T3\",\"2018-T4\",\"2019-T1\",\"2019-T2\",\"2019-T3\",\"2019-T4\",\"2020-T1\",\"2020-T2\",\"2020-T3\",\"2020-T4\",\"2021-T1\",\"2021-T2\",\"2021-T3\",\"2021-T4\",\"2022-T1\",\"2022-T2\",\"2022-T3\",\"2022-T4\"],\"y\":[\"\",0.17999999999999972,0.07000000000000028,0.18999999999999773,-0.48999999999999844,0.08999999999999986,0.030000000000001137,-0.010000000000001563,-0.33000000000000185,0.010000000000001563,-0.019999999999999574,-0.030000000000001137,-0.25,-0.0799999999999983,5.409999999999997,-2.0699999999999967,2.3099999999999987,0.3400000000000034,0.09999999999999432,-1.1499999999999986,-0.07000000000000028,3.770000000000003,1.4600000000000009,-4.210000000000001,-0.46000000000000085,2.700000000000003,3.6999999999999957,-2.469999999999999,2.740000000000002,0.21999999999999886,0.17999999999999972,0.13000000000000256,3.9599999999999937,5.910000000000004,1.3399999999999963,0.0800000000000054],\"type\":\"scatter\"},{\"line\":{\"color\":\"rgba(132, 118, 202, 0.7999999999999998)\",\"dash\":\"solid\",\"shape\":\"linear\",\"width\":1.3},\"mode\":\"lines\",\"name\":\"San Luis\",\"text\":\"\",\"x\":[\"2014-T1\",\"2014-T2\",\"2014-T3\",\"2014-T4\",\"2015-T1\",\"2015-T2\",\"2015-T3\",\"2015-T4\",\"2016-T1\",\"2016-T2\",\"2016-T3\",\"2016-T4\",\"2017-T1\",\"2017-T2\",\"2017-T3\",\"2017-T4\",\"2018-T1\",\"2018-T2\",\"2018-T3\",\"2018-T4\",\"2019-T1\",\"2019-T2\",\"2019-T3\",\"2019-T4\",\"2020-T1\",\"2020-T2\",\"2020-T3\",\"2020-T4\",\"2021-T1\",\"2021-T2\",\"2021-T3\",\"2021-T4\",\"2022-T1\",\"2022-T2\",\"2022-T3\",\"2022-T4\"],\"y\":[\"\",0.370000000000001,-0.009999999999999787,0.0799999999999983,-0.06999999999999851,-0.009999999999999787,0.0,0.0,-0.120000000000001,0.009999999999999787,0.030000000000001137,0.009999999999999787,-0.08999999999999986,-0.040000000000000924,5.970000000000001,-4.890000000000001,4.5600000000000005,0.0,37.2,15.199999999999996,-0.20999999999999375,14.450000000000003,3.4399999999999977,-10.310000000000002,1.3900000000000006,2.0999999999999943,1.5499999999999972,1.720000000000013,-0.44000000000001194,2.240000000000009,-3.6099999999999994,0.4299999999999926,0.4200000000000017,1.0400000000000063,-0.020000000000010232,8.530000000000001],\"type\":\"scatter\"},{\"line\":{\"color\":\"rgba(101, 101, 101, 0.7999999999999998)\",\"dash\":\"solid\",\"shape\":\"linear\",\"width\":1.3},\"mode\":\"lines\",\"name\":\"Santa Cruz\",\"text\":\"\",\"x\":[\"2014-T1\",\"2014-T2\",\"2014-T3\",\"2014-T4\",\"2015-T1\",\"2015-T2\",\"2015-T3\",\"2015-T4\",\"2016-T1\",\"2016-T2\",\"2016-T3\",\"2016-T4\",\"2017-T1\",\"2017-T2\",\"2017-T3\",\"2017-T4\",\"2018-T1\",\"2018-T2\",\"2018-T3\",\"2018-T4\",\"2019-T1\",\"2019-T2\",\"2019-T3\",\"2019-T4\",\"2020-T1\",\"2020-T2\",\"2020-T3\",\"2020-T4\",\"2021-T1\",\"2021-T2\",\"2021-T3\",\"2021-T4\",\"2022-T1\",\"2022-T2\",\"2022-T3\",\"2022-T4\"],\"y\":[\"\",0.4399999999999977,-1.1499999999999986,-0.4299999999999997,0.18999999999999773,-0.9199999999999982,0.5399999999999991,0.129999999999999,-0.8699999999999974,-0.14000000000000057,0.10999999999999943,0.21000000000000085,-0.5300000000000011,-0.2699999999999996,7.039999999999999,-4.379999999999999,4.639999999999997,-0.21999999999999886,-0.6000000000000014,-9.039999999999996,-0.019999999999999574,5.18,6.780000000000001,1.0799999999999983,-0.740000000000002,-0.17999999999999972,0.1600000000000037,1.0499999999999972,4.649999999999999,2.3599999999999994,-0.259999999999998,-0.7000000000000028,0.29000000000000625,-0.19000000000000483,0.03999999999999915,0.3400000000000034],\"type\":\"scatter\"},{\"line\":{\"color\":\"rgba(251, 193, 94, 0.7999999999999998)\",\"dash\":\"solid\",\"shape\":\"linear\",\"width\":1.3},\"mode\":\"lines\",\"name\":\"Santa Fe\",\"text\":\"\",\"x\":[\"2014-T1\",\"2014-T2\",\"2014-T3\",\"2014-T4\",\"2015-T1\",\"2015-T2\",\"2015-T3\",\"2015-T4\",\"2016-T1\",\"2016-T2\",\"2016-T3\",\"2016-T4\",\"2017-T1\",\"2017-T2\",\"2017-T3\",\"2017-T4\",\"2018-T1\",\"2018-T2\",\"2018-T3\",\"2018-T4\",\"2019-T1\",\"2019-T2\",\"2019-T3\",\"2019-T4\",\"2020-T1\",\"2020-T2\",\"2020-T3\",\"2020-T4\",\"2021-T1\",\"2021-T2\",\"2021-T3\",\"2021-T4\",\"2022-T1\",\"2022-T2\",\"2022-T3\",\"2022-T4\"],\"y\":[\"\",0.5399999999999991,0.8100000000000023,0.7999999999999972,0.240000000000002,0.9399999999999977,0.9699999999999989,0.46000000000000085,-1.3299999999999983,1.1599999999999966,0.23000000000000398,-0.480000000000004,-0.21999999999999886,0.30000000000000426,8.639999999999993,0.8000000000000043,0.5700000000000003,0.28999999999999915,0.8399999999999963,2.180000000000007,1.3799999999999955,0.45000000000000284,1.4500000000000028,0.6099999999999994,0.03999999999999204,0.480000000000004,2.1200000000000045,1.4599999999999937,0.3400000000000034,1.1499999999999915,-0.04999999999999716,2.0700000000000074,0.20999999999999375,0.6000000000000085,0.6499999999999915,-0.14999999999999147],\"type\":\"scatter\"},{\"line\":{\"color\":\"rgba(251, 193, 94, 0.7)\",\"dash\":\"solid\",\"shape\":\"linear\",\"width\":1.3},\"mode\":\"lines\",\"name\":\"Santiago Del Estero\",\"text\":\"\",\"x\":[\"2014-T1\",\"2014-T2\",\"2014-T3\",\"2014-T4\",\"2015-T1\",\"2015-T2\",\"2015-T3\",\"2015-T4\",\"2016-T1\",\"2016-T2\",\"2016-T3\",\"2016-T4\",\"2017-T1\",\"2017-T2\",\"2017-T3\",\"2017-T4\",\"2018-T1\",\"2018-T2\",\"2018-T3\",\"2018-T4\",\"2019-T1\",\"2019-T2\",\"2019-T3\",\"2019-T4\",\"2020-T1\",\"2020-T2\",\"2020-T3\",\"2020-T4\",\"2021-T1\",\"2021-T2\",\"2021-T3\",\"2021-T4\",\"2022-T1\",\"2022-T2\",\"2022-T3\",\"2022-T4\"],\"y\":[\"\",0.39000000000000057,-0.21000000000000085,0.7800000000000011,-0.21000000000000085,0.05000000000000071,0.010000000000001563,-0.120000000000001,-0.7899999999999991,-0.3200000000000003,-0.5600000000000005,-0.2599999999999998,-0.370000000000001,-0.5800000000000001,21.0,-5.989999999999998,5.860000000000003,0.269999999999996,0.990000000000002,1.1499999999999986,0.12000000000000455,15.269999999999996,2.509999999999998,-12.379999999999995,-0.45000000000000284,1.0,-0.0899999999999963,0.36999999999999744,1.9200000000000017,0.8900000000000006,0.4399999999999977,0.04999999999999716,0.12000000000000455,0.5300000000000011,0.27999999999999403,0.07000000000000028],\"type\":\"scatter\"},{\"line\":{\"color\":\"rgba(142, 186, 66, 0.7)\",\"dash\":\"solid\",\"shape\":\"linear\",\"width\":1.3},\"mode\":\"lines\",\"name\":\"Tierra Del Fuego\",\"text\":\"\",\"x\":[\"2014-T1\",\"2014-T2\",\"2014-T3\",\"2014-T4\",\"2015-T1\",\"2015-T2\",\"2015-T3\",\"2015-T4\",\"2016-T1\",\"2016-T2\",\"2016-T3\",\"2016-T4\",\"2017-T1\",\"2017-T2\",\"2017-T3\",\"2017-T4\",\"2018-T1\",\"2018-T2\",\"2018-T3\",\"2018-T4\",\"2019-T1\",\"2019-T2\",\"2019-T3\",\"2019-T4\",\"2020-T1\",\"2020-T2\",\"2020-T3\",\"2020-T4\",\"2021-T1\",\"2021-T2\",\"2021-T3\",\"2021-T4\",\"2022-T1\",\"2022-T2\",\"2022-T3\",\"2022-T4\"],\"y\":[\"\",0.39000000000000057,1.3299999999999983,0.45000000000000284,8.090000000000003,0.28000000000000114,0.3499999999999943,-8.400000000000006,-0.6299999999999955,1.8900000000000006,1.2199999999999989,1.3700000000000045,-1.3900000000000006,-0.46000000000000796,-2.719999999999999,-5.849999999999994,5.310000000000002,26.409999999999997,1.1599999999999966,0.8200000000000074,-0.21000000000000796,1.4200000000000017,1.6599999999999966,-16.75999999999999,-3.6300000000000097,0.30000000000001137,0.4399999999999977,-0.5400000000000063,1.0799999999999983,-9.459999999999994,27.060000000000002,3.450000000000003,-0.10999999999999943,1.5699999999999932,-0.3499999999999943,1.9299999999999926],\"type\":\"scatter\"},{\"line\":{\"color\":\"rgba(255, 181, 184, 0.7)\",\"dash\":\"solid\",\"shape\":\"linear\",\"width\":1.3},\"mode\":\"lines\",\"name\":\"Tucum\\u00e1n\",\"text\":\"\",\"x\":[\"2014-T1\",\"2014-T2\",\"2014-T3\",\"2014-T4\",\"2015-T1\",\"2015-T2\",\"2015-T3\",\"2015-T4\",\"2016-T1\",\"2016-T2\",\"2016-T3\",\"2016-T4\",\"2017-T1\",\"2017-T2\",\"2017-T3\",\"2017-T4\",\"2018-T1\",\"2018-T2\",\"2018-T3\",\"2018-T4\",\"2019-T1\",\"2019-T2\",\"2019-T3\",\"2019-T4\",\"2020-T1\",\"2020-T2\",\"2020-T3\",\"2020-T4\",\"2021-T1\",\"2021-T2\",\"2021-T3\",\"2021-T4\",\"2022-T1\",\"2022-T2\",\"2022-T3\",\"2022-T4\"],\"y\":[\"\",0.519999999999996,0.0,1.3800000000000026,-0.240000000000002,0.6099999999999994,0.9200000000000017,0.45000000000000284,-0.3400000000000034,0.5200000000000031,0.6599999999999966,0.0799999999999983,-0.0799999999999983,0.28999999999999915,1.5100000000000051,0.19999999999999574,1.2800000000000011,0.3299999999999983,0.1700000000000017,0.0799999999999983,-0.12999999999999545,-1.490000000000002,-0.6499999999999986,8.159999999999997,0.20000000000000284,3.9299999999999997,1.4499999999999957,1.5500000000000043,0.03999999999999915,0.10999999999999943,-0.28999999999999915,1.2899999999999991,1.4600000000000009,1.9200000000000017,1.8299999999999983,-0.10000000000000142],\"type\":\"scatter\"}],                        {\"legend\":{\"bgcolor\":\"#FFFFFF\",\"font\":{\"color\":\"#666666\"}},\"paper_bgcolor\":\"#FFFFFF\",\"plot_bgcolor\":\"#E5E5E5\",\"template\":{\"data\":{\"barpolar\":[{\"marker\":{\"line\":{\"color\":\"#E5ECF6\",\"width\":0.5},\"pattern\":{\"fillmode\":\"overlay\",\"size\":10,\"solidity\":0.2}},\"type\":\"barpolar\"}],\"bar\":[{\"error_x\":{\"color\":\"#2a3f5f\"},\"error_y\":{\"color\":\"#2a3f5f\"},\"marker\":{\"line\":{\"color\":\"#E5ECF6\",\"width\":0.5},\"pattern\":{\"fillmode\":\"overlay\",\"size\":10,\"solidity\":0.2}},\"type\":\"bar\"}],\"carpet\":[{\"aaxis\":{\"endlinecolor\":\"#2a3f5f\",\"gridcolor\":\"white\",\"linecolor\":\"white\",\"minorgridcolor\":\"white\",\"startlinecolor\":\"#2a3f5f\"},\"baxis\":{\"endlinecolor\":\"#2a3f5f\",\"gridcolor\":\"white\",\"linecolor\":\"white\",\"minorgridcolor\":\"white\",\"startlinecolor\":\"#2a3f5f\"},\"type\":\"carpet\"}],\"choropleth\":[{\"colorbar\":{\"outlinewidth\":0,\"ticks\":\"\"},\"type\":\"choropleth\"}],\"contourcarpet\":[{\"colorbar\":{\"outlinewidth\":0,\"ticks\":\"\"},\"type\":\"contourcarpet\"}],\"contour\":[{\"colorbar\":{\"outlinewidth\":0,\"ticks\":\"\"},\"colorscale\":[[0.0,\"#0d0887\"],[0.1111111111111111,\"#46039f\"],[0.2222222222222222,\"#7201a8\"],[0.3333333333333333,\"#9c179e\"],[0.4444444444444444,\"#bd3786\"],[0.5555555555555556,\"#d8576b\"],[0.6666666666666666,\"#ed7953\"],[0.7777777777777778,\"#fb9f3a\"],[0.8888888888888888,\"#fdca26\"],[1.0,\"#f0f921\"]],\"type\":\"contour\"}],\"heatmapgl\":[{\"colorbar\":{\"outlinewidth\":0,\"ticks\":\"\"},\"colorscale\":[[0.0,\"#0d0887\"],[0.1111111111111111,\"#46039f\"],[0.2222222222222222,\"#7201a8\"],[0.3333333333333333,\"#9c179e\"],[0.4444444444444444,\"#bd3786\"],[0.5555555555555556,\"#d8576b\"],[0.6666666666666666,\"#ed7953\"],[0.7777777777777778,\"#fb9f3a\"],[0.8888888888888888,\"#fdca26\"],[1.0,\"#f0f921\"]],\"type\":\"heatmapgl\"}],\"heatmap\":[{\"colorbar\":{\"outlinewidth\":0,\"ticks\":\"\"},\"colorscale\":[[0.0,\"#0d0887\"],[0.1111111111111111,\"#46039f\"],[0.2222222222222222,\"#7201a8\"],[0.3333333333333333,\"#9c179e\"],[0.4444444444444444,\"#bd3786\"],[0.5555555555555556,\"#d8576b\"],[0.6666666666666666,\"#ed7953\"],[0.7777777777777778,\"#fb9f3a\"],[0.8888888888888888,\"#fdca26\"],[1.0,\"#f0f921\"]],\"type\":\"heatmap\"}],\"histogram2dcontour\":[{\"colorbar\":{\"outlinewidth\":0,\"ticks\":\"\"},\"colorscale\":[[0.0,\"#0d0887\"],[0.1111111111111111,\"#46039f\"],[0.2222222222222222,\"#7201a8\"],[0.3333333333333333,\"#9c179e\"],[0.4444444444444444,\"#bd3786\"],[0.5555555555555556,\"#d8576b\"],[0.6666666666666666,\"#ed7953\"],[0.7777777777777778,\"#fb9f3a\"],[0.8888888888888888,\"#fdca26\"],[1.0,\"#f0f921\"]],\"type\":\"histogram2dcontour\"}],\"histogram2d\":[{\"colorbar\":{\"outlinewidth\":0,\"ticks\":\"\"},\"colorscale\":[[0.0,\"#0d0887\"],[0.1111111111111111,\"#46039f\"],[0.2222222222222222,\"#7201a8\"],[0.3333333333333333,\"#9c179e\"],[0.4444444444444444,\"#bd3786\"],[0.5555555555555556,\"#d8576b\"],[0.6666666666666666,\"#ed7953\"],[0.7777777777777778,\"#fb9f3a\"],[0.8888888888888888,\"#fdca26\"],[1.0,\"#f0f921\"]],\"type\":\"histogram2d\"}],\"histogram\":[{\"marker\":{\"pattern\":{\"fillmode\":\"overlay\",\"size\":10,\"solidity\":0.2}},\"type\":\"histogram\"}],\"mesh3d\":[{\"colorbar\":{\"outlinewidth\":0,\"ticks\":\"\"},\"type\":\"mesh3d\"}],\"parcoords\":[{\"line\":{\"colorbar\":{\"outlinewidth\":0,\"ticks\":\"\"}},\"type\":\"parcoords\"}],\"pie\":[{\"automargin\":true,\"type\":\"pie\"}],\"scatter3d\":[{\"line\":{\"colorbar\":{\"outlinewidth\":0,\"ticks\":\"\"}},\"marker\":{\"colorbar\":{\"outlinewidth\":0,\"ticks\":\"\"}},\"type\":\"scatter3d\"}],\"scattercarpet\":[{\"marker\":{\"colorbar\":{\"outlinewidth\":0,\"ticks\":\"\"}},\"type\":\"scattercarpet\"}],\"scattergeo\":[{\"marker\":{\"colorbar\":{\"outlinewidth\":0,\"ticks\":\"\"}},\"type\":\"scattergeo\"}],\"scattergl\":[{\"marker\":{\"colorbar\":{\"outlinewidth\":0,\"ticks\":\"\"}},\"type\":\"scattergl\"}],\"scattermapbox\":[{\"marker\":{\"colorbar\":{\"outlinewidth\":0,\"ticks\":\"\"}},\"type\":\"scattermapbox\"}],\"scatterpolargl\":[{\"marker\":{\"colorbar\":{\"outlinewidth\":0,\"ticks\":\"\"}},\"type\":\"scatterpolargl\"}],\"scatterpolar\":[{\"marker\":{\"colorbar\":{\"outlinewidth\":0,\"ticks\":\"\"}},\"type\":\"scatterpolar\"}],\"scatter\":[{\"fillpattern\":{\"fillmode\":\"overlay\",\"size\":10,\"solidity\":0.2},\"type\":\"scatter\"}],\"scatterternary\":[{\"marker\":{\"colorbar\":{\"outlinewidth\":0,\"ticks\":\"\"}},\"type\":\"scatterternary\"}],\"surface\":[{\"colorbar\":{\"outlinewidth\":0,\"ticks\":\"\"},\"colorscale\":[[0.0,\"#0d0887\"],[0.1111111111111111,\"#46039f\"],[0.2222222222222222,\"#7201a8\"],[0.3333333333333333,\"#9c179e\"],[0.4444444444444444,\"#bd3786\"],[0.5555555555555556,\"#d8576b\"],[0.6666666666666666,\"#ed7953\"],[0.7777777777777778,\"#fb9f3a\"],[0.8888888888888888,\"#fdca26\"],[1.0,\"#f0f921\"]],\"type\":\"surface\"}],\"table\":[{\"cells\":{\"fill\":{\"color\":\"#EBF0F8\"},\"line\":{\"color\":\"white\"}},\"header\":{\"fill\":{\"color\":\"#C8D4E3\"},\"line\":{\"color\":\"white\"}},\"type\":\"table\"}]},\"layout\":{\"annotationdefaults\":{\"arrowcolor\":\"#2a3f5f\",\"arrowhead\":0,\"arrowwidth\":1},\"autotypenumbers\":\"strict\",\"coloraxis\":{\"colorbar\":{\"outlinewidth\":0,\"ticks\":\"\"}},\"colorscale\":{\"diverging\":[[0,\"#8e0152\"],[0.1,\"#c51b7d\"],[0.2,\"#de77ae\"],[0.3,\"#f1b6da\"],[0.4,\"#fde0ef\"],[0.5,\"#f7f7f7\"],[0.6,\"#e6f5d0\"],[0.7,\"#b8e186\"],[0.8,\"#7fbc41\"],[0.9,\"#4d9221\"],[1,\"#276419\"]],\"sequential\":[[0.0,\"#0d0887\"],[0.1111111111111111,\"#46039f\"],[0.2222222222222222,\"#7201a8\"],[0.3333333333333333,\"#9c179e\"],[0.4444444444444444,\"#bd3786\"],[0.5555555555555556,\"#d8576b\"],[0.6666666666666666,\"#ed7953\"],[0.7777777777777778,\"#fb9f3a\"],[0.8888888888888888,\"#fdca26\"],[1.0,\"#f0f921\"]],\"sequentialminus\":[[0.0,\"#0d0887\"],[0.1111111111111111,\"#46039f\"],[0.2222222222222222,\"#7201a8\"],[0.3333333333333333,\"#9c179e\"],[0.4444444444444444,\"#bd3786\"],[0.5555555555555556,\"#d8576b\"],[0.6666666666666666,\"#ed7953\"],[0.7777777777777778,\"#fb9f3a\"],[0.8888888888888888,\"#fdca26\"],[1.0,\"#f0f921\"]]},\"colorway\":[\"#636efa\",\"#EF553B\",\"#00cc96\",\"#ab63fa\",\"#FFA15A\",\"#19d3f3\",\"#FF6692\",\"#B6E880\",\"#FF97FF\",\"#FECB52\"],\"font\":{\"color\":\"#2a3f5f\"},\"geo\":{\"bgcolor\":\"white\",\"lakecolor\":\"white\",\"landcolor\":\"#E5ECF6\",\"showlakes\":true,\"showland\":true,\"subunitcolor\":\"white\"},\"hoverlabel\":{\"align\":\"left\"},\"hovermode\":\"closest\",\"mapbox\":{\"style\":\"light\"},\"paper_bgcolor\":\"white\",\"plot_bgcolor\":\"#E5ECF6\",\"polar\":{\"angularaxis\":{\"gridcolor\":\"white\",\"linecolor\":\"white\",\"ticks\":\"\"},\"bgcolor\":\"#E5ECF6\",\"radialaxis\":{\"gridcolor\":\"white\",\"linecolor\":\"white\",\"ticks\":\"\"}},\"scene\":{\"xaxis\":{\"backgroundcolor\":\"#E5ECF6\",\"gridcolor\":\"white\",\"gridwidth\":2,\"linecolor\":\"white\",\"showbackground\":true,\"ticks\":\"\",\"zerolinecolor\":\"white\"},\"yaxis\":{\"backgroundcolor\":\"#E5ECF6\",\"gridcolor\":\"white\",\"gridwidth\":2,\"linecolor\":\"white\",\"showbackground\":true,\"ticks\":\"\",\"zerolinecolor\":\"white\"},\"zaxis\":{\"backgroundcolor\":\"#E5ECF6\",\"gridcolor\":\"white\",\"gridwidth\":2,\"linecolor\":\"white\",\"showbackground\":true,\"ticks\":\"\",\"zerolinecolor\":\"white\"}},\"shapedefaults\":{\"line\":{\"color\":\"#2a3f5f\"}},\"ternary\":{\"aaxis\":{\"gridcolor\":\"white\",\"linecolor\":\"white\",\"ticks\":\"\"},\"baxis\":{\"gridcolor\":\"white\",\"linecolor\":\"white\",\"ticks\":\"\"},\"bgcolor\":\"#E5ECF6\",\"caxis\":{\"gridcolor\":\"white\",\"linecolor\":\"white\",\"ticks\":\"\"}},\"title\":{\"x\":0.05},\"xaxis\":{\"automargin\":true,\"gridcolor\":\"white\",\"linecolor\":\"white\",\"ticks\":\"\",\"title\":{\"standoff\":15},\"zerolinecolor\":\"white\",\"zerolinewidth\":2},\"yaxis\":{\"automargin\":true,\"gridcolor\":\"white\",\"linecolor\":\"white\",\"ticks\":\"\",\"title\":{\"standoff\":15},\"zerolinecolor\":\"white\",\"zerolinewidth\":2}}},\"title\":{\"font\":{\"color\":\"#151516\"}},\"xaxis\":{\"gridcolor\":\"#F6F6F6\",\"showgrid\":true,\"tickfont\":{\"color\":\"#666666\"},\"title\":{\"font\":{\"color\":\"#666666\"},\"text\":\"\"},\"zerolinecolor\":\"#F6F6F6\"},\"yaxis\":{\"gridcolor\":\"#F6F6F6\",\"showgrid\":true,\"tickfont\":{\"color\":\"#666666\"},\"title\":{\"font\":{\"color\":\"#666666\"},\"text\":\"\"},\"zerolinecolor\":\"#F6F6F6\"}},                        {\"showLink\": true, \"linkText\": \"Export to plot.ly\", \"plotlyServerURL\": \"https://plot.ly\", \"responsive\": true}                    ).then(function(){\n",
       "                            \n",
       "var gd = document.getElementById('85943123-6bbb-4d4d-86e0-1e324c516d93');\n",
       "var x = new MutationObserver(function (mutations, observer) {{\n",
       "        var display = window.getComputedStyle(gd).display;\n",
       "        if (!display || display === 'none') {{\n",
       "            console.log([gd, 'removed!']);\n",
       "            Plotly.purge(gd);\n",
       "            observer.disconnect();\n",
       "        }}\n",
       "}});\n",
       "\n",
       "// Listen for the removal of the full notebook cells\n",
       "var notebookContainer = gd.closest('#notebook-container');\n",
       "if (notebookContainer) {{\n",
       "    x.observe(notebookContainer, {childList: true});\n",
       "}}\n",
       "\n",
       "// Listen for the clearing of the current output cell\n",
       "var outputEl = gd.closest('.output');\n",
       "if (outputEl) {{\n",
       "    x.observe(outputEl, {childList: true});\n",
       "}}\n",
       "\n",
       "                        })                };                });            </script>        </div>"
      ]
     },
     "metadata": {},
     "output_type": "display_data"
    }
   ],
   "source": [
    "# calculamos la diferencia entre periodos, comparado con el anterior por cada provincia\n",
    "IxProv.diff().iplot(kind='line')\n"
   ]
  },
  {
   "attachments": {},
   "cell_type": "markdown",
   "metadata": {},
   "source": [
    "### DIFERENCIA DE ACCESOS ENTRE PERIODOS\n",
    "\n",
    "En contraste con las políticas públicas que favorecen la competencia e inversion en telecomunicaciones, esta el marco económico del país que en el año 2018 se vió fuertemente afectado por la crisis y una fuerte devaluación del peso argentino. Lo cual repercute en la movilidad de las personas y decisiones financieras de las compañìas. Vemos los picos mas fuertes de decrecimiento en la conectividad entre los periodos de T1-2018 al T4-2019. Para posteriormente estabilizarse y continuar el crecimiento gradual."
   ]
  },
  {
   "cell_type": "code",
   "execution_count": 1299,
   "metadata": {},
   "outputs": [],
   "source": [
    "# vamos a eliminar las columnas que no usaremos para el análisis en algunos datasets. Solo me quedo con 2022 para analizar el estatus de las conexiones mas recientes\n",
    "TecXprov = TecXprov.drop(TecXprov[TecXprov['Año']!='2022'].index)\n",
    "VelXprov = VelXprov.drop(VelXprov[VelXprov['Año']!=2022].index)"
   ]
  },
  {
   "cell_type": "code",
   "execution_count": 1300,
   "metadata": {},
   "outputs": [],
   "source": [
    "# vamos a eliminar las columnas que no usaremos para el análisis en algunos datasets\n",
    "TecXprov.drop([\"Año\", \"Trimestre\"],axis=1, inplace=True )\n",
    "VelXprov.drop([\"Año\", \"Trimestre\"],axis=1, inplace=True )"
   ]
  },
  {
   "cell_type": "code",
   "execution_count": 1301,
   "metadata": {},
   "outputs": [
    {
     "data": {
      "text/html": [
       "<div>\n",
       "<style scoped>\n",
       "    .dataframe tbody tr th:only-of-type {\n",
       "        vertical-align: middle;\n",
       "    }\n",
       "\n",
       "    .dataframe tbody tr th {\n",
       "        vertical-align: top;\n",
       "    }\n",
       "\n",
       "    .dataframe thead th {\n",
       "        text-align: right;\n",
       "    }\n",
       "</style>\n",
       "<table border=\"1\" class=\"dataframe\">\n",
       "  <thead>\n",
       "    <tr style=\"text-align: right;\">\n",
       "      <th></th>\n",
       "      <th>Provincia</th>\n",
       "      <th>Mbps (Media de bajada)</th>\n",
       "      <th>ADSL</th>\n",
       "      <th>Cablemodem</th>\n",
       "      <th>Fibra óptica</th>\n",
       "      <th>Wireless</th>\n",
       "      <th>Otros</th>\n",
       "      <th>Total</th>\n",
       "    </tr>\n",
       "  </thead>\n",
       "  <tbody>\n",
       "    <tr>\n",
       "      <th>0</th>\n",
       "      <td>Buenos Aires</td>\n",
       "      <td>111.000</td>\n",
       "      <td>326.0</td>\n",
       "      <td>3.0</td>\n",
       "      <td>1.0</td>\n",
       "      <td>130.0</td>\n",
       "      <td>72.0</td>\n",
       "      <td>5.0</td>\n",
       "    </tr>\n",
       "    <tr>\n",
       "      <th>1</th>\n",
       "      <td>Buenos Aires</td>\n",
       "      <td>111.000</td>\n",
       "      <td>340.0</td>\n",
       "      <td>3.0</td>\n",
       "      <td>1.0</td>\n",
       "      <td>127.0</td>\n",
       "      <td>70.0</td>\n",
       "      <td>5.0</td>\n",
       "    </tr>\n",
       "    <tr>\n",
       "      <th>2</th>\n",
       "      <td>Buenos Aires</td>\n",
       "      <td>111.000</td>\n",
       "      <td>351.0</td>\n",
       "      <td>3.0</td>\n",
       "      <td>1.0</td>\n",
       "      <td>127.0</td>\n",
       "      <td>71.0</td>\n",
       "      <td>5.0</td>\n",
       "    </tr>\n",
       "    <tr>\n",
       "      <th>3</th>\n",
       "      <td>Buenos Aires</td>\n",
       "      <td>111.000</td>\n",
       "      <td>392.0</td>\n",
       "      <td>3.0</td>\n",
       "      <td>1.0</td>\n",
       "      <td>126.0</td>\n",
       "      <td>67.0</td>\n",
       "      <td>5.0</td>\n",
       "    </tr>\n",
       "    <tr>\n",
       "      <th>4</th>\n",
       "      <td>Buenos Aires</td>\n",
       "      <td>7.019</td>\n",
       "      <td>326.0</td>\n",
       "      <td>3.0</td>\n",
       "      <td>1.0</td>\n",
       "      <td>130.0</td>\n",
       "      <td>72.0</td>\n",
       "      <td>5.0</td>\n",
       "    </tr>\n",
       "    <tr>\n",
       "      <th>...</th>\n",
       "      <td>...</td>\n",
       "      <td>...</td>\n",
       "      <td>...</td>\n",
       "      <td>...</td>\n",
       "      <td>...</td>\n",
       "      <td>...</td>\n",
       "      <td>...</td>\n",
       "      <td>...</td>\n",
       "    </tr>\n",
       "    <tr>\n",
       "      <th>379</th>\n",
       "      <td>Tucumán</td>\n",
       "      <td>5.009</td>\n",
       "      <td>93.0</td>\n",
       "      <td>62.0</td>\n",
       "      <td>86.0</td>\n",
       "      <td>4.0</td>\n",
       "      <td>487.0</td>\n",
       "      <td>246.0</td>\n",
       "    </tr>\n",
       "    <tr>\n",
       "      <th>380</th>\n",
       "      <td>Tucumán</td>\n",
       "      <td>4.724</td>\n",
       "      <td>69.0</td>\n",
       "      <td>21.0</td>\n",
       "      <td>169.0</td>\n",
       "      <td>4.0</td>\n",
       "      <td>527.0</td>\n",
       "      <td>263.0</td>\n",
       "    </tr>\n",
       "    <tr>\n",
       "      <th>381</th>\n",
       "      <td>Tucumán</td>\n",
       "      <td>4.724</td>\n",
       "      <td>78.0</td>\n",
       "      <td>19.0</td>\n",
       "      <td>162.0</td>\n",
       "      <td>4.0</td>\n",
       "      <td>519.0</td>\n",
       "      <td>263.0</td>\n",
       "    </tr>\n",
       "    <tr>\n",
       "      <th>382</th>\n",
       "      <td>Tucumán</td>\n",
       "      <td>4.724</td>\n",
       "      <td>86.0</td>\n",
       "      <td>15.0</td>\n",
       "      <td>149.0</td>\n",
       "      <td>4.0</td>\n",
       "      <td>487.0</td>\n",
       "      <td>255.0</td>\n",
       "    </tr>\n",
       "    <tr>\n",
       "      <th>383</th>\n",
       "      <td>Tucumán</td>\n",
       "      <td>4.724</td>\n",
       "      <td>93.0</td>\n",
       "      <td>62.0</td>\n",
       "      <td>86.0</td>\n",
       "      <td>4.0</td>\n",
       "      <td>487.0</td>\n",
       "      <td>246.0</td>\n",
       "    </tr>\n",
       "  </tbody>\n",
       "</table>\n",
       "<p>384 rows × 8 columns</p>\n",
       "</div>"
      ],
      "text/plain": [
       "        Provincia  Mbps (Media de bajada)   ADSL  Cablemodem  Fibra óptica  \\\n",
       "0    Buenos Aires                 111.000  326.0         3.0           1.0   \n",
       "1    Buenos Aires                 111.000  340.0         3.0           1.0   \n",
       "2    Buenos Aires                 111.000  351.0         3.0           1.0   \n",
       "3    Buenos Aires                 111.000  392.0         3.0           1.0   \n",
       "4    Buenos Aires                   7.019  326.0         3.0           1.0   \n",
       "..            ...                     ...    ...         ...           ...   \n",
       "379       Tucumán                   5.009   93.0        62.0          86.0   \n",
       "380       Tucumán                   4.724   69.0        21.0         169.0   \n",
       "381       Tucumán                   4.724   78.0        19.0         162.0   \n",
       "382       Tucumán                   4.724   86.0        15.0         149.0   \n",
       "383       Tucumán                   4.724   93.0        62.0          86.0   \n",
       "\n",
       "     Wireless  Otros  Total  \n",
       "0       130.0   72.0    5.0  \n",
       "1       127.0   70.0    5.0  \n",
       "2       127.0   71.0    5.0  \n",
       "3       126.0   67.0    5.0  \n",
       "4       130.0   72.0    5.0  \n",
       "..        ...    ...    ...  \n",
       "379       4.0  487.0  246.0  \n",
       "380       4.0  527.0  263.0  \n",
       "381       4.0  519.0  263.0  \n",
       "382       4.0  487.0  255.0  \n",
       "383       4.0  487.0  246.0  \n",
       "\n",
       "[384 rows x 8 columns]"
      ]
     },
     "execution_count": 1301,
     "metadata": {},
     "output_type": "execute_result"
    }
   ],
   "source": [
    "# unimos los datasets que contienen informacion de accesos de velocidad y tecnologia por provincias \n",
    "InternetProv = pd.merge(VelXprov, TecXprov)\n",
    "InternetProv"
   ]
  },
  {
   "cell_type": "code",
   "execution_count": 1302,
   "metadata": {},
   "outputs": [
    {
     "data": {
      "text/html": [
       "<div>\n",
       "<style scoped>\n",
       "    .dataframe tbody tr th:only-of-type {\n",
       "        vertical-align: middle;\n",
       "    }\n",
       "\n",
       "    .dataframe tbody tr th {\n",
       "        vertical-align: top;\n",
       "    }\n",
       "\n",
       "    .dataframe thead th {\n",
       "        text-align: right;\n",
       "    }\n",
       "</style>\n",
       "<table border=\"1\" class=\"dataframe\">\n",
       "  <thead>\n",
       "    <tr style=\"text-align: right;\">\n",
       "      <th></th>\n",
       "      <th>Mbps (Media de bajada)</th>\n",
       "      <th>ADSL</th>\n",
       "      <th>Cablemodem</th>\n",
       "      <th>Fibra óptica</th>\n",
       "      <th>Wireless</th>\n",
       "      <th>Otros</th>\n",
       "    </tr>\n",
       "    <tr>\n",
       "      <th>Provincia</th>\n",
       "      <th></th>\n",
       "      <th></th>\n",
       "      <th></th>\n",
       "      <th></th>\n",
       "      <th></th>\n",
       "      <th></th>\n",
       "    </tr>\n",
       "  </thead>\n",
       "  <tbody>\n",
       "    <tr>\n",
       "      <th>Buenos Aires</th>\n",
       "      <td>194.81750</td>\n",
       "      <td>352.25</td>\n",
       "      <td>3.00</td>\n",
       "      <td>1.00</td>\n",
       "      <td>127.50</td>\n",
       "      <td>70.00</td>\n",
       "    </tr>\n",
       "    <tr>\n",
       "      <th>Capital Federal</th>\n",
       "      <td>11.65250</td>\n",
       "      <td>131.75</td>\n",
       "      <td>1.00</td>\n",
       "      <td>113.00</td>\n",
       "      <td>5.75</td>\n",
       "      <td>31.50</td>\n",
       "    </tr>\n",
       "    <tr>\n",
       "      <th>Catamarca</th>\n",
       "      <td>6.30250</td>\n",
       "      <td>11.25</td>\n",
       "      <td>11.50</td>\n",
       "      <td>41.00</td>\n",
       "      <td>1.00</td>\n",
       "      <td>2.00</td>\n",
       "    </tr>\n",
       "    <tr>\n",
       "      <th>Chaco</th>\n",
       "      <td>6.34200</td>\n",
       "      <td>28.50</td>\n",
       "      <td>62.25</td>\n",
       "      <td>42.75</td>\n",
       "      <td>8.00</td>\n",
       "      <td>2.25</td>\n",
       "    </tr>\n",
       "    <tr>\n",
       "      <th>Chubut</th>\n",
       "      <td>1.49500</td>\n",
       "      <td>44.75</td>\n",
       "      <td>70.50</td>\n",
       "      <td>9.75</td>\n",
       "      <td>30.50</td>\n",
       "      <td>12.00</td>\n",
       "    </tr>\n",
       "    <tr>\n",
       "      <th>Corrientes</th>\n",
       "      <td>5.53025</td>\n",
       "      <td>37.25</td>\n",
       "      <td>78.00</td>\n",
       "      <td>18.75</td>\n",
       "      <td>7.50</td>\n",
       "      <td>5.00</td>\n",
       "    </tr>\n",
       "    <tr>\n",
       "      <th>Córdoba</th>\n",
       "      <td>6.71225</td>\n",
       "      <td>172.75</td>\n",
       "      <td>473.00</td>\n",
       "      <td>312.75</td>\n",
       "      <td>61.25</td>\n",
       "      <td>10.25</td>\n",
       "    </tr>\n",
       "    <tr>\n",
       "      <th>Entre Ríos</th>\n",
       "      <td>5.13950</td>\n",
       "      <td>61.75</td>\n",
       "      <td>134.75</td>\n",
       "      <td>34.25</td>\n",
       "      <td>26.00</td>\n",
       "      <td>13.00</td>\n",
       "    </tr>\n",
       "    <tr>\n",
       "      <th>Formosa</th>\n",
       "      <td>4.02825</td>\n",
       "      <td>14.75</td>\n",
       "      <td>21.00</td>\n",
       "      <td>9.75</td>\n",
       "      <td>17.25</td>\n",
       "      <td>213.25</td>\n",
       "    </tr>\n",
       "    <tr>\n",
       "      <th>Jujuy</th>\n",
       "      <td>3.22075</td>\n",
       "      <td>19.50</td>\n",
       "      <td>55.00</td>\n",
       "      <td>35.75</td>\n",
       "      <td>4.25</td>\n",
       "      <td>2.25</td>\n",
       "    </tr>\n",
       "    <tr>\n",
       "      <th>La Pampa</th>\n",
       "      <td>48.97525</td>\n",
       "      <td>8.00</td>\n",
       "      <td>59.75</td>\n",
       "      <td>23.50</td>\n",
       "      <td>20.00</td>\n",
       "      <td>1.75</td>\n",
       "    </tr>\n",
       "    <tr>\n",
       "      <th>La Rioja</th>\n",
       "      <td>18.47375</td>\n",
       "      <td>7.50</td>\n",
       "      <td>55.00</td>\n",
       "      <td>17.00</td>\n",
       "      <td>6.00</td>\n",
       "      <td>31.25</td>\n",
       "    </tr>\n",
       "    <tr>\n",
       "      <th>Mendoza</th>\n",
       "      <td>3.22100</td>\n",
       "      <td>40.75</td>\n",
       "      <td>77.25</td>\n",
       "      <td>137.25</td>\n",
       "      <td>27.50</td>\n",
       "      <td>2.00</td>\n",
       "    </tr>\n",
       "    <tr>\n",
       "      <th>Misiones</th>\n",
       "      <td>5.71600</td>\n",
       "      <td>36.25</td>\n",
       "      <td>89.25</td>\n",
       "      <td>36.25</td>\n",
       "      <td>10.25</td>\n",
       "      <td>8.00</td>\n",
       "    </tr>\n",
       "    <tr>\n",
       "      <th>Neuquén</th>\n",
       "      <td>5.81900</td>\n",
       "      <td>29.00</td>\n",
       "      <td>74.25</td>\n",
       "      <td>28.50</td>\n",
       "      <td>25.25</td>\n",
       "      <td>187.75</td>\n",
       "    </tr>\n",
       "    <tr>\n",
       "      <th>Río Negro</th>\n",
       "      <td>4.34475</td>\n",
       "      <td>36.25</td>\n",
       "      <td>47.00</td>\n",
       "      <td>41.00</td>\n",
       "      <td>16.75</td>\n",
       "      <td>18.75</td>\n",
       "    </tr>\n",
       "    <tr>\n",
       "      <th>Salta</th>\n",
       "      <td>4.81850</td>\n",
       "      <td>41.25</td>\n",
       "      <td>97.25</td>\n",
       "      <td>47.75</td>\n",
       "      <td>9.50</td>\n",
       "      <td>7.00</td>\n",
       "    </tr>\n",
       "    <tr>\n",
       "      <th>San Juan</th>\n",
       "      <td>1.46650</td>\n",
       "      <td>37.75</td>\n",
       "      <td>20.00</td>\n",
       "      <td>11.75</td>\n",
       "      <td>21.75</td>\n",
       "      <td>8.00</td>\n",
       "    </tr>\n",
       "    <tr>\n",
       "      <th>San Luis</th>\n",
       "      <td>2.25675</td>\n",
       "      <td>7.00</td>\n",
       "      <td>28.00</td>\n",
       "      <td>132.50</td>\n",
       "      <td>74.00</td>\n",
       "      <td>142.50</td>\n",
       "    </tr>\n",
       "    <tr>\n",
       "      <th>Santa Cruz</th>\n",
       "      <td>1.24075</td>\n",
       "      <td>10.25</td>\n",
       "      <td>23.75</td>\n",
       "      <td>11.25</td>\n",
       "      <td>4.00</td>\n",
       "      <td>557.00</td>\n",
       "    </tr>\n",
       "    <tr>\n",
       "      <th>Santa Fe</th>\n",
       "      <td>228.90125</td>\n",
       "      <td>189.75</td>\n",
       "      <td>427.75</td>\n",
       "      <td>200.25</td>\n",
       "      <td>43.75</td>\n",
       "      <td>20.00</td>\n",
       "    </tr>\n",
       "    <tr>\n",
       "      <th>Santiago Del Estero</th>\n",
       "      <td>87.21325</td>\n",
       "      <td>16.00</td>\n",
       "      <td>82.50</td>\n",
       "      <td>10.25</td>\n",
       "      <td>6.75</td>\n",
       "      <td>3.00</td>\n",
       "    </tr>\n",
       "    <tr>\n",
       "      <th>Tierra Del Fuego</th>\n",
       "      <td>1.15475</td>\n",
       "      <td>13.00</td>\n",
       "      <td>40.00</td>\n",
       "      <td>406.75</td>\n",
       "      <td>132.75</td>\n",
       "      <td>573.25</td>\n",
       "    </tr>\n",
       "    <tr>\n",
       "      <th>Tucumán</th>\n",
       "      <td>5.97550</td>\n",
       "      <td>81.50</td>\n",
       "      <td>29.25</td>\n",
       "      <td>141.50</td>\n",
       "      <td>4.00</td>\n",
       "      <td>505.00</td>\n",
       "    </tr>\n",
       "  </tbody>\n",
       "</table>\n",
       "</div>"
      ],
      "text/plain": [
       "                     Mbps (Media de bajada)    ADSL  Cablemodem  Fibra óptica  \\\n",
       "Provincia                                                                       \n",
       "Buenos Aires                      194.81750  352.25        3.00          1.00   \n",
       "Capital Federal                    11.65250  131.75        1.00        113.00   \n",
       "Catamarca                           6.30250   11.25       11.50         41.00   \n",
       "Chaco                               6.34200   28.50       62.25         42.75   \n",
       "Chubut                              1.49500   44.75       70.50          9.75   \n",
       "Corrientes                          5.53025   37.25       78.00         18.75   \n",
       "Córdoba                             6.71225  172.75      473.00        312.75   \n",
       "Entre Ríos                          5.13950   61.75      134.75         34.25   \n",
       "Formosa                             4.02825   14.75       21.00          9.75   \n",
       "Jujuy                               3.22075   19.50       55.00         35.75   \n",
       "La Pampa                           48.97525    8.00       59.75         23.50   \n",
       "La Rioja                           18.47375    7.50       55.00         17.00   \n",
       "Mendoza                             3.22100   40.75       77.25        137.25   \n",
       "Misiones                            5.71600   36.25       89.25         36.25   \n",
       "Neuquén                             5.81900   29.00       74.25         28.50   \n",
       "Río Negro                           4.34475   36.25       47.00         41.00   \n",
       "Salta                               4.81850   41.25       97.25         47.75   \n",
       "San Juan                            1.46650   37.75       20.00         11.75   \n",
       "San Luis                            2.25675    7.00       28.00        132.50   \n",
       "Santa Cruz                          1.24075   10.25       23.75         11.25   \n",
       "Santa Fe                          228.90125  189.75      427.75        200.25   \n",
       "Santiago Del Estero                87.21325   16.00       82.50         10.25   \n",
       "Tierra Del Fuego                    1.15475   13.00       40.00        406.75   \n",
       "Tucumán                             5.97550   81.50       29.25        141.50   \n",
       "\n",
       "                     Wireless   Otros  \n",
       "Provincia                              \n",
       "Buenos Aires           127.50   70.00  \n",
       "Capital Federal          5.75   31.50  \n",
       "Catamarca                1.00    2.00  \n",
       "Chaco                    8.00    2.25  \n",
       "Chubut                  30.50   12.00  \n",
       "Corrientes               7.50    5.00  \n",
       "Córdoba                 61.25   10.25  \n",
       "Entre Ríos              26.00   13.00  \n",
       "Formosa                 17.25  213.25  \n",
       "Jujuy                    4.25    2.25  \n",
       "La Pampa                20.00    1.75  \n",
       "La Rioja                 6.00   31.25  \n",
       "Mendoza                 27.50    2.00  \n",
       "Misiones                10.25    8.00  \n",
       "Neuquén                 25.25  187.75  \n",
       "Río Negro               16.75   18.75  \n",
       "Salta                    9.50    7.00  \n",
       "San Juan                21.75    8.00  \n",
       "San Luis                74.00  142.50  \n",
       "Santa Cruz               4.00  557.00  \n",
       "Santa Fe                43.75   20.00  \n",
       "Santiago Del Estero      6.75    3.00  \n",
       "Tierra Del Fuego       132.75  573.25  \n",
       "Tucumán                  4.00  505.00  "
      ]
     },
     "execution_count": 1302,
     "metadata": {},
     "output_type": "execute_result"
    }
   ],
   "source": [
    "\n",
    "InternetProv = InternetProv.groupby(['Provincia']).mean()\n",
    "InternetProv.to_csv('Datasets/InternetProvincias.csv')\n",
    "InternetProv = InternetProv.drop(['Total'], axis=1)\n",
    "InternetProv"
   ]
  },
  {
   "cell_type": "code",
   "execution_count": 1303,
   "metadata": {},
   "outputs": [
    {
     "data": {
      "application/vnd.plotly.v1+json": {
       "config": {
        "linkText": "Export to plot.ly",
        "plotlyServerURL": "https://plot.ly",
        "showLink": true
       },
       "data": [
        {
         "line": {
          "color": "rgba(226, 74, 51, 1.0)",
          "dash": "solid",
          "shape": "linear",
          "width": 1.3
         },
         "mode": "lines",
         "name": "Mbps (Media de bajada)",
         "text": "",
         "type": "scatter",
         "x": [
          "Buenos Aires",
          "Capital Federal",
          "Catamarca",
          "Chaco",
          "Chubut",
          "Corrientes",
          "Córdoba",
          "Entre Ríos",
          "Formosa",
          "Jujuy",
          "La Pampa",
          "La Rioja",
          "Mendoza",
          "Misiones",
          "Neuquén",
          "Río Negro",
          "Salta",
          "San Juan",
          "San Luis",
          "Santa Cruz",
          "Santa Fe",
          "Santiago Del Estero",
          "Tierra Del Fuego",
          "Tucumán"
         ],
         "y": [
          194.8175,
          11.6525,
          6.3025,
          6.342,
          1.495,
          5.53025,
          6.71225,
          5.1395,
          4.02825,
          3.22075,
          48.97525,
          18.47375,
          3.221,
          5.716,
          5.819,
          4.3447499999999994,
          4.8185,
          1.4665,
          2.2567500000000003,
          1.24075,
          228.90125,
          87.21325,
          1.15475,
          5.9755
         ]
        },
        {
         "line": {
          "color": "rgba(62, 111, 176, 1.0)",
          "dash": "solid",
          "shape": "linear",
          "width": 1.3
         },
         "mode": "lines",
         "name": "ADSL",
         "text": "",
         "type": "scatter",
         "x": [
          "Buenos Aires",
          "Capital Federal",
          "Catamarca",
          "Chaco",
          "Chubut",
          "Corrientes",
          "Córdoba",
          "Entre Ríos",
          "Formosa",
          "Jujuy",
          "La Pampa",
          "La Rioja",
          "Mendoza",
          "Misiones",
          "Neuquén",
          "Río Negro",
          "Salta",
          "San Juan",
          "San Luis",
          "Santa Cruz",
          "Santa Fe",
          "Santiago Del Estero",
          "Tierra Del Fuego",
          "Tucumán"
         ],
         "y": [
          352.25,
          131.75,
          11.25,
          28.5,
          44.75,
          37.25,
          172.75,
          61.75,
          14.75,
          19.5,
          8,
          7.5,
          40.75,
          36.25,
          29,
          36.25,
          41.25,
          37.75,
          7,
          10.25,
          189.75,
          16,
          13,
          81.5
         ]
        },
        {
         "line": {
          "color": "rgba(132, 118, 202, 1.0)",
          "dash": "solid",
          "shape": "linear",
          "width": 1.3
         },
         "mode": "lines",
         "name": "Cablemodem",
         "text": "",
         "type": "scatter",
         "x": [
          "Buenos Aires",
          "Capital Federal",
          "Catamarca",
          "Chaco",
          "Chubut",
          "Corrientes",
          "Córdoba",
          "Entre Ríos",
          "Formosa",
          "Jujuy",
          "La Pampa",
          "La Rioja",
          "Mendoza",
          "Misiones",
          "Neuquén",
          "Río Negro",
          "Salta",
          "San Juan",
          "San Luis",
          "Santa Cruz",
          "Santa Fe",
          "Santiago Del Estero",
          "Tierra Del Fuego",
          "Tucumán"
         ],
         "y": [
          3,
          1,
          11.5,
          62.25,
          70.5,
          78,
          473,
          134.75,
          21,
          55,
          59.75,
          55,
          77.25,
          89.25,
          74.25,
          47,
          97.25,
          20,
          28,
          23.75,
          427.75,
          82.5,
          40,
          29.25
         ]
        },
        {
         "line": {
          "color": "rgba(101, 101, 101, 1.0)",
          "dash": "solid",
          "shape": "linear",
          "width": 1.3
         },
         "mode": "lines",
         "name": "Fibra óptica",
         "text": "",
         "type": "scatter",
         "x": [
          "Buenos Aires",
          "Capital Federal",
          "Catamarca",
          "Chaco",
          "Chubut",
          "Corrientes",
          "Córdoba",
          "Entre Ríos",
          "Formosa",
          "Jujuy",
          "La Pampa",
          "La Rioja",
          "Mendoza",
          "Misiones",
          "Neuquén",
          "Río Negro",
          "Salta",
          "San Juan",
          "San Luis",
          "Santa Cruz",
          "Santa Fe",
          "Santiago Del Estero",
          "Tierra Del Fuego",
          "Tucumán"
         ],
         "y": [
          1,
          113,
          41,
          42.75,
          9.75,
          18.75,
          312.75,
          34.25,
          9.75,
          35.75,
          23.5,
          17,
          137.25,
          36.25,
          28.5,
          41,
          47.75,
          11.75,
          132.5,
          11.25,
          200.25,
          10.25,
          406.75,
          141.5
         ]
        },
        {
         "line": {
          "color": "rgba(251, 193, 94, 1.0)",
          "dash": "solid",
          "shape": "linear",
          "width": 1.3
         },
         "mode": "lines",
         "name": "Wireless",
         "text": "",
         "type": "scatter",
         "x": [
          "Buenos Aires",
          "Capital Federal",
          "Catamarca",
          "Chaco",
          "Chubut",
          "Corrientes",
          "Córdoba",
          "Entre Ríos",
          "Formosa",
          "Jujuy",
          "La Pampa",
          "La Rioja",
          "Mendoza",
          "Misiones",
          "Neuquén",
          "Río Negro",
          "Salta",
          "San Juan",
          "San Luis",
          "Santa Cruz",
          "Santa Fe",
          "Santiago Del Estero",
          "Tierra Del Fuego",
          "Tucumán"
         ],
         "y": [
          127.5,
          5.75,
          1,
          8,
          30.5,
          7.5,
          61.25,
          26,
          17.25,
          4.25,
          20,
          6,
          27.5,
          10.25,
          25.25,
          16.75,
          9.5,
          21.75,
          74,
          4,
          43.75,
          6.75,
          132.75,
          4
         ]
        },
        {
         "line": {
          "color": "rgba(142, 186, 66, 1.0)",
          "dash": "solid",
          "shape": "linear",
          "width": 1.3
         },
         "mode": "lines",
         "name": "Otros",
         "text": "",
         "type": "scatter",
         "x": [
          "Buenos Aires",
          "Capital Federal",
          "Catamarca",
          "Chaco",
          "Chubut",
          "Corrientes",
          "Córdoba",
          "Entre Ríos",
          "Formosa",
          "Jujuy",
          "La Pampa",
          "La Rioja",
          "Mendoza",
          "Misiones",
          "Neuquén",
          "Río Negro",
          "Salta",
          "San Juan",
          "San Luis",
          "Santa Cruz",
          "Santa Fe",
          "Santiago Del Estero",
          "Tierra Del Fuego",
          "Tucumán"
         ],
         "y": [
          70,
          31.5,
          2,
          2.25,
          12,
          5,
          10.25,
          13,
          213.25,
          2.25,
          1.75,
          31.25,
          2,
          8,
          187.75,
          18.75,
          7,
          8,
          142.5,
          557,
          20,
          3,
          573.25,
          505
         ]
        }
       ],
       "layout": {
        "legend": {
         "bgcolor": "#FFFFFF",
         "font": {
          "color": "#666666"
         }
        },
        "paper_bgcolor": "#FFFFFF",
        "plot_bgcolor": "#E5E5E5",
        "template": {
         "data": {
          "bar": [
           {
            "error_x": {
             "color": "#2a3f5f"
            },
            "error_y": {
             "color": "#2a3f5f"
            },
            "marker": {
             "line": {
              "color": "#E5ECF6",
              "width": 0.5
             },
             "pattern": {
              "fillmode": "overlay",
              "size": 10,
              "solidity": 0.2
             }
            },
            "type": "bar"
           }
          ],
          "barpolar": [
           {
            "marker": {
             "line": {
              "color": "#E5ECF6",
              "width": 0.5
             },
             "pattern": {
              "fillmode": "overlay",
              "size": 10,
              "solidity": 0.2
             }
            },
            "type": "barpolar"
           }
          ],
          "carpet": [
           {
            "aaxis": {
             "endlinecolor": "#2a3f5f",
             "gridcolor": "white",
             "linecolor": "white",
             "minorgridcolor": "white",
             "startlinecolor": "#2a3f5f"
            },
            "baxis": {
             "endlinecolor": "#2a3f5f",
             "gridcolor": "white",
             "linecolor": "white",
             "minorgridcolor": "white",
             "startlinecolor": "#2a3f5f"
            },
            "type": "carpet"
           }
          ],
          "choropleth": [
           {
            "colorbar": {
             "outlinewidth": 0,
             "ticks": ""
            },
            "type": "choropleth"
           }
          ],
          "contour": [
           {
            "colorbar": {
             "outlinewidth": 0,
             "ticks": ""
            },
            "colorscale": [
             [
              0,
              "#0d0887"
             ],
             [
              0.1111111111111111,
              "#46039f"
             ],
             [
              0.2222222222222222,
              "#7201a8"
             ],
             [
              0.3333333333333333,
              "#9c179e"
             ],
             [
              0.4444444444444444,
              "#bd3786"
             ],
             [
              0.5555555555555556,
              "#d8576b"
             ],
             [
              0.6666666666666666,
              "#ed7953"
             ],
             [
              0.7777777777777778,
              "#fb9f3a"
             ],
             [
              0.8888888888888888,
              "#fdca26"
             ],
             [
              1,
              "#f0f921"
             ]
            ],
            "type": "contour"
           }
          ],
          "contourcarpet": [
           {
            "colorbar": {
             "outlinewidth": 0,
             "ticks": ""
            },
            "type": "contourcarpet"
           }
          ],
          "heatmap": [
           {
            "colorbar": {
             "outlinewidth": 0,
             "ticks": ""
            },
            "colorscale": [
             [
              0,
              "#0d0887"
             ],
             [
              0.1111111111111111,
              "#46039f"
             ],
             [
              0.2222222222222222,
              "#7201a8"
             ],
             [
              0.3333333333333333,
              "#9c179e"
             ],
             [
              0.4444444444444444,
              "#bd3786"
             ],
             [
              0.5555555555555556,
              "#d8576b"
             ],
             [
              0.6666666666666666,
              "#ed7953"
             ],
             [
              0.7777777777777778,
              "#fb9f3a"
             ],
             [
              0.8888888888888888,
              "#fdca26"
             ],
             [
              1,
              "#f0f921"
             ]
            ],
            "type": "heatmap"
           }
          ],
          "heatmapgl": [
           {
            "colorbar": {
             "outlinewidth": 0,
             "ticks": ""
            },
            "colorscale": [
             [
              0,
              "#0d0887"
             ],
             [
              0.1111111111111111,
              "#46039f"
             ],
             [
              0.2222222222222222,
              "#7201a8"
             ],
             [
              0.3333333333333333,
              "#9c179e"
             ],
             [
              0.4444444444444444,
              "#bd3786"
             ],
             [
              0.5555555555555556,
              "#d8576b"
             ],
             [
              0.6666666666666666,
              "#ed7953"
             ],
             [
              0.7777777777777778,
              "#fb9f3a"
             ],
             [
              0.8888888888888888,
              "#fdca26"
             ],
             [
              1,
              "#f0f921"
             ]
            ],
            "type": "heatmapgl"
           }
          ],
          "histogram": [
           {
            "marker": {
             "pattern": {
              "fillmode": "overlay",
              "size": 10,
              "solidity": 0.2
             }
            },
            "type": "histogram"
           }
          ],
          "histogram2d": [
           {
            "colorbar": {
             "outlinewidth": 0,
             "ticks": ""
            },
            "colorscale": [
             [
              0,
              "#0d0887"
             ],
             [
              0.1111111111111111,
              "#46039f"
             ],
             [
              0.2222222222222222,
              "#7201a8"
             ],
             [
              0.3333333333333333,
              "#9c179e"
             ],
             [
              0.4444444444444444,
              "#bd3786"
             ],
             [
              0.5555555555555556,
              "#d8576b"
             ],
             [
              0.6666666666666666,
              "#ed7953"
             ],
             [
              0.7777777777777778,
              "#fb9f3a"
             ],
             [
              0.8888888888888888,
              "#fdca26"
             ],
             [
              1,
              "#f0f921"
             ]
            ],
            "type": "histogram2d"
           }
          ],
          "histogram2dcontour": [
           {
            "colorbar": {
             "outlinewidth": 0,
             "ticks": ""
            },
            "colorscale": [
             [
              0,
              "#0d0887"
             ],
             [
              0.1111111111111111,
              "#46039f"
             ],
             [
              0.2222222222222222,
              "#7201a8"
             ],
             [
              0.3333333333333333,
              "#9c179e"
             ],
             [
              0.4444444444444444,
              "#bd3786"
             ],
             [
              0.5555555555555556,
              "#d8576b"
             ],
             [
              0.6666666666666666,
              "#ed7953"
             ],
             [
              0.7777777777777778,
              "#fb9f3a"
             ],
             [
              0.8888888888888888,
              "#fdca26"
             ],
             [
              1,
              "#f0f921"
             ]
            ],
            "type": "histogram2dcontour"
           }
          ],
          "mesh3d": [
           {
            "colorbar": {
             "outlinewidth": 0,
             "ticks": ""
            },
            "type": "mesh3d"
           }
          ],
          "parcoords": [
           {
            "line": {
             "colorbar": {
              "outlinewidth": 0,
              "ticks": ""
             }
            },
            "type": "parcoords"
           }
          ],
          "pie": [
           {
            "automargin": true,
            "type": "pie"
           }
          ],
          "scatter": [
           {
            "fillpattern": {
             "fillmode": "overlay",
             "size": 10,
             "solidity": 0.2
            },
            "type": "scatter"
           }
          ],
          "scatter3d": [
           {
            "line": {
             "colorbar": {
              "outlinewidth": 0,
              "ticks": ""
             }
            },
            "marker": {
             "colorbar": {
              "outlinewidth": 0,
              "ticks": ""
             }
            },
            "type": "scatter3d"
           }
          ],
          "scattercarpet": [
           {
            "marker": {
             "colorbar": {
              "outlinewidth": 0,
              "ticks": ""
             }
            },
            "type": "scattercarpet"
           }
          ],
          "scattergeo": [
           {
            "marker": {
             "colorbar": {
              "outlinewidth": 0,
              "ticks": ""
             }
            },
            "type": "scattergeo"
           }
          ],
          "scattergl": [
           {
            "marker": {
             "colorbar": {
              "outlinewidth": 0,
              "ticks": ""
             }
            },
            "type": "scattergl"
           }
          ],
          "scattermapbox": [
           {
            "marker": {
             "colorbar": {
              "outlinewidth": 0,
              "ticks": ""
             }
            },
            "type": "scattermapbox"
           }
          ],
          "scatterpolar": [
           {
            "marker": {
             "colorbar": {
              "outlinewidth": 0,
              "ticks": ""
             }
            },
            "type": "scatterpolar"
           }
          ],
          "scatterpolargl": [
           {
            "marker": {
             "colorbar": {
              "outlinewidth": 0,
              "ticks": ""
             }
            },
            "type": "scatterpolargl"
           }
          ],
          "scatterternary": [
           {
            "marker": {
             "colorbar": {
              "outlinewidth": 0,
              "ticks": ""
             }
            },
            "type": "scatterternary"
           }
          ],
          "surface": [
           {
            "colorbar": {
             "outlinewidth": 0,
             "ticks": ""
            },
            "colorscale": [
             [
              0,
              "#0d0887"
             ],
             [
              0.1111111111111111,
              "#46039f"
             ],
             [
              0.2222222222222222,
              "#7201a8"
             ],
             [
              0.3333333333333333,
              "#9c179e"
             ],
             [
              0.4444444444444444,
              "#bd3786"
             ],
             [
              0.5555555555555556,
              "#d8576b"
             ],
             [
              0.6666666666666666,
              "#ed7953"
             ],
             [
              0.7777777777777778,
              "#fb9f3a"
             ],
             [
              0.8888888888888888,
              "#fdca26"
             ],
             [
              1,
              "#f0f921"
             ]
            ],
            "type": "surface"
           }
          ],
          "table": [
           {
            "cells": {
             "fill": {
              "color": "#EBF0F8"
             },
             "line": {
              "color": "white"
             }
            },
            "header": {
             "fill": {
              "color": "#C8D4E3"
             },
             "line": {
              "color": "white"
             }
            },
            "type": "table"
           }
          ]
         },
         "layout": {
          "annotationdefaults": {
           "arrowcolor": "#2a3f5f",
           "arrowhead": 0,
           "arrowwidth": 1
          },
          "autotypenumbers": "strict",
          "coloraxis": {
           "colorbar": {
            "outlinewidth": 0,
            "ticks": ""
           }
          },
          "colorscale": {
           "diverging": [
            [
             0,
             "#8e0152"
            ],
            [
             0.1,
             "#c51b7d"
            ],
            [
             0.2,
             "#de77ae"
            ],
            [
             0.3,
             "#f1b6da"
            ],
            [
             0.4,
             "#fde0ef"
            ],
            [
             0.5,
             "#f7f7f7"
            ],
            [
             0.6,
             "#e6f5d0"
            ],
            [
             0.7,
             "#b8e186"
            ],
            [
             0.8,
             "#7fbc41"
            ],
            [
             0.9,
             "#4d9221"
            ],
            [
             1,
             "#276419"
            ]
           ],
           "sequential": [
            [
             0,
             "#0d0887"
            ],
            [
             0.1111111111111111,
             "#46039f"
            ],
            [
             0.2222222222222222,
             "#7201a8"
            ],
            [
             0.3333333333333333,
             "#9c179e"
            ],
            [
             0.4444444444444444,
             "#bd3786"
            ],
            [
             0.5555555555555556,
             "#d8576b"
            ],
            [
             0.6666666666666666,
             "#ed7953"
            ],
            [
             0.7777777777777778,
             "#fb9f3a"
            ],
            [
             0.8888888888888888,
             "#fdca26"
            ],
            [
             1,
             "#f0f921"
            ]
           ],
           "sequentialminus": [
            [
             0,
             "#0d0887"
            ],
            [
             0.1111111111111111,
             "#46039f"
            ],
            [
             0.2222222222222222,
             "#7201a8"
            ],
            [
             0.3333333333333333,
             "#9c179e"
            ],
            [
             0.4444444444444444,
             "#bd3786"
            ],
            [
             0.5555555555555556,
             "#d8576b"
            ],
            [
             0.6666666666666666,
             "#ed7953"
            ],
            [
             0.7777777777777778,
             "#fb9f3a"
            ],
            [
             0.8888888888888888,
             "#fdca26"
            ],
            [
             1,
             "#f0f921"
            ]
           ]
          },
          "colorway": [
           "#636efa",
           "#EF553B",
           "#00cc96",
           "#ab63fa",
           "#FFA15A",
           "#19d3f3",
           "#FF6692",
           "#B6E880",
           "#FF97FF",
           "#FECB52"
          ],
          "font": {
           "color": "#2a3f5f"
          },
          "geo": {
           "bgcolor": "white",
           "lakecolor": "white",
           "landcolor": "#E5ECF6",
           "showlakes": true,
           "showland": true,
           "subunitcolor": "white"
          },
          "hoverlabel": {
           "align": "left"
          },
          "hovermode": "closest",
          "mapbox": {
           "style": "light"
          },
          "paper_bgcolor": "white",
          "plot_bgcolor": "#E5ECF6",
          "polar": {
           "angularaxis": {
            "gridcolor": "white",
            "linecolor": "white",
            "ticks": ""
           },
           "bgcolor": "#E5ECF6",
           "radialaxis": {
            "gridcolor": "white",
            "linecolor": "white",
            "ticks": ""
           }
          },
          "scene": {
           "xaxis": {
            "backgroundcolor": "#E5ECF6",
            "gridcolor": "white",
            "gridwidth": 2,
            "linecolor": "white",
            "showbackground": true,
            "ticks": "",
            "zerolinecolor": "white"
           },
           "yaxis": {
            "backgroundcolor": "#E5ECF6",
            "gridcolor": "white",
            "gridwidth": 2,
            "linecolor": "white",
            "showbackground": true,
            "ticks": "",
            "zerolinecolor": "white"
           },
           "zaxis": {
            "backgroundcolor": "#E5ECF6",
            "gridcolor": "white",
            "gridwidth": 2,
            "linecolor": "white",
            "showbackground": true,
            "ticks": "",
            "zerolinecolor": "white"
           }
          },
          "shapedefaults": {
           "line": {
            "color": "#2a3f5f"
           }
          },
          "ternary": {
           "aaxis": {
            "gridcolor": "white",
            "linecolor": "white",
            "ticks": ""
           },
           "baxis": {
            "gridcolor": "white",
            "linecolor": "white",
            "ticks": ""
           },
           "bgcolor": "#E5ECF6",
           "caxis": {
            "gridcolor": "white",
            "linecolor": "white",
            "ticks": ""
           }
          },
          "title": {
           "x": 0.05
          },
          "xaxis": {
           "automargin": true,
           "gridcolor": "white",
           "linecolor": "white",
           "ticks": "",
           "title": {
            "standoff": 15
           },
           "zerolinecolor": "white",
           "zerolinewidth": 2
          },
          "yaxis": {
           "automargin": true,
           "gridcolor": "white",
           "linecolor": "white",
           "ticks": "",
           "title": {
            "standoff": 15
           },
           "zerolinecolor": "white",
           "zerolinewidth": 2
          }
         }
        },
        "title": {
         "font": {
          "color": "#151516"
         }
        },
        "xaxis": {
         "gridcolor": "#F6F6F6",
         "showgrid": true,
         "tickfont": {
          "color": "#666666"
         },
         "title": {
          "font": {
           "color": "#666666"
          },
          "text": ""
         },
         "zerolinecolor": "#F6F6F6"
        },
        "yaxis": {
         "gridcolor": "#F6F6F6",
         "showgrid": true,
         "tickfont": {
          "color": "#666666"
         },
         "title": {
          "font": {
           "color": "#666666"
          },
          "text": ""
         },
         "zerolinecolor": "#F6F6F6"
        }
       }
      },
      "text/html": [
       "<div>                            <div id=\"5ff68ef5-e4b5-4ebf-8fe2-3c53346db581\" class=\"plotly-graph-div\" style=\"height:525px; width:100%;\"></div>            <script type=\"text/javascript\">                require([\"plotly\"], function(Plotly) {                    window.PLOTLYENV=window.PLOTLYENV || {};\n",
       "                    window.PLOTLYENV.BASE_URL='https://plot.ly';                                    if (document.getElementById(\"5ff68ef5-e4b5-4ebf-8fe2-3c53346db581\")) {                    Plotly.newPlot(                        \"5ff68ef5-e4b5-4ebf-8fe2-3c53346db581\",                        [{\"line\":{\"color\":\"rgba(226, 74, 51, 1.0)\",\"dash\":\"solid\",\"shape\":\"linear\",\"width\":1.3},\"mode\":\"lines\",\"name\":\"Mbps (Media de bajada)\",\"text\":\"\",\"x\":[\"Buenos Aires\",\"Capital Federal\",\"Catamarca\",\"Chaco\",\"Chubut\",\"Corrientes\",\"C\\u00f3rdoba\",\"Entre R\\u00edos\",\"Formosa\",\"Jujuy\",\"La Pampa\",\"La Rioja\",\"Mendoza\",\"Misiones\",\"Neuqu\\u00e9n\",\"R\\u00edo Negro\",\"Salta\",\"San Juan\",\"San Luis\",\"Santa Cruz\",\"Santa Fe\",\"Santiago Del Estero\",\"Tierra Del Fuego\",\"Tucum\\u00e1n\"],\"y\":[194.8175,11.6525,6.3025,6.342,1.495,5.53025,6.71225,5.1395,4.02825,3.22075,48.97525,18.47375,3.221,5.716,5.819,4.3447499999999994,4.8185,1.4665,2.2567500000000003,1.24075,228.90125,87.21325,1.15475,5.9755],\"type\":\"scatter\"},{\"line\":{\"color\":\"rgba(62, 111, 176, 1.0)\",\"dash\":\"solid\",\"shape\":\"linear\",\"width\":1.3},\"mode\":\"lines\",\"name\":\"ADSL\",\"text\":\"\",\"x\":[\"Buenos Aires\",\"Capital Federal\",\"Catamarca\",\"Chaco\",\"Chubut\",\"Corrientes\",\"C\\u00f3rdoba\",\"Entre R\\u00edos\",\"Formosa\",\"Jujuy\",\"La Pampa\",\"La Rioja\",\"Mendoza\",\"Misiones\",\"Neuqu\\u00e9n\",\"R\\u00edo Negro\",\"Salta\",\"San Juan\",\"San Luis\",\"Santa Cruz\",\"Santa Fe\",\"Santiago Del Estero\",\"Tierra Del Fuego\",\"Tucum\\u00e1n\"],\"y\":[352.25,131.75,11.25,28.5,44.75,37.25,172.75,61.75,14.75,19.5,8.0,7.5,40.75,36.25,29.0,36.25,41.25,37.75,7.0,10.25,189.75,16.0,13.0,81.5],\"type\":\"scatter\"},{\"line\":{\"color\":\"rgba(132, 118, 202, 1.0)\",\"dash\":\"solid\",\"shape\":\"linear\",\"width\":1.3},\"mode\":\"lines\",\"name\":\"Cablemodem\",\"text\":\"\",\"x\":[\"Buenos Aires\",\"Capital Federal\",\"Catamarca\",\"Chaco\",\"Chubut\",\"Corrientes\",\"C\\u00f3rdoba\",\"Entre R\\u00edos\",\"Formosa\",\"Jujuy\",\"La Pampa\",\"La Rioja\",\"Mendoza\",\"Misiones\",\"Neuqu\\u00e9n\",\"R\\u00edo Negro\",\"Salta\",\"San Juan\",\"San Luis\",\"Santa Cruz\",\"Santa Fe\",\"Santiago Del Estero\",\"Tierra Del Fuego\",\"Tucum\\u00e1n\"],\"y\":[3.0,1.0,11.5,62.25,70.5,78.0,473.0,134.75,21.0,55.0,59.75,55.0,77.25,89.25,74.25,47.0,97.25,20.0,28.0,23.75,427.75,82.5,40.0,29.25],\"type\":\"scatter\"},{\"line\":{\"color\":\"rgba(101, 101, 101, 1.0)\",\"dash\":\"solid\",\"shape\":\"linear\",\"width\":1.3},\"mode\":\"lines\",\"name\":\"Fibra \\u00f3ptica\",\"text\":\"\",\"x\":[\"Buenos Aires\",\"Capital Federal\",\"Catamarca\",\"Chaco\",\"Chubut\",\"Corrientes\",\"C\\u00f3rdoba\",\"Entre R\\u00edos\",\"Formosa\",\"Jujuy\",\"La Pampa\",\"La Rioja\",\"Mendoza\",\"Misiones\",\"Neuqu\\u00e9n\",\"R\\u00edo Negro\",\"Salta\",\"San Juan\",\"San Luis\",\"Santa Cruz\",\"Santa Fe\",\"Santiago Del Estero\",\"Tierra Del Fuego\",\"Tucum\\u00e1n\"],\"y\":[1.0,113.0,41.0,42.75,9.75,18.75,312.75,34.25,9.75,35.75,23.5,17.0,137.25,36.25,28.5,41.0,47.75,11.75,132.5,11.25,200.25,10.25,406.75,141.5],\"type\":\"scatter\"},{\"line\":{\"color\":\"rgba(251, 193, 94, 1.0)\",\"dash\":\"solid\",\"shape\":\"linear\",\"width\":1.3},\"mode\":\"lines\",\"name\":\"Wireless\",\"text\":\"\",\"x\":[\"Buenos Aires\",\"Capital Federal\",\"Catamarca\",\"Chaco\",\"Chubut\",\"Corrientes\",\"C\\u00f3rdoba\",\"Entre R\\u00edos\",\"Formosa\",\"Jujuy\",\"La Pampa\",\"La Rioja\",\"Mendoza\",\"Misiones\",\"Neuqu\\u00e9n\",\"R\\u00edo Negro\",\"Salta\",\"San Juan\",\"San Luis\",\"Santa Cruz\",\"Santa Fe\",\"Santiago Del Estero\",\"Tierra Del Fuego\",\"Tucum\\u00e1n\"],\"y\":[127.5,5.75,1.0,8.0,30.5,7.5,61.25,26.0,17.25,4.25,20.0,6.0,27.5,10.25,25.25,16.75,9.5,21.75,74.0,4.0,43.75,6.75,132.75,4.0],\"type\":\"scatter\"},{\"line\":{\"color\":\"rgba(142, 186, 66, 1.0)\",\"dash\":\"solid\",\"shape\":\"linear\",\"width\":1.3},\"mode\":\"lines\",\"name\":\"Otros\",\"text\":\"\",\"x\":[\"Buenos Aires\",\"Capital Federal\",\"Catamarca\",\"Chaco\",\"Chubut\",\"Corrientes\",\"C\\u00f3rdoba\",\"Entre R\\u00edos\",\"Formosa\",\"Jujuy\",\"La Pampa\",\"La Rioja\",\"Mendoza\",\"Misiones\",\"Neuqu\\u00e9n\",\"R\\u00edo Negro\",\"Salta\",\"San Juan\",\"San Luis\",\"Santa Cruz\",\"Santa Fe\",\"Santiago Del Estero\",\"Tierra Del Fuego\",\"Tucum\\u00e1n\"],\"y\":[70.0,31.5,2.0,2.25,12.0,5.0,10.25,13.0,213.25,2.25,1.75,31.25,2.0,8.0,187.75,18.75,7.0,8.0,142.5,557.0,20.0,3.0,573.25,505.0],\"type\":\"scatter\"}],                        {\"legend\":{\"bgcolor\":\"#FFFFFF\",\"font\":{\"color\":\"#666666\"}},\"paper_bgcolor\":\"#FFFFFF\",\"plot_bgcolor\":\"#E5E5E5\",\"template\":{\"data\":{\"barpolar\":[{\"marker\":{\"line\":{\"color\":\"#E5ECF6\",\"width\":0.5},\"pattern\":{\"fillmode\":\"overlay\",\"size\":10,\"solidity\":0.2}},\"type\":\"barpolar\"}],\"bar\":[{\"error_x\":{\"color\":\"#2a3f5f\"},\"error_y\":{\"color\":\"#2a3f5f\"},\"marker\":{\"line\":{\"color\":\"#E5ECF6\",\"width\":0.5},\"pattern\":{\"fillmode\":\"overlay\",\"size\":10,\"solidity\":0.2}},\"type\":\"bar\"}],\"carpet\":[{\"aaxis\":{\"endlinecolor\":\"#2a3f5f\",\"gridcolor\":\"white\",\"linecolor\":\"white\",\"minorgridcolor\":\"white\",\"startlinecolor\":\"#2a3f5f\"},\"baxis\":{\"endlinecolor\":\"#2a3f5f\",\"gridcolor\":\"white\",\"linecolor\":\"white\",\"minorgridcolor\":\"white\",\"startlinecolor\":\"#2a3f5f\"},\"type\":\"carpet\"}],\"choropleth\":[{\"colorbar\":{\"outlinewidth\":0,\"ticks\":\"\"},\"type\":\"choropleth\"}],\"contourcarpet\":[{\"colorbar\":{\"outlinewidth\":0,\"ticks\":\"\"},\"type\":\"contourcarpet\"}],\"contour\":[{\"colorbar\":{\"outlinewidth\":0,\"ticks\":\"\"},\"colorscale\":[[0.0,\"#0d0887\"],[0.1111111111111111,\"#46039f\"],[0.2222222222222222,\"#7201a8\"],[0.3333333333333333,\"#9c179e\"],[0.4444444444444444,\"#bd3786\"],[0.5555555555555556,\"#d8576b\"],[0.6666666666666666,\"#ed7953\"],[0.7777777777777778,\"#fb9f3a\"],[0.8888888888888888,\"#fdca26\"],[1.0,\"#f0f921\"]],\"type\":\"contour\"}],\"heatmapgl\":[{\"colorbar\":{\"outlinewidth\":0,\"ticks\":\"\"},\"colorscale\":[[0.0,\"#0d0887\"],[0.1111111111111111,\"#46039f\"],[0.2222222222222222,\"#7201a8\"],[0.3333333333333333,\"#9c179e\"],[0.4444444444444444,\"#bd3786\"],[0.5555555555555556,\"#d8576b\"],[0.6666666666666666,\"#ed7953\"],[0.7777777777777778,\"#fb9f3a\"],[0.8888888888888888,\"#fdca26\"],[1.0,\"#f0f921\"]],\"type\":\"heatmapgl\"}],\"heatmap\":[{\"colorbar\":{\"outlinewidth\":0,\"ticks\":\"\"},\"colorscale\":[[0.0,\"#0d0887\"],[0.1111111111111111,\"#46039f\"],[0.2222222222222222,\"#7201a8\"],[0.3333333333333333,\"#9c179e\"],[0.4444444444444444,\"#bd3786\"],[0.5555555555555556,\"#d8576b\"],[0.6666666666666666,\"#ed7953\"],[0.7777777777777778,\"#fb9f3a\"],[0.8888888888888888,\"#fdca26\"],[1.0,\"#f0f921\"]],\"type\":\"heatmap\"}],\"histogram2dcontour\":[{\"colorbar\":{\"outlinewidth\":0,\"ticks\":\"\"},\"colorscale\":[[0.0,\"#0d0887\"],[0.1111111111111111,\"#46039f\"],[0.2222222222222222,\"#7201a8\"],[0.3333333333333333,\"#9c179e\"],[0.4444444444444444,\"#bd3786\"],[0.5555555555555556,\"#d8576b\"],[0.6666666666666666,\"#ed7953\"],[0.7777777777777778,\"#fb9f3a\"],[0.8888888888888888,\"#fdca26\"],[1.0,\"#f0f921\"]],\"type\":\"histogram2dcontour\"}],\"histogram2d\":[{\"colorbar\":{\"outlinewidth\":0,\"ticks\":\"\"},\"colorscale\":[[0.0,\"#0d0887\"],[0.1111111111111111,\"#46039f\"],[0.2222222222222222,\"#7201a8\"],[0.3333333333333333,\"#9c179e\"],[0.4444444444444444,\"#bd3786\"],[0.5555555555555556,\"#d8576b\"],[0.6666666666666666,\"#ed7953\"],[0.7777777777777778,\"#fb9f3a\"],[0.8888888888888888,\"#fdca26\"],[1.0,\"#f0f921\"]],\"type\":\"histogram2d\"}],\"histogram\":[{\"marker\":{\"pattern\":{\"fillmode\":\"overlay\",\"size\":10,\"solidity\":0.2}},\"type\":\"histogram\"}],\"mesh3d\":[{\"colorbar\":{\"outlinewidth\":0,\"ticks\":\"\"},\"type\":\"mesh3d\"}],\"parcoords\":[{\"line\":{\"colorbar\":{\"outlinewidth\":0,\"ticks\":\"\"}},\"type\":\"parcoords\"}],\"pie\":[{\"automargin\":true,\"type\":\"pie\"}],\"scatter3d\":[{\"line\":{\"colorbar\":{\"outlinewidth\":0,\"ticks\":\"\"}},\"marker\":{\"colorbar\":{\"outlinewidth\":0,\"ticks\":\"\"}},\"type\":\"scatter3d\"}],\"scattercarpet\":[{\"marker\":{\"colorbar\":{\"outlinewidth\":0,\"ticks\":\"\"}},\"type\":\"scattercarpet\"}],\"scattergeo\":[{\"marker\":{\"colorbar\":{\"outlinewidth\":0,\"ticks\":\"\"}},\"type\":\"scattergeo\"}],\"scattergl\":[{\"marker\":{\"colorbar\":{\"outlinewidth\":0,\"ticks\":\"\"}},\"type\":\"scattergl\"}],\"scattermapbox\":[{\"marker\":{\"colorbar\":{\"outlinewidth\":0,\"ticks\":\"\"}},\"type\":\"scattermapbox\"}],\"scatterpolargl\":[{\"marker\":{\"colorbar\":{\"outlinewidth\":0,\"ticks\":\"\"}},\"type\":\"scatterpolargl\"}],\"scatterpolar\":[{\"marker\":{\"colorbar\":{\"outlinewidth\":0,\"ticks\":\"\"}},\"type\":\"scatterpolar\"}],\"scatter\":[{\"fillpattern\":{\"fillmode\":\"overlay\",\"size\":10,\"solidity\":0.2},\"type\":\"scatter\"}],\"scatterternary\":[{\"marker\":{\"colorbar\":{\"outlinewidth\":0,\"ticks\":\"\"}},\"type\":\"scatterternary\"}],\"surface\":[{\"colorbar\":{\"outlinewidth\":0,\"ticks\":\"\"},\"colorscale\":[[0.0,\"#0d0887\"],[0.1111111111111111,\"#46039f\"],[0.2222222222222222,\"#7201a8\"],[0.3333333333333333,\"#9c179e\"],[0.4444444444444444,\"#bd3786\"],[0.5555555555555556,\"#d8576b\"],[0.6666666666666666,\"#ed7953\"],[0.7777777777777778,\"#fb9f3a\"],[0.8888888888888888,\"#fdca26\"],[1.0,\"#f0f921\"]],\"type\":\"surface\"}],\"table\":[{\"cells\":{\"fill\":{\"color\":\"#EBF0F8\"},\"line\":{\"color\":\"white\"}},\"header\":{\"fill\":{\"color\":\"#C8D4E3\"},\"line\":{\"color\":\"white\"}},\"type\":\"table\"}]},\"layout\":{\"annotationdefaults\":{\"arrowcolor\":\"#2a3f5f\",\"arrowhead\":0,\"arrowwidth\":1},\"autotypenumbers\":\"strict\",\"coloraxis\":{\"colorbar\":{\"outlinewidth\":0,\"ticks\":\"\"}},\"colorscale\":{\"diverging\":[[0,\"#8e0152\"],[0.1,\"#c51b7d\"],[0.2,\"#de77ae\"],[0.3,\"#f1b6da\"],[0.4,\"#fde0ef\"],[0.5,\"#f7f7f7\"],[0.6,\"#e6f5d0\"],[0.7,\"#b8e186\"],[0.8,\"#7fbc41\"],[0.9,\"#4d9221\"],[1,\"#276419\"]],\"sequential\":[[0.0,\"#0d0887\"],[0.1111111111111111,\"#46039f\"],[0.2222222222222222,\"#7201a8\"],[0.3333333333333333,\"#9c179e\"],[0.4444444444444444,\"#bd3786\"],[0.5555555555555556,\"#d8576b\"],[0.6666666666666666,\"#ed7953\"],[0.7777777777777778,\"#fb9f3a\"],[0.8888888888888888,\"#fdca26\"],[1.0,\"#f0f921\"]],\"sequentialminus\":[[0.0,\"#0d0887\"],[0.1111111111111111,\"#46039f\"],[0.2222222222222222,\"#7201a8\"],[0.3333333333333333,\"#9c179e\"],[0.4444444444444444,\"#bd3786\"],[0.5555555555555556,\"#d8576b\"],[0.6666666666666666,\"#ed7953\"],[0.7777777777777778,\"#fb9f3a\"],[0.8888888888888888,\"#fdca26\"],[1.0,\"#f0f921\"]]},\"colorway\":[\"#636efa\",\"#EF553B\",\"#00cc96\",\"#ab63fa\",\"#FFA15A\",\"#19d3f3\",\"#FF6692\",\"#B6E880\",\"#FF97FF\",\"#FECB52\"],\"font\":{\"color\":\"#2a3f5f\"},\"geo\":{\"bgcolor\":\"white\",\"lakecolor\":\"white\",\"landcolor\":\"#E5ECF6\",\"showlakes\":true,\"showland\":true,\"subunitcolor\":\"white\"},\"hoverlabel\":{\"align\":\"left\"},\"hovermode\":\"closest\",\"mapbox\":{\"style\":\"light\"},\"paper_bgcolor\":\"white\",\"plot_bgcolor\":\"#E5ECF6\",\"polar\":{\"angularaxis\":{\"gridcolor\":\"white\",\"linecolor\":\"white\",\"ticks\":\"\"},\"bgcolor\":\"#E5ECF6\",\"radialaxis\":{\"gridcolor\":\"white\",\"linecolor\":\"white\",\"ticks\":\"\"}},\"scene\":{\"xaxis\":{\"backgroundcolor\":\"#E5ECF6\",\"gridcolor\":\"white\",\"gridwidth\":2,\"linecolor\":\"white\",\"showbackground\":true,\"ticks\":\"\",\"zerolinecolor\":\"white\"},\"yaxis\":{\"backgroundcolor\":\"#E5ECF6\",\"gridcolor\":\"white\",\"gridwidth\":2,\"linecolor\":\"white\",\"showbackground\":true,\"ticks\":\"\",\"zerolinecolor\":\"white\"},\"zaxis\":{\"backgroundcolor\":\"#E5ECF6\",\"gridcolor\":\"white\",\"gridwidth\":2,\"linecolor\":\"white\",\"showbackground\":true,\"ticks\":\"\",\"zerolinecolor\":\"white\"}},\"shapedefaults\":{\"line\":{\"color\":\"#2a3f5f\"}},\"ternary\":{\"aaxis\":{\"gridcolor\":\"white\",\"linecolor\":\"white\",\"ticks\":\"\"},\"baxis\":{\"gridcolor\":\"white\",\"linecolor\":\"white\",\"ticks\":\"\"},\"bgcolor\":\"#E5ECF6\",\"caxis\":{\"gridcolor\":\"white\",\"linecolor\":\"white\",\"ticks\":\"\"}},\"title\":{\"x\":0.05},\"xaxis\":{\"automargin\":true,\"gridcolor\":\"white\",\"linecolor\":\"white\",\"ticks\":\"\",\"title\":{\"standoff\":15},\"zerolinecolor\":\"white\",\"zerolinewidth\":2},\"yaxis\":{\"automargin\":true,\"gridcolor\":\"white\",\"linecolor\":\"white\",\"ticks\":\"\",\"title\":{\"standoff\":15},\"zerolinecolor\":\"white\",\"zerolinewidth\":2}}},\"title\":{\"font\":{\"color\":\"#151516\"}},\"xaxis\":{\"gridcolor\":\"#F6F6F6\",\"showgrid\":true,\"tickfont\":{\"color\":\"#666666\"},\"title\":{\"font\":{\"color\":\"#666666\"},\"text\":\"\"},\"zerolinecolor\":\"#F6F6F6\"},\"yaxis\":{\"gridcolor\":\"#F6F6F6\",\"showgrid\":true,\"tickfont\":{\"color\":\"#666666\"},\"title\":{\"font\":{\"color\":\"#666666\"},\"text\":\"\"},\"zerolinecolor\":\"#F6F6F6\"}},                        {\"showLink\": true, \"linkText\": \"Export to plot.ly\", \"plotlyServerURL\": \"https://plot.ly\", \"responsive\": true}                    ).then(function(){\n",
       "                            \n",
       "var gd = document.getElementById('5ff68ef5-e4b5-4ebf-8fe2-3c53346db581');\n",
       "var x = new MutationObserver(function (mutations, observer) {{\n",
       "        var display = window.getComputedStyle(gd).display;\n",
       "        if (!display || display === 'none') {{\n",
       "            console.log([gd, 'removed!']);\n",
       "            Plotly.purge(gd);\n",
       "            observer.disconnect();\n",
       "        }}\n",
       "}});\n",
       "\n",
       "// Listen for the removal of the full notebook cells\n",
       "var notebookContainer = gd.closest('#notebook-container');\n",
       "if (notebookContainer) {{\n",
       "    x.observe(notebookContainer, {childList: true});\n",
       "}}\n",
       "\n",
       "// Listen for the clearing of the current output cell\n",
       "var outputEl = gd.closest('.output');\n",
       "if (outputEl) {{\n",
       "    x.observe(outputEl, {childList: true});\n",
       "}}\n",
       "\n",
       "                        })                };                });            </script>        </div>"
      ]
     },
     "metadata": {},
     "output_type": "display_data"
    }
   ],
   "source": [
    "# graficamos los tipos de conexiones por pronvicia promediados en el 2022\n",
    "InternetProv.iplot('line')"
   ]
  },
  {
   "attachments": {},
   "cell_type": "markdown",
   "metadata": {},
   "source": [
    "### TIPO DE ACCESO POR PROVINCIA\n",
    "\n",
    "En este gráfico podemos ver que hay pocas provincias en las que la principal conexión es fibra óptica. Considero que hay una gran oportunidad de desarrollo de infraestructura de fibra óptica en La Rioja, por ser una zona que ha crecido bastante en el número de conexiones, Buenos Aires por la cantidad de conexiones con ADSL, Santa Fe que también tiene un alto número de conexiones por cablemodem y seguir aumentando el acceso a fribra óptica en San Luis, por su desarrollo en la industria del software.\n",
    "\n",
    "Hay otra zonas con rezago donde las condiciones hacen mas compleja la inversión y se requieren politicas públicas"
   ]
  },
  {
   "cell_type": "code",
   "execution_count": 1304,
   "metadata": {},
   "outputs": [
    {
     "data": {
      "text/html": [
       "<div>\n",
       "<style scoped>\n",
       "    .dataframe tbody tr th:only-of-type {\n",
       "        vertical-align: middle;\n",
       "    }\n",
       "\n",
       "    .dataframe tbody tr th {\n",
       "        vertical-align: top;\n",
       "    }\n",
       "\n",
       "    .dataframe thead th {\n",
       "        text-align: right;\n",
       "    }\n",
       "</style>\n",
       "<table border=\"1\" class=\"dataframe\">\n",
       "  <thead>\n",
       "    <tr style=\"text-align: right;\">\n",
       "      <th></th>\n",
       "      <th>Año</th>\n",
       "      <th>Trimestre</th>\n",
       "      <th>Accesos por cada 100 hogares</th>\n",
       "      <th>Accesos por cada 100 hab</th>\n",
       "      <th>Periodo</th>\n",
       "      <th>ADSL</th>\n",
       "      <th>Cablemodem</th>\n",
       "      <th>Fibra óptica</th>\n",
       "      <th>Wireless</th>\n",
       "      <th>Otros</th>\n",
       "      <th>Total</th>\n",
       "      <th>Mbps (Media de bajada)</th>\n",
       "      <th>Trimestre.1</th>\n",
       "      <th>Ingresos (miles de pesos)</th>\n",
       "    </tr>\n",
       "  </thead>\n",
       "  <tbody>\n",
       "    <tr>\n",
       "      <th>0</th>\n",
       "      <td>2022</td>\n",
       "      <td>4</td>\n",
       "      <td>77,21</td>\n",
       "      <td>24,15</td>\n",
       "      <td>Oct-Dic 2022</td>\n",
       "      <td>1</td>\n",
       "      <td>6</td>\n",
       "      <td>3</td>\n",
       "      <td>573</td>\n",
       "      <td>222</td>\n",
       "      <td>11</td>\n",
       "      <td>10.656</td>\n",
       "      <td>Oct-Dic 2022</td>\n",
       "      <td>72</td>\n",
       "    </tr>\n",
       "    <tr>\n",
       "      <th>1</th>\n",
       "      <td>2022</td>\n",
       "      <td>3</td>\n",
       "      <td>76,64</td>\n",
       "      <td>23,95</td>\n",
       "      <td>Jul-Sept 2022</td>\n",
       "      <td>1</td>\n",
       "      <td>6</td>\n",
       "      <td>3</td>\n",
       "      <td>557</td>\n",
       "      <td>235</td>\n",
       "      <td>11</td>\n",
       "      <td>6.246</td>\n",
       "      <td>Jul-Sept 2022</td>\n",
       "      <td>64</td>\n",
       "    </tr>\n",
       "    <tr>\n",
       "      <th>2</th>\n",
       "      <td>2022</td>\n",
       "      <td>2</td>\n",
       "      <td>75,97</td>\n",
       "      <td>23,72</td>\n",
       "      <td>Abr-Jun 2022</td>\n",
       "      <td>1</td>\n",
       "      <td>6</td>\n",
       "      <td>3</td>\n",
       "      <td>556</td>\n",
       "      <td>232</td>\n",
       "      <td>11</td>\n",
       "      <td>5.844</td>\n",
       "      <td>Abr-Jun 2022</td>\n",
       "      <td>60</td>\n",
       "    </tr>\n",
       "    <tr>\n",
       "      <th>3</th>\n",
       "      <td>2022</td>\n",
       "      <td>1</td>\n",
       "      <td>73,88</td>\n",
       "      <td>23,05</td>\n",
       "      <td>Ene-Mar 2022</td>\n",
       "      <td>2</td>\n",
       "      <td>6</td>\n",
       "      <td>2</td>\n",
       "      <td>546</td>\n",
       "      <td>252</td>\n",
       "      <td>11</td>\n",
       "      <td>5.511</td>\n",
       "      <td>Ene-Mar 2022</td>\n",
       "      <td>55</td>\n",
       "    </tr>\n",
       "    <tr>\n",
       "      <th>4</th>\n",
       "      <td>2021</td>\n",
       "      <td>4</td>\n",
       "      <td>73,18</td>\n",
       "      <td>22,81</td>\n",
       "      <td>Oct-Dic 2021</td>\n",
       "      <td>2</td>\n",
       "      <td>6</td>\n",
       "      <td>2</td>\n",
       "      <td>523</td>\n",
       "      <td>253</td>\n",
       "      <td>10</td>\n",
       "      <td>5.234</td>\n",
       "      <td>Oct-Dic 2021</td>\n",
       "      <td>45</td>\n",
       "    </tr>\n",
       "    <tr>\n",
       "      <th>5</th>\n",
       "      <td>2021</td>\n",
       "      <td>3</td>\n",
       "      <td>70,58</td>\n",
       "      <td>21,98</td>\n",
       "      <td>Jul-Sept 2021</td>\n",
       "      <td>2</td>\n",
       "      <td>6</td>\n",
       "      <td>2</td>\n",
       "      <td>492</td>\n",
       "      <td>250</td>\n",
       "      <td>10</td>\n",
       "      <td>4.846</td>\n",
       "      <td>Jul-Sept 2021</td>\n",
       "      <td>43</td>\n",
       "    </tr>\n",
       "    <tr>\n",
       "      <th>6</th>\n",
       "      <td>2021</td>\n",
       "      <td>2</td>\n",
       "      <td>69,24</td>\n",
       "      <td>21,55</td>\n",
       "      <td>Abr-Jun 2021</td>\n",
       "      <td>2</td>\n",
       "      <td>6</td>\n",
       "      <td>1</td>\n",
       "      <td>477</td>\n",
       "      <td>254</td>\n",
       "      <td>10</td>\n",
       "      <td>4.563</td>\n",
       "      <td>Abr-Jun 2021</td>\n",
       "      <td>38</td>\n",
       "    </tr>\n",
       "    <tr>\n",
       "      <th>7</th>\n",
       "      <td>2021</td>\n",
       "      <td>1</td>\n",
       "      <td>67,95</td>\n",
       "      <td>21,13</td>\n",
       "      <td>Ene-Mar 2021</td>\n",
       "      <td>2</td>\n",
       "      <td>5</td>\n",
       "      <td>1</td>\n",
       "      <td>435</td>\n",
       "      <td>250</td>\n",
       "      <td>10</td>\n",
       "      <td>4.311</td>\n",
       "      <td>Ene-Mar 2021</td>\n",
       "      <td>37</td>\n",
       "    </tr>\n",
       "    <tr>\n",
       "      <th>8</th>\n",
       "      <td>2020</td>\n",
       "      <td>4</td>\n",
       "      <td>67,62</td>\n",
       "      <td>21,01</td>\n",
       "      <td>Oct-Dic 2020</td>\n",
       "      <td>2</td>\n",
       "      <td>5</td>\n",
       "      <td>1</td>\n",
       "      <td>422</td>\n",
       "      <td>253</td>\n",
       "      <td>10</td>\n",
       "      <td>4.236</td>\n",
       "      <td>Oct-Dic 2020</td>\n",
       "      <td>34</td>\n",
       "    </tr>\n",
       "    <tr>\n",
       "      <th>9</th>\n",
       "      <td>2020</td>\n",
       "      <td>3</td>\n",
       "      <td>66,31</td>\n",
       "      <td>20,59</td>\n",
       "      <td>Jul-Sept 2020</td>\n",
       "      <td>2</td>\n",
       "      <td>5</td>\n",
       "      <td>1</td>\n",
       "      <td>413</td>\n",
       "      <td>249</td>\n",
       "      <td>9</td>\n",
       "      <td>4.067</td>\n",
       "      <td>Jul-Sept 2020</td>\n",
       "      <td>32</td>\n",
       "    </tr>\n",
       "    <tr>\n",
       "      <th>10</th>\n",
       "      <td>2020</td>\n",
       "      <td>2</td>\n",
       "      <td>64,21</td>\n",
       "      <td>19,92</td>\n",
       "      <td>Abr-Jun 2020</td>\n",
       "      <td>2</td>\n",
       "      <td>5</td>\n",
       "      <td>1</td>\n",
       "      <td>377</td>\n",
       "      <td>247</td>\n",
       "      <td>9</td>\n",
       "      <td>3.832</td>\n",
       "      <td>Abr-Jun 2020</td>\n",
       "      <td>32</td>\n",
       "    </tr>\n",
       "    <tr>\n",
       "      <th>11</th>\n",
       "      <td>2020</td>\n",
       "      <td>1</td>\n",
       "      <td>62,86</td>\n",
       "      <td>19,48</td>\n",
       "      <td>Ene-Mar 2020</td>\n",
       "      <td>2</td>\n",
       "      <td>5</td>\n",
       "      <td>1</td>\n",
       "      <td>352</td>\n",
       "      <td>209</td>\n",
       "      <td>9</td>\n",
       "      <td>3.752</td>\n",
       "      <td>Ene-Mar 2020</td>\n",
       "      <td>30</td>\n",
       "    </tr>\n",
       "    <tr>\n",
       "      <th>12</th>\n",
       "      <td>2019</td>\n",
       "      <td>4</td>\n",
       "      <td>62,92</td>\n",
       "      <td>19,49</td>\n",
       "      <td>Oct-Dic 2019</td>\n",
       "      <td>2</td>\n",
       "      <td>5</td>\n",
       "      <td>941</td>\n",
       "      <td>340</td>\n",
       "      <td>213</td>\n",
       "      <td>9</td>\n",
       "      <td>2.826</td>\n",
       "      <td>Oct-Dic 2019</td>\n",
       "      <td>24</td>\n",
       "    </tr>\n",
       "    <tr>\n",
       "      <th>13</th>\n",
       "      <td>2019</td>\n",
       "      <td>3</td>\n",
       "      <td>65,79</td>\n",
       "      <td>20,36</td>\n",
       "      <td>Jul-Sept 2019</td>\n",
       "      <td>3</td>\n",
       "      <td>5</td>\n",
       "      <td>852</td>\n",
       "      <td>338</td>\n",
       "      <td>264</td>\n",
       "      <td>9</td>\n",
       "      <td>2.418</td>\n",
       "      <td>Jul-Sept 2019</td>\n",
       "      <td>22</td>\n",
       "    </tr>\n",
       "    <tr>\n",
       "      <th>14</th>\n",
       "      <td>2019</td>\n",
       "      <td>2</td>\n",
       "      <td>64,53</td>\n",
       "      <td>19,96</td>\n",
       "      <td>Abr-Jun 2019</td>\n",
       "      <td>3</td>\n",
       "      <td>5</td>\n",
       "      <td>761</td>\n",
       "      <td>308</td>\n",
       "      <td>265</td>\n",
       "      <td>9</td>\n",
       "      <td>2.033</td>\n",
       "      <td>Abr-Jun 2019</td>\n",
       "      <td>21</td>\n",
       "    </tr>\n",
       "    <tr>\n",
       "      <th>15</th>\n",
       "      <td>2019</td>\n",
       "      <td>1</td>\n",
       "      <td>62,48</td>\n",
       "      <td>19,31</td>\n",
       "      <td>Ene-Mar 2019</td>\n",
       "      <td>3</td>\n",
       "      <td>4</td>\n",
       "      <td>637</td>\n",
       "      <td>276</td>\n",
       "      <td>166</td>\n",
       "      <td>9</td>\n",
       "      <td>1.738</td>\n",
       "      <td>Ene-Mar 2019</td>\n",
       "      <td>20</td>\n",
       "    </tr>\n",
       "    <tr>\n",
       "      <th>16</th>\n",
       "      <td>2018</td>\n",
       "      <td>4</td>\n",
       "      <td>61,42</td>\n",
       "      <td>18,97</td>\n",
       "      <td>Oct-Dic 2018</td>\n",
       "      <td>3</td>\n",
       "      <td>4</td>\n",
       "      <td>388</td>\n",
       "      <td>264</td>\n",
       "      <td>178</td>\n",
       "      <td>8</td>\n",
       "      <td>1.595</td>\n",
       "      <td>Oct-Dic 2018</td>\n",
       "      <td>17</td>\n",
       "    </tr>\n",
       "    <tr>\n",
       "      <th>17</th>\n",
       "      <td>2018</td>\n",
       "      <td>3</td>\n",
       "      <td>60,69</td>\n",
       "      <td>18,73</td>\n",
       "      <td>Jul-Sept 2018</td>\n",
       "      <td>4</td>\n",
       "      <td>4</td>\n",
       "      <td>247</td>\n",
       "      <td>246</td>\n",
       "      <td>94</td>\n",
       "      <td>8</td>\n",
       "      <td>1.536</td>\n",
       "      <td>Jul-Sept 2018</td>\n",
       "      <td>15</td>\n",
       "    </tr>\n",
       "    <tr>\n",
       "      <th>18</th>\n",
       "      <td>2018</td>\n",
       "      <td>2</td>\n",
       "      <td>59,16</td>\n",
       "      <td>18,24</td>\n",
       "      <td>Abr-Jun 2018</td>\n",
       "      <td>4</td>\n",
       "      <td>4</td>\n",
       "      <td>226</td>\n",
       "      <td>194</td>\n",
       "      <td>95</td>\n",
       "      <td>8</td>\n",
       "      <td>1.385</td>\n",
       "      <td>Abr-Jun 2018</td>\n",
       "      <td>14</td>\n",
       "    </tr>\n",
       "    <tr>\n",
       "      <th>19</th>\n",
       "      <td>2018</td>\n",
       "      <td>1</td>\n",
       "      <td>58,82</td>\n",
       "      <td>18,12</td>\n",
       "      <td>Ene-Mar 2018</td>\n",
       "      <td>4</td>\n",
       "      <td>4</td>\n",
       "      <td>217</td>\n",
       "      <td>165</td>\n",
       "      <td>99</td>\n",
       "      <td>8</td>\n",
       "      <td>1.322</td>\n",
       "      <td>Ene-Mar 2018</td>\n",
       "      <td>13</td>\n",
       "    </tr>\n",
       "    <tr>\n",
       "      <th>20</th>\n",
       "      <td>2017</td>\n",
       "      <td>4</td>\n",
       "      <td>57,78</td>\n",
       "      <td>17,79</td>\n",
       "      <td>Oct-Dic 2017</td>\n",
       "      <td>4</td>\n",
       "      <td>4</td>\n",
       "      <td>211</td>\n",
       "      <td>156</td>\n",
       "      <td>101</td>\n",
       "      <td>8</td>\n",
       "      <td>1.201</td>\n",
       "      <td>Oct-Dic 2017</td>\n",
       "      <td>11</td>\n",
       "    </tr>\n",
       "    <tr>\n",
       "      <th>21</th>\n",
       "      <td>2017</td>\n",
       "      <td>3</td>\n",
       "      <td>56,90</td>\n",
       "      <td>17,51</td>\n",
       "      <td>Jul-Sept 2017</td>\n",
       "      <td>4</td>\n",
       "      <td>4</td>\n",
       "      <td>194</td>\n",
       "      <td>106</td>\n",
       "      <td>132</td>\n",
       "      <td>8</td>\n",
       "      <td>834.000</td>\n",
       "      <td>Jul-Sept 2017</td>\n",
       "      <td>10</td>\n",
       "    </tr>\n",
       "    <tr>\n",
       "      <th>22</th>\n",
       "      <td>2017</td>\n",
       "      <td>2</td>\n",
       "      <td>54,90</td>\n",
       "      <td>16,88</td>\n",
       "      <td>Abr-Jun 2017</td>\n",
       "      <td>4</td>\n",
       "      <td>3</td>\n",
       "      <td>181</td>\n",
       "      <td>86</td>\n",
       "      <td>56</td>\n",
       "      <td>7</td>\n",
       "      <td>716.000</td>\n",
       "      <td>Abr-Jun 2017</td>\n",
       "      <td>10</td>\n",
       "    </tr>\n",
       "    <tr>\n",
       "      <th>23</th>\n",
       "      <td>2017</td>\n",
       "      <td>1</td>\n",
       "      <td>54,16</td>\n",
       "      <td>16,64</td>\n",
       "      <td>Ene-Mar 2017</td>\n",
       "      <td>4</td>\n",
       "      <td>3</td>\n",
       "      <td>180</td>\n",
       "      <td>85</td>\n",
       "      <td>56</td>\n",
       "      <td>7</td>\n",
       "      <td>662.000</td>\n",
       "      <td>Ene-Mar 2017</td>\n",
       "      <td>9</td>\n",
       "    </tr>\n",
       "    <tr>\n",
       "      <th>24</th>\n",
       "      <td>2016</td>\n",
       "      <td>4</td>\n",
       "      <td>53,94</td>\n",
       "      <td>16,56</td>\n",
       "      <td>Oct-Dic 2016</td>\n",
       "      <td>4</td>\n",
       "      <td>3</td>\n",
       "      <td>178</td>\n",
       "      <td>85</td>\n",
       "      <td>55</td>\n",
       "      <td>7</td>\n",
       "      <td>634.000</td>\n",
       "      <td>Oct-Dic 2016</td>\n",
       "      <td>7</td>\n",
       "    </tr>\n",
       "    <tr>\n",
       "      <th>25</th>\n",
       "      <td>2016</td>\n",
       "      <td>3</td>\n",
       "      <td>53,73</td>\n",
       "      <td>16,50</td>\n",
       "      <td>Jul-Sept 2016</td>\n",
       "      <td>4</td>\n",
       "      <td>3</td>\n",
       "      <td>170</td>\n",
       "      <td>81</td>\n",
       "      <td>54</td>\n",
       "      <td>7</td>\n",
       "      <td>594.000</td>\n",
       "      <td>Jul-Sept 2016</td>\n",
       "      <td>7</td>\n",
       "    </tr>\n",
       "    <tr>\n",
       "      <th>26</th>\n",
       "      <td>2016</td>\n",
       "      <td>2</td>\n",
       "      <td>53,34</td>\n",
       "      <td>16,37</td>\n",
       "      <td>Abr-Jun 2016</td>\n",
       "      <td>4</td>\n",
       "      <td>3</td>\n",
       "      <td>168</td>\n",
       "      <td>85</td>\n",
       "      <td>59</td>\n",
       "      <td>7</td>\n",
       "      <td>542.000</td>\n",
       "      <td>Abr-Jun 2016</td>\n",
       "      <td>7</td>\n",
       "    </tr>\n",
       "    <tr>\n",
       "      <th>27</th>\n",
       "      <td>2016</td>\n",
       "      <td>1</td>\n",
       "      <td>51,85</td>\n",
       "      <td>15,90</td>\n",
       "      <td>Ene-Mar 2016</td>\n",
       "      <td>4</td>\n",
       "      <td>3</td>\n",
       "      <td>164</td>\n",
       "      <td>85</td>\n",
       "      <td>59</td>\n",
       "      <td>7</td>\n",
       "      <td>508.000</td>\n",
       "      <td>Ene-Mar 2016</td>\n",
       "      <td>6</td>\n",
       "    </tr>\n",
       "    <tr>\n",
       "      <th>28</th>\n",
       "      <td>2015</td>\n",
       "      <td>4</td>\n",
       "      <td>52,63</td>\n",
       "      <td>16,12</td>\n",
       "      <td>Oct-Dic 2015</td>\n",
       "      <td>4</td>\n",
       "      <td>3</td>\n",
       "      <td>139</td>\n",
       "      <td>86</td>\n",
       "      <td>59</td>\n",
       "      <td>7</td>\n",
       "      <td>499.000</td>\n",
       "      <td>Oct-Dic 2015</td>\n",
       "      <td>5</td>\n",
       "    </tr>\n",
       "    <tr>\n",
       "      <th>29</th>\n",
       "      <td>2015</td>\n",
       "      <td>3</td>\n",
       "      <td>52,46</td>\n",
       "      <td>16,05</td>\n",
       "      <td>Jul-Sept 2015</td>\n",
       "      <td>4</td>\n",
       "      <td>3</td>\n",
       "      <td>163</td>\n",
       "      <td>85</td>\n",
       "      <td>59</td>\n",
       "      <td>7</td>\n",
       "      <td>479.000</td>\n",
       "      <td>Jul-Sept 2015</td>\n",
       "      <td>5</td>\n",
       "    </tr>\n",
       "    <tr>\n",
       "      <th>30</th>\n",
       "      <td>2015</td>\n",
       "      <td>2</td>\n",
       "      <td>51,76</td>\n",
       "      <td>15,82</td>\n",
       "      <td>Abr-Jun 2015</td>\n",
       "      <td>4</td>\n",
       "      <td>3</td>\n",
       "      <td>151</td>\n",
       "      <td>82</td>\n",
       "      <td>59</td>\n",
       "      <td>7</td>\n",
       "      <td>455.000</td>\n",
       "      <td>Abr-Jun 2015</td>\n",
       "      <td>5</td>\n",
       "    </tr>\n",
       "    <tr>\n",
       "      <th>31</th>\n",
       "      <td>2015</td>\n",
       "      <td>1</td>\n",
       "      <td>51,36</td>\n",
       "      <td>15,68</td>\n",
       "      <td>Ene-Mar 2015</td>\n",
       "      <td>4</td>\n",
       "      <td>3</td>\n",
       "      <td>168</td>\n",
       "      <td>79</td>\n",
       "      <td>66</td>\n",
       "      <td>7</td>\n",
       "      <td>435.000</td>\n",
       "      <td>Ene-Mar 2015</td>\n",
       "      <td>5</td>\n",
       "    </tr>\n",
       "    <tr>\n",
       "      <th>32</th>\n",
       "      <td>2014</td>\n",
       "      <td>4</td>\n",
       "      <td>50,50</td>\n",
       "      <td>15,39</td>\n",
       "      <td>Oct-Dic 2014</td>\n",
       "      <td>4</td>\n",
       "      <td>3</td>\n",
       "      <td>150</td>\n",
       "      <td>77</td>\n",
       "      <td>72</td>\n",
       "      <td>7</td>\n",
       "      <td>416.000</td>\n",
       "      <td>Oct-Dic 2014</td>\n",
       "      <td>4</td>\n",
       "    </tr>\n",
       "    <tr>\n",
       "      <th>33</th>\n",
       "      <td>2014</td>\n",
       "      <td>3</td>\n",
       "      <td>50,67</td>\n",
       "      <td>15,43</td>\n",
       "      <td>Jul-Sept 2014</td>\n",
       "      <td>4</td>\n",
       "      <td>3</td>\n",
       "      <td>155</td>\n",
       "      <td>85</td>\n",
       "      <td>70</td>\n",
       "      <td>7</td>\n",
       "      <td>387.000</td>\n",
       "      <td>Jul-Sept 2014</td>\n",
       "      <td>3</td>\n",
       "    </tr>\n",
       "    <tr>\n",
       "      <th>34</th>\n",
       "      <td>2014</td>\n",
       "      <td>2</td>\n",
       "      <td>49,86</td>\n",
       "      <td>15,16</td>\n",
       "      <td>Abr-Jun 2014</td>\n",
       "      <td>4</td>\n",
       "      <td>2</td>\n",
       "      <td>149</td>\n",
       "      <td>72</td>\n",
       "      <td>72</td>\n",
       "      <td>6</td>\n",
       "      <td>376.000</td>\n",
       "      <td>Abr-Jun 2014</td>\n",
       "      <td>3</td>\n",
       "    </tr>\n",
       "    <tr>\n",
       "      <th>35</th>\n",
       "      <td>2014</td>\n",
       "      <td>1</td>\n",
       "      <td>49,55</td>\n",
       "      <td>15,05</td>\n",
       "      <td>Ene-Mar 2014</td>\n",
       "      <td>4</td>\n",
       "      <td>2</td>\n",
       "      <td>150</td>\n",
       "      <td>71</td>\n",
       "      <td>73</td>\n",
       "      <td>6</td>\n",
       "      <td>362.000</td>\n",
       "      <td>Ene-Mar 2014</td>\n",
       "      <td>3</td>\n",
       "    </tr>\n",
       "  </tbody>\n",
       "</table>\n",
       "</div>"
      ],
      "text/plain": [
       "     Año  Trimestre Accesos por cada 100 hogares Accesos por cada 100 hab  \\\n",
       "0   2022          4                        77,21                    24,15   \n",
       "1   2022          3                        76,64                    23,95   \n",
       "2   2022          2                        75,97                    23,72   \n",
       "3   2022          1                        73,88                    23,05   \n",
       "4   2021          4                        73,18                    22,81   \n",
       "5   2021          3                        70,58                    21,98   \n",
       "6   2021          2                        69,24                    21,55   \n",
       "7   2021          1                        67,95                    21,13   \n",
       "8   2020          4                        67,62                    21,01   \n",
       "9   2020          3                        66,31                    20,59   \n",
       "10  2020          2                        64,21                    19,92   \n",
       "11  2020          1                        62,86                    19,48   \n",
       "12  2019          4                        62,92                    19,49   \n",
       "13  2019          3                        65,79                    20,36   \n",
       "14  2019          2                        64,53                    19,96   \n",
       "15  2019          1                        62,48                    19,31   \n",
       "16  2018          4                        61,42                    18,97   \n",
       "17  2018          3                        60,69                    18,73   \n",
       "18  2018          2                        59,16                    18,24   \n",
       "19  2018          1                        58,82                    18,12   \n",
       "20  2017          4                        57,78                    17,79   \n",
       "21  2017          3                        56,90                    17,51   \n",
       "22  2017          2                        54,90                    16,88   \n",
       "23  2017          1                        54,16                    16,64   \n",
       "24  2016          4                        53,94                    16,56   \n",
       "25  2016          3                        53,73                    16,50   \n",
       "26  2016          2                        53,34                    16,37   \n",
       "27  2016          1                        51,85                    15,90   \n",
       "28  2015          4                        52,63                    16,12   \n",
       "29  2015          3                        52,46                    16,05   \n",
       "30  2015          2                        51,76                    15,82   \n",
       "31  2015          1                        51,36                    15,68   \n",
       "32  2014          4                        50,50                    15,39   \n",
       "33  2014          3                        50,67                    15,43   \n",
       "34  2014          2                        49,86                    15,16   \n",
       "35  2014          1                        49,55                    15,05   \n",
       "\n",
       "          Periodo  ADSL  Cablemodem  Fibra óptica  Wireless  Otros  Total  \\\n",
       "0    Oct-Dic 2022     1           6             3       573    222     11   \n",
       "1   Jul-Sept 2022     1           6             3       557    235     11   \n",
       "2    Abr-Jun 2022     1           6             3       556    232     11   \n",
       "3    Ene-Mar 2022     2           6             2       546    252     11   \n",
       "4    Oct-Dic 2021     2           6             2       523    253     10   \n",
       "5   Jul-Sept 2021     2           6             2       492    250     10   \n",
       "6    Abr-Jun 2021     2           6             1       477    254     10   \n",
       "7    Ene-Mar 2021     2           5             1       435    250     10   \n",
       "8    Oct-Dic 2020     2           5             1       422    253     10   \n",
       "9   Jul-Sept 2020     2           5             1       413    249      9   \n",
       "10   Abr-Jun 2020     2           5             1       377    247      9   \n",
       "11   Ene-Mar 2020     2           5             1       352    209      9   \n",
       "12   Oct-Dic 2019     2           5           941       340    213      9   \n",
       "13  Jul-Sept 2019     3           5           852       338    264      9   \n",
       "14   Abr-Jun 2019     3           5           761       308    265      9   \n",
       "15   Ene-Mar 2019     3           4           637       276    166      9   \n",
       "16   Oct-Dic 2018     3           4           388       264    178      8   \n",
       "17  Jul-Sept 2018     4           4           247       246     94      8   \n",
       "18   Abr-Jun 2018     4           4           226       194     95      8   \n",
       "19   Ene-Mar 2018     4           4           217       165     99      8   \n",
       "20   Oct-Dic 2017     4           4           211       156    101      8   \n",
       "21  Jul-Sept 2017     4           4           194       106    132      8   \n",
       "22   Abr-Jun 2017     4           3           181        86     56      7   \n",
       "23   Ene-Mar 2017     4           3           180        85     56      7   \n",
       "24   Oct-Dic 2016     4           3           178        85     55      7   \n",
       "25  Jul-Sept 2016     4           3           170        81     54      7   \n",
       "26   Abr-Jun 2016     4           3           168        85     59      7   \n",
       "27   Ene-Mar 2016     4           3           164        85     59      7   \n",
       "28   Oct-Dic 2015     4           3           139        86     59      7   \n",
       "29  Jul-Sept 2015     4           3           163        85     59      7   \n",
       "30   Abr-Jun 2015     4           3           151        82     59      7   \n",
       "31   Ene-Mar 2015     4           3           168        79     66      7   \n",
       "32   Oct-Dic 2014     4           3           150        77     72      7   \n",
       "33  Jul-Sept 2014     4           3           155        85     70      7   \n",
       "34   Abr-Jun 2014     4           2           149        72     72      6   \n",
       "35   Ene-Mar 2014     4           2           150        71     73      6   \n",
       "\n",
       "    Mbps (Media de bajada)    Trimestre.1  Ingresos (miles de pesos)  \n",
       "0                   10.656   Oct-Dic 2022                         72  \n",
       "1                    6.246  Jul-Sept 2022                         64  \n",
       "2                    5.844   Abr-Jun 2022                         60  \n",
       "3                    5.511   Ene-Mar 2022                         55  \n",
       "4                    5.234   Oct-Dic 2021                         45  \n",
       "5                    4.846  Jul-Sept 2021                         43  \n",
       "6                    4.563   Abr-Jun 2021                         38  \n",
       "7                    4.311   Ene-Mar 2021                         37  \n",
       "8                    4.236   Oct-Dic 2020                         34  \n",
       "9                    4.067  Jul-Sept 2020                         32  \n",
       "10                   3.832   Abr-Jun 2020                         32  \n",
       "11                   3.752   Ene-Mar 2020                         30  \n",
       "12                   2.826   Oct-Dic 2019                         24  \n",
       "13                   2.418  Jul-Sept 2019                         22  \n",
       "14                   2.033   Abr-Jun 2019                         21  \n",
       "15                   1.738   Ene-Mar 2019                         20  \n",
       "16                   1.595   Oct-Dic 2018                         17  \n",
       "17                   1.536  Jul-Sept 2018                         15  \n",
       "18                   1.385   Abr-Jun 2018                         14  \n",
       "19                   1.322   Ene-Mar 2018                         13  \n",
       "20                   1.201   Oct-Dic 2017                         11  \n",
       "21                 834.000  Jul-Sept 2017                         10  \n",
       "22                 716.000   Abr-Jun 2017                         10  \n",
       "23                 662.000   Ene-Mar 2017                          9  \n",
       "24                 634.000   Oct-Dic 2016                          7  \n",
       "25                 594.000  Jul-Sept 2016                          7  \n",
       "26                 542.000   Abr-Jun 2016                          7  \n",
       "27                 508.000   Ene-Mar 2016                          6  \n",
       "28                 499.000   Oct-Dic 2015                          5  \n",
       "29                 479.000  Jul-Sept 2015                          5  \n",
       "30                 455.000   Abr-Jun 2015                          5  \n",
       "31                 435.000   Ene-Mar 2015                          5  \n",
       "32                 416.000   Oct-Dic 2014                          4  \n",
       "33                 387.000  Jul-Sept 2014                          3  \n",
       "34                 376.000   Abr-Jun 2014                          3  \n",
       "35                 362.000   Ene-Mar 2014                          3  "
      ]
     },
     "execution_count": 1304,
     "metadata": {},
     "output_type": "execute_result"
    }
   ],
   "source": [
    "# unimos los datasets que contienen datos sobre velocidad, tipo de conexion, e ingresos sin el detalle de provincia\n",
    "DatosNacionales = (IGlobal.merge(TecGlobal).merge(VelGlobal).merge(Ingresos))\n",
    "DatosNacionales"
   ]
  },
  {
   "cell_type": "code",
   "execution_count": 1305,
   "metadata": {},
   "outputs": [],
   "source": [
    "# vamos cambiar el tipo de dato de las columnas año y trimestre para poder hacer transformaciones \n",
    "DatosNacionales['Año'] = DatosNacionales['Año'].astype(str) \n",
    "DatosNacionales['Trimestre'] = DatosNacionales['Trimestre'].astype(str)"
   ]
  },
  {
   "cell_type": "code",
   "execution_count": 1306,
   "metadata": {},
   "outputs": [
    {
     "data": {
      "text/html": [
       "<div>\n",
       "<style scoped>\n",
       "    .dataframe tbody tr th:only-of-type {\n",
       "        vertical-align: middle;\n",
       "    }\n",
       "\n",
       "    .dataframe tbody tr th {\n",
       "        vertical-align: top;\n",
       "    }\n",
       "\n",
       "    .dataframe thead th {\n",
       "        text-align: right;\n",
       "    }\n",
       "</style>\n",
       "<table border=\"1\" class=\"dataframe\">\n",
       "  <thead>\n",
       "    <tr style=\"text-align: right;\">\n",
       "      <th></th>\n",
       "      <th>Año</th>\n",
       "      <th>Trimestre</th>\n",
       "      <th>Accesos por cada 100 hogares</th>\n",
       "      <th>Accesos por cada 100 hab</th>\n",
       "      <th>Periodo</th>\n",
       "      <th>ADSL</th>\n",
       "      <th>Cablemodem</th>\n",
       "      <th>Fibra óptica</th>\n",
       "      <th>Wireless</th>\n",
       "      <th>Otros</th>\n",
       "      <th>Total</th>\n",
       "      <th>Mbps (Media de bajada)</th>\n",
       "      <th>Trimestre.1</th>\n",
       "      <th>Ingresos (miles de pesos)</th>\n",
       "    </tr>\n",
       "  </thead>\n",
       "  <tbody>\n",
       "    <tr>\n",
       "      <th>0</th>\n",
       "      <td>2022</td>\n",
       "      <td>T4</td>\n",
       "      <td>77,21</td>\n",
       "      <td>24,15</td>\n",
       "      <td>2022-T4</td>\n",
       "      <td>1</td>\n",
       "      <td>6</td>\n",
       "      <td>3</td>\n",
       "      <td>573</td>\n",
       "      <td>222</td>\n",
       "      <td>11</td>\n",
       "      <td>10.656</td>\n",
       "      <td>Oct-Dic 2022</td>\n",
       "      <td>72</td>\n",
       "    </tr>\n",
       "    <tr>\n",
       "      <th>1</th>\n",
       "      <td>2022</td>\n",
       "      <td>T3</td>\n",
       "      <td>76,64</td>\n",
       "      <td>23,95</td>\n",
       "      <td>2022-T3</td>\n",
       "      <td>1</td>\n",
       "      <td>6</td>\n",
       "      <td>3</td>\n",
       "      <td>557</td>\n",
       "      <td>235</td>\n",
       "      <td>11</td>\n",
       "      <td>6.246</td>\n",
       "      <td>Jul-Sept 2022</td>\n",
       "      <td>64</td>\n",
       "    </tr>\n",
       "    <tr>\n",
       "      <th>2</th>\n",
       "      <td>2022</td>\n",
       "      <td>T2</td>\n",
       "      <td>75,97</td>\n",
       "      <td>23,72</td>\n",
       "      <td>2022-T2</td>\n",
       "      <td>1</td>\n",
       "      <td>6</td>\n",
       "      <td>3</td>\n",
       "      <td>556</td>\n",
       "      <td>232</td>\n",
       "      <td>11</td>\n",
       "      <td>5.844</td>\n",
       "      <td>Abr-Jun 2022</td>\n",
       "      <td>60</td>\n",
       "    </tr>\n",
       "    <tr>\n",
       "      <th>3</th>\n",
       "      <td>2022</td>\n",
       "      <td>T1</td>\n",
       "      <td>73,88</td>\n",
       "      <td>23,05</td>\n",
       "      <td>2022-T1</td>\n",
       "      <td>2</td>\n",
       "      <td>6</td>\n",
       "      <td>2</td>\n",
       "      <td>546</td>\n",
       "      <td>252</td>\n",
       "      <td>11</td>\n",
       "      <td>5.511</td>\n",
       "      <td>Ene-Mar 2022</td>\n",
       "      <td>55</td>\n",
       "    </tr>\n",
       "    <tr>\n",
       "      <th>4</th>\n",
       "      <td>2021</td>\n",
       "      <td>T4</td>\n",
       "      <td>73,18</td>\n",
       "      <td>22,81</td>\n",
       "      <td>2021-T4</td>\n",
       "      <td>2</td>\n",
       "      <td>6</td>\n",
       "      <td>2</td>\n",
       "      <td>523</td>\n",
       "      <td>253</td>\n",
       "      <td>10</td>\n",
       "      <td>5.234</td>\n",
       "      <td>Oct-Dic 2021</td>\n",
       "      <td>45</td>\n",
       "    </tr>\n",
       "    <tr>\n",
       "      <th>5</th>\n",
       "      <td>2021</td>\n",
       "      <td>T3</td>\n",
       "      <td>70,58</td>\n",
       "      <td>21,98</td>\n",
       "      <td>2021-T3</td>\n",
       "      <td>2</td>\n",
       "      <td>6</td>\n",
       "      <td>2</td>\n",
       "      <td>492</td>\n",
       "      <td>250</td>\n",
       "      <td>10</td>\n",
       "      <td>4.846</td>\n",
       "      <td>Jul-Sept 2021</td>\n",
       "      <td>43</td>\n",
       "    </tr>\n",
       "    <tr>\n",
       "      <th>6</th>\n",
       "      <td>2021</td>\n",
       "      <td>T2</td>\n",
       "      <td>69,24</td>\n",
       "      <td>21,55</td>\n",
       "      <td>2021-T2</td>\n",
       "      <td>2</td>\n",
       "      <td>6</td>\n",
       "      <td>1</td>\n",
       "      <td>477</td>\n",
       "      <td>254</td>\n",
       "      <td>10</td>\n",
       "      <td>4.563</td>\n",
       "      <td>Abr-Jun 2021</td>\n",
       "      <td>38</td>\n",
       "    </tr>\n",
       "    <tr>\n",
       "      <th>7</th>\n",
       "      <td>2021</td>\n",
       "      <td>T1</td>\n",
       "      <td>67,95</td>\n",
       "      <td>21,13</td>\n",
       "      <td>2021-T1</td>\n",
       "      <td>2</td>\n",
       "      <td>5</td>\n",
       "      <td>1</td>\n",
       "      <td>435</td>\n",
       "      <td>250</td>\n",
       "      <td>10</td>\n",
       "      <td>4.311</td>\n",
       "      <td>Ene-Mar 2021</td>\n",
       "      <td>37</td>\n",
       "    </tr>\n",
       "    <tr>\n",
       "      <th>8</th>\n",
       "      <td>2020</td>\n",
       "      <td>T4</td>\n",
       "      <td>67,62</td>\n",
       "      <td>21,01</td>\n",
       "      <td>2020-T4</td>\n",
       "      <td>2</td>\n",
       "      <td>5</td>\n",
       "      <td>1</td>\n",
       "      <td>422</td>\n",
       "      <td>253</td>\n",
       "      <td>10</td>\n",
       "      <td>4.236</td>\n",
       "      <td>Oct-Dic 2020</td>\n",
       "      <td>34</td>\n",
       "    </tr>\n",
       "    <tr>\n",
       "      <th>9</th>\n",
       "      <td>2020</td>\n",
       "      <td>T3</td>\n",
       "      <td>66,31</td>\n",
       "      <td>20,59</td>\n",
       "      <td>2020-T3</td>\n",
       "      <td>2</td>\n",
       "      <td>5</td>\n",
       "      <td>1</td>\n",
       "      <td>413</td>\n",
       "      <td>249</td>\n",
       "      <td>9</td>\n",
       "      <td>4.067</td>\n",
       "      <td>Jul-Sept 2020</td>\n",
       "      <td>32</td>\n",
       "    </tr>\n",
       "    <tr>\n",
       "      <th>10</th>\n",
       "      <td>2020</td>\n",
       "      <td>T2</td>\n",
       "      <td>64,21</td>\n",
       "      <td>19,92</td>\n",
       "      <td>2020-T2</td>\n",
       "      <td>2</td>\n",
       "      <td>5</td>\n",
       "      <td>1</td>\n",
       "      <td>377</td>\n",
       "      <td>247</td>\n",
       "      <td>9</td>\n",
       "      <td>3.832</td>\n",
       "      <td>Abr-Jun 2020</td>\n",
       "      <td>32</td>\n",
       "    </tr>\n",
       "    <tr>\n",
       "      <th>11</th>\n",
       "      <td>2020</td>\n",
       "      <td>T1</td>\n",
       "      <td>62,86</td>\n",
       "      <td>19,48</td>\n",
       "      <td>2020-T1</td>\n",
       "      <td>2</td>\n",
       "      <td>5</td>\n",
       "      <td>1</td>\n",
       "      <td>352</td>\n",
       "      <td>209</td>\n",
       "      <td>9</td>\n",
       "      <td>3.752</td>\n",
       "      <td>Ene-Mar 2020</td>\n",
       "      <td>30</td>\n",
       "    </tr>\n",
       "    <tr>\n",
       "      <th>12</th>\n",
       "      <td>2019</td>\n",
       "      <td>T4</td>\n",
       "      <td>62,92</td>\n",
       "      <td>19,49</td>\n",
       "      <td>2019-T4</td>\n",
       "      <td>2</td>\n",
       "      <td>5</td>\n",
       "      <td>941</td>\n",
       "      <td>340</td>\n",
       "      <td>213</td>\n",
       "      <td>9</td>\n",
       "      <td>2.826</td>\n",
       "      <td>Oct-Dic 2019</td>\n",
       "      <td>24</td>\n",
       "    </tr>\n",
       "    <tr>\n",
       "      <th>13</th>\n",
       "      <td>2019</td>\n",
       "      <td>T3</td>\n",
       "      <td>65,79</td>\n",
       "      <td>20,36</td>\n",
       "      <td>2019-T3</td>\n",
       "      <td>3</td>\n",
       "      <td>5</td>\n",
       "      <td>852</td>\n",
       "      <td>338</td>\n",
       "      <td>264</td>\n",
       "      <td>9</td>\n",
       "      <td>2.418</td>\n",
       "      <td>Jul-Sept 2019</td>\n",
       "      <td>22</td>\n",
       "    </tr>\n",
       "    <tr>\n",
       "      <th>14</th>\n",
       "      <td>2019</td>\n",
       "      <td>T2</td>\n",
       "      <td>64,53</td>\n",
       "      <td>19,96</td>\n",
       "      <td>2019-T2</td>\n",
       "      <td>3</td>\n",
       "      <td>5</td>\n",
       "      <td>761</td>\n",
       "      <td>308</td>\n",
       "      <td>265</td>\n",
       "      <td>9</td>\n",
       "      <td>2.033</td>\n",
       "      <td>Abr-Jun 2019</td>\n",
       "      <td>21</td>\n",
       "    </tr>\n",
       "    <tr>\n",
       "      <th>15</th>\n",
       "      <td>2019</td>\n",
       "      <td>T1</td>\n",
       "      <td>62,48</td>\n",
       "      <td>19,31</td>\n",
       "      <td>2019-T1</td>\n",
       "      <td>3</td>\n",
       "      <td>4</td>\n",
       "      <td>637</td>\n",
       "      <td>276</td>\n",
       "      <td>166</td>\n",
       "      <td>9</td>\n",
       "      <td>1.738</td>\n",
       "      <td>Ene-Mar 2019</td>\n",
       "      <td>20</td>\n",
       "    </tr>\n",
       "    <tr>\n",
       "      <th>16</th>\n",
       "      <td>2018</td>\n",
       "      <td>T4</td>\n",
       "      <td>61,42</td>\n",
       "      <td>18,97</td>\n",
       "      <td>2018-T4</td>\n",
       "      <td>3</td>\n",
       "      <td>4</td>\n",
       "      <td>388</td>\n",
       "      <td>264</td>\n",
       "      <td>178</td>\n",
       "      <td>8</td>\n",
       "      <td>1.595</td>\n",
       "      <td>Oct-Dic 2018</td>\n",
       "      <td>17</td>\n",
       "    </tr>\n",
       "    <tr>\n",
       "      <th>17</th>\n",
       "      <td>2018</td>\n",
       "      <td>T3</td>\n",
       "      <td>60,69</td>\n",
       "      <td>18,73</td>\n",
       "      <td>2018-T3</td>\n",
       "      <td>4</td>\n",
       "      <td>4</td>\n",
       "      <td>247</td>\n",
       "      <td>246</td>\n",
       "      <td>94</td>\n",
       "      <td>8</td>\n",
       "      <td>1.536</td>\n",
       "      <td>Jul-Sept 2018</td>\n",
       "      <td>15</td>\n",
       "    </tr>\n",
       "    <tr>\n",
       "      <th>18</th>\n",
       "      <td>2018</td>\n",
       "      <td>T2</td>\n",
       "      <td>59,16</td>\n",
       "      <td>18,24</td>\n",
       "      <td>2018-T2</td>\n",
       "      <td>4</td>\n",
       "      <td>4</td>\n",
       "      <td>226</td>\n",
       "      <td>194</td>\n",
       "      <td>95</td>\n",
       "      <td>8</td>\n",
       "      <td>1.385</td>\n",
       "      <td>Abr-Jun 2018</td>\n",
       "      <td>14</td>\n",
       "    </tr>\n",
       "    <tr>\n",
       "      <th>19</th>\n",
       "      <td>2018</td>\n",
       "      <td>T1</td>\n",
       "      <td>58,82</td>\n",
       "      <td>18,12</td>\n",
       "      <td>2018-T1</td>\n",
       "      <td>4</td>\n",
       "      <td>4</td>\n",
       "      <td>217</td>\n",
       "      <td>165</td>\n",
       "      <td>99</td>\n",
       "      <td>8</td>\n",
       "      <td>1.322</td>\n",
       "      <td>Ene-Mar 2018</td>\n",
       "      <td>13</td>\n",
       "    </tr>\n",
       "    <tr>\n",
       "      <th>20</th>\n",
       "      <td>2017</td>\n",
       "      <td>T4</td>\n",
       "      <td>57,78</td>\n",
       "      <td>17,79</td>\n",
       "      <td>2017-T4</td>\n",
       "      <td>4</td>\n",
       "      <td>4</td>\n",
       "      <td>211</td>\n",
       "      <td>156</td>\n",
       "      <td>101</td>\n",
       "      <td>8</td>\n",
       "      <td>1.201</td>\n",
       "      <td>Oct-Dic 2017</td>\n",
       "      <td>11</td>\n",
       "    </tr>\n",
       "    <tr>\n",
       "      <th>21</th>\n",
       "      <td>2017</td>\n",
       "      <td>T3</td>\n",
       "      <td>56,90</td>\n",
       "      <td>17,51</td>\n",
       "      <td>2017-T3</td>\n",
       "      <td>4</td>\n",
       "      <td>4</td>\n",
       "      <td>194</td>\n",
       "      <td>106</td>\n",
       "      <td>132</td>\n",
       "      <td>8</td>\n",
       "      <td>834.000</td>\n",
       "      <td>Jul-Sept 2017</td>\n",
       "      <td>10</td>\n",
       "    </tr>\n",
       "    <tr>\n",
       "      <th>22</th>\n",
       "      <td>2017</td>\n",
       "      <td>T2</td>\n",
       "      <td>54,90</td>\n",
       "      <td>16,88</td>\n",
       "      <td>2017-T2</td>\n",
       "      <td>4</td>\n",
       "      <td>3</td>\n",
       "      <td>181</td>\n",
       "      <td>86</td>\n",
       "      <td>56</td>\n",
       "      <td>7</td>\n",
       "      <td>716.000</td>\n",
       "      <td>Abr-Jun 2017</td>\n",
       "      <td>10</td>\n",
       "    </tr>\n",
       "    <tr>\n",
       "      <th>23</th>\n",
       "      <td>2017</td>\n",
       "      <td>T1</td>\n",
       "      <td>54,16</td>\n",
       "      <td>16,64</td>\n",
       "      <td>2017-T1</td>\n",
       "      <td>4</td>\n",
       "      <td>3</td>\n",
       "      <td>180</td>\n",
       "      <td>85</td>\n",
       "      <td>56</td>\n",
       "      <td>7</td>\n",
       "      <td>662.000</td>\n",
       "      <td>Ene-Mar 2017</td>\n",
       "      <td>9</td>\n",
       "    </tr>\n",
       "    <tr>\n",
       "      <th>24</th>\n",
       "      <td>2016</td>\n",
       "      <td>T4</td>\n",
       "      <td>53,94</td>\n",
       "      <td>16,56</td>\n",
       "      <td>2016-T4</td>\n",
       "      <td>4</td>\n",
       "      <td>3</td>\n",
       "      <td>178</td>\n",
       "      <td>85</td>\n",
       "      <td>55</td>\n",
       "      <td>7</td>\n",
       "      <td>634.000</td>\n",
       "      <td>Oct-Dic 2016</td>\n",
       "      <td>7</td>\n",
       "    </tr>\n",
       "    <tr>\n",
       "      <th>25</th>\n",
       "      <td>2016</td>\n",
       "      <td>T3</td>\n",
       "      <td>53,73</td>\n",
       "      <td>16,50</td>\n",
       "      <td>2016-T3</td>\n",
       "      <td>4</td>\n",
       "      <td>3</td>\n",
       "      <td>170</td>\n",
       "      <td>81</td>\n",
       "      <td>54</td>\n",
       "      <td>7</td>\n",
       "      <td>594.000</td>\n",
       "      <td>Jul-Sept 2016</td>\n",
       "      <td>7</td>\n",
       "    </tr>\n",
       "    <tr>\n",
       "      <th>26</th>\n",
       "      <td>2016</td>\n",
       "      <td>T2</td>\n",
       "      <td>53,34</td>\n",
       "      <td>16,37</td>\n",
       "      <td>2016-T2</td>\n",
       "      <td>4</td>\n",
       "      <td>3</td>\n",
       "      <td>168</td>\n",
       "      <td>85</td>\n",
       "      <td>59</td>\n",
       "      <td>7</td>\n",
       "      <td>542.000</td>\n",
       "      <td>Abr-Jun 2016</td>\n",
       "      <td>7</td>\n",
       "    </tr>\n",
       "    <tr>\n",
       "      <th>27</th>\n",
       "      <td>2016</td>\n",
       "      <td>T1</td>\n",
       "      <td>51,85</td>\n",
       "      <td>15,90</td>\n",
       "      <td>2016-T1</td>\n",
       "      <td>4</td>\n",
       "      <td>3</td>\n",
       "      <td>164</td>\n",
       "      <td>85</td>\n",
       "      <td>59</td>\n",
       "      <td>7</td>\n",
       "      <td>508.000</td>\n",
       "      <td>Ene-Mar 2016</td>\n",
       "      <td>6</td>\n",
       "    </tr>\n",
       "    <tr>\n",
       "      <th>28</th>\n",
       "      <td>2015</td>\n",
       "      <td>T4</td>\n",
       "      <td>52,63</td>\n",
       "      <td>16,12</td>\n",
       "      <td>2015-T4</td>\n",
       "      <td>4</td>\n",
       "      <td>3</td>\n",
       "      <td>139</td>\n",
       "      <td>86</td>\n",
       "      <td>59</td>\n",
       "      <td>7</td>\n",
       "      <td>499.000</td>\n",
       "      <td>Oct-Dic 2015</td>\n",
       "      <td>5</td>\n",
       "    </tr>\n",
       "    <tr>\n",
       "      <th>29</th>\n",
       "      <td>2015</td>\n",
       "      <td>T3</td>\n",
       "      <td>52,46</td>\n",
       "      <td>16,05</td>\n",
       "      <td>2015-T3</td>\n",
       "      <td>4</td>\n",
       "      <td>3</td>\n",
       "      <td>163</td>\n",
       "      <td>85</td>\n",
       "      <td>59</td>\n",
       "      <td>7</td>\n",
       "      <td>479.000</td>\n",
       "      <td>Jul-Sept 2015</td>\n",
       "      <td>5</td>\n",
       "    </tr>\n",
       "    <tr>\n",
       "      <th>30</th>\n",
       "      <td>2015</td>\n",
       "      <td>T2</td>\n",
       "      <td>51,76</td>\n",
       "      <td>15,82</td>\n",
       "      <td>2015-T2</td>\n",
       "      <td>4</td>\n",
       "      <td>3</td>\n",
       "      <td>151</td>\n",
       "      <td>82</td>\n",
       "      <td>59</td>\n",
       "      <td>7</td>\n",
       "      <td>455.000</td>\n",
       "      <td>Abr-Jun 2015</td>\n",
       "      <td>5</td>\n",
       "    </tr>\n",
       "    <tr>\n",
       "      <th>31</th>\n",
       "      <td>2015</td>\n",
       "      <td>T1</td>\n",
       "      <td>51,36</td>\n",
       "      <td>15,68</td>\n",
       "      <td>2015-T1</td>\n",
       "      <td>4</td>\n",
       "      <td>3</td>\n",
       "      <td>168</td>\n",
       "      <td>79</td>\n",
       "      <td>66</td>\n",
       "      <td>7</td>\n",
       "      <td>435.000</td>\n",
       "      <td>Ene-Mar 2015</td>\n",
       "      <td>5</td>\n",
       "    </tr>\n",
       "    <tr>\n",
       "      <th>32</th>\n",
       "      <td>2014</td>\n",
       "      <td>T4</td>\n",
       "      <td>50,50</td>\n",
       "      <td>15,39</td>\n",
       "      <td>2014-T4</td>\n",
       "      <td>4</td>\n",
       "      <td>3</td>\n",
       "      <td>150</td>\n",
       "      <td>77</td>\n",
       "      <td>72</td>\n",
       "      <td>7</td>\n",
       "      <td>416.000</td>\n",
       "      <td>Oct-Dic 2014</td>\n",
       "      <td>4</td>\n",
       "    </tr>\n",
       "    <tr>\n",
       "      <th>33</th>\n",
       "      <td>2014</td>\n",
       "      <td>T3</td>\n",
       "      <td>50,67</td>\n",
       "      <td>15,43</td>\n",
       "      <td>2014-T3</td>\n",
       "      <td>4</td>\n",
       "      <td>3</td>\n",
       "      <td>155</td>\n",
       "      <td>85</td>\n",
       "      <td>70</td>\n",
       "      <td>7</td>\n",
       "      <td>387.000</td>\n",
       "      <td>Jul-Sept 2014</td>\n",
       "      <td>3</td>\n",
       "    </tr>\n",
       "    <tr>\n",
       "      <th>34</th>\n",
       "      <td>2014</td>\n",
       "      <td>T2</td>\n",
       "      <td>49,86</td>\n",
       "      <td>15,16</td>\n",
       "      <td>2014-T2</td>\n",
       "      <td>4</td>\n",
       "      <td>2</td>\n",
       "      <td>149</td>\n",
       "      <td>72</td>\n",
       "      <td>72</td>\n",
       "      <td>6</td>\n",
       "      <td>376.000</td>\n",
       "      <td>Abr-Jun 2014</td>\n",
       "      <td>3</td>\n",
       "    </tr>\n",
       "    <tr>\n",
       "      <th>35</th>\n",
       "      <td>2014</td>\n",
       "      <td>T1</td>\n",
       "      <td>49,55</td>\n",
       "      <td>15,05</td>\n",
       "      <td>2014-T1</td>\n",
       "      <td>4</td>\n",
       "      <td>2</td>\n",
       "      <td>150</td>\n",
       "      <td>71</td>\n",
       "      <td>73</td>\n",
       "      <td>6</td>\n",
       "      <td>362.000</td>\n",
       "      <td>Ene-Mar 2014</td>\n",
       "      <td>3</td>\n",
       "    </tr>\n",
       "  </tbody>\n",
       "</table>\n",
       "</div>"
      ],
      "text/plain": [
       "     Año Trimestre Accesos por cada 100 hogares Accesos por cada 100 hab  \\\n",
       "0   2022        T4                        77,21                    24,15   \n",
       "1   2022        T3                        76,64                    23,95   \n",
       "2   2022        T2                        75,97                    23,72   \n",
       "3   2022        T1                        73,88                    23,05   \n",
       "4   2021        T4                        73,18                    22,81   \n",
       "5   2021        T3                        70,58                    21,98   \n",
       "6   2021        T2                        69,24                    21,55   \n",
       "7   2021        T1                        67,95                    21,13   \n",
       "8   2020        T4                        67,62                    21,01   \n",
       "9   2020        T3                        66,31                    20,59   \n",
       "10  2020        T2                        64,21                    19,92   \n",
       "11  2020        T1                        62,86                    19,48   \n",
       "12  2019        T4                        62,92                    19,49   \n",
       "13  2019        T3                        65,79                    20,36   \n",
       "14  2019        T2                        64,53                    19,96   \n",
       "15  2019        T1                        62,48                    19,31   \n",
       "16  2018        T4                        61,42                    18,97   \n",
       "17  2018        T3                        60,69                    18,73   \n",
       "18  2018        T2                        59,16                    18,24   \n",
       "19  2018        T1                        58,82                    18,12   \n",
       "20  2017        T4                        57,78                    17,79   \n",
       "21  2017        T3                        56,90                    17,51   \n",
       "22  2017        T2                        54,90                    16,88   \n",
       "23  2017        T1                        54,16                    16,64   \n",
       "24  2016        T4                        53,94                    16,56   \n",
       "25  2016        T3                        53,73                    16,50   \n",
       "26  2016        T2                        53,34                    16,37   \n",
       "27  2016        T1                        51,85                    15,90   \n",
       "28  2015        T4                        52,63                    16,12   \n",
       "29  2015        T3                        52,46                    16,05   \n",
       "30  2015        T2                        51,76                    15,82   \n",
       "31  2015        T1                        51,36                    15,68   \n",
       "32  2014        T4                        50,50                    15,39   \n",
       "33  2014        T3                        50,67                    15,43   \n",
       "34  2014        T2                        49,86                    15,16   \n",
       "35  2014        T1                        49,55                    15,05   \n",
       "\n",
       "    Periodo  ADSL  Cablemodem  Fibra óptica  Wireless  Otros  Total  \\\n",
       "0   2022-T4     1           6             3       573    222     11   \n",
       "1   2022-T3     1           6             3       557    235     11   \n",
       "2   2022-T2     1           6             3       556    232     11   \n",
       "3   2022-T1     2           6             2       546    252     11   \n",
       "4   2021-T4     2           6             2       523    253     10   \n",
       "5   2021-T3     2           6             2       492    250     10   \n",
       "6   2021-T2     2           6             1       477    254     10   \n",
       "7   2021-T1     2           5             1       435    250     10   \n",
       "8   2020-T4     2           5             1       422    253     10   \n",
       "9   2020-T3     2           5             1       413    249      9   \n",
       "10  2020-T2     2           5             1       377    247      9   \n",
       "11  2020-T1     2           5             1       352    209      9   \n",
       "12  2019-T4     2           5           941       340    213      9   \n",
       "13  2019-T3     3           5           852       338    264      9   \n",
       "14  2019-T2     3           5           761       308    265      9   \n",
       "15  2019-T1     3           4           637       276    166      9   \n",
       "16  2018-T4     3           4           388       264    178      8   \n",
       "17  2018-T3     4           4           247       246     94      8   \n",
       "18  2018-T2     4           4           226       194     95      8   \n",
       "19  2018-T1     4           4           217       165     99      8   \n",
       "20  2017-T4     4           4           211       156    101      8   \n",
       "21  2017-T3     4           4           194       106    132      8   \n",
       "22  2017-T2     4           3           181        86     56      7   \n",
       "23  2017-T1     4           3           180        85     56      7   \n",
       "24  2016-T4     4           3           178        85     55      7   \n",
       "25  2016-T3     4           3           170        81     54      7   \n",
       "26  2016-T2     4           3           168        85     59      7   \n",
       "27  2016-T1     4           3           164        85     59      7   \n",
       "28  2015-T4     4           3           139        86     59      7   \n",
       "29  2015-T3     4           3           163        85     59      7   \n",
       "30  2015-T2     4           3           151        82     59      7   \n",
       "31  2015-T1     4           3           168        79     66      7   \n",
       "32  2014-T4     4           3           150        77     72      7   \n",
       "33  2014-T3     4           3           155        85     70      7   \n",
       "34  2014-T2     4           2           149        72     72      6   \n",
       "35  2014-T1     4           2           150        71     73      6   \n",
       "\n",
       "    Mbps (Media de bajada)    Trimestre.1  Ingresos (miles de pesos)  \n",
       "0                   10.656   Oct-Dic 2022                         72  \n",
       "1                    6.246  Jul-Sept 2022                         64  \n",
       "2                    5.844   Abr-Jun 2022                         60  \n",
       "3                    5.511   Ene-Mar 2022                         55  \n",
       "4                    5.234   Oct-Dic 2021                         45  \n",
       "5                    4.846  Jul-Sept 2021                         43  \n",
       "6                    4.563   Abr-Jun 2021                         38  \n",
       "7                    4.311   Ene-Mar 2021                         37  \n",
       "8                    4.236   Oct-Dic 2020                         34  \n",
       "9                    4.067  Jul-Sept 2020                         32  \n",
       "10                   3.832   Abr-Jun 2020                         32  \n",
       "11                   3.752   Ene-Mar 2020                         30  \n",
       "12                   2.826   Oct-Dic 2019                         24  \n",
       "13                   2.418  Jul-Sept 2019                         22  \n",
       "14                   2.033   Abr-Jun 2019                         21  \n",
       "15                   1.738   Ene-Mar 2019                         20  \n",
       "16                   1.595   Oct-Dic 2018                         17  \n",
       "17                   1.536  Jul-Sept 2018                         15  \n",
       "18                   1.385   Abr-Jun 2018                         14  \n",
       "19                   1.322   Ene-Mar 2018                         13  \n",
       "20                   1.201   Oct-Dic 2017                         11  \n",
       "21                 834.000  Jul-Sept 2017                         10  \n",
       "22                 716.000   Abr-Jun 2017                         10  \n",
       "23                 662.000   Ene-Mar 2017                          9  \n",
       "24                 634.000   Oct-Dic 2016                          7  \n",
       "25                 594.000  Jul-Sept 2016                          7  \n",
       "26                 542.000   Abr-Jun 2016                          7  \n",
       "27                 508.000   Ene-Mar 2016                          6  \n",
       "28                 499.000   Oct-Dic 2015                          5  \n",
       "29                 479.000  Jul-Sept 2015                          5  \n",
       "30                 455.000   Abr-Jun 2015                          5  \n",
       "31                 435.000   Ene-Mar 2015                          5  \n",
       "32                 416.000   Oct-Dic 2014                          4  \n",
       "33                 387.000  Jul-Sept 2014                          3  \n",
       "34                 376.000   Abr-Jun 2014                          3  \n",
       "35                 362.000   Ene-Mar 2014                          3  "
      ]
     },
     "execution_count": 1306,
     "metadata": {},
     "output_type": "execute_result"
    }
   ],
   "source": [
    "# modificamos la columna trimestre para que al unir con año no se confunda el numero de trimestre con mes del año\n",
    "DatosNacionales['Trimestre'] = DatosNacionales['Trimestre'].replace({'4':'T4'}, regex=True)\n",
    "DatosNacionales['Trimestre'] = DatosNacionales['Trimestre'].replace({'3':'T3'}, regex=True)\n",
    "DatosNacionales['Trimestre'] = DatosNacionales['Trimestre'].replace({'2':'T2'}, regex=True)\n",
    "DatosNacionales['Trimestre'] = DatosNacionales['Trimestre'].replace({'1':'T1'}, regex=True)\n",
    "\n",
    "# creamos una nueva columna que contenga el periodo año-trimestre\n",
    "DatosNacionales['Periodo'] = DatosNacionales['Año'] + '-' + DatosNacionales['Trimestre']\n",
    "DatosNacionales"
   ]
  },
  {
   "cell_type": "code",
   "execution_count": 1307,
   "metadata": {},
   "outputs": [
    {
     "data": {
      "text/html": [
       "<div>\n",
       "<style scoped>\n",
       "    .dataframe tbody tr th:only-of-type {\n",
       "        vertical-align: middle;\n",
       "    }\n",
       "\n",
       "    .dataframe tbody tr th {\n",
       "        vertical-align: top;\n",
       "    }\n",
       "\n",
       "    .dataframe thead th {\n",
       "        text-align: right;\n",
       "    }\n",
       "</style>\n",
       "<table border=\"1\" class=\"dataframe\">\n",
       "  <thead>\n",
       "    <tr style=\"text-align: right;\">\n",
       "      <th></th>\n",
       "      <th>Acceso_x_100_hogares</th>\n",
       "      <th>Periodo</th>\n",
       "      <th>ADSL</th>\n",
       "      <th>Cablemodem</th>\n",
       "      <th>Fibra óptica</th>\n",
       "      <th>Wireless</th>\n",
       "      <th>Otros</th>\n",
       "      <th>Mbps (Media de bajada)</th>\n",
       "      <th>Ingresos (miles de pesos)</th>\n",
       "    </tr>\n",
       "  </thead>\n",
       "  <tbody>\n",
       "    <tr>\n",
       "      <th>0</th>\n",
       "      <td>77.21</td>\n",
       "      <td>2022-T4</td>\n",
       "      <td>1</td>\n",
       "      <td>6</td>\n",
       "      <td>3</td>\n",
       "      <td>573</td>\n",
       "      <td>222</td>\n",
       "      <td>10.656</td>\n",
       "      <td>72</td>\n",
       "    </tr>\n",
       "    <tr>\n",
       "      <th>1</th>\n",
       "      <td>76.64</td>\n",
       "      <td>2022-T3</td>\n",
       "      <td>1</td>\n",
       "      <td>6</td>\n",
       "      <td>3</td>\n",
       "      <td>557</td>\n",
       "      <td>235</td>\n",
       "      <td>6.246</td>\n",
       "      <td>64</td>\n",
       "    </tr>\n",
       "    <tr>\n",
       "      <th>2</th>\n",
       "      <td>75.97</td>\n",
       "      <td>2022-T2</td>\n",
       "      <td>1</td>\n",
       "      <td>6</td>\n",
       "      <td>3</td>\n",
       "      <td>556</td>\n",
       "      <td>232</td>\n",
       "      <td>5.844</td>\n",
       "      <td>60</td>\n",
       "    </tr>\n",
       "    <tr>\n",
       "      <th>3</th>\n",
       "      <td>73.88</td>\n",
       "      <td>2022-T1</td>\n",
       "      <td>2</td>\n",
       "      <td>6</td>\n",
       "      <td>2</td>\n",
       "      <td>546</td>\n",
       "      <td>252</td>\n",
       "      <td>5.511</td>\n",
       "      <td>55</td>\n",
       "    </tr>\n",
       "    <tr>\n",
       "      <th>4</th>\n",
       "      <td>73.18</td>\n",
       "      <td>2021-T4</td>\n",
       "      <td>2</td>\n",
       "      <td>6</td>\n",
       "      <td>2</td>\n",
       "      <td>523</td>\n",
       "      <td>253</td>\n",
       "      <td>5.234</td>\n",
       "      <td>45</td>\n",
       "    </tr>\n",
       "    <tr>\n",
       "      <th>5</th>\n",
       "      <td>70.58</td>\n",
       "      <td>2021-T3</td>\n",
       "      <td>2</td>\n",
       "      <td>6</td>\n",
       "      <td>2</td>\n",
       "      <td>492</td>\n",
       "      <td>250</td>\n",
       "      <td>4.846</td>\n",
       "      <td>43</td>\n",
       "    </tr>\n",
       "    <tr>\n",
       "      <th>6</th>\n",
       "      <td>69.24</td>\n",
       "      <td>2021-T2</td>\n",
       "      <td>2</td>\n",
       "      <td>6</td>\n",
       "      <td>1</td>\n",
       "      <td>477</td>\n",
       "      <td>254</td>\n",
       "      <td>4.563</td>\n",
       "      <td>38</td>\n",
       "    </tr>\n",
       "    <tr>\n",
       "      <th>7</th>\n",
       "      <td>67.95</td>\n",
       "      <td>2021-T1</td>\n",
       "      <td>2</td>\n",
       "      <td>5</td>\n",
       "      <td>1</td>\n",
       "      <td>435</td>\n",
       "      <td>250</td>\n",
       "      <td>4.311</td>\n",
       "      <td>37</td>\n",
       "    </tr>\n",
       "    <tr>\n",
       "      <th>8</th>\n",
       "      <td>67.62</td>\n",
       "      <td>2020-T4</td>\n",
       "      <td>2</td>\n",
       "      <td>5</td>\n",
       "      <td>1</td>\n",
       "      <td>422</td>\n",
       "      <td>253</td>\n",
       "      <td>4.236</td>\n",
       "      <td>34</td>\n",
       "    </tr>\n",
       "    <tr>\n",
       "      <th>9</th>\n",
       "      <td>66.31</td>\n",
       "      <td>2020-T3</td>\n",
       "      <td>2</td>\n",
       "      <td>5</td>\n",
       "      <td>1</td>\n",
       "      <td>413</td>\n",
       "      <td>249</td>\n",
       "      <td>4.067</td>\n",
       "      <td>32</td>\n",
       "    </tr>\n",
       "    <tr>\n",
       "      <th>10</th>\n",
       "      <td>64.21</td>\n",
       "      <td>2020-T2</td>\n",
       "      <td>2</td>\n",
       "      <td>5</td>\n",
       "      <td>1</td>\n",
       "      <td>377</td>\n",
       "      <td>247</td>\n",
       "      <td>3.832</td>\n",
       "      <td>32</td>\n",
       "    </tr>\n",
       "    <tr>\n",
       "      <th>11</th>\n",
       "      <td>62.86</td>\n",
       "      <td>2020-T1</td>\n",
       "      <td>2</td>\n",
       "      <td>5</td>\n",
       "      <td>1</td>\n",
       "      <td>352</td>\n",
       "      <td>209</td>\n",
       "      <td>3.752</td>\n",
       "      <td>30</td>\n",
       "    </tr>\n",
       "    <tr>\n",
       "      <th>12</th>\n",
       "      <td>62.92</td>\n",
       "      <td>2019-T4</td>\n",
       "      <td>2</td>\n",
       "      <td>5</td>\n",
       "      <td>941</td>\n",
       "      <td>340</td>\n",
       "      <td>213</td>\n",
       "      <td>2.826</td>\n",
       "      <td>24</td>\n",
       "    </tr>\n",
       "    <tr>\n",
       "      <th>13</th>\n",
       "      <td>65.79</td>\n",
       "      <td>2019-T3</td>\n",
       "      <td>3</td>\n",
       "      <td>5</td>\n",
       "      <td>852</td>\n",
       "      <td>338</td>\n",
       "      <td>264</td>\n",
       "      <td>2.418</td>\n",
       "      <td>22</td>\n",
       "    </tr>\n",
       "    <tr>\n",
       "      <th>14</th>\n",
       "      <td>64.53</td>\n",
       "      <td>2019-T2</td>\n",
       "      <td>3</td>\n",
       "      <td>5</td>\n",
       "      <td>761</td>\n",
       "      <td>308</td>\n",
       "      <td>265</td>\n",
       "      <td>2.033</td>\n",
       "      <td>21</td>\n",
       "    </tr>\n",
       "    <tr>\n",
       "      <th>15</th>\n",
       "      <td>62.48</td>\n",
       "      <td>2019-T1</td>\n",
       "      <td>3</td>\n",
       "      <td>4</td>\n",
       "      <td>637</td>\n",
       "      <td>276</td>\n",
       "      <td>166</td>\n",
       "      <td>1.738</td>\n",
       "      <td>20</td>\n",
       "    </tr>\n",
       "    <tr>\n",
       "      <th>16</th>\n",
       "      <td>61.42</td>\n",
       "      <td>2018-T4</td>\n",
       "      <td>3</td>\n",
       "      <td>4</td>\n",
       "      <td>388</td>\n",
       "      <td>264</td>\n",
       "      <td>178</td>\n",
       "      <td>1.595</td>\n",
       "      <td>17</td>\n",
       "    </tr>\n",
       "    <tr>\n",
       "      <th>17</th>\n",
       "      <td>60.69</td>\n",
       "      <td>2018-T3</td>\n",
       "      <td>4</td>\n",
       "      <td>4</td>\n",
       "      <td>247</td>\n",
       "      <td>246</td>\n",
       "      <td>94</td>\n",
       "      <td>1.536</td>\n",
       "      <td>15</td>\n",
       "    </tr>\n",
       "    <tr>\n",
       "      <th>18</th>\n",
       "      <td>59.16</td>\n",
       "      <td>2018-T2</td>\n",
       "      <td>4</td>\n",
       "      <td>4</td>\n",
       "      <td>226</td>\n",
       "      <td>194</td>\n",
       "      <td>95</td>\n",
       "      <td>1.385</td>\n",
       "      <td>14</td>\n",
       "    </tr>\n",
       "    <tr>\n",
       "      <th>19</th>\n",
       "      <td>58.82</td>\n",
       "      <td>2018-T1</td>\n",
       "      <td>4</td>\n",
       "      <td>4</td>\n",
       "      <td>217</td>\n",
       "      <td>165</td>\n",
       "      <td>99</td>\n",
       "      <td>1.322</td>\n",
       "      <td>13</td>\n",
       "    </tr>\n",
       "    <tr>\n",
       "      <th>20</th>\n",
       "      <td>57.78</td>\n",
       "      <td>2017-T4</td>\n",
       "      <td>4</td>\n",
       "      <td>4</td>\n",
       "      <td>211</td>\n",
       "      <td>156</td>\n",
       "      <td>101</td>\n",
       "      <td>1.201</td>\n",
       "      <td>11</td>\n",
       "    </tr>\n",
       "    <tr>\n",
       "      <th>21</th>\n",
       "      <td>56.90</td>\n",
       "      <td>2017-T3</td>\n",
       "      <td>4</td>\n",
       "      <td>4</td>\n",
       "      <td>194</td>\n",
       "      <td>106</td>\n",
       "      <td>132</td>\n",
       "      <td>834.000</td>\n",
       "      <td>10</td>\n",
       "    </tr>\n",
       "    <tr>\n",
       "      <th>22</th>\n",
       "      <td>54.90</td>\n",
       "      <td>2017-T2</td>\n",
       "      <td>4</td>\n",
       "      <td>3</td>\n",
       "      <td>181</td>\n",
       "      <td>86</td>\n",
       "      <td>56</td>\n",
       "      <td>716.000</td>\n",
       "      <td>10</td>\n",
       "    </tr>\n",
       "    <tr>\n",
       "      <th>23</th>\n",
       "      <td>54.16</td>\n",
       "      <td>2017-T1</td>\n",
       "      <td>4</td>\n",
       "      <td>3</td>\n",
       "      <td>180</td>\n",
       "      <td>85</td>\n",
       "      <td>56</td>\n",
       "      <td>662.000</td>\n",
       "      <td>9</td>\n",
       "    </tr>\n",
       "    <tr>\n",
       "      <th>24</th>\n",
       "      <td>53.94</td>\n",
       "      <td>2016-T4</td>\n",
       "      <td>4</td>\n",
       "      <td>3</td>\n",
       "      <td>178</td>\n",
       "      <td>85</td>\n",
       "      <td>55</td>\n",
       "      <td>634.000</td>\n",
       "      <td>7</td>\n",
       "    </tr>\n",
       "    <tr>\n",
       "      <th>25</th>\n",
       "      <td>53.73</td>\n",
       "      <td>2016-T3</td>\n",
       "      <td>4</td>\n",
       "      <td>3</td>\n",
       "      <td>170</td>\n",
       "      <td>81</td>\n",
       "      <td>54</td>\n",
       "      <td>594.000</td>\n",
       "      <td>7</td>\n",
       "    </tr>\n",
       "    <tr>\n",
       "      <th>26</th>\n",
       "      <td>53.34</td>\n",
       "      <td>2016-T2</td>\n",
       "      <td>4</td>\n",
       "      <td>3</td>\n",
       "      <td>168</td>\n",
       "      <td>85</td>\n",
       "      <td>59</td>\n",
       "      <td>542.000</td>\n",
       "      <td>7</td>\n",
       "    </tr>\n",
       "    <tr>\n",
       "      <th>27</th>\n",
       "      <td>51.85</td>\n",
       "      <td>2016-T1</td>\n",
       "      <td>4</td>\n",
       "      <td>3</td>\n",
       "      <td>164</td>\n",
       "      <td>85</td>\n",
       "      <td>59</td>\n",
       "      <td>508.000</td>\n",
       "      <td>6</td>\n",
       "    </tr>\n",
       "    <tr>\n",
       "      <th>28</th>\n",
       "      <td>52.63</td>\n",
       "      <td>2015-T4</td>\n",
       "      <td>4</td>\n",
       "      <td>3</td>\n",
       "      <td>139</td>\n",
       "      <td>86</td>\n",
       "      <td>59</td>\n",
       "      <td>499.000</td>\n",
       "      <td>5</td>\n",
       "    </tr>\n",
       "    <tr>\n",
       "      <th>29</th>\n",
       "      <td>52.46</td>\n",
       "      <td>2015-T3</td>\n",
       "      <td>4</td>\n",
       "      <td>3</td>\n",
       "      <td>163</td>\n",
       "      <td>85</td>\n",
       "      <td>59</td>\n",
       "      <td>479.000</td>\n",
       "      <td>5</td>\n",
       "    </tr>\n",
       "    <tr>\n",
       "      <th>30</th>\n",
       "      <td>51.76</td>\n",
       "      <td>2015-T2</td>\n",
       "      <td>4</td>\n",
       "      <td>3</td>\n",
       "      <td>151</td>\n",
       "      <td>82</td>\n",
       "      <td>59</td>\n",
       "      <td>455.000</td>\n",
       "      <td>5</td>\n",
       "    </tr>\n",
       "    <tr>\n",
       "      <th>31</th>\n",
       "      <td>51.36</td>\n",
       "      <td>2015-T1</td>\n",
       "      <td>4</td>\n",
       "      <td>3</td>\n",
       "      <td>168</td>\n",
       "      <td>79</td>\n",
       "      <td>66</td>\n",
       "      <td>435.000</td>\n",
       "      <td>5</td>\n",
       "    </tr>\n",
       "    <tr>\n",
       "      <th>32</th>\n",
       "      <td>50.50</td>\n",
       "      <td>2014-T4</td>\n",
       "      <td>4</td>\n",
       "      <td>3</td>\n",
       "      <td>150</td>\n",
       "      <td>77</td>\n",
       "      <td>72</td>\n",
       "      <td>416.000</td>\n",
       "      <td>4</td>\n",
       "    </tr>\n",
       "    <tr>\n",
       "      <th>33</th>\n",
       "      <td>50.67</td>\n",
       "      <td>2014-T3</td>\n",
       "      <td>4</td>\n",
       "      <td>3</td>\n",
       "      <td>155</td>\n",
       "      <td>85</td>\n",
       "      <td>70</td>\n",
       "      <td>387.000</td>\n",
       "      <td>3</td>\n",
       "    </tr>\n",
       "    <tr>\n",
       "      <th>34</th>\n",
       "      <td>49.86</td>\n",
       "      <td>2014-T2</td>\n",
       "      <td>4</td>\n",
       "      <td>2</td>\n",
       "      <td>149</td>\n",
       "      <td>72</td>\n",
       "      <td>72</td>\n",
       "      <td>376.000</td>\n",
       "      <td>3</td>\n",
       "    </tr>\n",
       "    <tr>\n",
       "      <th>35</th>\n",
       "      <td>49.55</td>\n",
       "      <td>2014-T1</td>\n",
       "      <td>4</td>\n",
       "      <td>2</td>\n",
       "      <td>150</td>\n",
       "      <td>71</td>\n",
       "      <td>73</td>\n",
       "      <td>362.000</td>\n",
       "      <td>3</td>\n",
       "    </tr>\n",
       "  </tbody>\n",
       "</table>\n",
       "</div>"
      ],
      "text/plain": [
       "    Acceso_x_100_hogares  Periodo  ADSL  Cablemodem  Fibra óptica  Wireless  \\\n",
       "0                  77.21  2022-T4     1           6             3       573   \n",
       "1                  76.64  2022-T3     1           6             3       557   \n",
       "2                  75.97  2022-T2     1           6             3       556   \n",
       "3                  73.88  2022-T1     2           6             2       546   \n",
       "4                  73.18  2021-T4     2           6             2       523   \n",
       "5                  70.58  2021-T3     2           6             2       492   \n",
       "6                  69.24  2021-T2     2           6             1       477   \n",
       "7                  67.95  2021-T1     2           5             1       435   \n",
       "8                  67.62  2020-T4     2           5             1       422   \n",
       "9                  66.31  2020-T3     2           5             1       413   \n",
       "10                 64.21  2020-T2     2           5             1       377   \n",
       "11                 62.86  2020-T1     2           5             1       352   \n",
       "12                 62.92  2019-T4     2           5           941       340   \n",
       "13                 65.79  2019-T3     3           5           852       338   \n",
       "14                 64.53  2019-T2     3           5           761       308   \n",
       "15                 62.48  2019-T1     3           4           637       276   \n",
       "16                 61.42  2018-T4     3           4           388       264   \n",
       "17                 60.69  2018-T3     4           4           247       246   \n",
       "18                 59.16  2018-T2     4           4           226       194   \n",
       "19                 58.82  2018-T1     4           4           217       165   \n",
       "20                 57.78  2017-T4     4           4           211       156   \n",
       "21                 56.90  2017-T3     4           4           194       106   \n",
       "22                 54.90  2017-T2     4           3           181        86   \n",
       "23                 54.16  2017-T1     4           3           180        85   \n",
       "24                 53.94  2016-T4     4           3           178        85   \n",
       "25                 53.73  2016-T3     4           3           170        81   \n",
       "26                 53.34  2016-T2     4           3           168        85   \n",
       "27                 51.85  2016-T1     4           3           164        85   \n",
       "28                 52.63  2015-T4     4           3           139        86   \n",
       "29                 52.46  2015-T3     4           3           163        85   \n",
       "30                 51.76  2015-T2     4           3           151        82   \n",
       "31                 51.36  2015-T1     4           3           168        79   \n",
       "32                 50.50  2014-T4     4           3           150        77   \n",
       "33                 50.67  2014-T3     4           3           155        85   \n",
       "34                 49.86  2014-T2     4           2           149        72   \n",
       "35                 49.55  2014-T1     4           2           150        71   \n",
       "\n",
       "    Otros  Mbps (Media de bajada)  Ingresos (miles de pesos)  \n",
       "0     222                  10.656                         72  \n",
       "1     235                   6.246                         64  \n",
       "2     232                   5.844                         60  \n",
       "3     252                   5.511                         55  \n",
       "4     253                   5.234                         45  \n",
       "5     250                   4.846                         43  \n",
       "6     254                   4.563                         38  \n",
       "7     250                   4.311                         37  \n",
       "8     253                   4.236                         34  \n",
       "9     249                   4.067                         32  \n",
       "10    247                   3.832                         32  \n",
       "11    209                   3.752                         30  \n",
       "12    213                   2.826                         24  \n",
       "13    264                   2.418                         22  \n",
       "14    265                   2.033                         21  \n",
       "15    166                   1.738                         20  \n",
       "16    178                   1.595                         17  \n",
       "17     94                   1.536                         15  \n",
       "18     95                   1.385                         14  \n",
       "19     99                   1.322                         13  \n",
       "20    101                   1.201                         11  \n",
       "21    132                 834.000                         10  \n",
       "22     56                 716.000                         10  \n",
       "23     56                 662.000                          9  \n",
       "24     55                 634.000                          7  \n",
       "25     54                 594.000                          7  \n",
       "26     59                 542.000                          7  \n",
       "27     59                 508.000                          6  \n",
       "28     59                 499.000                          5  \n",
       "29     59                 479.000                          5  \n",
       "30     59                 455.000                          5  \n",
       "31     66                 435.000                          5  \n",
       "32     72                 416.000                          4  \n",
       "33     70                 387.000                          3  \n",
       "34     72                 376.000                          3  \n",
       "35     73                 362.000                          3  "
      ]
     },
     "execution_count": 1307,
     "metadata": {},
     "output_type": "execute_result"
    }
   ],
   "source": [
    "# eliminamos las columnas que ya no nos sirven\n",
    "DatosNacionales = DatosNacionales.drop(['Año', 'Trimestre', 'Trimestre.1','Accesos por cada 100 hab','Total'], axis=1)\n",
    "DatosNacionales.rename(columns={ 'Accesos por cada 100 hogares': 'Acceso_x_100_hogares' }, inplace=True)\n",
    "\n",
    "# reemplazamos la ',' por '.' y cambiamos la columna de accesos por 100 a float\n",
    "DatosNacionales['Acceso_x_100_hogares'] = DatosNacionales['Acceso_x_100_hogares'].replace({',':'.'}, regex=True)\n",
    "DatosNacionales[[\"Acceso_x_100_hogares\"]] = DatosNacionales[[\"Acceso_x_100_hogares\"]].astype(float)\n",
    "DatosNacionales"
   ]
  },
  {
   "cell_type": "code",
   "execution_count": 1308,
   "metadata": {},
   "outputs": [
    {
     "data": {
      "text/html": [
       "<div>\n",
       "<style scoped>\n",
       "    .dataframe tbody tr th:only-of-type {\n",
       "        vertical-align: middle;\n",
       "    }\n",
       "\n",
       "    .dataframe tbody tr th {\n",
       "        vertical-align: top;\n",
       "    }\n",
       "\n",
       "    .dataframe thead th {\n",
       "        text-align: right;\n",
       "    }\n",
       "</style>\n",
       "<table border=\"1\" class=\"dataframe\">\n",
       "  <thead>\n",
       "    <tr style=\"text-align: right;\">\n",
       "      <th></th>\n",
       "      <th>Acceso_x_100_hogares</th>\n",
       "      <th>ADSL</th>\n",
       "      <th>Cablemodem</th>\n",
       "      <th>Fibra óptica</th>\n",
       "      <th>Wireless</th>\n",
       "      <th>Otros</th>\n",
       "      <th>Mbps (Media de bajada)</th>\n",
       "      <th>Ingresos (miles de pesos)</th>\n",
       "    </tr>\n",
       "    <tr>\n",
       "      <th>Periodo</th>\n",
       "      <th></th>\n",
       "      <th></th>\n",
       "      <th></th>\n",
       "      <th></th>\n",
       "      <th></th>\n",
       "      <th></th>\n",
       "      <th></th>\n",
       "      <th></th>\n",
       "    </tr>\n",
       "  </thead>\n",
       "  <tbody>\n",
       "    <tr>\n",
       "      <th>2014-T1</th>\n",
       "      <td>49.55</td>\n",
       "      <td>4</td>\n",
       "      <td>2</td>\n",
       "      <td>150</td>\n",
       "      <td>71</td>\n",
       "      <td>73</td>\n",
       "      <td>362.000</td>\n",
       "      <td>3</td>\n",
       "    </tr>\n",
       "    <tr>\n",
       "      <th>2014-T2</th>\n",
       "      <td>49.86</td>\n",
       "      <td>4</td>\n",
       "      <td>2</td>\n",
       "      <td>149</td>\n",
       "      <td>72</td>\n",
       "      <td>72</td>\n",
       "      <td>376.000</td>\n",
       "      <td>3</td>\n",
       "    </tr>\n",
       "    <tr>\n",
       "      <th>2014-T3</th>\n",
       "      <td>50.67</td>\n",
       "      <td>4</td>\n",
       "      <td>3</td>\n",
       "      <td>155</td>\n",
       "      <td>85</td>\n",
       "      <td>70</td>\n",
       "      <td>387.000</td>\n",
       "      <td>3</td>\n",
       "    </tr>\n",
       "    <tr>\n",
       "      <th>2014-T4</th>\n",
       "      <td>50.50</td>\n",
       "      <td>4</td>\n",
       "      <td>3</td>\n",
       "      <td>150</td>\n",
       "      <td>77</td>\n",
       "      <td>72</td>\n",
       "      <td>416.000</td>\n",
       "      <td>4</td>\n",
       "    </tr>\n",
       "    <tr>\n",
       "      <th>2015-T1</th>\n",
       "      <td>51.36</td>\n",
       "      <td>4</td>\n",
       "      <td>3</td>\n",
       "      <td>168</td>\n",
       "      <td>79</td>\n",
       "      <td>66</td>\n",
       "      <td>435.000</td>\n",
       "      <td>5</td>\n",
       "    </tr>\n",
       "    <tr>\n",
       "      <th>2015-T2</th>\n",
       "      <td>51.76</td>\n",
       "      <td>4</td>\n",
       "      <td>3</td>\n",
       "      <td>151</td>\n",
       "      <td>82</td>\n",
       "      <td>59</td>\n",
       "      <td>455.000</td>\n",
       "      <td>5</td>\n",
       "    </tr>\n",
       "    <tr>\n",
       "      <th>2015-T3</th>\n",
       "      <td>52.46</td>\n",
       "      <td>4</td>\n",
       "      <td>3</td>\n",
       "      <td>163</td>\n",
       "      <td>85</td>\n",
       "      <td>59</td>\n",
       "      <td>479.000</td>\n",
       "      <td>5</td>\n",
       "    </tr>\n",
       "    <tr>\n",
       "      <th>2015-T4</th>\n",
       "      <td>52.63</td>\n",
       "      <td>4</td>\n",
       "      <td>3</td>\n",
       "      <td>139</td>\n",
       "      <td>86</td>\n",
       "      <td>59</td>\n",
       "      <td>499.000</td>\n",
       "      <td>5</td>\n",
       "    </tr>\n",
       "    <tr>\n",
       "      <th>2016-T1</th>\n",
       "      <td>51.85</td>\n",
       "      <td>4</td>\n",
       "      <td>3</td>\n",
       "      <td>164</td>\n",
       "      <td>85</td>\n",
       "      <td>59</td>\n",
       "      <td>508.000</td>\n",
       "      <td>6</td>\n",
       "    </tr>\n",
       "    <tr>\n",
       "      <th>2016-T2</th>\n",
       "      <td>53.34</td>\n",
       "      <td>4</td>\n",
       "      <td>3</td>\n",
       "      <td>168</td>\n",
       "      <td>85</td>\n",
       "      <td>59</td>\n",
       "      <td>542.000</td>\n",
       "      <td>7</td>\n",
       "    </tr>\n",
       "    <tr>\n",
       "      <th>2016-T3</th>\n",
       "      <td>53.73</td>\n",
       "      <td>4</td>\n",
       "      <td>3</td>\n",
       "      <td>170</td>\n",
       "      <td>81</td>\n",
       "      <td>54</td>\n",
       "      <td>594.000</td>\n",
       "      <td>7</td>\n",
       "    </tr>\n",
       "    <tr>\n",
       "      <th>2016-T4</th>\n",
       "      <td>53.94</td>\n",
       "      <td>4</td>\n",
       "      <td>3</td>\n",
       "      <td>178</td>\n",
       "      <td>85</td>\n",
       "      <td>55</td>\n",
       "      <td>634.000</td>\n",
       "      <td>7</td>\n",
       "    </tr>\n",
       "    <tr>\n",
       "      <th>2017-T1</th>\n",
       "      <td>54.16</td>\n",
       "      <td>4</td>\n",
       "      <td>3</td>\n",
       "      <td>180</td>\n",
       "      <td>85</td>\n",
       "      <td>56</td>\n",
       "      <td>662.000</td>\n",
       "      <td>9</td>\n",
       "    </tr>\n",
       "    <tr>\n",
       "      <th>2017-T2</th>\n",
       "      <td>54.90</td>\n",
       "      <td>4</td>\n",
       "      <td>3</td>\n",
       "      <td>181</td>\n",
       "      <td>86</td>\n",
       "      <td>56</td>\n",
       "      <td>716.000</td>\n",
       "      <td>10</td>\n",
       "    </tr>\n",
       "    <tr>\n",
       "      <th>2017-T3</th>\n",
       "      <td>56.90</td>\n",
       "      <td>4</td>\n",
       "      <td>4</td>\n",
       "      <td>194</td>\n",
       "      <td>106</td>\n",
       "      <td>132</td>\n",
       "      <td>834.000</td>\n",
       "      <td>10</td>\n",
       "    </tr>\n",
       "    <tr>\n",
       "      <th>2017-T4</th>\n",
       "      <td>57.78</td>\n",
       "      <td>4</td>\n",
       "      <td>4</td>\n",
       "      <td>211</td>\n",
       "      <td>156</td>\n",
       "      <td>101</td>\n",
       "      <td>1.201</td>\n",
       "      <td>11</td>\n",
       "    </tr>\n",
       "    <tr>\n",
       "      <th>2018-T1</th>\n",
       "      <td>58.82</td>\n",
       "      <td>4</td>\n",
       "      <td>4</td>\n",
       "      <td>217</td>\n",
       "      <td>165</td>\n",
       "      <td>99</td>\n",
       "      <td>1.322</td>\n",
       "      <td>13</td>\n",
       "    </tr>\n",
       "    <tr>\n",
       "      <th>2018-T2</th>\n",
       "      <td>59.16</td>\n",
       "      <td>4</td>\n",
       "      <td>4</td>\n",
       "      <td>226</td>\n",
       "      <td>194</td>\n",
       "      <td>95</td>\n",
       "      <td>1.385</td>\n",
       "      <td>14</td>\n",
       "    </tr>\n",
       "    <tr>\n",
       "      <th>2018-T3</th>\n",
       "      <td>60.69</td>\n",
       "      <td>4</td>\n",
       "      <td>4</td>\n",
       "      <td>247</td>\n",
       "      <td>246</td>\n",
       "      <td>94</td>\n",
       "      <td>1.536</td>\n",
       "      <td>15</td>\n",
       "    </tr>\n",
       "    <tr>\n",
       "      <th>2018-T4</th>\n",
       "      <td>61.42</td>\n",
       "      <td>3</td>\n",
       "      <td>4</td>\n",
       "      <td>388</td>\n",
       "      <td>264</td>\n",
       "      <td>178</td>\n",
       "      <td>1.595</td>\n",
       "      <td>17</td>\n",
       "    </tr>\n",
       "    <tr>\n",
       "      <th>2019-T1</th>\n",
       "      <td>62.48</td>\n",
       "      <td>3</td>\n",
       "      <td>4</td>\n",
       "      <td>637</td>\n",
       "      <td>276</td>\n",
       "      <td>166</td>\n",
       "      <td>1.738</td>\n",
       "      <td>20</td>\n",
       "    </tr>\n",
       "    <tr>\n",
       "      <th>2019-T2</th>\n",
       "      <td>64.53</td>\n",
       "      <td>3</td>\n",
       "      <td>5</td>\n",
       "      <td>761</td>\n",
       "      <td>308</td>\n",
       "      <td>265</td>\n",
       "      <td>2.033</td>\n",
       "      <td>21</td>\n",
       "    </tr>\n",
       "    <tr>\n",
       "      <th>2019-T3</th>\n",
       "      <td>65.79</td>\n",
       "      <td>3</td>\n",
       "      <td>5</td>\n",
       "      <td>852</td>\n",
       "      <td>338</td>\n",
       "      <td>264</td>\n",
       "      <td>2.418</td>\n",
       "      <td>22</td>\n",
       "    </tr>\n",
       "    <tr>\n",
       "      <th>2019-T4</th>\n",
       "      <td>62.92</td>\n",
       "      <td>2</td>\n",
       "      <td>5</td>\n",
       "      <td>941</td>\n",
       "      <td>340</td>\n",
       "      <td>213</td>\n",
       "      <td>2.826</td>\n",
       "      <td>24</td>\n",
       "    </tr>\n",
       "    <tr>\n",
       "      <th>2020-T1</th>\n",
       "      <td>62.86</td>\n",
       "      <td>2</td>\n",
       "      <td>5</td>\n",
       "      <td>1</td>\n",
       "      <td>352</td>\n",
       "      <td>209</td>\n",
       "      <td>3.752</td>\n",
       "      <td>30</td>\n",
       "    </tr>\n",
       "    <tr>\n",
       "      <th>2020-T2</th>\n",
       "      <td>64.21</td>\n",
       "      <td>2</td>\n",
       "      <td>5</td>\n",
       "      <td>1</td>\n",
       "      <td>377</td>\n",
       "      <td>247</td>\n",
       "      <td>3.832</td>\n",
       "      <td>32</td>\n",
       "    </tr>\n",
       "    <tr>\n",
       "      <th>2020-T3</th>\n",
       "      <td>66.31</td>\n",
       "      <td>2</td>\n",
       "      <td>5</td>\n",
       "      <td>1</td>\n",
       "      <td>413</td>\n",
       "      <td>249</td>\n",
       "      <td>4.067</td>\n",
       "      <td>32</td>\n",
       "    </tr>\n",
       "    <tr>\n",
       "      <th>2020-T4</th>\n",
       "      <td>67.62</td>\n",
       "      <td>2</td>\n",
       "      <td>5</td>\n",
       "      <td>1</td>\n",
       "      <td>422</td>\n",
       "      <td>253</td>\n",
       "      <td>4.236</td>\n",
       "      <td>34</td>\n",
       "    </tr>\n",
       "    <tr>\n",
       "      <th>2021-T1</th>\n",
       "      <td>67.95</td>\n",
       "      <td>2</td>\n",
       "      <td>5</td>\n",
       "      <td>1</td>\n",
       "      <td>435</td>\n",
       "      <td>250</td>\n",
       "      <td>4.311</td>\n",
       "      <td>37</td>\n",
       "    </tr>\n",
       "    <tr>\n",
       "      <th>2021-T2</th>\n",
       "      <td>69.24</td>\n",
       "      <td>2</td>\n",
       "      <td>6</td>\n",
       "      <td>1</td>\n",
       "      <td>477</td>\n",
       "      <td>254</td>\n",
       "      <td>4.563</td>\n",
       "      <td>38</td>\n",
       "    </tr>\n",
       "    <tr>\n",
       "      <th>2021-T3</th>\n",
       "      <td>70.58</td>\n",
       "      <td>2</td>\n",
       "      <td>6</td>\n",
       "      <td>2</td>\n",
       "      <td>492</td>\n",
       "      <td>250</td>\n",
       "      <td>4.846</td>\n",
       "      <td>43</td>\n",
       "    </tr>\n",
       "    <tr>\n",
       "      <th>2021-T4</th>\n",
       "      <td>73.18</td>\n",
       "      <td>2</td>\n",
       "      <td>6</td>\n",
       "      <td>2</td>\n",
       "      <td>523</td>\n",
       "      <td>253</td>\n",
       "      <td>5.234</td>\n",
       "      <td>45</td>\n",
       "    </tr>\n",
       "    <tr>\n",
       "      <th>2022-T1</th>\n",
       "      <td>73.88</td>\n",
       "      <td>2</td>\n",
       "      <td>6</td>\n",
       "      <td>2</td>\n",
       "      <td>546</td>\n",
       "      <td>252</td>\n",
       "      <td>5.511</td>\n",
       "      <td>55</td>\n",
       "    </tr>\n",
       "    <tr>\n",
       "      <th>2022-T2</th>\n",
       "      <td>75.97</td>\n",
       "      <td>1</td>\n",
       "      <td>6</td>\n",
       "      <td>3</td>\n",
       "      <td>556</td>\n",
       "      <td>232</td>\n",
       "      <td>5.844</td>\n",
       "      <td>60</td>\n",
       "    </tr>\n",
       "    <tr>\n",
       "      <th>2022-T3</th>\n",
       "      <td>76.64</td>\n",
       "      <td>1</td>\n",
       "      <td>6</td>\n",
       "      <td>3</td>\n",
       "      <td>557</td>\n",
       "      <td>235</td>\n",
       "      <td>6.246</td>\n",
       "      <td>64</td>\n",
       "    </tr>\n",
       "    <tr>\n",
       "      <th>2022-T4</th>\n",
       "      <td>77.21</td>\n",
       "      <td>1</td>\n",
       "      <td>6</td>\n",
       "      <td>3</td>\n",
       "      <td>573</td>\n",
       "      <td>222</td>\n",
       "      <td>10.656</td>\n",
       "      <td>72</td>\n",
       "    </tr>\n",
       "  </tbody>\n",
       "</table>\n",
       "</div>"
      ],
      "text/plain": [
       "         Acceso_x_100_hogares  ADSL  Cablemodem  Fibra óptica  Wireless  \\\n",
       "Periodo                                                                   \n",
       "2014-T1                 49.55     4           2           150        71   \n",
       "2014-T2                 49.86     4           2           149        72   \n",
       "2014-T3                 50.67     4           3           155        85   \n",
       "2014-T4                 50.50     4           3           150        77   \n",
       "2015-T1                 51.36     4           3           168        79   \n",
       "2015-T2                 51.76     4           3           151        82   \n",
       "2015-T3                 52.46     4           3           163        85   \n",
       "2015-T4                 52.63     4           3           139        86   \n",
       "2016-T1                 51.85     4           3           164        85   \n",
       "2016-T2                 53.34     4           3           168        85   \n",
       "2016-T3                 53.73     4           3           170        81   \n",
       "2016-T4                 53.94     4           3           178        85   \n",
       "2017-T1                 54.16     4           3           180        85   \n",
       "2017-T2                 54.90     4           3           181        86   \n",
       "2017-T3                 56.90     4           4           194       106   \n",
       "2017-T4                 57.78     4           4           211       156   \n",
       "2018-T1                 58.82     4           4           217       165   \n",
       "2018-T2                 59.16     4           4           226       194   \n",
       "2018-T3                 60.69     4           4           247       246   \n",
       "2018-T4                 61.42     3           4           388       264   \n",
       "2019-T1                 62.48     3           4           637       276   \n",
       "2019-T2                 64.53     3           5           761       308   \n",
       "2019-T3                 65.79     3           5           852       338   \n",
       "2019-T4                 62.92     2           5           941       340   \n",
       "2020-T1                 62.86     2           5             1       352   \n",
       "2020-T2                 64.21     2           5             1       377   \n",
       "2020-T3                 66.31     2           5             1       413   \n",
       "2020-T4                 67.62     2           5             1       422   \n",
       "2021-T1                 67.95     2           5             1       435   \n",
       "2021-T2                 69.24     2           6             1       477   \n",
       "2021-T3                 70.58     2           6             2       492   \n",
       "2021-T4                 73.18     2           6             2       523   \n",
       "2022-T1                 73.88     2           6             2       546   \n",
       "2022-T2                 75.97     1           6             3       556   \n",
       "2022-T3                 76.64     1           6             3       557   \n",
       "2022-T4                 77.21     1           6             3       573   \n",
       "\n",
       "         Otros  Mbps (Media de bajada)  Ingresos (miles de pesos)  \n",
       "Periodo                                                            \n",
       "2014-T1     73                 362.000                          3  \n",
       "2014-T2     72                 376.000                          3  \n",
       "2014-T3     70                 387.000                          3  \n",
       "2014-T4     72                 416.000                          4  \n",
       "2015-T1     66                 435.000                          5  \n",
       "2015-T2     59                 455.000                          5  \n",
       "2015-T3     59                 479.000                          5  \n",
       "2015-T4     59                 499.000                          5  \n",
       "2016-T1     59                 508.000                          6  \n",
       "2016-T2     59                 542.000                          7  \n",
       "2016-T3     54                 594.000                          7  \n",
       "2016-T4     55                 634.000                          7  \n",
       "2017-T1     56                 662.000                          9  \n",
       "2017-T2     56                 716.000                         10  \n",
       "2017-T3    132                 834.000                         10  \n",
       "2017-T4    101                   1.201                         11  \n",
       "2018-T1     99                   1.322                         13  \n",
       "2018-T2     95                   1.385                         14  \n",
       "2018-T3     94                   1.536                         15  \n",
       "2018-T4    178                   1.595                         17  \n",
       "2019-T1    166                   1.738                         20  \n",
       "2019-T2    265                   2.033                         21  \n",
       "2019-T3    264                   2.418                         22  \n",
       "2019-T4    213                   2.826                         24  \n",
       "2020-T1    209                   3.752                         30  \n",
       "2020-T2    247                   3.832                         32  \n",
       "2020-T3    249                   4.067                         32  \n",
       "2020-T4    253                   4.236                         34  \n",
       "2021-T1    250                   4.311                         37  \n",
       "2021-T2    254                   4.563                         38  \n",
       "2021-T3    250                   4.846                         43  \n",
       "2021-T4    253                   5.234                         45  \n",
       "2022-T1    252                   5.511                         55  \n",
       "2022-T2    232                   5.844                         60  \n",
       "2022-T3    235                   6.246                         64  \n",
       "2022-T4    222                  10.656                         72  "
      ]
     },
     "execution_count": 1308,
     "metadata": {},
     "output_type": "execute_result"
    }
   ],
   "source": [
    "DatosNacionales.set_index('Periodo', inplace=True)\n",
    "DatosNacionales = DatosNacionales.sort_values('Periodo', ascending=True)\n",
    "DatosNacionales.to_csv('Datasets/DatosNacionales.csv')\n",
    "DatosNacionales"
   ]
  },
  {
   "cell_type": "code",
   "execution_count": 1309,
   "metadata": {},
   "outputs": [
    {
     "data": {
      "text/html": [
       "<div>\n",
       "<style scoped>\n",
       "    .dataframe tbody tr th:only-of-type {\n",
       "        vertical-align: middle;\n",
       "    }\n",
       "\n",
       "    .dataframe tbody tr th {\n",
       "        vertical-align: top;\n",
       "    }\n",
       "\n",
       "    .dataframe thead th {\n",
       "        text-align: right;\n",
       "    }\n",
       "</style>\n",
       "<table border=\"1\" class=\"dataframe\">\n",
       "  <thead>\n",
       "    <tr style=\"text-align: right;\">\n",
       "      <th></th>\n",
       "      <th>Acceso_x_100_hogares</th>\n",
       "      <th>Ingresos (miles de pesos)</th>\n",
       "    </tr>\n",
       "    <tr>\n",
       "      <th>Periodo</th>\n",
       "      <th></th>\n",
       "      <th></th>\n",
       "    </tr>\n",
       "  </thead>\n",
       "  <tbody>\n",
       "    <tr>\n",
       "      <th>2014-T1</th>\n",
       "      <td>49.55</td>\n",
       "      <td>3</td>\n",
       "    </tr>\n",
       "    <tr>\n",
       "      <th>2014-T2</th>\n",
       "      <td>49.86</td>\n",
       "      <td>3</td>\n",
       "    </tr>\n",
       "    <tr>\n",
       "      <th>2014-T3</th>\n",
       "      <td>50.67</td>\n",
       "      <td>3</td>\n",
       "    </tr>\n",
       "    <tr>\n",
       "      <th>2014-T4</th>\n",
       "      <td>50.50</td>\n",
       "      <td>4</td>\n",
       "    </tr>\n",
       "    <tr>\n",
       "      <th>2015-T1</th>\n",
       "      <td>51.36</td>\n",
       "      <td>5</td>\n",
       "    </tr>\n",
       "    <tr>\n",
       "      <th>2015-T2</th>\n",
       "      <td>51.76</td>\n",
       "      <td>5</td>\n",
       "    </tr>\n",
       "    <tr>\n",
       "      <th>2015-T3</th>\n",
       "      <td>52.46</td>\n",
       "      <td>5</td>\n",
       "    </tr>\n",
       "    <tr>\n",
       "      <th>2015-T4</th>\n",
       "      <td>52.63</td>\n",
       "      <td>5</td>\n",
       "    </tr>\n",
       "    <tr>\n",
       "      <th>2016-T1</th>\n",
       "      <td>51.85</td>\n",
       "      <td>6</td>\n",
       "    </tr>\n",
       "    <tr>\n",
       "      <th>2016-T2</th>\n",
       "      <td>53.34</td>\n",
       "      <td>7</td>\n",
       "    </tr>\n",
       "    <tr>\n",
       "      <th>2016-T3</th>\n",
       "      <td>53.73</td>\n",
       "      <td>7</td>\n",
       "    </tr>\n",
       "    <tr>\n",
       "      <th>2016-T4</th>\n",
       "      <td>53.94</td>\n",
       "      <td>7</td>\n",
       "    </tr>\n",
       "    <tr>\n",
       "      <th>2017-T1</th>\n",
       "      <td>54.16</td>\n",
       "      <td>9</td>\n",
       "    </tr>\n",
       "    <tr>\n",
       "      <th>2017-T2</th>\n",
       "      <td>54.90</td>\n",
       "      <td>10</td>\n",
       "    </tr>\n",
       "    <tr>\n",
       "      <th>2017-T3</th>\n",
       "      <td>56.90</td>\n",
       "      <td>10</td>\n",
       "    </tr>\n",
       "    <tr>\n",
       "      <th>2017-T4</th>\n",
       "      <td>57.78</td>\n",
       "      <td>11</td>\n",
       "    </tr>\n",
       "    <tr>\n",
       "      <th>2018-T1</th>\n",
       "      <td>58.82</td>\n",
       "      <td>13</td>\n",
       "    </tr>\n",
       "    <tr>\n",
       "      <th>2018-T2</th>\n",
       "      <td>59.16</td>\n",
       "      <td>14</td>\n",
       "    </tr>\n",
       "    <tr>\n",
       "      <th>2018-T3</th>\n",
       "      <td>60.69</td>\n",
       "      <td>15</td>\n",
       "    </tr>\n",
       "    <tr>\n",
       "      <th>2018-T4</th>\n",
       "      <td>61.42</td>\n",
       "      <td>17</td>\n",
       "    </tr>\n",
       "    <tr>\n",
       "      <th>2019-T1</th>\n",
       "      <td>62.48</td>\n",
       "      <td>20</td>\n",
       "    </tr>\n",
       "    <tr>\n",
       "      <th>2019-T2</th>\n",
       "      <td>64.53</td>\n",
       "      <td>21</td>\n",
       "    </tr>\n",
       "    <tr>\n",
       "      <th>2019-T3</th>\n",
       "      <td>65.79</td>\n",
       "      <td>22</td>\n",
       "    </tr>\n",
       "    <tr>\n",
       "      <th>2019-T4</th>\n",
       "      <td>62.92</td>\n",
       "      <td>24</td>\n",
       "    </tr>\n",
       "    <tr>\n",
       "      <th>2020-T1</th>\n",
       "      <td>62.86</td>\n",
       "      <td>30</td>\n",
       "    </tr>\n",
       "    <tr>\n",
       "      <th>2020-T2</th>\n",
       "      <td>64.21</td>\n",
       "      <td>32</td>\n",
       "    </tr>\n",
       "    <tr>\n",
       "      <th>2020-T3</th>\n",
       "      <td>66.31</td>\n",
       "      <td>32</td>\n",
       "    </tr>\n",
       "    <tr>\n",
       "      <th>2020-T4</th>\n",
       "      <td>67.62</td>\n",
       "      <td>34</td>\n",
       "    </tr>\n",
       "    <tr>\n",
       "      <th>2021-T1</th>\n",
       "      <td>67.95</td>\n",
       "      <td>37</td>\n",
       "    </tr>\n",
       "    <tr>\n",
       "      <th>2021-T2</th>\n",
       "      <td>69.24</td>\n",
       "      <td>38</td>\n",
       "    </tr>\n",
       "    <tr>\n",
       "      <th>2021-T3</th>\n",
       "      <td>70.58</td>\n",
       "      <td>43</td>\n",
       "    </tr>\n",
       "    <tr>\n",
       "      <th>2021-T4</th>\n",
       "      <td>73.18</td>\n",
       "      <td>45</td>\n",
       "    </tr>\n",
       "    <tr>\n",
       "      <th>2022-T1</th>\n",
       "      <td>73.88</td>\n",
       "      <td>55</td>\n",
       "    </tr>\n",
       "    <tr>\n",
       "      <th>2022-T2</th>\n",
       "      <td>75.97</td>\n",
       "      <td>60</td>\n",
       "    </tr>\n",
       "    <tr>\n",
       "      <th>2022-T3</th>\n",
       "      <td>76.64</td>\n",
       "      <td>64</td>\n",
       "    </tr>\n",
       "    <tr>\n",
       "      <th>2022-T4</th>\n",
       "      <td>77.21</td>\n",
       "      <td>72</td>\n",
       "    </tr>\n",
       "  </tbody>\n",
       "</table>\n",
       "</div>"
      ],
      "text/plain": [
       "         Acceso_x_100_hogares  Ingresos (miles de pesos)\n",
       "Periodo                                                 \n",
       "2014-T1                 49.55                          3\n",
       "2014-T2                 49.86                          3\n",
       "2014-T3                 50.67                          3\n",
       "2014-T4                 50.50                          4\n",
       "2015-T1                 51.36                          5\n",
       "2015-T2                 51.76                          5\n",
       "2015-T3                 52.46                          5\n",
       "2015-T4                 52.63                          5\n",
       "2016-T1                 51.85                          6\n",
       "2016-T2                 53.34                          7\n",
       "2016-T3                 53.73                          7\n",
       "2016-T4                 53.94                          7\n",
       "2017-T1                 54.16                          9\n",
       "2017-T2                 54.90                         10\n",
       "2017-T3                 56.90                         10\n",
       "2017-T4                 57.78                         11\n",
       "2018-T1                 58.82                         13\n",
       "2018-T2                 59.16                         14\n",
       "2018-T3                 60.69                         15\n",
       "2018-T4                 61.42                         17\n",
       "2019-T1                 62.48                         20\n",
       "2019-T2                 64.53                         21\n",
       "2019-T3                 65.79                         22\n",
       "2019-T4                 62.92                         24\n",
       "2020-T1                 62.86                         30\n",
       "2020-T2                 64.21                         32\n",
       "2020-T3                 66.31                         32\n",
       "2020-T4                 67.62                         34\n",
       "2021-T1                 67.95                         37\n",
       "2021-T2                 69.24                         38\n",
       "2021-T3                 70.58                         43\n",
       "2021-T4                 73.18                         45\n",
       "2022-T1                 73.88                         55\n",
       "2022-T2                 75.97                         60\n",
       "2022-T3                 76.64                         64\n",
       "2022-T4                 77.21                         72"
      ]
     },
     "execution_count": 1309,
     "metadata": {},
     "output_type": "execute_result"
    }
   ],
   "source": [
    "# extraemos datos para una nueva visualización\n",
    "Acceso_ingresos = DatosNacionales.loc[:,['Acceso_x_100_hogares','Ingresos (miles de pesos)']]\n",
    "Acceso_ingresos"
   ]
  },
  {
   "cell_type": "code",
   "execution_count": 1310,
   "metadata": {},
   "outputs": [
    {
     "data": {
      "application/vnd.plotly.v1+json": {
       "config": {
        "linkText": "Export to plot.ly",
        "plotlyServerURL": "https://plot.ly",
        "showLink": true
       },
       "data": [
        {
         "marker": {
          "color": "rgba(226, 74, 51, 0.6)",
          "line": {
           "color": "rgba(226, 74, 51, 1.0)",
           "width": 1
          }
         },
         "name": "Acceso_x_100_hogares",
         "orientation": "v",
         "text": "",
         "type": "bar",
         "x": [
          "2014-T1",
          "2014-T2",
          "2014-T3",
          "2014-T4",
          "2015-T1",
          "2015-T2",
          "2015-T3",
          "2015-T4",
          "2016-T1",
          "2016-T2",
          "2016-T3",
          "2016-T4",
          "2017-T1",
          "2017-T2",
          "2017-T3",
          "2017-T4",
          "2018-T1",
          "2018-T2",
          "2018-T3",
          "2018-T4",
          "2019-T1",
          "2019-T2",
          "2019-T3",
          "2019-T4",
          "2020-T1",
          "2020-T2",
          "2020-T3",
          "2020-T4",
          "2021-T1",
          "2021-T2",
          "2021-T3",
          "2021-T4",
          "2022-T1",
          "2022-T2",
          "2022-T3",
          "2022-T4"
         ],
         "y": [
          49.55,
          49.86,
          50.67,
          50.5,
          51.36,
          51.76,
          52.46,
          52.63,
          51.85,
          53.34,
          53.73,
          53.94,
          54.16,
          54.9,
          56.9,
          57.78,
          58.82,
          59.16,
          60.69,
          61.42,
          62.48,
          64.53,
          65.79,
          62.92,
          62.86,
          64.21,
          66.31,
          67.62,
          67.95,
          69.24,
          70.58,
          73.18,
          73.88,
          75.97,
          76.64,
          77.21
         ]
        },
        {
         "marker": {
          "color": "rgba(62, 111, 176, 0.6)",
          "line": {
           "color": "rgba(62, 111, 176, 1.0)",
           "width": 1
          }
         },
         "name": "Ingresos (miles de pesos)",
         "orientation": "v",
         "text": "",
         "type": "bar",
         "x": [
          "2014-T1",
          "2014-T2",
          "2014-T3",
          "2014-T4",
          "2015-T1",
          "2015-T2",
          "2015-T3",
          "2015-T4",
          "2016-T1",
          "2016-T2",
          "2016-T3",
          "2016-T4",
          "2017-T1",
          "2017-T2",
          "2017-T3",
          "2017-T4",
          "2018-T1",
          "2018-T2",
          "2018-T3",
          "2018-T4",
          "2019-T1",
          "2019-T2",
          "2019-T3",
          "2019-T4",
          "2020-T1",
          "2020-T2",
          "2020-T3",
          "2020-T4",
          "2021-T1",
          "2021-T2",
          "2021-T3",
          "2021-T4",
          "2022-T1",
          "2022-T2",
          "2022-T3",
          "2022-T4"
         ],
         "y": [
          3,
          3,
          3,
          4,
          5,
          5,
          5,
          5,
          6,
          7,
          7,
          7,
          9,
          10,
          10,
          11,
          13,
          14,
          15,
          17,
          20,
          21,
          22,
          24,
          30,
          32,
          32,
          34,
          37,
          38,
          43,
          45,
          55,
          60,
          64,
          72
         ]
        }
       ],
       "layout": {
        "legend": {
         "bgcolor": "#FFFFFF",
         "font": {
          "color": "#666666"
         }
        },
        "paper_bgcolor": "#FFFFFF",
        "plot_bgcolor": "#E5E5E5",
        "template": {
         "data": {
          "bar": [
           {
            "error_x": {
             "color": "#2a3f5f"
            },
            "error_y": {
             "color": "#2a3f5f"
            },
            "marker": {
             "line": {
              "color": "#E5ECF6",
              "width": 0.5
             },
             "pattern": {
              "fillmode": "overlay",
              "size": 10,
              "solidity": 0.2
             }
            },
            "type": "bar"
           }
          ],
          "barpolar": [
           {
            "marker": {
             "line": {
              "color": "#E5ECF6",
              "width": 0.5
             },
             "pattern": {
              "fillmode": "overlay",
              "size": 10,
              "solidity": 0.2
             }
            },
            "type": "barpolar"
           }
          ],
          "carpet": [
           {
            "aaxis": {
             "endlinecolor": "#2a3f5f",
             "gridcolor": "white",
             "linecolor": "white",
             "minorgridcolor": "white",
             "startlinecolor": "#2a3f5f"
            },
            "baxis": {
             "endlinecolor": "#2a3f5f",
             "gridcolor": "white",
             "linecolor": "white",
             "minorgridcolor": "white",
             "startlinecolor": "#2a3f5f"
            },
            "type": "carpet"
           }
          ],
          "choropleth": [
           {
            "colorbar": {
             "outlinewidth": 0,
             "ticks": ""
            },
            "type": "choropleth"
           }
          ],
          "contour": [
           {
            "colorbar": {
             "outlinewidth": 0,
             "ticks": ""
            },
            "colorscale": [
             [
              0,
              "#0d0887"
             ],
             [
              0.1111111111111111,
              "#46039f"
             ],
             [
              0.2222222222222222,
              "#7201a8"
             ],
             [
              0.3333333333333333,
              "#9c179e"
             ],
             [
              0.4444444444444444,
              "#bd3786"
             ],
             [
              0.5555555555555556,
              "#d8576b"
             ],
             [
              0.6666666666666666,
              "#ed7953"
             ],
             [
              0.7777777777777778,
              "#fb9f3a"
             ],
             [
              0.8888888888888888,
              "#fdca26"
             ],
             [
              1,
              "#f0f921"
             ]
            ],
            "type": "contour"
           }
          ],
          "contourcarpet": [
           {
            "colorbar": {
             "outlinewidth": 0,
             "ticks": ""
            },
            "type": "contourcarpet"
           }
          ],
          "heatmap": [
           {
            "colorbar": {
             "outlinewidth": 0,
             "ticks": ""
            },
            "colorscale": [
             [
              0,
              "#0d0887"
             ],
             [
              0.1111111111111111,
              "#46039f"
             ],
             [
              0.2222222222222222,
              "#7201a8"
             ],
             [
              0.3333333333333333,
              "#9c179e"
             ],
             [
              0.4444444444444444,
              "#bd3786"
             ],
             [
              0.5555555555555556,
              "#d8576b"
             ],
             [
              0.6666666666666666,
              "#ed7953"
             ],
             [
              0.7777777777777778,
              "#fb9f3a"
             ],
             [
              0.8888888888888888,
              "#fdca26"
             ],
             [
              1,
              "#f0f921"
             ]
            ],
            "type": "heatmap"
           }
          ],
          "heatmapgl": [
           {
            "colorbar": {
             "outlinewidth": 0,
             "ticks": ""
            },
            "colorscale": [
             [
              0,
              "#0d0887"
             ],
             [
              0.1111111111111111,
              "#46039f"
             ],
             [
              0.2222222222222222,
              "#7201a8"
             ],
             [
              0.3333333333333333,
              "#9c179e"
             ],
             [
              0.4444444444444444,
              "#bd3786"
             ],
             [
              0.5555555555555556,
              "#d8576b"
             ],
             [
              0.6666666666666666,
              "#ed7953"
             ],
             [
              0.7777777777777778,
              "#fb9f3a"
             ],
             [
              0.8888888888888888,
              "#fdca26"
             ],
             [
              1,
              "#f0f921"
             ]
            ],
            "type": "heatmapgl"
           }
          ],
          "histogram": [
           {
            "marker": {
             "pattern": {
              "fillmode": "overlay",
              "size": 10,
              "solidity": 0.2
             }
            },
            "type": "histogram"
           }
          ],
          "histogram2d": [
           {
            "colorbar": {
             "outlinewidth": 0,
             "ticks": ""
            },
            "colorscale": [
             [
              0,
              "#0d0887"
             ],
             [
              0.1111111111111111,
              "#46039f"
             ],
             [
              0.2222222222222222,
              "#7201a8"
             ],
             [
              0.3333333333333333,
              "#9c179e"
             ],
             [
              0.4444444444444444,
              "#bd3786"
             ],
             [
              0.5555555555555556,
              "#d8576b"
             ],
             [
              0.6666666666666666,
              "#ed7953"
             ],
             [
              0.7777777777777778,
              "#fb9f3a"
             ],
             [
              0.8888888888888888,
              "#fdca26"
             ],
             [
              1,
              "#f0f921"
             ]
            ],
            "type": "histogram2d"
           }
          ],
          "histogram2dcontour": [
           {
            "colorbar": {
             "outlinewidth": 0,
             "ticks": ""
            },
            "colorscale": [
             [
              0,
              "#0d0887"
             ],
             [
              0.1111111111111111,
              "#46039f"
             ],
             [
              0.2222222222222222,
              "#7201a8"
             ],
             [
              0.3333333333333333,
              "#9c179e"
             ],
             [
              0.4444444444444444,
              "#bd3786"
             ],
             [
              0.5555555555555556,
              "#d8576b"
             ],
             [
              0.6666666666666666,
              "#ed7953"
             ],
             [
              0.7777777777777778,
              "#fb9f3a"
             ],
             [
              0.8888888888888888,
              "#fdca26"
             ],
             [
              1,
              "#f0f921"
             ]
            ],
            "type": "histogram2dcontour"
           }
          ],
          "mesh3d": [
           {
            "colorbar": {
             "outlinewidth": 0,
             "ticks": ""
            },
            "type": "mesh3d"
           }
          ],
          "parcoords": [
           {
            "line": {
             "colorbar": {
              "outlinewidth": 0,
              "ticks": ""
             }
            },
            "type": "parcoords"
           }
          ],
          "pie": [
           {
            "automargin": true,
            "type": "pie"
           }
          ],
          "scatter": [
           {
            "fillpattern": {
             "fillmode": "overlay",
             "size": 10,
             "solidity": 0.2
            },
            "type": "scatter"
           }
          ],
          "scatter3d": [
           {
            "line": {
             "colorbar": {
              "outlinewidth": 0,
              "ticks": ""
             }
            },
            "marker": {
             "colorbar": {
              "outlinewidth": 0,
              "ticks": ""
             }
            },
            "type": "scatter3d"
           }
          ],
          "scattercarpet": [
           {
            "marker": {
             "colorbar": {
              "outlinewidth": 0,
              "ticks": ""
             }
            },
            "type": "scattercarpet"
           }
          ],
          "scattergeo": [
           {
            "marker": {
             "colorbar": {
              "outlinewidth": 0,
              "ticks": ""
             }
            },
            "type": "scattergeo"
           }
          ],
          "scattergl": [
           {
            "marker": {
             "colorbar": {
              "outlinewidth": 0,
              "ticks": ""
             }
            },
            "type": "scattergl"
           }
          ],
          "scattermapbox": [
           {
            "marker": {
             "colorbar": {
              "outlinewidth": 0,
              "ticks": ""
             }
            },
            "type": "scattermapbox"
           }
          ],
          "scatterpolar": [
           {
            "marker": {
             "colorbar": {
              "outlinewidth": 0,
              "ticks": ""
             }
            },
            "type": "scatterpolar"
           }
          ],
          "scatterpolargl": [
           {
            "marker": {
             "colorbar": {
              "outlinewidth": 0,
              "ticks": ""
             }
            },
            "type": "scatterpolargl"
           }
          ],
          "scatterternary": [
           {
            "marker": {
             "colorbar": {
              "outlinewidth": 0,
              "ticks": ""
             }
            },
            "type": "scatterternary"
           }
          ],
          "surface": [
           {
            "colorbar": {
             "outlinewidth": 0,
             "ticks": ""
            },
            "colorscale": [
             [
              0,
              "#0d0887"
             ],
             [
              0.1111111111111111,
              "#46039f"
             ],
             [
              0.2222222222222222,
              "#7201a8"
             ],
             [
              0.3333333333333333,
              "#9c179e"
             ],
             [
              0.4444444444444444,
              "#bd3786"
             ],
             [
              0.5555555555555556,
              "#d8576b"
             ],
             [
              0.6666666666666666,
              "#ed7953"
             ],
             [
              0.7777777777777778,
              "#fb9f3a"
             ],
             [
              0.8888888888888888,
              "#fdca26"
             ],
             [
              1,
              "#f0f921"
             ]
            ],
            "type": "surface"
           }
          ],
          "table": [
           {
            "cells": {
             "fill": {
              "color": "#EBF0F8"
             },
             "line": {
              "color": "white"
             }
            },
            "header": {
             "fill": {
              "color": "#C8D4E3"
             },
             "line": {
              "color": "white"
             }
            },
            "type": "table"
           }
          ]
         },
         "layout": {
          "annotationdefaults": {
           "arrowcolor": "#2a3f5f",
           "arrowhead": 0,
           "arrowwidth": 1
          },
          "autotypenumbers": "strict",
          "coloraxis": {
           "colorbar": {
            "outlinewidth": 0,
            "ticks": ""
           }
          },
          "colorscale": {
           "diverging": [
            [
             0,
             "#8e0152"
            ],
            [
             0.1,
             "#c51b7d"
            ],
            [
             0.2,
             "#de77ae"
            ],
            [
             0.3,
             "#f1b6da"
            ],
            [
             0.4,
             "#fde0ef"
            ],
            [
             0.5,
             "#f7f7f7"
            ],
            [
             0.6,
             "#e6f5d0"
            ],
            [
             0.7,
             "#b8e186"
            ],
            [
             0.8,
             "#7fbc41"
            ],
            [
             0.9,
             "#4d9221"
            ],
            [
             1,
             "#276419"
            ]
           ],
           "sequential": [
            [
             0,
             "#0d0887"
            ],
            [
             0.1111111111111111,
             "#46039f"
            ],
            [
             0.2222222222222222,
             "#7201a8"
            ],
            [
             0.3333333333333333,
             "#9c179e"
            ],
            [
             0.4444444444444444,
             "#bd3786"
            ],
            [
             0.5555555555555556,
             "#d8576b"
            ],
            [
             0.6666666666666666,
             "#ed7953"
            ],
            [
             0.7777777777777778,
             "#fb9f3a"
            ],
            [
             0.8888888888888888,
             "#fdca26"
            ],
            [
             1,
             "#f0f921"
            ]
           ],
           "sequentialminus": [
            [
             0,
             "#0d0887"
            ],
            [
             0.1111111111111111,
             "#46039f"
            ],
            [
             0.2222222222222222,
             "#7201a8"
            ],
            [
             0.3333333333333333,
             "#9c179e"
            ],
            [
             0.4444444444444444,
             "#bd3786"
            ],
            [
             0.5555555555555556,
             "#d8576b"
            ],
            [
             0.6666666666666666,
             "#ed7953"
            ],
            [
             0.7777777777777778,
             "#fb9f3a"
            ],
            [
             0.8888888888888888,
             "#fdca26"
            ],
            [
             1,
             "#f0f921"
            ]
           ]
          },
          "colorway": [
           "#636efa",
           "#EF553B",
           "#00cc96",
           "#ab63fa",
           "#FFA15A",
           "#19d3f3",
           "#FF6692",
           "#B6E880",
           "#FF97FF",
           "#FECB52"
          ],
          "font": {
           "color": "#2a3f5f"
          },
          "geo": {
           "bgcolor": "white",
           "lakecolor": "white",
           "landcolor": "#E5ECF6",
           "showlakes": true,
           "showland": true,
           "subunitcolor": "white"
          },
          "hoverlabel": {
           "align": "left"
          },
          "hovermode": "closest",
          "mapbox": {
           "style": "light"
          },
          "paper_bgcolor": "white",
          "plot_bgcolor": "#E5ECF6",
          "polar": {
           "angularaxis": {
            "gridcolor": "white",
            "linecolor": "white",
            "ticks": ""
           },
           "bgcolor": "#E5ECF6",
           "radialaxis": {
            "gridcolor": "white",
            "linecolor": "white",
            "ticks": ""
           }
          },
          "scene": {
           "xaxis": {
            "backgroundcolor": "#E5ECF6",
            "gridcolor": "white",
            "gridwidth": 2,
            "linecolor": "white",
            "showbackground": true,
            "ticks": "",
            "zerolinecolor": "white"
           },
           "yaxis": {
            "backgroundcolor": "#E5ECF6",
            "gridcolor": "white",
            "gridwidth": 2,
            "linecolor": "white",
            "showbackground": true,
            "ticks": "",
            "zerolinecolor": "white"
           },
           "zaxis": {
            "backgroundcolor": "#E5ECF6",
            "gridcolor": "white",
            "gridwidth": 2,
            "linecolor": "white",
            "showbackground": true,
            "ticks": "",
            "zerolinecolor": "white"
           }
          },
          "shapedefaults": {
           "line": {
            "color": "#2a3f5f"
           }
          },
          "ternary": {
           "aaxis": {
            "gridcolor": "white",
            "linecolor": "white",
            "ticks": ""
           },
           "baxis": {
            "gridcolor": "white",
            "linecolor": "white",
            "ticks": ""
           },
           "bgcolor": "#E5ECF6",
           "caxis": {
            "gridcolor": "white",
            "linecolor": "white",
            "ticks": ""
           }
          },
          "title": {
           "x": 0.05
          },
          "xaxis": {
           "automargin": true,
           "gridcolor": "white",
           "linecolor": "white",
           "ticks": "",
           "title": {
            "standoff": 15
           },
           "zerolinecolor": "white",
           "zerolinewidth": 2
          },
          "yaxis": {
           "automargin": true,
           "gridcolor": "white",
           "linecolor": "white",
           "ticks": "",
           "title": {
            "standoff": 15
           },
           "zerolinecolor": "white",
           "zerolinewidth": 2
          }
         }
        },
        "title": {
         "font": {
          "color": "#151516"
         }
        },
        "xaxis": {
         "gridcolor": "#F6F6F6",
         "showgrid": true,
         "tickfont": {
          "color": "#666666"
         },
         "title": {
          "font": {
           "color": "#666666"
          },
          "text": ""
         },
         "zerolinecolor": "#F6F6F6"
        },
        "yaxis": {
         "gridcolor": "#F6F6F6",
         "showgrid": true,
         "tickfont": {
          "color": "#666666"
         },
         "title": {
          "font": {
           "color": "#666666"
          },
          "text": ""
         },
         "zerolinecolor": "#F6F6F6"
        }
       }
      },
      "text/html": [
       "<div>                            <div id=\"53324344-3675-4298-a754-61ecc5b2a2b0\" class=\"plotly-graph-div\" style=\"height:525px; width:100%;\"></div>            <script type=\"text/javascript\">                require([\"plotly\"], function(Plotly) {                    window.PLOTLYENV=window.PLOTLYENV || {};\n",
       "                    window.PLOTLYENV.BASE_URL='https://plot.ly';                                    if (document.getElementById(\"53324344-3675-4298-a754-61ecc5b2a2b0\")) {                    Plotly.newPlot(                        \"53324344-3675-4298-a754-61ecc5b2a2b0\",                        [{\"marker\":{\"color\":\"rgba(226, 74, 51, 0.6)\",\"line\":{\"color\":\"rgba(226, 74, 51, 1.0)\",\"width\":1}},\"name\":\"Acceso_x_100_hogares\",\"orientation\":\"v\",\"text\":\"\",\"x\":[\"2014-T1\",\"2014-T2\",\"2014-T3\",\"2014-T4\",\"2015-T1\",\"2015-T2\",\"2015-T3\",\"2015-T4\",\"2016-T1\",\"2016-T2\",\"2016-T3\",\"2016-T4\",\"2017-T1\",\"2017-T2\",\"2017-T3\",\"2017-T4\",\"2018-T1\",\"2018-T2\",\"2018-T3\",\"2018-T4\",\"2019-T1\",\"2019-T2\",\"2019-T3\",\"2019-T4\",\"2020-T1\",\"2020-T2\",\"2020-T3\",\"2020-T4\",\"2021-T1\",\"2021-T2\",\"2021-T3\",\"2021-T4\",\"2022-T1\",\"2022-T2\",\"2022-T3\",\"2022-T4\"],\"y\":[49.55,49.86,50.67,50.5,51.36,51.76,52.46,52.63,51.85,53.34,53.73,53.94,54.16,54.9,56.9,57.78,58.82,59.16,60.69,61.42,62.48,64.53,65.79,62.92,62.86,64.21,66.31,67.62,67.95,69.24,70.58,73.18,73.88,75.97,76.64,77.21],\"type\":\"bar\"},{\"marker\":{\"color\":\"rgba(62, 111, 176, 0.6)\",\"line\":{\"color\":\"rgba(62, 111, 176, 1.0)\",\"width\":1}},\"name\":\"Ingresos (miles de pesos)\",\"orientation\":\"v\",\"text\":\"\",\"x\":[\"2014-T1\",\"2014-T2\",\"2014-T3\",\"2014-T4\",\"2015-T1\",\"2015-T2\",\"2015-T3\",\"2015-T4\",\"2016-T1\",\"2016-T2\",\"2016-T3\",\"2016-T4\",\"2017-T1\",\"2017-T2\",\"2017-T3\",\"2017-T4\",\"2018-T1\",\"2018-T2\",\"2018-T3\",\"2018-T4\",\"2019-T1\",\"2019-T2\",\"2019-T3\",\"2019-T4\",\"2020-T1\",\"2020-T2\",\"2020-T3\",\"2020-T4\",\"2021-T1\",\"2021-T2\",\"2021-T3\",\"2021-T4\",\"2022-T1\",\"2022-T2\",\"2022-T3\",\"2022-T4\"],\"y\":[3,3,3,4,5,5,5,5,6,7,7,7,9,10,10,11,13,14,15,17,20,21,22,24,30,32,32,34,37,38,43,45,55,60,64,72],\"type\":\"bar\"}],                        {\"legend\":{\"bgcolor\":\"#FFFFFF\",\"font\":{\"color\":\"#666666\"}},\"paper_bgcolor\":\"#FFFFFF\",\"plot_bgcolor\":\"#E5E5E5\",\"template\":{\"data\":{\"barpolar\":[{\"marker\":{\"line\":{\"color\":\"#E5ECF6\",\"width\":0.5},\"pattern\":{\"fillmode\":\"overlay\",\"size\":10,\"solidity\":0.2}},\"type\":\"barpolar\"}],\"bar\":[{\"error_x\":{\"color\":\"#2a3f5f\"},\"error_y\":{\"color\":\"#2a3f5f\"},\"marker\":{\"line\":{\"color\":\"#E5ECF6\",\"width\":0.5},\"pattern\":{\"fillmode\":\"overlay\",\"size\":10,\"solidity\":0.2}},\"type\":\"bar\"}],\"carpet\":[{\"aaxis\":{\"endlinecolor\":\"#2a3f5f\",\"gridcolor\":\"white\",\"linecolor\":\"white\",\"minorgridcolor\":\"white\",\"startlinecolor\":\"#2a3f5f\"},\"baxis\":{\"endlinecolor\":\"#2a3f5f\",\"gridcolor\":\"white\",\"linecolor\":\"white\",\"minorgridcolor\":\"white\",\"startlinecolor\":\"#2a3f5f\"},\"type\":\"carpet\"}],\"choropleth\":[{\"colorbar\":{\"outlinewidth\":0,\"ticks\":\"\"},\"type\":\"choropleth\"}],\"contourcarpet\":[{\"colorbar\":{\"outlinewidth\":0,\"ticks\":\"\"},\"type\":\"contourcarpet\"}],\"contour\":[{\"colorbar\":{\"outlinewidth\":0,\"ticks\":\"\"},\"colorscale\":[[0.0,\"#0d0887\"],[0.1111111111111111,\"#46039f\"],[0.2222222222222222,\"#7201a8\"],[0.3333333333333333,\"#9c179e\"],[0.4444444444444444,\"#bd3786\"],[0.5555555555555556,\"#d8576b\"],[0.6666666666666666,\"#ed7953\"],[0.7777777777777778,\"#fb9f3a\"],[0.8888888888888888,\"#fdca26\"],[1.0,\"#f0f921\"]],\"type\":\"contour\"}],\"heatmapgl\":[{\"colorbar\":{\"outlinewidth\":0,\"ticks\":\"\"},\"colorscale\":[[0.0,\"#0d0887\"],[0.1111111111111111,\"#46039f\"],[0.2222222222222222,\"#7201a8\"],[0.3333333333333333,\"#9c179e\"],[0.4444444444444444,\"#bd3786\"],[0.5555555555555556,\"#d8576b\"],[0.6666666666666666,\"#ed7953\"],[0.7777777777777778,\"#fb9f3a\"],[0.8888888888888888,\"#fdca26\"],[1.0,\"#f0f921\"]],\"type\":\"heatmapgl\"}],\"heatmap\":[{\"colorbar\":{\"outlinewidth\":0,\"ticks\":\"\"},\"colorscale\":[[0.0,\"#0d0887\"],[0.1111111111111111,\"#46039f\"],[0.2222222222222222,\"#7201a8\"],[0.3333333333333333,\"#9c179e\"],[0.4444444444444444,\"#bd3786\"],[0.5555555555555556,\"#d8576b\"],[0.6666666666666666,\"#ed7953\"],[0.7777777777777778,\"#fb9f3a\"],[0.8888888888888888,\"#fdca26\"],[1.0,\"#f0f921\"]],\"type\":\"heatmap\"}],\"histogram2dcontour\":[{\"colorbar\":{\"outlinewidth\":0,\"ticks\":\"\"},\"colorscale\":[[0.0,\"#0d0887\"],[0.1111111111111111,\"#46039f\"],[0.2222222222222222,\"#7201a8\"],[0.3333333333333333,\"#9c179e\"],[0.4444444444444444,\"#bd3786\"],[0.5555555555555556,\"#d8576b\"],[0.6666666666666666,\"#ed7953\"],[0.7777777777777778,\"#fb9f3a\"],[0.8888888888888888,\"#fdca26\"],[1.0,\"#f0f921\"]],\"type\":\"histogram2dcontour\"}],\"histogram2d\":[{\"colorbar\":{\"outlinewidth\":0,\"ticks\":\"\"},\"colorscale\":[[0.0,\"#0d0887\"],[0.1111111111111111,\"#46039f\"],[0.2222222222222222,\"#7201a8\"],[0.3333333333333333,\"#9c179e\"],[0.4444444444444444,\"#bd3786\"],[0.5555555555555556,\"#d8576b\"],[0.6666666666666666,\"#ed7953\"],[0.7777777777777778,\"#fb9f3a\"],[0.8888888888888888,\"#fdca26\"],[1.0,\"#f0f921\"]],\"type\":\"histogram2d\"}],\"histogram\":[{\"marker\":{\"pattern\":{\"fillmode\":\"overlay\",\"size\":10,\"solidity\":0.2}},\"type\":\"histogram\"}],\"mesh3d\":[{\"colorbar\":{\"outlinewidth\":0,\"ticks\":\"\"},\"type\":\"mesh3d\"}],\"parcoords\":[{\"line\":{\"colorbar\":{\"outlinewidth\":0,\"ticks\":\"\"}},\"type\":\"parcoords\"}],\"pie\":[{\"automargin\":true,\"type\":\"pie\"}],\"scatter3d\":[{\"line\":{\"colorbar\":{\"outlinewidth\":0,\"ticks\":\"\"}},\"marker\":{\"colorbar\":{\"outlinewidth\":0,\"ticks\":\"\"}},\"type\":\"scatter3d\"}],\"scattercarpet\":[{\"marker\":{\"colorbar\":{\"outlinewidth\":0,\"ticks\":\"\"}},\"type\":\"scattercarpet\"}],\"scattergeo\":[{\"marker\":{\"colorbar\":{\"outlinewidth\":0,\"ticks\":\"\"}},\"type\":\"scattergeo\"}],\"scattergl\":[{\"marker\":{\"colorbar\":{\"outlinewidth\":0,\"ticks\":\"\"}},\"type\":\"scattergl\"}],\"scattermapbox\":[{\"marker\":{\"colorbar\":{\"outlinewidth\":0,\"ticks\":\"\"}},\"type\":\"scattermapbox\"}],\"scatterpolargl\":[{\"marker\":{\"colorbar\":{\"outlinewidth\":0,\"ticks\":\"\"}},\"type\":\"scatterpolargl\"}],\"scatterpolar\":[{\"marker\":{\"colorbar\":{\"outlinewidth\":0,\"ticks\":\"\"}},\"type\":\"scatterpolar\"}],\"scatter\":[{\"fillpattern\":{\"fillmode\":\"overlay\",\"size\":10,\"solidity\":0.2},\"type\":\"scatter\"}],\"scatterternary\":[{\"marker\":{\"colorbar\":{\"outlinewidth\":0,\"ticks\":\"\"}},\"type\":\"scatterternary\"}],\"surface\":[{\"colorbar\":{\"outlinewidth\":0,\"ticks\":\"\"},\"colorscale\":[[0.0,\"#0d0887\"],[0.1111111111111111,\"#46039f\"],[0.2222222222222222,\"#7201a8\"],[0.3333333333333333,\"#9c179e\"],[0.4444444444444444,\"#bd3786\"],[0.5555555555555556,\"#d8576b\"],[0.6666666666666666,\"#ed7953\"],[0.7777777777777778,\"#fb9f3a\"],[0.8888888888888888,\"#fdca26\"],[1.0,\"#f0f921\"]],\"type\":\"surface\"}],\"table\":[{\"cells\":{\"fill\":{\"color\":\"#EBF0F8\"},\"line\":{\"color\":\"white\"}},\"header\":{\"fill\":{\"color\":\"#C8D4E3\"},\"line\":{\"color\":\"white\"}},\"type\":\"table\"}]},\"layout\":{\"annotationdefaults\":{\"arrowcolor\":\"#2a3f5f\",\"arrowhead\":0,\"arrowwidth\":1},\"autotypenumbers\":\"strict\",\"coloraxis\":{\"colorbar\":{\"outlinewidth\":0,\"ticks\":\"\"}},\"colorscale\":{\"diverging\":[[0,\"#8e0152\"],[0.1,\"#c51b7d\"],[0.2,\"#de77ae\"],[0.3,\"#f1b6da\"],[0.4,\"#fde0ef\"],[0.5,\"#f7f7f7\"],[0.6,\"#e6f5d0\"],[0.7,\"#b8e186\"],[0.8,\"#7fbc41\"],[0.9,\"#4d9221\"],[1,\"#276419\"]],\"sequential\":[[0.0,\"#0d0887\"],[0.1111111111111111,\"#46039f\"],[0.2222222222222222,\"#7201a8\"],[0.3333333333333333,\"#9c179e\"],[0.4444444444444444,\"#bd3786\"],[0.5555555555555556,\"#d8576b\"],[0.6666666666666666,\"#ed7953\"],[0.7777777777777778,\"#fb9f3a\"],[0.8888888888888888,\"#fdca26\"],[1.0,\"#f0f921\"]],\"sequentialminus\":[[0.0,\"#0d0887\"],[0.1111111111111111,\"#46039f\"],[0.2222222222222222,\"#7201a8\"],[0.3333333333333333,\"#9c179e\"],[0.4444444444444444,\"#bd3786\"],[0.5555555555555556,\"#d8576b\"],[0.6666666666666666,\"#ed7953\"],[0.7777777777777778,\"#fb9f3a\"],[0.8888888888888888,\"#fdca26\"],[1.0,\"#f0f921\"]]},\"colorway\":[\"#636efa\",\"#EF553B\",\"#00cc96\",\"#ab63fa\",\"#FFA15A\",\"#19d3f3\",\"#FF6692\",\"#B6E880\",\"#FF97FF\",\"#FECB52\"],\"font\":{\"color\":\"#2a3f5f\"},\"geo\":{\"bgcolor\":\"white\",\"lakecolor\":\"white\",\"landcolor\":\"#E5ECF6\",\"showlakes\":true,\"showland\":true,\"subunitcolor\":\"white\"},\"hoverlabel\":{\"align\":\"left\"},\"hovermode\":\"closest\",\"mapbox\":{\"style\":\"light\"},\"paper_bgcolor\":\"white\",\"plot_bgcolor\":\"#E5ECF6\",\"polar\":{\"angularaxis\":{\"gridcolor\":\"white\",\"linecolor\":\"white\",\"ticks\":\"\"},\"bgcolor\":\"#E5ECF6\",\"radialaxis\":{\"gridcolor\":\"white\",\"linecolor\":\"white\",\"ticks\":\"\"}},\"scene\":{\"xaxis\":{\"backgroundcolor\":\"#E5ECF6\",\"gridcolor\":\"white\",\"gridwidth\":2,\"linecolor\":\"white\",\"showbackground\":true,\"ticks\":\"\",\"zerolinecolor\":\"white\"},\"yaxis\":{\"backgroundcolor\":\"#E5ECF6\",\"gridcolor\":\"white\",\"gridwidth\":2,\"linecolor\":\"white\",\"showbackground\":true,\"ticks\":\"\",\"zerolinecolor\":\"white\"},\"zaxis\":{\"backgroundcolor\":\"#E5ECF6\",\"gridcolor\":\"white\",\"gridwidth\":2,\"linecolor\":\"white\",\"showbackground\":true,\"ticks\":\"\",\"zerolinecolor\":\"white\"}},\"shapedefaults\":{\"line\":{\"color\":\"#2a3f5f\"}},\"ternary\":{\"aaxis\":{\"gridcolor\":\"white\",\"linecolor\":\"white\",\"ticks\":\"\"},\"baxis\":{\"gridcolor\":\"white\",\"linecolor\":\"white\",\"ticks\":\"\"},\"bgcolor\":\"#E5ECF6\",\"caxis\":{\"gridcolor\":\"white\",\"linecolor\":\"white\",\"ticks\":\"\"}},\"title\":{\"x\":0.05},\"xaxis\":{\"automargin\":true,\"gridcolor\":\"white\",\"linecolor\":\"white\",\"ticks\":\"\",\"title\":{\"standoff\":15},\"zerolinecolor\":\"white\",\"zerolinewidth\":2},\"yaxis\":{\"automargin\":true,\"gridcolor\":\"white\",\"linecolor\":\"white\",\"ticks\":\"\",\"title\":{\"standoff\":15},\"zerolinecolor\":\"white\",\"zerolinewidth\":2}}},\"title\":{\"font\":{\"color\":\"#151516\"}},\"xaxis\":{\"gridcolor\":\"#F6F6F6\",\"showgrid\":true,\"tickfont\":{\"color\":\"#666666\"},\"title\":{\"font\":{\"color\":\"#666666\"},\"text\":\"\"},\"zerolinecolor\":\"#F6F6F6\"},\"yaxis\":{\"gridcolor\":\"#F6F6F6\",\"showgrid\":true,\"tickfont\":{\"color\":\"#666666\"},\"title\":{\"font\":{\"color\":\"#666666\"},\"text\":\"\"},\"zerolinecolor\":\"#F6F6F6\"}},                        {\"showLink\": true, \"linkText\": \"Export to plot.ly\", \"plotlyServerURL\": \"https://plot.ly\", \"responsive\": true}                    ).then(function(){\n",
       "                            \n",
       "var gd = document.getElementById('53324344-3675-4298-a754-61ecc5b2a2b0');\n",
       "var x = new MutationObserver(function (mutations, observer) {{\n",
       "        var display = window.getComputedStyle(gd).display;\n",
       "        if (!display || display === 'none') {{\n",
       "            console.log([gd, 'removed!']);\n",
       "            Plotly.purge(gd);\n",
       "            observer.disconnect();\n",
       "        }}\n",
       "}});\n",
       "\n",
       "// Listen for the removal of the full notebook cells\n",
       "var notebookContainer = gd.closest('#notebook-container');\n",
       "if (notebookContainer) {{\n",
       "    x.observe(notebookContainer, {childList: true});\n",
       "}}\n",
       "\n",
       "// Listen for the clearing of the current output cell\n",
       "var outputEl = gd.closest('.output');\n",
       "if (outputEl) {{\n",
       "    x.observe(outputEl, {childList: true});\n",
       "}}\n",
       "\n",
       "                        })                };                });            </script>        </div>"
      ]
     },
     "metadata": {},
     "output_type": "display_data"
    }
   ],
   "source": [
    "Acceso_ingresos.iplot(kind='bar')"
   ]
  },
  {
   "attachments": {},
   "cell_type": "markdown",
   "metadata": {},
   "source": [
    "#### Relacion Ingresos - Accesos por cada 100 hogares\n",
    "Podemos observar que hay un crecimiento constante de los ingresos de manera global y que de igual forma va ligado con el aumento global en los accesos por cada 100 hogares. "
   ]
  },
  {
   "cell_type": "code",
   "execution_count": 1311,
   "metadata": {},
   "outputs": [
    {
     "data": {
      "text/html": [
       "<div>\n",
       "<style scoped>\n",
       "    .dataframe tbody tr th:only-of-type {\n",
       "        vertical-align: middle;\n",
       "    }\n",
       "\n",
       "    .dataframe tbody tr th {\n",
       "        vertical-align: top;\n",
       "    }\n",
       "\n",
       "    .dataframe thead th {\n",
       "        text-align: right;\n",
       "    }\n",
       "</style>\n",
       "<table border=\"1\" class=\"dataframe\">\n",
       "  <thead>\n",
       "    <tr style=\"text-align: right;\">\n",
       "      <th></th>\n",
       "      <th>Mbps (Media de bajada)</th>\n",
       "      <th>ADSL</th>\n",
       "      <th>Cablemodem</th>\n",
       "      <th>Fibra óptica</th>\n",
       "      <th>Wireless</th>\n",
       "      <th>Otros</th>\n",
       "    </tr>\n",
       "    <tr>\n",
       "      <th>Periodo</th>\n",
       "      <th></th>\n",
       "      <th></th>\n",
       "      <th></th>\n",
       "      <th></th>\n",
       "      <th></th>\n",
       "      <th></th>\n",
       "    </tr>\n",
       "  </thead>\n",
       "  <tbody>\n",
       "    <tr>\n",
       "      <th>2014-T1</th>\n",
       "      <td>362.000</td>\n",
       "      <td>4</td>\n",
       "      <td>2</td>\n",
       "      <td>150</td>\n",
       "      <td>71</td>\n",
       "      <td>73</td>\n",
       "    </tr>\n",
       "    <tr>\n",
       "      <th>2014-T2</th>\n",
       "      <td>376.000</td>\n",
       "      <td>4</td>\n",
       "      <td>2</td>\n",
       "      <td>149</td>\n",
       "      <td>72</td>\n",
       "      <td>72</td>\n",
       "    </tr>\n",
       "    <tr>\n",
       "      <th>2014-T3</th>\n",
       "      <td>387.000</td>\n",
       "      <td>4</td>\n",
       "      <td>3</td>\n",
       "      <td>155</td>\n",
       "      <td>85</td>\n",
       "      <td>70</td>\n",
       "    </tr>\n",
       "    <tr>\n",
       "      <th>2014-T4</th>\n",
       "      <td>416.000</td>\n",
       "      <td>4</td>\n",
       "      <td>3</td>\n",
       "      <td>150</td>\n",
       "      <td>77</td>\n",
       "      <td>72</td>\n",
       "    </tr>\n",
       "    <tr>\n",
       "      <th>2015-T1</th>\n",
       "      <td>435.000</td>\n",
       "      <td>4</td>\n",
       "      <td>3</td>\n",
       "      <td>168</td>\n",
       "      <td>79</td>\n",
       "      <td>66</td>\n",
       "    </tr>\n",
       "    <tr>\n",
       "      <th>2015-T2</th>\n",
       "      <td>455.000</td>\n",
       "      <td>4</td>\n",
       "      <td>3</td>\n",
       "      <td>151</td>\n",
       "      <td>82</td>\n",
       "      <td>59</td>\n",
       "    </tr>\n",
       "    <tr>\n",
       "      <th>2015-T3</th>\n",
       "      <td>479.000</td>\n",
       "      <td>4</td>\n",
       "      <td>3</td>\n",
       "      <td>163</td>\n",
       "      <td>85</td>\n",
       "      <td>59</td>\n",
       "    </tr>\n",
       "    <tr>\n",
       "      <th>2015-T4</th>\n",
       "      <td>499.000</td>\n",
       "      <td>4</td>\n",
       "      <td>3</td>\n",
       "      <td>139</td>\n",
       "      <td>86</td>\n",
       "      <td>59</td>\n",
       "    </tr>\n",
       "    <tr>\n",
       "      <th>2016-T1</th>\n",
       "      <td>508.000</td>\n",
       "      <td>4</td>\n",
       "      <td>3</td>\n",
       "      <td>164</td>\n",
       "      <td>85</td>\n",
       "      <td>59</td>\n",
       "    </tr>\n",
       "    <tr>\n",
       "      <th>2016-T2</th>\n",
       "      <td>542.000</td>\n",
       "      <td>4</td>\n",
       "      <td>3</td>\n",
       "      <td>168</td>\n",
       "      <td>85</td>\n",
       "      <td>59</td>\n",
       "    </tr>\n",
       "    <tr>\n",
       "      <th>2016-T3</th>\n",
       "      <td>594.000</td>\n",
       "      <td>4</td>\n",
       "      <td>3</td>\n",
       "      <td>170</td>\n",
       "      <td>81</td>\n",
       "      <td>54</td>\n",
       "    </tr>\n",
       "    <tr>\n",
       "      <th>2016-T4</th>\n",
       "      <td>634.000</td>\n",
       "      <td>4</td>\n",
       "      <td>3</td>\n",
       "      <td>178</td>\n",
       "      <td>85</td>\n",
       "      <td>55</td>\n",
       "    </tr>\n",
       "    <tr>\n",
       "      <th>2017-T1</th>\n",
       "      <td>662.000</td>\n",
       "      <td>4</td>\n",
       "      <td>3</td>\n",
       "      <td>180</td>\n",
       "      <td>85</td>\n",
       "      <td>56</td>\n",
       "    </tr>\n",
       "    <tr>\n",
       "      <th>2017-T2</th>\n",
       "      <td>716.000</td>\n",
       "      <td>4</td>\n",
       "      <td>3</td>\n",
       "      <td>181</td>\n",
       "      <td>86</td>\n",
       "      <td>56</td>\n",
       "    </tr>\n",
       "    <tr>\n",
       "      <th>2017-T3</th>\n",
       "      <td>834.000</td>\n",
       "      <td>4</td>\n",
       "      <td>4</td>\n",
       "      <td>194</td>\n",
       "      <td>106</td>\n",
       "      <td>132</td>\n",
       "    </tr>\n",
       "    <tr>\n",
       "      <th>2017-T4</th>\n",
       "      <td>1.201</td>\n",
       "      <td>4</td>\n",
       "      <td>4</td>\n",
       "      <td>211</td>\n",
       "      <td>156</td>\n",
       "      <td>101</td>\n",
       "    </tr>\n",
       "    <tr>\n",
       "      <th>2018-T1</th>\n",
       "      <td>1.322</td>\n",
       "      <td>4</td>\n",
       "      <td>4</td>\n",
       "      <td>217</td>\n",
       "      <td>165</td>\n",
       "      <td>99</td>\n",
       "    </tr>\n",
       "    <tr>\n",
       "      <th>2018-T2</th>\n",
       "      <td>1.385</td>\n",
       "      <td>4</td>\n",
       "      <td>4</td>\n",
       "      <td>226</td>\n",
       "      <td>194</td>\n",
       "      <td>95</td>\n",
       "    </tr>\n",
       "    <tr>\n",
       "      <th>2018-T3</th>\n",
       "      <td>1.536</td>\n",
       "      <td>4</td>\n",
       "      <td>4</td>\n",
       "      <td>247</td>\n",
       "      <td>246</td>\n",
       "      <td>94</td>\n",
       "    </tr>\n",
       "    <tr>\n",
       "      <th>2018-T4</th>\n",
       "      <td>1.595</td>\n",
       "      <td>3</td>\n",
       "      <td>4</td>\n",
       "      <td>388</td>\n",
       "      <td>264</td>\n",
       "      <td>178</td>\n",
       "    </tr>\n",
       "    <tr>\n",
       "      <th>2019-T1</th>\n",
       "      <td>1.738</td>\n",
       "      <td>3</td>\n",
       "      <td>4</td>\n",
       "      <td>637</td>\n",
       "      <td>276</td>\n",
       "      <td>166</td>\n",
       "    </tr>\n",
       "    <tr>\n",
       "      <th>2019-T2</th>\n",
       "      <td>2.033</td>\n",
       "      <td>3</td>\n",
       "      <td>5</td>\n",
       "      <td>761</td>\n",
       "      <td>308</td>\n",
       "      <td>265</td>\n",
       "    </tr>\n",
       "    <tr>\n",
       "      <th>2019-T3</th>\n",
       "      <td>2.418</td>\n",
       "      <td>3</td>\n",
       "      <td>5</td>\n",
       "      <td>852</td>\n",
       "      <td>338</td>\n",
       "      <td>264</td>\n",
       "    </tr>\n",
       "    <tr>\n",
       "      <th>2019-T4</th>\n",
       "      <td>2.826</td>\n",
       "      <td>2</td>\n",
       "      <td>5</td>\n",
       "      <td>941</td>\n",
       "      <td>340</td>\n",
       "      <td>213</td>\n",
       "    </tr>\n",
       "    <tr>\n",
       "      <th>2020-T1</th>\n",
       "      <td>3.752</td>\n",
       "      <td>2</td>\n",
       "      <td>5</td>\n",
       "      <td>1</td>\n",
       "      <td>352</td>\n",
       "      <td>209</td>\n",
       "    </tr>\n",
       "    <tr>\n",
       "      <th>2020-T2</th>\n",
       "      <td>3.832</td>\n",
       "      <td>2</td>\n",
       "      <td>5</td>\n",
       "      <td>1</td>\n",
       "      <td>377</td>\n",
       "      <td>247</td>\n",
       "    </tr>\n",
       "    <tr>\n",
       "      <th>2020-T3</th>\n",
       "      <td>4.067</td>\n",
       "      <td>2</td>\n",
       "      <td>5</td>\n",
       "      <td>1</td>\n",
       "      <td>413</td>\n",
       "      <td>249</td>\n",
       "    </tr>\n",
       "    <tr>\n",
       "      <th>2020-T4</th>\n",
       "      <td>4.236</td>\n",
       "      <td>2</td>\n",
       "      <td>5</td>\n",
       "      <td>1</td>\n",
       "      <td>422</td>\n",
       "      <td>253</td>\n",
       "    </tr>\n",
       "    <tr>\n",
       "      <th>2021-T1</th>\n",
       "      <td>4.311</td>\n",
       "      <td>2</td>\n",
       "      <td>5</td>\n",
       "      <td>1</td>\n",
       "      <td>435</td>\n",
       "      <td>250</td>\n",
       "    </tr>\n",
       "    <tr>\n",
       "      <th>2021-T2</th>\n",
       "      <td>4.563</td>\n",
       "      <td>2</td>\n",
       "      <td>6</td>\n",
       "      <td>1</td>\n",
       "      <td>477</td>\n",
       "      <td>254</td>\n",
       "    </tr>\n",
       "    <tr>\n",
       "      <th>2021-T3</th>\n",
       "      <td>4.846</td>\n",
       "      <td>2</td>\n",
       "      <td>6</td>\n",
       "      <td>2</td>\n",
       "      <td>492</td>\n",
       "      <td>250</td>\n",
       "    </tr>\n",
       "    <tr>\n",
       "      <th>2021-T4</th>\n",
       "      <td>5.234</td>\n",
       "      <td>2</td>\n",
       "      <td>6</td>\n",
       "      <td>2</td>\n",
       "      <td>523</td>\n",
       "      <td>253</td>\n",
       "    </tr>\n",
       "    <tr>\n",
       "      <th>2022-T1</th>\n",
       "      <td>5.511</td>\n",
       "      <td>2</td>\n",
       "      <td>6</td>\n",
       "      <td>2</td>\n",
       "      <td>546</td>\n",
       "      <td>252</td>\n",
       "    </tr>\n",
       "    <tr>\n",
       "      <th>2022-T2</th>\n",
       "      <td>5.844</td>\n",
       "      <td>1</td>\n",
       "      <td>6</td>\n",
       "      <td>3</td>\n",
       "      <td>556</td>\n",
       "      <td>232</td>\n",
       "    </tr>\n",
       "    <tr>\n",
       "      <th>2022-T3</th>\n",
       "      <td>6.246</td>\n",
       "      <td>1</td>\n",
       "      <td>6</td>\n",
       "      <td>3</td>\n",
       "      <td>557</td>\n",
       "      <td>235</td>\n",
       "    </tr>\n",
       "    <tr>\n",
       "      <th>2022-T4</th>\n",
       "      <td>10.656</td>\n",
       "      <td>1</td>\n",
       "      <td>6</td>\n",
       "      <td>3</td>\n",
       "      <td>573</td>\n",
       "      <td>222</td>\n",
       "    </tr>\n",
       "  </tbody>\n",
       "</table>\n",
       "</div>"
      ],
      "text/plain": [
       "         Mbps (Media de bajada)  ADSL  Cablemodem  Fibra óptica  Wireless  \\\n",
       "Periodo                                                                     \n",
       "2014-T1                 362.000     4           2           150        71   \n",
       "2014-T2                 376.000     4           2           149        72   \n",
       "2014-T3                 387.000     4           3           155        85   \n",
       "2014-T4                 416.000     4           3           150        77   \n",
       "2015-T1                 435.000     4           3           168        79   \n",
       "2015-T2                 455.000     4           3           151        82   \n",
       "2015-T3                 479.000     4           3           163        85   \n",
       "2015-T4                 499.000     4           3           139        86   \n",
       "2016-T1                 508.000     4           3           164        85   \n",
       "2016-T2                 542.000     4           3           168        85   \n",
       "2016-T3                 594.000     4           3           170        81   \n",
       "2016-T4                 634.000     4           3           178        85   \n",
       "2017-T1                 662.000     4           3           180        85   \n",
       "2017-T2                 716.000     4           3           181        86   \n",
       "2017-T3                 834.000     4           4           194       106   \n",
       "2017-T4                   1.201     4           4           211       156   \n",
       "2018-T1                   1.322     4           4           217       165   \n",
       "2018-T2                   1.385     4           4           226       194   \n",
       "2018-T3                   1.536     4           4           247       246   \n",
       "2018-T4                   1.595     3           4           388       264   \n",
       "2019-T1                   1.738     3           4           637       276   \n",
       "2019-T2                   2.033     3           5           761       308   \n",
       "2019-T3                   2.418     3           5           852       338   \n",
       "2019-T4                   2.826     2           5           941       340   \n",
       "2020-T1                   3.752     2           5             1       352   \n",
       "2020-T2                   3.832     2           5             1       377   \n",
       "2020-T3                   4.067     2           5             1       413   \n",
       "2020-T4                   4.236     2           5             1       422   \n",
       "2021-T1                   4.311     2           5             1       435   \n",
       "2021-T2                   4.563     2           6             1       477   \n",
       "2021-T3                   4.846     2           6             2       492   \n",
       "2021-T4                   5.234     2           6             2       523   \n",
       "2022-T1                   5.511     2           6             2       546   \n",
       "2022-T2                   5.844     1           6             3       556   \n",
       "2022-T3                   6.246     1           6             3       557   \n",
       "2022-T4                  10.656     1           6             3       573   \n",
       "\n",
       "         Otros  \n",
       "Periodo         \n",
       "2014-T1     73  \n",
       "2014-T2     72  \n",
       "2014-T3     70  \n",
       "2014-T4     72  \n",
       "2015-T1     66  \n",
       "2015-T2     59  \n",
       "2015-T3     59  \n",
       "2015-T4     59  \n",
       "2016-T1     59  \n",
       "2016-T2     59  \n",
       "2016-T3     54  \n",
       "2016-T4     55  \n",
       "2017-T1     56  \n",
       "2017-T2     56  \n",
       "2017-T3    132  \n",
       "2017-T4    101  \n",
       "2018-T1     99  \n",
       "2018-T2     95  \n",
       "2018-T3     94  \n",
       "2018-T4    178  \n",
       "2019-T1    166  \n",
       "2019-T2    265  \n",
       "2019-T3    264  \n",
       "2019-T4    213  \n",
       "2020-T1    209  \n",
       "2020-T2    247  \n",
       "2020-T3    249  \n",
       "2020-T4    253  \n",
       "2021-T1    250  \n",
       "2021-T2    254  \n",
       "2021-T3    250  \n",
       "2021-T4    253  \n",
       "2022-T1    252  \n",
       "2022-T2    232  \n",
       "2022-T3    235  \n",
       "2022-T4    222  "
      ]
     },
     "execution_count": 1311,
     "metadata": {},
     "output_type": "execute_result"
    }
   ],
   "source": [
    "DatosNacionales1 = DatosNacionales.loc[:,['Mbps (Media de bajada)','ADSL','Cablemodem','Fibra óptica', 'Wireless','Otros']]\n",
    "DatosNacionales1"
   ]
  },
  {
   "cell_type": "code",
   "execution_count": 1312,
   "metadata": {},
   "outputs": [
    {
     "data": {
      "application/vnd.plotly.v1+json": {
       "config": {
        "linkText": "Export to plot.ly",
        "plotlyServerURL": "https://plot.ly",
        "showLink": true
       },
       "data": [
        {
         "line": {
          "color": "rgba(226, 74, 51, 1.0)",
          "dash": "solid",
          "shape": "linear",
          "width": 1.3
         },
         "mode": "lines",
         "name": "Mbps (Media de bajada)",
         "text": "",
         "type": "scatter",
         "x": [
          "2014-T1",
          "2014-T2",
          "2014-T3",
          "2014-T4",
          "2015-T1",
          "2015-T2",
          "2015-T3",
          "2015-T4",
          "2016-T1",
          "2016-T2",
          "2016-T3",
          "2016-T4",
          "2017-T1",
          "2017-T2",
          "2017-T3",
          "2017-T4",
          "2018-T1",
          "2018-T2",
          "2018-T3",
          "2018-T4",
          "2019-T1",
          "2019-T2",
          "2019-T3",
          "2019-T4",
          "2020-T1",
          "2020-T2",
          "2020-T3",
          "2020-T4",
          "2021-T1",
          "2021-T2",
          "2021-T3",
          "2021-T4",
          "2022-T1",
          "2022-T2",
          "2022-T3",
          "2022-T4"
         ],
         "y": [
          362,
          376,
          387,
          416,
          435,
          455,
          479,
          499,
          508,
          542,
          594,
          634,
          662,
          716,
          834,
          1.201,
          1.322,
          1.385,
          1.536,
          1.595,
          1.738,
          2.033,
          2.418,
          2.826,
          3.752,
          3.832,
          4.067,
          4.236,
          4.311,
          4.563,
          4.846,
          5.234,
          5.511,
          5.844,
          6.246,
          10.656
         ]
        },
        {
         "line": {
          "color": "rgba(62, 111, 176, 1.0)",
          "dash": "solid",
          "shape": "linear",
          "width": 1.3
         },
         "mode": "lines",
         "name": "ADSL",
         "text": "",
         "type": "scatter",
         "x": [
          "2014-T1",
          "2014-T2",
          "2014-T3",
          "2014-T4",
          "2015-T1",
          "2015-T2",
          "2015-T3",
          "2015-T4",
          "2016-T1",
          "2016-T2",
          "2016-T3",
          "2016-T4",
          "2017-T1",
          "2017-T2",
          "2017-T3",
          "2017-T4",
          "2018-T1",
          "2018-T2",
          "2018-T3",
          "2018-T4",
          "2019-T1",
          "2019-T2",
          "2019-T3",
          "2019-T4",
          "2020-T1",
          "2020-T2",
          "2020-T3",
          "2020-T4",
          "2021-T1",
          "2021-T2",
          "2021-T3",
          "2021-T4",
          "2022-T1",
          "2022-T2",
          "2022-T3",
          "2022-T4"
         ],
         "y": [
          4,
          4,
          4,
          4,
          4,
          4,
          4,
          4,
          4,
          4,
          4,
          4,
          4,
          4,
          4,
          4,
          4,
          4,
          4,
          3,
          3,
          3,
          3,
          2,
          2,
          2,
          2,
          2,
          2,
          2,
          2,
          2,
          2,
          1,
          1,
          1
         ]
        },
        {
         "line": {
          "color": "rgba(132, 118, 202, 1.0)",
          "dash": "solid",
          "shape": "linear",
          "width": 1.3
         },
         "mode": "lines",
         "name": "Cablemodem",
         "text": "",
         "type": "scatter",
         "x": [
          "2014-T1",
          "2014-T2",
          "2014-T3",
          "2014-T4",
          "2015-T1",
          "2015-T2",
          "2015-T3",
          "2015-T4",
          "2016-T1",
          "2016-T2",
          "2016-T3",
          "2016-T4",
          "2017-T1",
          "2017-T2",
          "2017-T3",
          "2017-T4",
          "2018-T1",
          "2018-T2",
          "2018-T3",
          "2018-T4",
          "2019-T1",
          "2019-T2",
          "2019-T3",
          "2019-T4",
          "2020-T1",
          "2020-T2",
          "2020-T3",
          "2020-T4",
          "2021-T1",
          "2021-T2",
          "2021-T3",
          "2021-T4",
          "2022-T1",
          "2022-T2",
          "2022-T3",
          "2022-T4"
         ],
         "y": [
          2,
          2,
          3,
          3,
          3,
          3,
          3,
          3,
          3,
          3,
          3,
          3,
          3,
          3,
          4,
          4,
          4,
          4,
          4,
          4,
          4,
          5,
          5,
          5,
          5,
          5,
          5,
          5,
          5,
          6,
          6,
          6,
          6,
          6,
          6,
          6
         ]
        },
        {
         "line": {
          "color": "rgba(101, 101, 101, 1.0)",
          "dash": "solid",
          "shape": "linear",
          "width": 1.3
         },
         "mode": "lines",
         "name": "Fibra óptica",
         "text": "",
         "type": "scatter",
         "x": [
          "2014-T1",
          "2014-T2",
          "2014-T3",
          "2014-T4",
          "2015-T1",
          "2015-T2",
          "2015-T3",
          "2015-T4",
          "2016-T1",
          "2016-T2",
          "2016-T3",
          "2016-T4",
          "2017-T1",
          "2017-T2",
          "2017-T3",
          "2017-T4",
          "2018-T1",
          "2018-T2",
          "2018-T3",
          "2018-T4",
          "2019-T1",
          "2019-T2",
          "2019-T3",
          "2019-T4",
          "2020-T1",
          "2020-T2",
          "2020-T3",
          "2020-T4",
          "2021-T1",
          "2021-T2",
          "2021-T3",
          "2021-T4",
          "2022-T1",
          "2022-T2",
          "2022-T3",
          "2022-T4"
         ],
         "y": [
          150,
          149,
          155,
          150,
          168,
          151,
          163,
          139,
          164,
          168,
          170,
          178,
          180,
          181,
          194,
          211,
          217,
          226,
          247,
          388,
          637,
          761,
          852,
          941,
          1,
          1,
          1,
          1,
          1,
          1,
          2,
          2,
          2,
          3,
          3,
          3
         ]
        },
        {
         "line": {
          "color": "rgba(251, 193, 94, 1.0)",
          "dash": "solid",
          "shape": "linear",
          "width": 1.3
         },
         "mode": "lines",
         "name": "Wireless",
         "text": "",
         "type": "scatter",
         "x": [
          "2014-T1",
          "2014-T2",
          "2014-T3",
          "2014-T4",
          "2015-T1",
          "2015-T2",
          "2015-T3",
          "2015-T4",
          "2016-T1",
          "2016-T2",
          "2016-T3",
          "2016-T4",
          "2017-T1",
          "2017-T2",
          "2017-T3",
          "2017-T4",
          "2018-T1",
          "2018-T2",
          "2018-T3",
          "2018-T4",
          "2019-T1",
          "2019-T2",
          "2019-T3",
          "2019-T4",
          "2020-T1",
          "2020-T2",
          "2020-T3",
          "2020-T4",
          "2021-T1",
          "2021-T2",
          "2021-T3",
          "2021-T4",
          "2022-T1",
          "2022-T2",
          "2022-T3",
          "2022-T4"
         ],
         "y": [
          71,
          72,
          85,
          77,
          79,
          82,
          85,
          86,
          85,
          85,
          81,
          85,
          85,
          86,
          106,
          156,
          165,
          194,
          246,
          264,
          276,
          308,
          338,
          340,
          352,
          377,
          413,
          422,
          435,
          477,
          492,
          523,
          546,
          556,
          557,
          573
         ]
        },
        {
         "line": {
          "color": "rgba(142, 186, 66, 1.0)",
          "dash": "solid",
          "shape": "linear",
          "width": 1.3
         },
         "mode": "lines",
         "name": "Otros",
         "text": "",
         "type": "scatter",
         "x": [
          "2014-T1",
          "2014-T2",
          "2014-T3",
          "2014-T4",
          "2015-T1",
          "2015-T2",
          "2015-T3",
          "2015-T4",
          "2016-T1",
          "2016-T2",
          "2016-T3",
          "2016-T4",
          "2017-T1",
          "2017-T2",
          "2017-T3",
          "2017-T4",
          "2018-T1",
          "2018-T2",
          "2018-T3",
          "2018-T4",
          "2019-T1",
          "2019-T2",
          "2019-T3",
          "2019-T4",
          "2020-T1",
          "2020-T2",
          "2020-T3",
          "2020-T4",
          "2021-T1",
          "2021-T2",
          "2021-T3",
          "2021-T4",
          "2022-T1",
          "2022-T2",
          "2022-T3",
          "2022-T4"
         ],
         "y": [
          73,
          72,
          70,
          72,
          66,
          59,
          59,
          59,
          59,
          59,
          54,
          55,
          56,
          56,
          132,
          101,
          99,
          95,
          94,
          178,
          166,
          265,
          264,
          213,
          209,
          247,
          249,
          253,
          250,
          254,
          250,
          253,
          252,
          232,
          235,
          222
         ]
        }
       ],
       "layout": {
        "legend": {
         "bgcolor": "#FFFFFF",
         "font": {
          "color": "#666666"
         }
        },
        "paper_bgcolor": "#FFFFFF",
        "plot_bgcolor": "#E5E5E5",
        "template": {
         "data": {
          "bar": [
           {
            "error_x": {
             "color": "#2a3f5f"
            },
            "error_y": {
             "color": "#2a3f5f"
            },
            "marker": {
             "line": {
              "color": "#E5ECF6",
              "width": 0.5
             },
             "pattern": {
              "fillmode": "overlay",
              "size": 10,
              "solidity": 0.2
             }
            },
            "type": "bar"
           }
          ],
          "barpolar": [
           {
            "marker": {
             "line": {
              "color": "#E5ECF6",
              "width": 0.5
             },
             "pattern": {
              "fillmode": "overlay",
              "size": 10,
              "solidity": 0.2
             }
            },
            "type": "barpolar"
           }
          ],
          "carpet": [
           {
            "aaxis": {
             "endlinecolor": "#2a3f5f",
             "gridcolor": "white",
             "linecolor": "white",
             "minorgridcolor": "white",
             "startlinecolor": "#2a3f5f"
            },
            "baxis": {
             "endlinecolor": "#2a3f5f",
             "gridcolor": "white",
             "linecolor": "white",
             "minorgridcolor": "white",
             "startlinecolor": "#2a3f5f"
            },
            "type": "carpet"
           }
          ],
          "choropleth": [
           {
            "colorbar": {
             "outlinewidth": 0,
             "ticks": ""
            },
            "type": "choropleth"
           }
          ],
          "contour": [
           {
            "colorbar": {
             "outlinewidth": 0,
             "ticks": ""
            },
            "colorscale": [
             [
              0,
              "#0d0887"
             ],
             [
              0.1111111111111111,
              "#46039f"
             ],
             [
              0.2222222222222222,
              "#7201a8"
             ],
             [
              0.3333333333333333,
              "#9c179e"
             ],
             [
              0.4444444444444444,
              "#bd3786"
             ],
             [
              0.5555555555555556,
              "#d8576b"
             ],
             [
              0.6666666666666666,
              "#ed7953"
             ],
             [
              0.7777777777777778,
              "#fb9f3a"
             ],
             [
              0.8888888888888888,
              "#fdca26"
             ],
             [
              1,
              "#f0f921"
             ]
            ],
            "type": "contour"
           }
          ],
          "contourcarpet": [
           {
            "colorbar": {
             "outlinewidth": 0,
             "ticks": ""
            },
            "type": "contourcarpet"
           }
          ],
          "heatmap": [
           {
            "colorbar": {
             "outlinewidth": 0,
             "ticks": ""
            },
            "colorscale": [
             [
              0,
              "#0d0887"
             ],
             [
              0.1111111111111111,
              "#46039f"
             ],
             [
              0.2222222222222222,
              "#7201a8"
             ],
             [
              0.3333333333333333,
              "#9c179e"
             ],
             [
              0.4444444444444444,
              "#bd3786"
             ],
             [
              0.5555555555555556,
              "#d8576b"
             ],
             [
              0.6666666666666666,
              "#ed7953"
             ],
             [
              0.7777777777777778,
              "#fb9f3a"
             ],
             [
              0.8888888888888888,
              "#fdca26"
             ],
             [
              1,
              "#f0f921"
             ]
            ],
            "type": "heatmap"
           }
          ],
          "heatmapgl": [
           {
            "colorbar": {
             "outlinewidth": 0,
             "ticks": ""
            },
            "colorscale": [
             [
              0,
              "#0d0887"
             ],
             [
              0.1111111111111111,
              "#46039f"
             ],
             [
              0.2222222222222222,
              "#7201a8"
             ],
             [
              0.3333333333333333,
              "#9c179e"
             ],
             [
              0.4444444444444444,
              "#bd3786"
             ],
             [
              0.5555555555555556,
              "#d8576b"
             ],
             [
              0.6666666666666666,
              "#ed7953"
             ],
             [
              0.7777777777777778,
              "#fb9f3a"
             ],
             [
              0.8888888888888888,
              "#fdca26"
             ],
             [
              1,
              "#f0f921"
             ]
            ],
            "type": "heatmapgl"
           }
          ],
          "histogram": [
           {
            "marker": {
             "pattern": {
              "fillmode": "overlay",
              "size": 10,
              "solidity": 0.2
             }
            },
            "type": "histogram"
           }
          ],
          "histogram2d": [
           {
            "colorbar": {
             "outlinewidth": 0,
             "ticks": ""
            },
            "colorscale": [
             [
              0,
              "#0d0887"
             ],
             [
              0.1111111111111111,
              "#46039f"
             ],
             [
              0.2222222222222222,
              "#7201a8"
             ],
             [
              0.3333333333333333,
              "#9c179e"
             ],
             [
              0.4444444444444444,
              "#bd3786"
             ],
             [
              0.5555555555555556,
              "#d8576b"
             ],
             [
              0.6666666666666666,
              "#ed7953"
             ],
             [
              0.7777777777777778,
              "#fb9f3a"
             ],
             [
              0.8888888888888888,
              "#fdca26"
             ],
             [
              1,
              "#f0f921"
             ]
            ],
            "type": "histogram2d"
           }
          ],
          "histogram2dcontour": [
           {
            "colorbar": {
             "outlinewidth": 0,
             "ticks": ""
            },
            "colorscale": [
             [
              0,
              "#0d0887"
             ],
             [
              0.1111111111111111,
              "#46039f"
             ],
             [
              0.2222222222222222,
              "#7201a8"
             ],
             [
              0.3333333333333333,
              "#9c179e"
             ],
             [
              0.4444444444444444,
              "#bd3786"
             ],
             [
              0.5555555555555556,
              "#d8576b"
             ],
             [
              0.6666666666666666,
              "#ed7953"
             ],
             [
              0.7777777777777778,
              "#fb9f3a"
             ],
             [
              0.8888888888888888,
              "#fdca26"
             ],
             [
              1,
              "#f0f921"
             ]
            ],
            "type": "histogram2dcontour"
           }
          ],
          "mesh3d": [
           {
            "colorbar": {
             "outlinewidth": 0,
             "ticks": ""
            },
            "type": "mesh3d"
           }
          ],
          "parcoords": [
           {
            "line": {
             "colorbar": {
              "outlinewidth": 0,
              "ticks": ""
             }
            },
            "type": "parcoords"
           }
          ],
          "pie": [
           {
            "automargin": true,
            "type": "pie"
           }
          ],
          "scatter": [
           {
            "fillpattern": {
             "fillmode": "overlay",
             "size": 10,
             "solidity": 0.2
            },
            "type": "scatter"
           }
          ],
          "scatter3d": [
           {
            "line": {
             "colorbar": {
              "outlinewidth": 0,
              "ticks": ""
             }
            },
            "marker": {
             "colorbar": {
              "outlinewidth": 0,
              "ticks": ""
             }
            },
            "type": "scatter3d"
           }
          ],
          "scattercarpet": [
           {
            "marker": {
             "colorbar": {
              "outlinewidth": 0,
              "ticks": ""
             }
            },
            "type": "scattercarpet"
           }
          ],
          "scattergeo": [
           {
            "marker": {
             "colorbar": {
              "outlinewidth": 0,
              "ticks": ""
             }
            },
            "type": "scattergeo"
           }
          ],
          "scattergl": [
           {
            "marker": {
             "colorbar": {
              "outlinewidth": 0,
              "ticks": ""
             }
            },
            "type": "scattergl"
           }
          ],
          "scattermapbox": [
           {
            "marker": {
             "colorbar": {
              "outlinewidth": 0,
              "ticks": ""
             }
            },
            "type": "scattermapbox"
           }
          ],
          "scatterpolar": [
           {
            "marker": {
             "colorbar": {
              "outlinewidth": 0,
              "ticks": ""
             }
            },
            "type": "scatterpolar"
           }
          ],
          "scatterpolargl": [
           {
            "marker": {
             "colorbar": {
              "outlinewidth": 0,
              "ticks": ""
             }
            },
            "type": "scatterpolargl"
           }
          ],
          "scatterternary": [
           {
            "marker": {
             "colorbar": {
              "outlinewidth": 0,
              "ticks": ""
             }
            },
            "type": "scatterternary"
           }
          ],
          "surface": [
           {
            "colorbar": {
             "outlinewidth": 0,
             "ticks": ""
            },
            "colorscale": [
             [
              0,
              "#0d0887"
             ],
             [
              0.1111111111111111,
              "#46039f"
             ],
             [
              0.2222222222222222,
              "#7201a8"
             ],
             [
              0.3333333333333333,
              "#9c179e"
             ],
             [
              0.4444444444444444,
              "#bd3786"
             ],
             [
              0.5555555555555556,
              "#d8576b"
             ],
             [
              0.6666666666666666,
              "#ed7953"
             ],
             [
              0.7777777777777778,
              "#fb9f3a"
             ],
             [
              0.8888888888888888,
              "#fdca26"
             ],
             [
              1,
              "#f0f921"
             ]
            ],
            "type": "surface"
           }
          ],
          "table": [
           {
            "cells": {
             "fill": {
              "color": "#EBF0F8"
             },
             "line": {
              "color": "white"
             }
            },
            "header": {
             "fill": {
              "color": "#C8D4E3"
             },
             "line": {
              "color": "white"
             }
            },
            "type": "table"
           }
          ]
         },
         "layout": {
          "annotationdefaults": {
           "arrowcolor": "#2a3f5f",
           "arrowhead": 0,
           "arrowwidth": 1
          },
          "autotypenumbers": "strict",
          "coloraxis": {
           "colorbar": {
            "outlinewidth": 0,
            "ticks": ""
           }
          },
          "colorscale": {
           "diverging": [
            [
             0,
             "#8e0152"
            ],
            [
             0.1,
             "#c51b7d"
            ],
            [
             0.2,
             "#de77ae"
            ],
            [
             0.3,
             "#f1b6da"
            ],
            [
             0.4,
             "#fde0ef"
            ],
            [
             0.5,
             "#f7f7f7"
            ],
            [
             0.6,
             "#e6f5d0"
            ],
            [
             0.7,
             "#b8e186"
            ],
            [
             0.8,
             "#7fbc41"
            ],
            [
             0.9,
             "#4d9221"
            ],
            [
             1,
             "#276419"
            ]
           ],
           "sequential": [
            [
             0,
             "#0d0887"
            ],
            [
             0.1111111111111111,
             "#46039f"
            ],
            [
             0.2222222222222222,
             "#7201a8"
            ],
            [
             0.3333333333333333,
             "#9c179e"
            ],
            [
             0.4444444444444444,
             "#bd3786"
            ],
            [
             0.5555555555555556,
             "#d8576b"
            ],
            [
             0.6666666666666666,
             "#ed7953"
            ],
            [
             0.7777777777777778,
             "#fb9f3a"
            ],
            [
             0.8888888888888888,
             "#fdca26"
            ],
            [
             1,
             "#f0f921"
            ]
           ],
           "sequentialminus": [
            [
             0,
             "#0d0887"
            ],
            [
             0.1111111111111111,
             "#46039f"
            ],
            [
             0.2222222222222222,
             "#7201a8"
            ],
            [
             0.3333333333333333,
             "#9c179e"
            ],
            [
             0.4444444444444444,
             "#bd3786"
            ],
            [
             0.5555555555555556,
             "#d8576b"
            ],
            [
             0.6666666666666666,
             "#ed7953"
            ],
            [
             0.7777777777777778,
             "#fb9f3a"
            ],
            [
             0.8888888888888888,
             "#fdca26"
            ],
            [
             1,
             "#f0f921"
            ]
           ]
          },
          "colorway": [
           "#636efa",
           "#EF553B",
           "#00cc96",
           "#ab63fa",
           "#FFA15A",
           "#19d3f3",
           "#FF6692",
           "#B6E880",
           "#FF97FF",
           "#FECB52"
          ],
          "font": {
           "color": "#2a3f5f"
          },
          "geo": {
           "bgcolor": "white",
           "lakecolor": "white",
           "landcolor": "#E5ECF6",
           "showlakes": true,
           "showland": true,
           "subunitcolor": "white"
          },
          "hoverlabel": {
           "align": "left"
          },
          "hovermode": "closest",
          "mapbox": {
           "style": "light"
          },
          "paper_bgcolor": "white",
          "plot_bgcolor": "#E5ECF6",
          "polar": {
           "angularaxis": {
            "gridcolor": "white",
            "linecolor": "white",
            "ticks": ""
           },
           "bgcolor": "#E5ECF6",
           "radialaxis": {
            "gridcolor": "white",
            "linecolor": "white",
            "ticks": ""
           }
          },
          "scene": {
           "xaxis": {
            "backgroundcolor": "#E5ECF6",
            "gridcolor": "white",
            "gridwidth": 2,
            "linecolor": "white",
            "showbackground": true,
            "ticks": "",
            "zerolinecolor": "white"
           },
           "yaxis": {
            "backgroundcolor": "#E5ECF6",
            "gridcolor": "white",
            "gridwidth": 2,
            "linecolor": "white",
            "showbackground": true,
            "ticks": "",
            "zerolinecolor": "white"
           },
           "zaxis": {
            "backgroundcolor": "#E5ECF6",
            "gridcolor": "white",
            "gridwidth": 2,
            "linecolor": "white",
            "showbackground": true,
            "ticks": "",
            "zerolinecolor": "white"
           }
          },
          "shapedefaults": {
           "line": {
            "color": "#2a3f5f"
           }
          },
          "ternary": {
           "aaxis": {
            "gridcolor": "white",
            "linecolor": "white",
            "ticks": ""
           },
           "baxis": {
            "gridcolor": "white",
            "linecolor": "white",
            "ticks": ""
           },
           "bgcolor": "#E5ECF6",
           "caxis": {
            "gridcolor": "white",
            "linecolor": "white",
            "ticks": ""
           }
          },
          "title": {
           "x": 0.05
          },
          "xaxis": {
           "automargin": true,
           "gridcolor": "white",
           "linecolor": "white",
           "ticks": "",
           "title": {
            "standoff": 15
           },
           "zerolinecolor": "white",
           "zerolinewidth": 2
          },
          "yaxis": {
           "automargin": true,
           "gridcolor": "white",
           "linecolor": "white",
           "ticks": "",
           "title": {
            "standoff": 15
           },
           "zerolinecolor": "white",
           "zerolinewidth": 2
          }
         }
        },
        "title": {
         "font": {
          "color": "#151516"
         }
        },
        "xaxis": {
         "gridcolor": "#F6F6F6",
         "showgrid": true,
         "tickfont": {
          "color": "#666666"
         },
         "title": {
          "font": {
           "color": "#666666"
          },
          "text": ""
         },
         "zerolinecolor": "#F6F6F6"
        },
        "yaxis": {
         "gridcolor": "#F6F6F6",
         "showgrid": true,
         "tickfont": {
          "color": "#666666"
         },
         "title": {
          "font": {
           "color": "#666666"
          },
          "text": ""
         },
         "zerolinecolor": "#F6F6F6"
        }
       }
      },
      "text/html": [
       "<div>                            <div id=\"1c63510f-e053-4421-8c06-60ae8a37ff16\" class=\"plotly-graph-div\" style=\"height:525px; width:100%;\"></div>            <script type=\"text/javascript\">                require([\"plotly\"], function(Plotly) {                    window.PLOTLYENV=window.PLOTLYENV || {};\n",
       "                    window.PLOTLYENV.BASE_URL='https://plot.ly';                                    if (document.getElementById(\"1c63510f-e053-4421-8c06-60ae8a37ff16\")) {                    Plotly.newPlot(                        \"1c63510f-e053-4421-8c06-60ae8a37ff16\",                        [{\"line\":{\"color\":\"rgba(226, 74, 51, 1.0)\",\"dash\":\"solid\",\"shape\":\"linear\",\"width\":1.3},\"mode\":\"lines\",\"name\":\"Mbps (Media de bajada)\",\"text\":\"\",\"x\":[\"2014-T1\",\"2014-T2\",\"2014-T3\",\"2014-T4\",\"2015-T1\",\"2015-T2\",\"2015-T3\",\"2015-T4\",\"2016-T1\",\"2016-T2\",\"2016-T3\",\"2016-T4\",\"2017-T1\",\"2017-T2\",\"2017-T3\",\"2017-T4\",\"2018-T1\",\"2018-T2\",\"2018-T3\",\"2018-T4\",\"2019-T1\",\"2019-T2\",\"2019-T3\",\"2019-T4\",\"2020-T1\",\"2020-T2\",\"2020-T3\",\"2020-T4\",\"2021-T1\",\"2021-T2\",\"2021-T3\",\"2021-T4\",\"2022-T1\",\"2022-T2\",\"2022-T3\",\"2022-T4\"],\"y\":[362.0,376.0,387.0,416.0,435.0,455.0,479.0,499.0,508.0,542.0,594.0,634.0,662.0,716.0,834.0,1.201,1.322,1.385,1.536,1.595,1.738,2.033,2.418,2.826,3.752,3.832,4.067,4.236,4.311,4.563,4.846,5.234,5.511,5.844,6.246,10.656],\"type\":\"scatter\"},{\"line\":{\"color\":\"rgba(62, 111, 176, 1.0)\",\"dash\":\"solid\",\"shape\":\"linear\",\"width\":1.3},\"mode\":\"lines\",\"name\":\"ADSL\",\"text\":\"\",\"x\":[\"2014-T1\",\"2014-T2\",\"2014-T3\",\"2014-T4\",\"2015-T1\",\"2015-T2\",\"2015-T3\",\"2015-T4\",\"2016-T1\",\"2016-T2\",\"2016-T3\",\"2016-T4\",\"2017-T1\",\"2017-T2\",\"2017-T3\",\"2017-T4\",\"2018-T1\",\"2018-T2\",\"2018-T3\",\"2018-T4\",\"2019-T1\",\"2019-T2\",\"2019-T3\",\"2019-T4\",\"2020-T1\",\"2020-T2\",\"2020-T3\",\"2020-T4\",\"2021-T1\",\"2021-T2\",\"2021-T3\",\"2021-T4\",\"2022-T1\",\"2022-T2\",\"2022-T3\",\"2022-T4\"],\"y\":[4,4,4,4,4,4,4,4,4,4,4,4,4,4,4,4,4,4,4,3,3,3,3,2,2,2,2,2,2,2,2,2,2,1,1,1],\"type\":\"scatter\"},{\"line\":{\"color\":\"rgba(132, 118, 202, 1.0)\",\"dash\":\"solid\",\"shape\":\"linear\",\"width\":1.3},\"mode\":\"lines\",\"name\":\"Cablemodem\",\"text\":\"\",\"x\":[\"2014-T1\",\"2014-T2\",\"2014-T3\",\"2014-T4\",\"2015-T1\",\"2015-T2\",\"2015-T3\",\"2015-T4\",\"2016-T1\",\"2016-T2\",\"2016-T3\",\"2016-T4\",\"2017-T1\",\"2017-T2\",\"2017-T3\",\"2017-T4\",\"2018-T1\",\"2018-T2\",\"2018-T3\",\"2018-T4\",\"2019-T1\",\"2019-T2\",\"2019-T3\",\"2019-T4\",\"2020-T1\",\"2020-T2\",\"2020-T3\",\"2020-T4\",\"2021-T1\",\"2021-T2\",\"2021-T3\",\"2021-T4\",\"2022-T1\",\"2022-T2\",\"2022-T3\",\"2022-T4\"],\"y\":[2,2,3,3,3,3,3,3,3,3,3,3,3,3,4,4,4,4,4,4,4,5,5,5,5,5,5,5,5,6,6,6,6,6,6,6],\"type\":\"scatter\"},{\"line\":{\"color\":\"rgba(101, 101, 101, 1.0)\",\"dash\":\"solid\",\"shape\":\"linear\",\"width\":1.3},\"mode\":\"lines\",\"name\":\"Fibra \\u00f3ptica\",\"text\":\"\",\"x\":[\"2014-T1\",\"2014-T2\",\"2014-T3\",\"2014-T4\",\"2015-T1\",\"2015-T2\",\"2015-T3\",\"2015-T4\",\"2016-T1\",\"2016-T2\",\"2016-T3\",\"2016-T4\",\"2017-T1\",\"2017-T2\",\"2017-T3\",\"2017-T4\",\"2018-T1\",\"2018-T2\",\"2018-T3\",\"2018-T4\",\"2019-T1\",\"2019-T2\",\"2019-T3\",\"2019-T4\",\"2020-T1\",\"2020-T2\",\"2020-T3\",\"2020-T4\",\"2021-T1\",\"2021-T2\",\"2021-T3\",\"2021-T4\",\"2022-T1\",\"2022-T2\",\"2022-T3\",\"2022-T4\"],\"y\":[150,149,155,150,168,151,163,139,164,168,170,178,180,181,194,211,217,226,247,388,637,761,852,941,1,1,1,1,1,1,2,2,2,3,3,3],\"type\":\"scatter\"},{\"line\":{\"color\":\"rgba(251, 193, 94, 1.0)\",\"dash\":\"solid\",\"shape\":\"linear\",\"width\":1.3},\"mode\":\"lines\",\"name\":\"Wireless\",\"text\":\"\",\"x\":[\"2014-T1\",\"2014-T2\",\"2014-T3\",\"2014-T4\",\"2015-T1\",\"2015-T2\",\"2015-T3\",\"2015-T4\",\"2016-T1\",\"2016-T2\",\"2016-T3\",\"2016-T4\",\"2017-T1\",\"2017-T2\",\"2017-T3\",\"2017-T4\",\"2018-T1\",\"2018-T2\",\"2018-T3\",\"2018-T4\",\"2019-T1\",\"2019-T2\",\"2019-T3\",\"2019-T4\",\"2020-T1\",\"2020-T2\",\"2020-T3\",\"2020-T4\",\"2021-T1\",\"2021-T2\",\"2021-T3\",\"2021-T4\",\"2022-T1\",\"2022-T2\",\"2022-T3\",\"2022-T4\"],\"y\":[71,72,85,77,79,82,85,86,85,85,81,85,85,86,106,156,165,194,246,264,276,308,338,340,352,377,413,422,435,477,492,523,546,556,557,573],\"type\":\"scatter\"},{\"line\":{\"color\":\"rgba(142, 186, 66, 1.0)\",\"dash\":\"solid\",\"shape\":\"linear\",\"width\":1.3},\"mode\":\"lines\",\"name\":\"Otros\",\"text\":\"\",\"x\":[\"2014-T1\",\"2014-T2\",\"2014-T3\",\"2014-T4\",\"2015-T1\",\"2015-T2\",\"2015-T3\",\"2015-T4\",\"2016-T1\",\"2016-T2\",\"2016-T3\",\"2016-T4\",\"2017-T1\",\"2017-T2\",\"2017-T3\",\"2017-T4\",\"2018-T1\",\"2018-T2\",\"2018-T3\",\"2018-T4\",\"2019-T1\",\"2019-T2\",\"2019-T3\",\"2019-T4\",\"2020-T1\",\"2020-T2\",\"2020-T3\",\"2020-T4\",\"2021-T1\",\"2021-T2\",\"2021-T3\",\"2021-T4\",\"2022-T1\",\"2022-T2\",\"2022-T3\",\"2022-T4\"],\"y\":[73,72,70,72,66,59,59,59,59,59,54,55,56,56,132,101,99,95,94,178,166,265,264,213,209,247,249,253,250,254,250,253,252,232,235,222],\"type\":\"scatter\"}],                        {\"legend\":{\"bgcolor\":\"#FFFFFF\",\"font\":{\"color\":\"#666666\"}},\"paper_bgcolor\":\"#FFFFFF\",\"plot_bgcolor\":\"#E5E5E5\",\"template\":{\"data\":{\"barpolar\":[{\"marker\":{\"line\":{\"color\":\"#E5ECF6\",\"width\":0.5},\"pattern\":{\"fillmode\":\"overlay\",\"size\":10,\"solidity\":0.2}},\"type\":\"barpolar\"}],\"bar\":[{\"error_x\":{\"color\":\"#2a3f5f\"},\"error_y\":{\"color\":\"#2a3f5f\"},\"marker\":{\"line\":{\"color\":\"#E5ECF6\",\"width\":0.5},\"pattern\":{\"fillmode\":\"overlay\",\"size\":10,\"solidity\":0.2}},\"type\":\"bar\"}],\"carpet\":[{\"aaxis\":{\"endlinecolor\":\"#2a3f5f\",\"gridcolor\":\"white\",\"linecolor\":\"white\",\"minorgridcolor\":\"white\",\"startlinecolor\":\"#2a3f5f\"},\"baxis\":{\"endlinecolor\":\"#2a3f5f\",\"gridcolor\":\"white\",\"linecolor\":\"white\",\"minorgridcolor\":\"white\",\"startlinecolor\":\"#2a3f5f\"},\"type\":\"carpet\"}],\"choropleth\":[{\"colorbar\":{\"outlinewidth\":0,\"ticks\":\"\"},\"type\":\"choropleth\"}],\"contourcarpet\":[{\"colorbar\":{\"outlinewidth\":0,\"ticks\":\"\"},\"type\":\"contourcarpet\"}],\"contour\":[{\"colorbar\":{\"outlinewidth\":0,\"ticks\":\"\"},\"colorscale\":[[0.0,\"#0d0887\"],[0.1111111111111111,\"#46039f\"],[0.2222222222222222,\"#7201a8\"],[0.3333333333333333,\"#9c179e\"],[0.4444444444444444,\"#bd3786\"],[0.5555555555555556,\"#d8576b\"],[0.6666666666666666,\"#ed7953\"],[0.7777777777777778,\"#fb9f3a\"],[0.8888888888888888,\"#fdca26\"],[1.0,\"#f0f921\"]],\"type\":\"contour\"}],\"heatmapgl\":[{\"colorbar\":{\"outlinewidth\":0,\"ticks\":\"\"},\"colorscale\":[[0.0,\"#0d0887\"],[0.1111111111111111,\"#46039f\"],[0.2222222222222222,\"#7201a8\"],[0.3333333333333333,\"#9c179e\"],[0.4444444444444444,\"#bd3786\"],[0.5555555555555556,\"#d8576b\"],[0.6666666666666666,\"#ed7953\"],[0.7777777777777778,\"#fb9f3a\"],[0.8888888888888888,\"#fdca26\"],[1.0,\"#f0f921\"]],\"type\":\"heatmapgl\"}],\"heatmap\":[{\"colorbar\":{\"outlinewidth\":0,\"ticks\":\"\"},\"colorscale\":[[0.0,\"#0d0887\"],[0.1111111111111111,\"#46039f\"],[0.2222222222222222,\"#7201a8\"],[0.3333333333333333,\"#9c179e\"],[0.4444444444444444,\"#bd3786\"],[0.5555555555555556,\"#d8576b\"],[0.6666666666666666,\"#ed7953\"],[0.7777777777777778,\"#fb9f3a\"],[0.8888888888888888,\"#fdca26\"],[1.0,\"#f0f921\"]],\"type\":\"heatmap\"}],\"histogram2dcontour\":[{\"colorbar\":{\"outlinewidth\":0,\"ticks\":\"\"},\"colorscale\":[[0.0,\"#0d0887\"],[0.1111111111111111,\"#46039f\"],[0.2222222222222222,\"#7201a8\"],[0.3333333333333333,\"#9c179e\"],[0.4444444444444444,\"#bd3786\"],[0.5555555555555556,\"#d8576b\"],[0.6666666666666666,\"#ed7953\"],[0.7777777777777778,\"#fb9f3a\"],[0.8888888888888888,\"#fdca26\"],[1.0,\"#f0f921\"]],\"type\":\"histogram2dcontour\"}],\"histogram2d\":[{\"colorbar\":{\"outlinewidth\":0,\"ticks\":\"\"},\"colorscale\":[[0.0,\"#0d0887\"],[0.1111111111111111,\"#46039f\"],[0.2222222222222222,\"#7201a8\"],[0.3333333333333333,\"#9c179e\"],[0.4444444444444444,\"#bd3786\"],[0.5555555555555556,\"#d8576b\"],[0.6666666666666666,\"#ed7953\"],[0.7777777777777778,\"#fb9f3a\"],[0.8888888888888888,\"#fdca26\"],[1.0,\"#f0f921\"]],\"type\":\"histogram2d\"}],\"histogram\":[{\"marker\":{\"pattern\":{\"fillmode\":\"overlay\",\"size\":10,\"solidity\":0.2}},\"type\":\"histogram\"}],\"mesh3d\":[{\"colorbar\":{\"outlinewidth\":0,\"ticks\":\"\"},\"type\":\"mesh3d\"}],\"parcoords\":[{\"line\":{\"colorbar\":{\"outlinewidth\":0,\"ticks\":\"\"}},\"type\":\"parcoords\"}],\"pie\":[{\"automargin\":true,\"type\":\"pie\"}],\"scatter3d\":[{\"line\":{\"colorbar\":{\"outlinewidth\":0,\"ticks\":\"\"}},\"marker\":{\"colorbar\":{\"outlinewidth\":0,\"ticks\":\"\"}},\"type\":\"scatter3d\"}],\"scattercarpet\":[{\"marker\":{\"colorbar\":{\"outlinewidth\":0,\"ticks\":\"\"}},\"type\":\"scattercarpet\"}],\"scattergeo\":[{\"marker\":{\"colorbar\":{\"outlinewidth\":0,\"ticks\":\"\"}},\"type\":\"scattergeo\"}],\"scattergl\":[{\"marker\":{\"colorbar\":{\"outlinewidth\":0,\"ticks\":\"\"}},\"type\":\"scattergl\"}],\"scattermapbox\":[{\"marker\":{\"colorbar\":{\"outlinewidth\":0,\"ticks\":\"\"}},\"type\":\"scattermapbox\"}],\"scatterpolargl\":[{\"marker\":{\"colorbar\":{\"outlinewidth\":0,\"ticks\":\"\"}},\"type\":\"scatterpolargl\"}],\"scatterpolar\":[{\"marker\":{\"colorbar\":{\"outlinewidth\":0,\"ticks\":\"\"}},\"type\":\"scatterpolar\"}],\"scatter\":[{\"fillpattern\":{\"fillmode\":\"overlay\",\"size\":10,\"solidity\":0.2},\"type\":\"scatter\"}],\"scatterternary\":[{\"marker\":{\"colorbar\":{\"outlinewidth\":0,\"ticks\":\"\"}},\"type\":\"scatterternary\"}],\"surface\":[{\"colorbar\":{\"outlinewidth\":0,\"ticks\":\"\"},\"colorscale\":[[0.0,\"#0d0887\"],[0.1111111111111111,\"#46039f\"],[0.2222222222222222,\"#7201a8\"],[0.3333333333333333,\"#9c179e\"],[0.4444444444444444,\"#bd3786\"],[0.5555555555555556,\"#d8576b\"],[0.6666666666666666,\"#ed7953\"],[0.7777777777777778,\"#fb9f3a\"],[0.8888888888888888,\"#fdca26\"],[1.0,\"#f0f921\"]],\"type\":\"surface\"}],\"table\":[{\"cells\":{\"fill\":{\"color\":\"#EBF0F8\"},\"line\":{\"color\":\"white\"}},\"header\":{\"fill\":{\"color\":\"#C8D4E3\"},\"line\":{\"color\":\"white\"}},\"type\":\"table\"}]},\"layout\":{\"annotationdefaults\":{\"arrowcolor\":\"#2a3f5f\",\"arrowhead\":0,\"arrowwidth\":1},\"autotypenumbers\":\"strict\",\"coloraxis\":{\"colorbar\":{\"outlinewidth\":0,\"ticks\":\"\"}},\"colorscale\":{\"diverging\":[[0,\"#8e0152\"],[0.1,\"#c51b7d\"],[0.2,\"#de77ae\"],[0.3,\"#f1b6da\"],[0.4,\"#fde0ef\"],[0.5,\"#f7f7f7\"],[0.6,\"#e6f5d0\"],[0.7,\"#b8e186\"],[0.8,\"#7fbc41\"],[0.9,\"#4d9221\"],[1,\"#276419\"]],\"sequential\":[[0.0,\"#0d0887\"],[0.1111111111111111,\"#46039f\"],[0.2222222222222222,\"#7201a8\"],[0.3333333333333333,\"#9c179e\"],[0.4444444444444444,\"#bd3786\"],[0.5555555555555556,\"#d8576b\"],[0.6666666666666666,\"#ed7953\"],[0.7777777777777778,\"#fb9f3a\"],[0.8888888888888888,\"#fdca26\"],[1.0,\"#f0f921\"]],\"sequentialminus\":[[0.0,\"#0d0887\"],[0.1111111111111111,\"#46039f\"],[0.2222222222222222,\"#7201a8\"],[0.3333333333333333,\"#9c179e\"],[0.4444444444444444,\"#bd3786\"],[0.5555555555555556,\"#d8576b\"],[0.6666666666666666,\"#ed7953\"],[0.7777777777777778,\"#fb9f3a\"],[0.8888888888888888,\"#fdca26\"],[1.0,\"#f0f921\"]]},\"colorway\":[\"#636efa\",\"#EF553B\",\"#00cc96\",\"#ab63fa\",\"#FFA15A\",\"#19d3f3\",\"#FF6692\",\"#B6E880\",\"#FF97FF\",\"#FECB52\"],\"font\":{\"color\":\"#2a3f5f\"},\"geo\":{\"bgcolor\":\"white\",\"lakecolor\":\"white\",\"landcolor\":\"#E5ECF6\",\"showlakes\":true,\"showland\":true,\"subunitcolor\":\"white\"},\"hoverlabel\":{\"align\":\"left\"},\"hovermode\":\"closest\",\"mapbox\":{\"style\":\"light\"},\"paper_bgcolor\":\"white\",\"plot_bgcolor\":\"#E5ECF6\",\"polar\":{\"angularaxis\":{\"gridcolor\":\"white\",\"linecolor\":\"white\",\"ticks\":\"\"},\"bgcolor\":\"#E5ECF6\",\"radialaxis\":{\"gridcolor\":\"white\",\"linecolor\":\"white\",\"ticks\":\"\"}},\"scene\":{\"xaxis\":{\"backgroundcolor\":\"#E5ECF6\",\"gridcolor\":\"white\",\"gridwidth\":2,\"linecolor\":\"white\",\"showbackground\":true,\"ticks\":\"\",\"zerolinecolor\":\"white\"},\"yaxis\":{\"backgroundcolor\":\"#E5ECF6\",\"gridcolor\":\"white\",\"gridwidth\":2,\"linecolor\":\"white\",\"showbackground\":true,\"ticks\":\"\",\"zerolinecolor\":\"white\"},\"zaxis\":{\"backgroundcolor\":\"#E5ECF6\",\"gridcolor\":\"white\",\"gridwidth\":2,\"linecolor\":\"white\",\"showbackground\":true,\"ticks\":\"\",\"zerolinecolor\":\"white\"}},\"shapedefaults\":{\"line\":{\"color\":\"#2a3f5f\"}},\"ternary\":{\"aaxis\":{\"gridcolor\":\"white\",\"linecolor\":\"white\",\"ticks\":\"\"},\"baxis\":{\"gridcolor\":\"white\",\"linecolor\":\"white\",\"ticks\":\"\"},\"bgcolor\":\"#E5ECF6\",\"caxis\":{\"gridcolor\":\"white\",\"linecolor\":\"white\",\"ticks\":\"\"}},\"title\":{\"x\":0.05},\"xaxis\":{\"automargin\":true,\"gridcolor\":\"white\",\"linecolor\":\"white\",\"ticks\":\"\",\"title\":{\"standoff\":15},\"zerolinecolor\":\"white\",\"zerolinewidth\":2},\"yaxis\":{\"automargin\":true,\"gridcolor\":\"white\",\"linecolor\":\"white\",\"ticks\":\"\",\"title\":{\"standoff\":15},\"zerolinecolor\":\"white\",\"zerolinewidth\":2}}},\"title\":{\"font\":{\"color\":\"#151516\"}},\"xaxis\":{\"gridcolor\":\"#F6F6F6\",\"showgrid\":true,\"tickfont\":{\"color\":\"#666666\"},\"title\":{\"font\":{\"color\":\"#666666\"},\"text\":\"\"},\"zerolinecolor\":\"#F6F6F6\"},\"yaxis\":{\"gridcolor\":\"#F6F6F6\",\"showgrid\":true,\"tickfont\":{\"color\":\"#666666\"},\"title\":{\"font\":{\"color\":\"#666666\"},\"text\":\"\"},\"zerolinecolor\":\"#F6F6F6\"}},                        {\"showLink\": true, \"linkText\": \"Export to plot.ly\", \"plotlyServerURL\": \"https://plot.ly\", \"responsive\": true}                    ).then(function(){\n",
       "                            \n",
       "var gd = document.getElementById('1c63510f-e053-4421-8c06-60ae8a37ff16');\n",
       "var x = new MutationObserver(function (mutations, observer) {{\n",
       "        var display = window.getComputedStyle(gd).display;\n",
       "        if (!display || display === 'none') {{\n",
       "            console.log([gd, 'removed!']);\n",
       "            Plotly.purge(gd);\n",
       "            observer.disconnect();\n",
       "        }}\n",
       "}});\n",
       "\n",
       "// Listen for the removal of the full notebook cells\n",
       "var notebookContainer = gd.closest('#notebook-container');\n",
       "if (notebookContainer) {{\n",
       "    x.observe(notebookContainer, {childList: true});\n",
       "}}\n",
       "\n",
       "// Listen for the clearing of the current output cell\n",
       "var outputEl = gd.closest('.output');\n",
       "if (outputEl) {{\n",
       "    x.observe(outputEl, {childList: true});\n",
       "}}\n",
       "\n",
       "                        })                };                });            </script>        </div>"
      ]
     },
     "metadata": {},
     "output_type": "display_data"
    }
   ],
   "source": [
    "# extraemos datos para otra visualización\n",
    "DatosNacionales1.iplot('line')"
   ]
  },
  {
   "attachments": {},
   "cell_type": "markdown",
   "metadata": {},
   "source": [
    "#### CONEXIONES NACIONALES\n",
    "En este grñafico vemo que de manera global el número de conexiones ADSL y cablemodem se han mantenido estancadas. Las conexiones que mas han crecido son Wireless (red de telefonìa móvil) y Otros (incluyen; Satelital, Línea eléctrica, o Dial-up). La fibra óptica frenó su crecimiento en 2020, la cual es esencial para poder mejorar la calidad de la conexión a internet."
   ]
  }
 ],
 "metadata": {
  "kernelspec": {
   "display_name": "Python 3",
   "language": "python",
   "name": "python3"
  },
  "language_info": {
   "codemirror_mode": {
    "name": "ipython",
    "version": 3
   },
   "file_extension": ".py",
   "mimetype": "text/x-python",
   "name": "python",
   "nbconvert_exporter": "python",
   "pygments_lexer": "ipython3",
   "version": "3.11.2"
  },
  "orig_nbformat": 4,
  "vscode": {
   "interpreter": {
    "hash": "aee8b7b246df8f9039afb4144a1f6fd8d2ca17a180786b69acc140d282b71a49"
   }
  }
 },
 "nbformat": 4,
 "nbformat_minor": 2
}
